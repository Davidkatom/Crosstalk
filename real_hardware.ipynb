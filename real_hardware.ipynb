{
 "cells": [
  {
   "cell_type": "code",
   "execution_count": 1,
   "metadata": {
    "collapsed": true
   },
   "outputs": [
    {
     "name": "stderr",
     "output_type": "stream",
     "text": [
      "C:\\Users\\user\\AppData\\Local\\Programs\\Python\\Python39\\lib\\site-packages\\numpy\\_distributor_init.py:30: UserWarning: loaded more than 1 DLL from .libs:\n",
      "C:\\Users\\user\\AppData\\Local\\Programs\\Python\\Python39\\lib\\site-packages\\numpy\\.libs\\libopenblas.FB5AE2TYXYH2IJRDKGDGQ3XBKLKTF43H.gfortran-win_amd64.dll\n",
      "C:\\Users\\user\\AppData\\Local\\Programs\\Python\\Python39\\lib\\site-packages\\numpy\\.libs\\libopenblas64__v0.3.21-gcc_10_3_0.dll\n",
      "  warnings.warn(\"loaded more than 1 DLL from .libs:\"\n"
     ]
    }
   ],
   "source": [
    "import matplotlib.pyplot as plt\n",
    "import numpy as np\n",
    "import os\n",
    "import time\n",
    "\n",
    "import qiskit\n",
    "from qiskit import QuantumCircuit, QuantumRegister, ClassicalRegister, execute, Aer\n",
    "import qiskit as qiskit\n",
    "import qiskit.quantum_info as qi\n",
    "from qiskit import QuantumCircuit, transpile, Aer, IBMQ\n",
    "\n",
    "import ramsey_experiment\n",
    "\n",
    "# Loading your IBM Quantum account(s)\n",
    "#IBMQ.save_account(os.environ.get('IBM_KEY'), overwrite=True)\n",
    "#IBMQ.load_account()\n",
    "from qiskit_ibm_runtime import QiskitRuntimeService, Estimator, Options\n",
    "from qiskit_ibm_runtime import QiskitRuntimeService\n",
    "\n",
    "service = QiskitRuntimeService(\n",
    "    channel='ibm_quantum',\n",
    "    instance='ibm-q/open/main',\n",
    "    token='4cb4dd43af6af16cc340156cf1dfebb32ec9f233cec56a0c6e98e9a574f99d96c7a4867d4541dc9394c58f81efe019ee4feb8fa17b475f79952b0f66bf000f4c'\n",
    ")\n",
    "\n",
    "# Or save your credentials on disk.\n",
    "# QiskitRuntimeService.save_account(channel='ibm_quantum', instance='ibm-q/open/main', token='<IBM Quantum API key>')\n"
   ]
  },
  {
   "cell_type": "code",
   "execution_count": 5,
   "outputs": [],
   "source": [
    "n = 1\n",
    "circuits = []\n",
    "backend = service.least_busy(operational=True, simulator=False)\n",
    "\n",
    "delay = np.arange(0, 300, 1)\n",
    "for d in delay:\n",
    "    circuit = QuantumCircuit(n)\n",
    "    for i in range(0, n, 2):\n",
    "        circuit.h(i)\n",
    "        circuit.delay(int(d),i, 'us')\n",
    "    circuit.barrier()\n",
    "    for i in range(0, n, 2):\n",
    "        circuit.h(i)\n",
    "    #circuit.measure_all()\n",
    "    transpiled_circ = transpile(circuit, backend, scheduling_method='alap')\n",
    "    circuits.append(transpiled_circ)\n",
    "#circuits[100].draw('mpl')"
   ],
   "metadata": {
    "collapsed": false
   }
  },
  {
   "cell_type": "code",
   "execution_count": 3,
   "outputs": [],
   "source": [
    "from qiskit.quantum_info import Pauli\n",
    "\n",
    "ZIII = Pauli('ZIII')\n",
    "IZII = Pauli('IZII')\n",
    "IIZI = Pauli('IIZI')\n",
    "IIIZ = Pauli('IIIZ')\n",
    "Z = 'Z'+'I'*(126)\n",
    "Z = Pauli(Z)"
   ],
   "metadata": {
    "collapsed": false
   }
  },
  {
   "cell_type": "code",
   "execution_count": 6,
   "outputs": [
    {
     "name": "stderr",
     "output_type": "stream",
     "text": [
      "\n",
      "KeyboardInterrupt\n",
      "\n"
     ]
    }
   ],
   "source": [
    "from qiskit.tools import job_monitor\n",
    "\n",
    "service = QiskitRuntimeService(channel=\"ibm_quantum\")\n",
    "backend = service.least_busy(operational=True, simulator=False)\n",
    "#backend = service.get_backend(\"ibmq_qasm_simulator\")\n",
    "options = Options()\n",
    "options.resilience_level = 0\n",
    "options.optimization_level = 0\n",
    "#use only qubit number 8\n",
    "initial_layout = [8]\n",
    "estimator = Estimator(backend, options=options)\n",
    "job = estimator.run(circuits=circuits, observables=[Z]*300, shots = 400, initial_layout=initial_layout)\n",
    "#job = backend.run(circuits,400)\n",
    "job_monitor(job)\n",
    "\n",
    "#job = execute(circuits, backend, shots=4321)\n",
    "#job.result()"
   ],
   "metadata": {
    "collapsed": false
   }
  },
  {
   "cell_type": "code",
   "execution_count": null,
   "outputs": [],
   "source": [
    "plt.xlim([0, 3000])\n",
    "plt.plot(delay, job.result().values)"
   ],
   "metadata": {
    "collapsed": false
   }
  },
  {
   "cell_type": "code",
   "execution_count": null,
   "outputs": [],
   "source": [
    "from scipy.signal import find_peaks\n",
    "\n",
    "T = 3000\n",
    "measurements = 300\n",
    "a = job.result().values\n",
    "b = a[::-1]\n",
    "extended = np.concatenate((a,b))\n",
    "fft_output_ext = np.fft.fft(extended)\n",
    "\n",
    "import numpy as np\n",
    "import matplotlib.pyplot as plt\n",
    "\n",
    "# Set the sampling rate based on measurements\n",
    "sample_rate = measurements / T\n",
    "\n",
    "# Compute the positive frequencies for the FFT output\n",
    "frequencies_ext = np.fft.fftfreq(2 * len(job.result().values), 1 / sample_rate)\n",
    "frequencies_ext*=(2 * np.pi)\n",
    "positive_indices = np.where(frequencies_ext > 0)\n",
    "positive_magnitudes = np.abs(fft_output_ext)[positive_indices]\n",
    "\n",
    "\n",
    "frequencies  = frequencies_ext[positive_indices]\n",
    "weights =  np.abs(fft_output_ext)[positive_indices]\n",
    "\n",
    "# Calculating cumulative weights\n",
    "cumulative_weights = np.cumsum(weights)\n",
    "\n",
    "# Finding the median position\n",
    "total_weight = np.sum(weights)\n",
    "half_total_weight = total_weight / 2\n",
    "\n",
    "median_index = np.where(cumulative_weights >= half_total_weight)[0][0]\n",
    "weighted_median_frequency = frequencies[median_index]\n",
    "\n",
    "print(f'Weighted median frequency: {weighted_median_frequency}')\n",
    "# Plot and annotate results\n",
    "plt.plot(frequencies_ext, np.abs(fft_output_ext))\n",
    "#plt.axvline(x=W[k], color='orange', linestyle='--',label=f'W{k} = {W[k]}')\n",
    "plt.axvline(x=weighted_median_frequency, color='green', linestyle='--',label=f'W_found{weighted_median_frequency} ')\n",
    "\n",
    "#a = L[k]\n",
    "\n",
    "## find peaks ##\n",
    "peaks, _ = find_peaks(positive_magnitudes)\n",
    "peak_magnitudes = positive_magnitudes[peaks]\n",
    "sorted_peak_indices = np.argsort(peak_magnitudes)[::-1]\n",
    "n_highest_peaks = sorted_peak_indices[:3]\n",
    "highest_freq = frequencies_ext[positive_indices][peaks[n_highest_peaks[0]]]\n",
    "##\n",
    "\n",
    "\n",
    "plt.legend()\n",
    "plt.show()"
   ],
   "metadata": {
    "collapsed": false
   }
  }
 ],
 "metadata": {
  "kernelspec": {
   "display_name": "Python 3",
   "language": "python",
   "name": "python3"
  },
  "language_info": {
   "codemirror_mode": {
    "name": "ipython",
    "version": 2
   },
   "file_extension": ".py",
   "mimetype": "text/x-python",
   "name": "python",
   "nbconvert_exporter": "python",
   "pygments_lexer": "ipython2",
   "version": "2.7.6"
  }
 },
 "nbformat": 4,
 "nbformat_minor": 0
}
