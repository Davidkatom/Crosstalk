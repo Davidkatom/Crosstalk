{
 "cells": [
  {
   "cell_type": "code",
   "execution_count": 1,
   "metadata": {
    "collapsed": true
   },
   "outputs": [],
   "source": [
    "import matplotlib.pyplot as plt\n",
    "import numpy as np\n",
    "import os\n",
    "import time\n",
    "\n",
    "import qiskit\n",
    "from qiskit import QuantumCircuit, QuantumRegister, ClassicalRegister, execute, Aer\n",
    "import qiskit as qiskit\n",
    "import qiskit.quantum_info as qi\n",
    "from qiskit import QuantumCircuit, transpile, Aer, IBMQ\n",
    "\n",
    "import ramsey_experiment\n",
    "\n",
    "# Loading your IBM Quantum account(s)\n",
    "#IBMQ.save_account(os.environ.get('IBM_KEY'), overwrite=True)\n",
    "#IBMQ.load_account()\n",
    "from qiskit_ibm_runtime import QiskitRuntimeService, Estimator, Options\n",
    "from qiskit_ibm_runtime import QiskitRuntimeService\n",
    "\n",
    "service = QiskitRuntimeService(\n",
    "    channel='ibm_quantum',\n",
    "    instance='ibm-q/open/main',\n",
    "    token='4cb4dd43af6af16cc340156cf1dfebb32ec9f233cec56a0c6e98e9a574f99d96c7a4867d4541dc9394c58f81efe019ee4feb8fa17b475f79952b0f66bf000f4c'\n",
    ")\n",
    "\n",
    "# Or save your credentials on disk.\n",
    "# QiskitRuntimeService.save_account(channel='ibm_quantum', instance='ibm-q/open/main', token='<IBM Quantum API key>')\n"
   ]
  },
  {
   "cell_type": "code",
   "execution_count": 11,
   "outputs": [],
   "source": [
    "n = 4\n",
    "circuits = []\n",
    "# backend = service.least_busy(operational=True, simulator=False)\n",
    "backend = service.get_backend(\"ibm_kyoto\")\n",
    "\n",
    "delay = np.arange(0, 40, 1)\n",
    "for d in delay:\n",
    "    circuit = QuantumCircuit(n)\n",
    "    circuit.h(0)\n",
    "    circuit.barrier()\n",
    "    circuit.delay(int(d),0, 'us')\n",
    "    circuit.barrier()\n",
    "    circuit.h(0)\n",
    "    circuit.measure_all()\n",
    "    transpiled_circ = transpile(circuit, backend, scheduling_method='alap')\n",
    "    circuits.append(transpiled_circ)\n",
    "#circuits[100].draw('mpl')"
   ],
   "metadata": {
    "collapsed": false
   }
  },
  {
   "cell_type": "code",
   "execution_count": 8,
   "outputs": [],
   "source": [
    "from qiskit.quantum_info import Pauli\n",
    "\n",
    "ZIII = Pauli('ZIII')\n",
    "IZII = Pauli('IZII')\n",
    "IIZI = Pauli('IIZI')\n",
    "IIIZ = Pauli('IIIZ')\n",
    "Z = 'Z'+'I'*(126)\n",
    "Z = Pauli(Z)"
   ],
   "metadata": {
    "collapsed": false
   }
  },
  {
   "cell_type": "code",
   "execution_count": null,
   "outputs": [
    {
     "name": "stdout",
     "output_type": "stream",
     "text": [
      "Job Status: job is queued (None)"
     ]
    },
    {
     "ename": "KeyboardInterrupt",
     "evalue": "",
     "output_type": "error",
     "traceback": [
      "\u001B[1;31m---------------------------------------------------------------------------\u001B[0m",
      "\u001B[1;31mKeyboardInterrupt\u001B[0m                         Traceback (most recent call last)",
      "Cell \u001B[1;32mIn[12], line 14\u001B[0m\n\u001B[0;32m     12\u001B[0m job \u001B[38;5;241m=\u001B[39m estimator\u001B[38;5;241m.\u001B[39mrun(circuits\u001B[38;5;241m=\u001B[39mcircuits, observables\u001B[38;5;241m=\u001B[39m[Z]\u001B[38;5;241m*\u001B[39m\u001B[38;5;241m40\u001B[39m, shots \u001B[38;5;241m=\u001B[39m \u001B[38;5;241m8000\u001B[39m, initial_layout\u001B[38;5;241m=\u001B[39minitial_layout)\n\u001B[0;32m     13\u001B[0m \u001B[38;5;66;03m#job = backend.run(circuits,400)\u001B[39;00m\n\u001B[1;32m---> 14\u001B[0m \u001B[43mjob_monitor\u001B[49m\u001B[43m(\u001B[49m\u001B[43mjob\u001B[49m\u001B[43m)\u001B[49m\n\u001B[0;32m     16\u001B[0m \u001B[38;5;66;03m#job = execute(circuits, backend, shots=4321)\u001B[39;00m\n\u001B[0;32m     17\u001B[0m \u001B[38;5;66;03m#job.result()\u001B[39;00m\n",
      "File \u001B[1;32m~\\AppData\\Local\\Programs\\Python\\Python39\\lib\\site-packages\\qiskit\\tools\\monitor\\job_monitor.py:105\u001B[0m, in \u001B[0;36mjob_monitor\u001B[1;34m(job, interval, quiet, output, line_discipline)\u001B[0m\n\u001B[0;32m    102\u001B[0m \u001B[38;5;28;01melse\u001B[39;00m:\n\u001B[0;32m    103\u001B[0m     _interval_set \u001B[38;5;241m=\u001B[39m \u001B[38;5;28;01mTrue\u001B[39;00m\n\u001B[1;32m--> 105\u001B[0m \u001B[43m_text_checker\u001B[49m\u001B[43m(\u001B[49m\n\u001B[0;32m    106\u001B[0m \u001B[43m    \u001B[49m\u001B[43mjob\u001B[49m\u001B[43m,\u001B[49m\u001B[43m \u001B[49m\u001B[43minterval\u001B[49m\u001B[43m,\u001B[49m\u001B[43m \u001B[49m\u001B[43m_interval_set\u001B[49m\u001B[43m,\u001B[49m\u001B[43m \u001B[49m\u001B[43mquiet\u001B[49m\u001B[38;5;241;43m=\u001B[39;49m\u001B[43mquiet\u001B[49m\u001B[43m,\u001B[49m\u001B[43m \u001B[49m\u001B[43moutput\u001B[49m\u001B[38;5;241;43m=\u001B[39;49m\u001B[43moutput\u001B[49m\u001B[43m,\u001B[49m\u001B[43m \u001B[49m\u001B[43mline_discipline\u001B[49m\u001B[38;5;241;43m=\u001B[39;49m\u001B[43mline_discipline\u001B[49m\n\u001B[0;32m    107\u001B[0m \u001B[43m\u001B[49m\u001B[43m)\u001B[49m\n",
      "File \u001B[1;32m~\\AppData\\Local\\Programs\\Python\\Python39\\lib\\site-packages\\qiskit\\tools\\monitor\\job_monitor.py:44\u001B[0m, in \u001B[0;36m_text_checker\u001B[1;34m(job, interval, _interval_set, quiet, output, line_discipline)\u001B[0m\n\u001B[0;32m     42\u001B[0m     \u001B[38;5;28mprint\u001B[39m(\u001B[38;5;124m\"\u001B[39m\u001B[38;5;132;01m{}\u001B[39;00m\u001B[38;5;132;01m{}\u001B[39;00m\u001B[38;5;124m: \u001B[39m\u001B[38;5;132;01m{}\u001B[39;00m\u001B[38;5;124m\"\u001B[39m\u001B[38;5;241m.\u001B[39mformat(line_discipline, \u001B[38;5;124m\"\u001B[39m\u001B[38;5;124mJob Status\u001B[39m\u001B[38;5;124m\"\u001B[39m, msg), end\u001B[38;5;241m=\u001B[39m\u001B[38;5;124m\"\u001B[39m\u001B[38;5;124m\"\u001B[39m, file\u001B[38;5;241m=\u001B[39moutput)\n\u001B[0;32m     43\u001B[0m \u001B[38;5;28;01mwhile\u001B[39;00m status\u001B[38;5;241m.\u001B[39mname \u001B[38;5;129;01mnot\u001B[39;00m \u001B[38;5;129;01min\u001B[39;00m [\u001B[38;5;124m\"\u001B[39m\u001B[38;5;124mDONE\u001B[39m\u001B[38;5;124m\"\u001B[39m, \u001B[38;5;124m\"\u001B[39m\u001B[38;5;124mCANCELLED\u001B[39m\u001B[38;5;124m\"\u001B[39m, \u001B[38;5;124m\"\u001B[39m\u001B[38;5;124mERROR\u001B[39m\u001B[38;5;124m\"\u001B[39m]:\n\u001B[1;32m---> 44\u001B[0m     \u001B[43mtime\u001B[49m\u001B[38;5;241;43m.\u001B[39;49m\u001B[43msleep\u001B[49m\u001B[43m(\u001B[49m\u001B[43minterval\u001B[49m\u001B[43m)\u001B[49m\n\u001B[0;32m     45\u001B[0m     status \u001B[38;5;241m=\u001B[39m job\u001B[38;5;241m.\u001B[39mstatus()\n\u001B[0;32m     46\u001B[0m     msg \u001B[38;5;241m=\u001B[39m status\u001B[38;5;241m.\u001B[39mvalue\n",
      "\u001B[1;31mKeyboardInterrupt\u001B[0m: "
     ]
    }
   ],
   "source": [
    "from qiskit.tools import job_monitor\n",
    "\n",
    "service = QiskitRuntimeService(channel=\"ibm_quantum\")\n",
    "# backend = service.least_busy(operational=True, simulator=False)\n",
    "#backend = service.get_backend(\"ibmq_qasm_simulator\")\n",
    "options = Options()\n",
    "options.resilience_level = 0\n",
    "options.optimization_level = 0\n",
    "#use only qubit number 8\n",
    "initial_layout = [108]\n",
    "estimator = Estimator(backend, options=options)\n",
    "job = estimator.run(circuits=circuits, observables=[Z]*40, shots = 8000, initial_layout=initial_layout)\n",
    "#job = backend.run(circuits,400)\n",
    "job_monitor(job)\n",
    "\n",
    "#job = execute(circuits, backend, shots=4321)\n",
    "#job.result()"
   ],
   "metadata": {
    "collapsed": false,
    "pycharm": {
     "is_executing": true
    }
   }
  },
  {
   "cell_type": "code",
   "execution_count": null,
   "outputs": [],
   "source": [
    "plt.xlim([0, 3000])\n",
    "plt.plot(delay, job.result().values)"
   ],
   "metadata": {
    "collapsed": false
   }
  },
  {
   "cell_type": "code",
   "execution_count": null,
   "outputs": [],
   "source": [
    "from scipy.signal import find_peaks\n",
    "\n",
    "T = 3000\n",
    "measurements = 300\n",
    "a = job.result().values\n",
    "b = a[::-1]\n",
    "extended = np.concatenate((a,b))\n",
    "fft_output_ext = np.fft.fft(extended)\n",
    "\n",
    "import numpy as np\n",
    "import matplotlib.pyplot as plt\n",
    "\n",
    "# Set the sampling rate based on measurements\n",
    "sample_rate = measurements / T\n",
    "\n",
    "# Compute the positive frequencies for the FFT output\n",
    "frequencies_ext = np.fft.fftfreq(2 * len(job.result().values), 1 / sample_rate)\n",
    "frequencies_ext*=(2 * np.pi)\n",
    "positive_indices = np.where(frequencies_ext > 0)\n",
    "positive_magnitudes = np.abs(fft_output_ext)[positive_indices]\n",
    "\n",
    "\n",
    "frequencies  = frequencies_ext[positive_indices]\n",
    "weights =  np.abs(fft_output_ext)[positive_indices]\n",
    "\n",
    "# Calculating cumulative weights\n",
    "cumulative_weights = np.cumsum(weights)\n",
    "\n",
    "# Finding the median position\n",
    "total_weight = np.sum(weights)\n",
    "half_total_weight = total_weight / 2\n",
    "\n",
    "median_index = np.where(cumulative_weights >= half_total_weight)[0][0]\n",
    "weighted_median_frequency = frequencies[median_index]\n",
    "\n",
    "print(f'Weighted median frequency: {weighted_median_frequency}')\n",
    "# Plot and annotate results\n",
    "plt.plot(frequencies_ext, np.abs(fft_output_ext))\n",
    "#plt.axvline(x=W[k], color='orange', linestyle='--',label=f'W{k} = {W[k]}')\n",
    "plt.axvline(x=weighted_median_frequency, color='green', linestyle='--',label=f'W_found{weighted_median_frequency} ')\n",
    "\n",
    "#a = L[k]\n",
    "\n",
    "## find peaks ##\n",
    "peaks, _ = find_peaks(positive_magnitudes)\n",
    "peak_magnitudes = positive_magnitudes[peaks]\n",
    "sorted_peak_indices = np.argsort(peak_magnitudes)[::-1]\n",
    "n_highest_peaks = sorted_peak_indices[:3]\n",
    "highest_freq = frequencies_ext[positive_indices][peaks[n_highest_peaks[0]]]\n",
    "##\n",
    "\n",
    "\n",
    "plt.legend()\n",
    "plt.show()"
   ],
   "metadata": {
    "collapsed": false
   }
  },
  {
   "cell_type": "code",
   "execution_count": 159,
   "outputs": [
    {
     "name": "stdout",
     "output_type": "stream",
     "text": [
      "Optimal t0: 0.1, Optimal t1: 1.0\n"
     ]
    }
   ],
   "source": [
    "import numpy as np\n",
    "from scipy.optimize import minimize\n",
    "\n",
    "# Parameters\n",
    "sigma = 5  # Assume some value for sigma\n",
    "w = 3      # Angular frequency\n",
    "a = 3    # Damping coefficient\n",
    "\n",
    "# Function to calculate the determinant of the FIM\n",
    "def fim_determinant(t, sigma, w, a):\n",
    "    t0, t1 = t\n",
    "    I_ww = (t0**2 * np.sin(w*t0)**2 + t1**2 * np.sin(w*t1)**2) * np.exp(-2*a*(t0+t1))\n",
    "    I_aa = (t0**2 * np.cos(w*t0)**2 + t1**2 * np.cos(w*t1)**2) * np.exp(-2*a*(t0+t1))\n",
    "    I_wa = (-t0**2 * np.sin(w*t0) * np.cos(w*t0) - t1**2 * np.sin(w*t1) * np.cos(w*t1)) * np.exp(-2*a*(t0+t1))\n",
    "    determinant = (I_ww * I_aa - I_wa**2) / sigma**4\n",
    "    return -determinant  # Negative for maximization with minimize()\n",
    "\n",
    "# Initial guess for t0 and t1\n",
    "initial_guess = [0.1, 1]\n",
    "\n",
    "# Constraint to ensure t1 > t0\n",
    "constraints = ({'type': 'ineq', 'fun': lambda t: t[1] - t[0]})\n",
    "\n",
    "# Optimization to maximize the determinant of the FIM\n",
    "result = minimize(fim_determinant, initial_guess, args=(sigma, w, a), constraints=constraints, method='SLSQP')\n",
    "\n",
    "# Extract the optimal t0 and t1\n",
    "t0_opt, t1_opt = result.x\n",
    "\n",
    "print(f\"Optimal t0: {t0_opt}, Optimal t1: {t1_opt}\")\n"
   ],
   "metadata": {
    "collapsed": false
   }
  },
  {
   "cell_type": "code",
   "execution_count": 282,
   "outputs": [
    {
     "name": "stdout",
     "output_type": "stream",
     "text": [
      "mse =  7.990599270419979\n",
      "precentage =  56.53529612700363\n"
     ]
    }
   ],
   "source": [
    "import random\n",
    "\n",
    "std = 2\n",
    "mean = 5\n",
    "total = 100000\n",
    "number_of_params = 4\n",
    "# Generating values and guesses using vectorized operations\n",
    "values = np.random.normal(mean, std, (total, number_of_params))\n",
    "guess = np.random.normal(mean, std, (total, number_of_params))\n",
    "# Calculating MSE using vectorized operations\n",
    "mse = np.mean((values - guess)**2)\n",
    "print(\"mse = \", mse)\n",
    "print(\"precentage = \", (np.sqrt(mse)/mean) * 100)\n"
   ],
   "metadata": {
    "collapsed": false
   }
  }
 ],
 "metadata": {
  "kernelspec": {
   "display_name": "Python 3",
   "language": "python",
   "name": "python3"
  },
  "language_info": {
   "codemirror_mode": {
    "name": "ipython",
    "version": 2
   },
   "file_extension": ".py",
   "mimetype": "text/x-python",
   "name": "python",
   "nbconvert_exporter": "python",
   "pygments_lexer": "ipython2",
   "version": "2.7.6"
  }
 },
 "nbformat": 4,
 "nbformat_minor": 0
}
