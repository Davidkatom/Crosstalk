{
 "cells": [
  {
   "cell_type": "code",
   "metadata": {
    "collapsed": true,
    "ExecuteTime": {
     "end_time": "2025-02-26T10:39:25.486212Z",
     "start_time": "2025-02-26T10:39:15.824898Z"
    }
   },
   "source": [
    "import matplotlib.pyplot as plt\n",
    "import numpy as np\n",
    "from qiskit import QuantumCircuit, transpile\n",
    "\n",
    "from qiskit_ibm_runtime import QiskitRuntimeService, Estimator, Options\n",
    "\n",
    "service = QiskitRuntimeService(\n",
    "    channel='ibm_quantum',\n",
    "    instance='ibm-q/open/main',\n",
    "    token='dd810d4274a18946b6783e5557a9e2a912c07a2dd722153fd10e5dd5fa7512521eb33cad123947c69ff02debf01e4615b67460fbb51fd94cb2f2b6153d5401d9'\n",
    ")\n",
    "\n",
    "# Or save your credentials on disk.\n",
    "# QiskitRuntimeService.save_account(channel='ibm_quantum', instance='ibm-q/open/main', token='<IBM Quantum API key>')\n"
   ],
   "outputs": [],
   "execution_count": 1
  },
  {
   "cell_type": "code",
   "source": [
    "from qiskit_ibm_runtime.fake_provider import FakeAuckland\n",
    "\n",
    "n = 1\n",
    "circuits = []\n",
    "# backend = service.least_busy(operational=True, simulator=False)\n",
    "# backend = service.get_backend(\"ibm_kyoto\")\n",
    "backend = FakeAuckland()\n",
    "\n",
    "delay = np.arange(0, 40, 1)\n",
    "delay = [0]\n",
    "for d in delay:\n",
    "    circuit = QuantumCircuit(n)\n",
    "    circuit.h(0)\n",
    "    circuit.barrier()\n",
    "    circuit.delay(int(d),0, 'us')\n",
    "    circuit.barrier()\n",
    "    circuit.h(0)\n",
    "    circuit.measure_all()\n",
    "    transpiled_circ = transpile(circuit, backend, scheduling_method='alap')\n",
    "    circuits.append(transpiled_circ)\n",
    "#circuits[100].draw('mpl')"
   ],
   "metadata": {
    "collapsed": false,
    "ExecuteTime": {
     "end_time": "2025-02-26T10:39:25.802672Z",
     "start_time": "2025-02-26T10:39:25.486212Z"
    }
   },
   "outputs": [],
   "execution_count": 2
  },
  {
   "metadata": {
    "collapsed": false,
    "ExecuteTime": {
     "end_time": "2025-02-26T10:39:25.903924Z",
     "start_time": "2025-02-26T10:39:25.898402Z"
    }
   },
   "cell_type": "code",
   "source": [
    "from qiskit.quantum_info import Pauli\n",
    "\n",
    "ZIII = Pauli('ZIII')\n",
    "IZII = Pauli('IZII')\n",
    "IIZI = Pauli('IIZI')\n",
    "IIIZ = Pauli('IIIZ')\n",
    "Z = 'Z'+'I'*(126)\n",
    "Z = Pauli(Z)"
   ],
   "outputs": [],
   "execution_count": 3
  },
  {
   "cell_type": "code",
   "source": [
    "# from qiskit.tools import job_monitor\n",
    "\n",
    "# service = QiskitRuntimeService(channel=\"ibm_quantum\")\n",
    "# backend = service.least_busy(operational=True, simulator=False)\n",
    "#backend = service.get_backend(\"ibmq_qasm_simulator\")\n",
    "#use only qubit number 8\n",
    "initial_layout = [108]\n",
    "estimator = Estimator(backend)\n",
    "job = estimator.run([circuits, observables=[Z], shots = 8000])\n",
    "#job = backend.run(circuits,400)\n",
    "# job_monitor(job)\n",
    "\n",
    "#job = execute(circuits, backend, shots=4321)\n",
    "#job.result()"
   ],
   "metadata": {
    "collapsed": false,
    "pycharm": {
     "is_executing": true
    },
    "ExecuteTime": {
     "end_time": "2025-02-26T10:42:10.382528Z",
     "start_time": "2025-02-26T10:42:10.376136Z"
    }
   },
   "outputs": [
    {
     "ename": "SyntaxError",
     "evalue": "invalid syntax. Maybe you meant '==' or ':=' instead of '='? (72366526.py, line 9)",
     "output_type": "error",
     "traceback": [
      "\u001B[1;36m  Cell \u001B[1;32mIn[13], line 9\u001B[1;36m\u001B[0m\n\u001B[1;33m    job = estimator.run([circuits, observables=[Z], shots = 8000])\u001B[0m\n\u001B[1;37m                                   ^\u001B[0m\n\u001B[1;31mSyntaxError\u001B[0m\u001B[1;31m:\u001B[0m invalid syntax. Maybe you meant '==' or ':=' instead of '='?\n"
     ]
    }
   ],
   "execution_count": 13
  },
  {
   "cell_type": "code",
   "execution_count": null,
   "outputs": [],
   "source": [
    "plt.xlim([0, 3000])\n",
    "plt.plot(delay, job.result().values)"
   ],
   "metadata": {
    "collapsed": false
   }
  },
  {
   "cell_type": "code",
   "execution_count": null,
   "outputs": [],
   "source": [
    "from scipy.signal import find_peaks\n",
    "\n",
    "T = 3000\n",
    "measurements = 300\n",
    "a = job.result().values\n",
    "b = a[::-1]\n",
    "extended = np.concatenate((a,b))\n",
    "fft_output_ext = np.fft.fft(extended)\n",
    "\n",
    "import numpy as np\n",
    "import matplotlib.pyplot as plt\n",
    "\n",
    "# Set the sampling rate based on measurements\n",
    "sample_rate = measurements / T\n",
    "\n",
    "# Compute the positive frequencies for the FFT output\n",
    "frequencies_ext = np.fft.fftfreq(2 * len(job.result().values), 1 / sample_rate)\n",
    "frequencies_ext*=(2 * np.pi)\n",
    "positive_indices = np.where(frequencies_ext > 0)\n",
    "positive_magnitudes = np.abs(fft_output_ext)[positive_indices]\n",
    "\n",
    "\n",
    "frequencies  = frequencies_ext[positive_indices]\n",
    "weights =  np.abs(fft_output_ext)[positive_indices]\n",
    "\n",
    "# Calculating cumulative weights\n",
    "cumulative_weights = np.cumsum(weights)\n",
    "\n",
    "# Finding the median position\n",
    "total_weight = np.sum(weights)\n",
    "half_total_weight = total_weight / 2\n",
    "\n",
    "median_index = np.where(cumulative_weights >= half_total_weight)[0][0]\n",
    "weighted_median_frequency = frequencies[median_index]\n",
    "\n",
    "print(f'Weighted median frequency: {weighted_median_frequency}')\n",
    "# Plot and annotate results\n",
    "plt.plot(frequencies_ext, np.abs(fft_output_ext))\n",
    "#plt.axvline(x=W[k], color='orange', linestyle='--',label=f'W{k} = {W[k]}')\n",
    "plt.axvline(x=weighted_median_frequency, color='green', linestyle='--',label=f'W_found{weighted_median_frequency} ')\n",
    "\n",
    "#a = L[k]\n",
    "\n",
    "## find peaks ##\n",
    "peaks, _ = find_peaks(positive_magnitudes)\n",
    "peak_magnitudes = positive_magnitudes[peaks]\n",
    "sorted_peak_indices = np.argsort(peak_magnitudes)[::-1]\n",
    "n_highest_peaks = sorted_peak_indices[:3]\n",
    "highest_freq = frequencies_ext[positive_indices][peaks[n_highest_peaks[0]]]\n",
    "##\n",
    "\n",
    "\n",
    "plt.legend()\n",
    "plt.show()"
   ],
   "metadata": {
    "collapsed": false
   }
  },
  {
   "cell_type": "code",
   "execution_count": 159,
   "outputs": [
    {
     "name": "stdout",
     "output_type": "stream",
     "text": [
      "Optimal t0: 0.1, Optimal t1: 1.0\n"
     ]
    }
   ],
   "source": [
    "import numpy as np\n",
    "from scipy.optimize import minimize\n",
    "\n",
    "# Parameters\n",
    "sigma = 5  # Assume some value for sigma\n",
    "w = 3      # Angular frequency\n",
    "a = 3    # Damping coefficient\n",
    "\n",
    "# Function to calculate the determinant of the FIM\n",
    "def fim_determinant(t, sigma, w, a):\n",
    "    t0, t1 = t\n",
    "    I_ww = (t0**2 * np.sin(w*t0)**2 + t1**2 * np.sin(w*t1)**2) * np.exp(-2*a*(t0+t1))\n",
    "    I_aa = (t0**2 * np.cos(w*t0)**2 + t1**2 * np.cos(w*t1)**2) * np.exp(-2*a*(t0+t1))\n",
    "    I_wa = (-t0**2 * np.sin(w*t0) * np.cos(w*t0) - t1**2 * np.sin(w*t1) * np.cos(w*t1)) * np.exp(-2*a*(t0+t1))\n",
    "    determinant = (I_ww * I_aa - I_wa**2) / sigma**4\n",
    "    return -determinant  # Negative for maximization with minimize()\n",
    "\n",
    "# Initial guess for t0 and t1\n",
    "initial_guess = [0.1, 1]\n",
    "\n",
    "# Constraint to ensure t1 > t0\n",
    "constraints = ({'type': 'ineq', 'fun': lambda t: t[1] - t[0]})\n",
    "\n",
    "# Optimization to maximize the determinant of the FIM\n",
    "result = minimize(fim_determinant, initial_guess, args=(sigma, w, a), constraints=constraints, method='SLSQP')\n",
    "\n",
    "# Extract the optimal t0 and t1\n",
    "t0_opt, t1_opt = result.x\n",
    "\n",
    "print(f\"Optimal t0: {t0_opt}, Optimal t1: {t1_opt}\")\n"
   ],
   "metadata": {
    "collapsed": false
   }
  },
  {
   "cell_type": "code",
   "execution_count": 282,
   "outputs": [
    {
     "name": "stdout",
     "output_type": "stream",
     "text": [
      "mse =  7.990599270419979\n",
      "precentage =  56.53529612700363\n"
     ]
    }
   ],
   "source": [
    "import random\n",
    "\n",
    "std = 2\n",
    "mean = 5\n",
    "total = 100000\n",
    "number_of_params = 4\n",
    "# Generating values and guesses using vectorized operations\n",
    "values = np.random.normal(mean, std, (total, number_of_params))\n",
    "guess = np.random.normal(mean, std, (total, number_of_params))\n",
    "# Calculating MSE using vectorized operations\n",
    "mse = np.mean((values - guess)**2)\n",
    "print(\"mse = \", mse)\n",
    "print(\"precentage = \", (np.sqrt(mse)/mean) * 100)\n"
   ],
   "metadata": {
    "collapsed": false
   }
  }
 ],
 "metadata": {
  "kernelspec": {
   "display_name": "Python 3",
   "language": "python",
   "name": "python3"
  },
  "language_info": {
   "codemirror_mode": {
    "name": "ipython",
    "version": 2
   },
   "file_extension": ".py",
   "mimetype": "text/x-python",
   "name": "python",
   "nbconvert_exporter": "python",
   "pygments_lexer": "ipython2",
   "version": "2.7.6"
  }
 },
 "nbformat": 4,
 "nbformat_minor": 0
}
