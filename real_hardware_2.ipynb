{
 "cells": [
  {
   "cell_type": "code",
   "metadata": {
    "collapsed": true,
    "ExecuteTime": {
     "end_time": "2025-02-26T13:41:27.343044Z",
     "start_time": "2025-02-26T13:41:18.618746Z"
    }
   },
   "source": [
    "from qiskit_ibm_runtime.fake_provider import FakeAuckland\n",
    "from qiskit import QuantumCircuit\n",
    "from qiskit_ibm_runtime import Batch\n",
    "from qiskit_ibm_runtime import QiskitRuntimeService, EstimatorV2 as Estimator\n",
    "from qiskit.quantum_info import SparsePauliOp\n",
    "\n",
    "\n",
    "# Initialize the Qiskit IBM Runtime service\n",
    "service = QiskitRuntimeService(\n",
    "    channel='ibm_quantum',\n",
    "    instance='ibm-q/open/main',\n",
    "    token='dd810d4274a18946b6783e5557a9e2a912c07a2dd722153fd10e5dd5fa7512521eb33cad123947c69ff02debf01e4615b67460fbb51fd94cb2f2b6153d5401d9'\n",
    ")"
   ],
   "outputs": [],
   "execution_count": 2
  },
  {
   "cell_type": "code",
   "source": [
    "from qiskit import QuantumCircuit, transpile\n",
    "from qiskit_ibm_runtime import QiskitRuntimeService\n",
    "from qiskit.quantum_info import SparsePauliOp\n",
    "from qiskit.primitives import BackendEstimatorV2\n",
    "\n",
    "# Initialize IBM Quantum service\n",
    "backend = service.least_busy(operational=True, simulator=False)\n",
    "\n",
    "# Define a simple quantum circuit\n",
    "qc = QuantumCircuit(1)\n",
    "qc.h(0)\n",
    "\n",
    "# Transpile with ALAP scheduling\n",
    "qc_transpiled = transpile(qc, backend, scheduling_method=\"alap\", optimization_level=0)\n",
    "\n",
    "# Define an observable (Pauli operator)\n",
    "observable_str = \"X\" + \"I\" * (backend.num_qubits - 1)\n",
    "observable = SparsePauliOp(observable_str)\n",
    "\n",
    "# Initialize BackendEstimatorV2\n",
    "estimator = BackendEstimatorV2(backend=backend)\n",
    "estimator.options.shots = 1000  # Set number of shots\n",
    "\n",
    "# Run estimation (PUB format: (circuit, observable, parameter_values))\n",
    "job = estimator.run([(qc_transpiled, observable, [])])  # Pass empty parameter list []\n",
    "result = job.result()\n",
    "\n",
    "print(result)\n"
   ],
   "metadata": {
    "collapsed": false,
    "ExecuteTime": {
     "end_time": "2025-02-26T13:01:05.347008Z",
     "start_time": "2025-02-26T13:00:56.114669Z"
    }
   },
   "outputs": [
    {
     "ename": "IBMBackendError",
     "evalue": "'Support for backend.run() has been removed. Please see our migration guide https://docs.quantum.ibm.com/migration-guides/qiskit-runtime for instructions on how to migrate to the primitives interface.'",
     "output_type": "error",
     "traceback": [
      "\u001B[1;31m---------------------------------------------------------------------------\u001B[0m",
      "\u001B[1;31mIBMBackendError\u001B[0m                           Traceback (most recent call last)",
      "Cell \u001B[1;32mIn[39], line 26\u001B[0m\n\u001B[0;32m     24\u001B[0m \u001B[38;5;66;03m# Run estimation (PUB format: (circuit, observable, parameter_values))\u001B[39;00m\n\u001B[0;32m     25\u001B[0m job \u001B[38;5;241m=\u001B[39m estimator\u001B[38;5;241m.\u001B[39mrun([(qc_transpiled, observable, [])])  \u001B[38;5;66;03m# Pass empty parameter list []\u001B[39;00m\n\u001B[1;32m---> 26\u001B[0m result \u001B[38;5;241m=\u001B[39m \u001B[43mjob\u001B[49m\u001B[38;5;241;43m.\u001B[39;49m\u001B[43mresult\u001B[49m\u001B[43m(\u001B[49m\u001B[43m)\u001B[49m\n\u001B[0;32m     28\u001B[0m \u001B[38;5;28mprint\u001B[39m(result)\n",
      "File \u001B[1;32mC:\\Projects\\Crosstalk\\venv\\Lib\\site-packages\\qiskit\\primitives\\primitive_job.py:51\u001B[0m, in \u001B[0;36mPrimitiveJob.result\u001B[1;34m(self)\u001B[0m\n\u001B[0;32m     49\u001B[0m \u001B[38;5;28;01mdef\u001B[39;00m\u001B[38;5;250m \u001B[39m\u001B[38;5;21mresult\u001B[39m(\u001B[38;5;28mself\u001B[39m) \u001B[38;5;241m-\u001B[39m\u001B[38;5;241m>\u001B[39m ResultT:\n\u001B[0;32m     50\u001B[0m     \u001B[38;5;28mself\u001B[39m\u001B[38;5;241m.\u001B[39m_check_submitted()\n\u001B[1;32m---> 51\u001B[0m     \u001B[38;5;28;01mreturn\u001B[39;00m \u001B[38;5;28;43mself\u001B[39;49m\u001B[38;5;241;43m.\u001B[39;49m\u001B[43m_future\u001B[49m\u001B[38;5;241;43m.\u001B[39;49m\u001B[43mresult\u001B[49m\u001B[43m(\u001B[49m\u001B[43m)\u001B[49m\n",
      "File \u001B[1;32m~\\AppData\\Local\\Programs\\Python\\Python312\\Lib\\concurrent\\futures\\_base.py:449\u001B[0m, in \u001B[0;36mFuture.result\u001B[1;34m(self, timeout)\u001B[0m\n\u001B[0;32m    447\u001B[0m     \u001B[38;5;28;01mraise\u001B[39;00m CancelledError()\n\u001B[0;32m    448\u001B[0m \u001B[38;5;28;01melif\u001B[39;00m \u001B[38;5;28mself\u001B[39m\u001B[38;5;241m.\u001B[39m_state \u001B[38;5;241m==\u001B[39m FINISHED:\n\u001B[1;32m--> 449\u001B[0m     \u001B[38;5;28;01mreturn\u001B[39;00m \u001B[38;5;28;43mself\u001B[39;49m\u001B[38;5;241;43m.\u001B[39;49m\u001B[43m__get_result\u001B[49m\u001B[43m(\u001B[49m\u001B[43m)\u001B[49m\n\u001B[0;32m    451\u001B[0m \u001B[38;5;28mself\u001B[39m\u001B[38;5;241m.\u001B[39m_condition\u001B[38;5;241m.\u001B[39mwait(timeout)\n\u001B[0;32m    453\u001B[0m \u001B[38;5;28;01mif\u001B[39;00m \u001B[38;5;28mself\u001B[39m\u001B[38;5;241m.\u001B[39m_state \u001B[38;5;129;01min\u001B[39;00m [CANCELLED, CANCELLED_AND_NOTIFIED]:\n",
      "File \u001B[1;32m~\\AppData\\Local\\Programs\\Python\\Python312\\Lib\\concurrent\\futures\\_base.py:401\u001B[0m, in \u001B[0;36mFuture.__get_result\u001B[1;34m(self)\u001B[0m\n\u001B[0;32m    399\u001B[0m \u001B[38;5;28;01mif\u001B[39;00m \u001B[38;5;28mself\u001B[39m\u001B[38;5;241m.\u001B[39m_exception:\n\u001B[0;32m    400\u001B[0m     \u001B[38;5;28;01mtry\u001B[39;00m:\n\u001B[1;32m--> 401\u001B[0m         \u001B[38;5;28;01mraise\u001B[39;00m \u001B[38;5;28mself\u001B[39m\u001B[38;5;241m.\u001B[39m_exception\n\u001B[0;32m    402\u001B[0m     \u001B[38;5;28;01mfinally\u001B[39;00m:\n\u001B[0;32m    403\u001B[0m         \u001B[38;5;66;03m# Break a reference cycle with the exception in self._exception\u001B[39;00m\n\u001B[0;32m    404\u001B[0m         \u001B[38;5;28mself\u001B[39m \u001B[38;5;241m=\u001B[39m \u001B[38;5;28;01mNone\u001B[39;00m\n",
      "File \u001B[1;32m~\\AppData\\Local\\Programs\\Python\\Python312\\Lib\\concurrent\\futures\\thread.py:58\u001B[0m, in \u001B[0;36m_WorkItem.run\u001B[1;34m(self)\u001B[0m\n\u001B[0;32m     55\u001B[0m     \u001B[38;5;28;01mreturn\u001B[39;00m\n\u001B[0;32m     57\u001B[0m \u001B[38;5;28;01mtry\u001B[39;00m:\n\u001B[1;32m---> 58\u001B[0m     result \u001B[38;5;241m=\u001B[39m \u001B[38;5;28;43mself\u001B[39;49m\u001B[38;5;241;43m.\u001B[39;49m\u001B[43mfn\u001B[49m\u001B[43m(\u001B[49m\u001B[38;5;241;43m*\u001B[39;49m\u001B[38;5;28;43mself\u001B[39;49m\u001B[38;5;241;43m.\u001B[39;49m\u001B[43margs\u001B[49m\u001B[43m,\u001B[49m\u001B[43m \u001B[49m\u001B[38;5;241;43m*\u001B[39;49m\u001B[38;5;241;43m*\u001B[39;49m\u001B[38;5;28;43mself\u001B[39;49m\u001B[38;5;241;43m.\u001B[39;49m\u001B[43mkwargs\u001B[49m\u001B[43m)\u001B[49m\n\u001B[0;32m     59\u001B[0m \u001B[38;5;28;01mexcept\u001B[39;00m \u001B[38;5;167;01mBaseException\u001B[39;00m \u001B[38;5;28;01mas\u001B[39;00m exc:\n\u001B[0;32m     60\u001B[0m     \u001B[38;5;28mself\u001B[39m\u001B[38;5;241m.\u001B[39mfuture\u001B[38;5;241m.\u001B[39mset_exception(exc)\n",
      "File \u001B[1;32mC:\\Projects\\Crosstalk\\venv\\Lib\\site-packages\\qiskit\\primitives\\backend_estimator_v2.py:206\u001B[0m, in \u001B[0;36mBackendEstimatorV2._run\u001B[1;34m(self, pubs)\u001B[0m\n\u001B[0;32m    203\u001B[0m results \u001B[38;5;241m=\u001B[39m [\u001B[38;5;28;01mNone\u001B[39;00m] \u001B[38;5;241m*\u001B[39m \u001B[38;5;28mlen\u001B[39m(pubs)\n\u001B[0;32m    204\u001B[0m \u001B[38;5;28;01mfor\u001B[39;00m shots, lst \u001B[38;5;129;01min\u001B[39;00m pub_dict\u001B[38;5;241m.\u001B[39mitems():\n\u001B[0;32m    205\u001B[0m     \u001B[38;5;66;03m# run pubs with the same number of shots at once\u001B[39;00m\n\u001B[1;32m--> 206\u001B[0m     pub_results \u001B[38;5;241m=\u001B[39m \u001B[38;5;28;43mself\u001B[39;49m\u001B[38;5;241;43m.\u001B[39;49m\u001B[43m_run_pubs\u001B[49m\u001B[43m(\u001B[49m\u001B[43m[\u001B[49m\u001B[43mpubs\u001B[49m\u001B[43m[\u001B[49m\u001B[43mi\u001B[49m\u001B[43m]\u001B[49m\u001B[43m \u001B[49m\u001B[38;5;28;43;01mfor\u001B[39;49;00m\u001B[43m \u001B[49m\u001B[43mi\u001B[49m\u001B[43m \u001B[49m\u001B[38;5;129;43;01min\u001B[39;49;00m\u001B[43m \u001B[49m\u001B[43mlst\u001B[49m\u001B[43m]\u001B[49m\u001B[43m,\u001B[49m\u001B[43m \u001B[49m\u001B[43mshots\u001B[49m\u001B[43m)\u001B[49m\n\u001B[0;32m    207\u001B[0m     \u001B[38;5;66;03m# reconstruct the result of pubs\u001B[39;00m\n\u001B[0;32m    208\u001B[0m     \u001B[38;5;28;01mfor\u001B[39;00m i, pub_result \u001B[38;5;129;01min\u001B[39;00m \u001B[38;5;28mzip\u001B[39m(lst, pub_results):\n",
      "File \u001B[1;32mC:\\Projects\\Crosstalk\\venv\\Lib\\site-packages\\qiskit\\primitives\\backend_estimator_v2.py:221\u001B[0m, in \u001B[0;36mBackendEstimatorV2._run_pubs\u001B[1;34m(self, pubs, shots)\u001B[0m\n\u001B[0;32m    218\u001B[0m     preprocessed_data\u001B[38;5;241m.\u001B[39mappend(data)\n\u001B[0;32m    219\u001B[0m     flat_circuits\u001B[38;5;241m.\u001B[39mextend(data\u001B[38;5;241m.\u001B[39mcircuits)\n\u001B[1;32m--> 221\u001B[0m run_result, metadata \u001B[38;5;241m=\u001B[39m \u001B[43m_run_circuits\u001B[49m\u001B[43m(\u001B[49m\n\u001B[0;32m    222\u001B[0m \u001B[43m    \u001B[49m\u001B[43mflat_circuits\u001B[49m\u001B[43m,\u001B[49m\u001B[43m \u001B[49m\u001B[38;5;28;43mself\u001B[39;49m\u001B[38;5;241;43m.\u001B[39;49m\u001B[43m_backend\u001B[49m\u001B[43m,\u001B[49m\u001B[43m \u001B[49m\u001B[43mshots\u001B[49m\u001B[38;5;241;43m=\u001B[39;49m\u001B[43mshots\u001B[49m\u001B[43m,\u001B[49m\u001B[43m \u001B[49m\u001B[43mseed_simulator\u001B[49m\u001B[38;5;241;43m=\u001B[39;49m\u001B[38;5;28;43mself\u001B[39;49m\u001B[38;5;241;43m.\u001B[39;49m\u001B[43m_options\u001B[49m\u001B[38;5;241;43m.\u001B[39;49m\u001B[43mseed_simulator\u001B[49m\n\u001B[0;32m    223\u001B[0m \u001B[43m\u001B[49m\u001B[43m)\u001B[49m\n\u001B[0;32m    224\u001B[0m counts \u001B[38;5;241m=\u001B[39m _prepare_counts(run_result)\n\u001B[0;32m    226\u001B[0m results \u001B[38;5;241m=\u001B[39m []\n",
      "File \u001B[1;32mC:\\Projects\\Crosstalk\\venv\\Lib\\site-packages\\qiskit\\primitives\\backend_estimator.py:75\u001B[0m, in \u001B[0;36m_run_circuits\u001B[1;34m(circuits, backend, clear_metadata, **run_options)\u001B[0m\n\u001B[0;32m     72\u001B[0m     \u001B[38;5;28;01mraise\u001B[39;00m \u001B[38;5;167;01mRuntimeError\u001B[39;00m(\u001B[38;5;124m\"\u001B[39m\u001B[38;5;124mBackend version not supported\u001B[39m\u001B[38;5;124m\"\u001B[39m)\n\u001B[0;32m     73\u001B[0m \u001B[38;5;28;01mif\u001B[39;00m max_circuits:\n\u001B[0;32m     74\u001B[0m     jobs \u001B[38;5;241m=\u001B[39m [\n\u001B[1;32m---> 75\u001B[0m         \u001B[43mbackend\u001B[49m\u001B[38;5;241;43m.\u001B[39;49m\u001B[43mrun\u001B[49m\u001B[43m(\u001B[49m\u001B[43mcircuits\u001B[49m\u001B[43m[\u001B[49m\u001B[43mpos\u001B[49m\u001B[43m \u001B[49m\u001B[43m:\u001B[49m\u001B[43m \u001B[49m\u001B[43mpos\u001B[49m\u001B[43m \u001B[49m\u001B[38;5;241;43m+\u001B[39;49m\u001B[43m \u001B[49m\u001B[43mmax_circuits\u001B[49m\u001B[43m]\u001B[49m\u001B[43m,\u001B[49m\u001B[43m \u001B[49m\u001B[38;5;241;43m*\u001B[39;49m\u001B[38;5;241;43m*\u001B[39;49m\u001B[43mrun_options\u001B[49m\u001B[43m)\u001B[49m\n\u001B[0;32m     76\u001B[0m         \u001B[38;5;28;01mfor\u001B[39;00m pos \u001B[38;5;129;01min\u001B[39;00m \u001B[38;5;28mrange\u001B[39m(\u001B[38;5;241m0\u001B[39m, \u001B[38;5;28mlen\u001B[39m(circuits), max_circuits)\n\u001B[0;32m     77\u001B[0m     ]\n\u001B[0;32m     78\u001B[0m     result \u001B[38;5;241m=\u001B[39m [x\u001B[38;5;241m.\u001B[39mresult() \u001B[38;5;28;01mfor\u001B[39;00m x \u001B[38;5;129;01min\u001B[39;00m jobs]\n\u001B[0;32m     79\u001B[0m \u001B[38;5;28;01melse\u001B[39;00m:\n",
      "File \u001B[1;32mC:\\Projects\\Crosstalk\\venv\\Lib\\site-packages\\qiskit_ibm_runtime\\ibm_backend.py:589\u001B[0m, in \u001B[0;36mIBMBackend.run\u001B[1;34m(self, *args, **kwargs)\u001B[0m\n\u001B[0;32m    583\u001B[0m \u001B[38;5;28;01mdef\u001B[39;00m\u001B[38;5;250m \u001B[39m\u001B[38;5;21mrun\u001B[39m(\u001B[38;5;28mself\u001B[39m, \u001B[38;5;241m*\u001B[39margs, \u001B[38;5;241m*\u001B[39m\u001B[38;5;241m*\u001B[39mkwargs) \u001B[38;5;241m-\u001B[39m\u001B[38;5;241m>\u001B[39m \u001B[38;5;28;01mNone\u001B[39;00m:  \u001B[38;5;66;03m# type: ignore[no-untyped-def]\u001B[39;00m\n\u001B[0;32m    584\u001B[0m \u001B[38;5;250m    \u001B[39m\u001B[38;5;124;03m\"\"\"\u001B[39;00m\n\u001B[0;32m    585\u001B[0m \u001B[38;5;124;03m    Raises:\u001B[39;00m\n\u001B[0;32m    586\u001B[0m \u001B[38;5;124;03m        IBMBackendError: The run() method is no longer supported.\u001B[39;00m\n\u001B[0;32m    587\u001B[0m \n\u001B[0;32m    588\u001B[0m \u001B[38;5;124;03m    \"\"\"\u001B[39;00m\n\u001B[1;32m--> 589\u001B[0m     \u001B[38;5;28;01mraise\u001B[39;00m IBMBackendError(\n\u001B[0;32m    590\u001B[0m         \u001B[38;5;124m\"\u001B[39m\u001B[38;5;124mSupport for backend.run() has been removed. Please see our migration guide \u001B[39m\u001B[38;5;124m\"\u001B[39m\n\u001B[0;32m    591\u001B[0m         \u001B[38;5;124m\"\u001B[39m\u001B[38;5;124mhttps://docs.quantum.ibm.com/migration-guides/qiskit-runtime for instructions \u001B[39m\u001B[38;5;124m\"\u001B[39m\n\u001B[0;32m    592\u001B[0m         \u001B[38;5;124m\"\u001B[39m\u001B[38;5;124mon how to migrate to the primitives interface.\u001B[39m\u001B[38;5;124m\"\u001B[39m\n\u001B[0;32m    593\u001B[0m     )\n",
      "\u001B[1;31mIBMBackendError\u001B[0m: 'Support for backend.run() has been removed. Please see our migration guide https://docs.quantum.ibm.com/migration-guides/qiskit-runtime for instructions on how to migrate to the primitives interface.'"
     ]
    }
   ],
   "execution_count": 39
  },
  {
   "metadata": {
    "ExecuteTime": {
     "end_time": "2025-02-26T13:24:02.702975Z",
     "start_time": "2025-02-26T13:23:58.853238Z"
    }
   },
   "cell_type": "code",
   "source": [
    "from qiskit.transpiler import InstructionDurations\n",
    "from qiskit import QuantumCircuit, transpile\n",
    "from qiskit.transpiler.passes import ALAPSchedule\n",
    "from qiskit_ibm_runtime import QiskitRuntimeService\n",
    "from qiskit.quantum_info import SparsePauliOp\n",
    "from qiskit.primitives import Estimator\n",
    "from qiskit import generate_preset_pass_manager\n",
    "\n",
    "# Initialize IBM Quantum service\n",
    "backend = service.least_busy(operational=True, simulator=False)\n",
    "\n",
    "# Define quantum circuit\n",
    "qc = QuantumCircuit(1)\n",
    "qc.h(0)\n",
    "\n",
    "# Add delay (5 microseconds)\n",
    "qc.delay(5, 0, unit=\"us\")  # Ensure correct unit\n",
    "\n",
    "# Define an observable (Pauli operator)\n",
    "observable_str = \"X\"\n",
    "observable = SparsePauliOp(observable_str)\n",
    "\n",
    "# 🔹 Step 1: Define gate durations manually (Corrected)\n",
    "durations = InstructionDurations()\n",
    "durations.update(\"h\", [0], 100)\n",
    "durations.update(\"delay\", [0], 5 * backend.configuration().dt)# Convert delay to dt units\n",
    "\n",
    "# 🔹 Step 2: Apply scheduling with explicitly defined durations\n",
    "scheduled_qc = ALAPSchedule(durations)(qc)  # Apply ALAP scheduling\n",
    "\n",
    "# Generate preset pass manager and transpile the scheduled circuit\n",
    "pm = generate_preset_pass_manager(optimization_level=0, backend=backend)\n",
    "isa_circuit = pm.run(scheduled_qc)\n",
    "\n",
    "# Apply layout to observable\n",
    "isa_observable = observable.apply_layout(isa_circuit.layout)\n",
    "\n",
    "# Initialize estimator\n",
    "estimator = Estimator(mode=backend)\n",
    "\n",
    "# Run estimation\n",
    "job = estimator.run([(isa_circuit, isa_observable, [])])\n",
    "\n",
    "print(f\">>> Job ID: {job.job_id()}\")\n",
    "print(f\">>> Job Status: {job.status()}\")\n",
    "result = job.result()\n",
    "print(f\"  > Expectation value: {result[0].data.evs}\")\n",
    "print(f\"  > Metadata: {result[0].metadata}\")\n"
   ],
   "outputs": [
    {
     "ename": "TypeError",
     "evalue": "InstructionDurations.update() takes from 2 to 3 positional arguments but 4 were given",
     "output_type": "error",
     "traceback": [
      "\u001B[1;31m---------------------------------------------------------------------------\u001B[0m",
      "\u001B[1;31mTypeError\u001B[0m                                 Traceback (most recent call last)",
      "Cell \u001B[1;32mIn[64], line 25\u001B[0m\n\u001B[0;32m     23\u001B[0m \u001B[38;5;66;03m# 🔹 Step 1: Define gate durations manually (Corrected)\u001B[39;00m\n\u001B[0;32m     24\u001B[0m durations \u001B[38;5;241m=\u001B[39m InstructionDurations()\n\u001B[1;32m---> 25\u001B[0m \u001B[43mdurations\u001B[49m\u001B[38;5;241;43m.\u001B[39;49m\u001B[43mupdate\u001B[49m\u001B[43m(\u001B[49m\u001B[38;5;124;43m\"\u001B[39;49m\u001B[38;5;124;43mh\u001B[39;49m\u001B[38;5;124;43m\"\u001B[39;49m\u001B[43m,\u001B[49m\u001B[43m \u001B[49m\u001B[43m[\u001B[49m\u001B[38;5;241;43m0\u001B[39;49m\u001B[43m]\u001B[49m\u001B[43m,\u001B[49m\u001B[43m \u001B[49m\u001B[38;5;241;43m100\u001B[39;49m\u001B[43m)\u001B[49m\n\u001B[0;32m     26\u001B[0m durations\u001B[38;5;241m.\u001B[39mupdate(\u001B[38;5;124m\"\u001B[39m\u001B[38;5;124mdelay\u001B[39m\u001B[38;5;124m\"\u001B[39m, [\u001B[38;5;241m0\u001B[39m], \u001B[38;5;241m5\u001B[39m \u001B[38;5;241m*\u001B[39m backend\u001B[38;5;241m.\u001B[39mconfiguration()\u001B[38;5;241m.\u001B[39mdt)\u001B[38;5;66;03m# Convert delay to dt units\u001B[39;00m\n\u001B[0;32m     28\u001B[0m \u001B[38;5;66;03m# 🔹 Step 2: Apply scheduling with explicitly defined durations\u001B[39;00m\n",
      "\u001B[1;31mTypeError\u001B[0m: InstructionDurations.update() takes from 2 to 3 positional arguments but 4 were given"
     ]
    }
   ],
   "execution_count": 64
  },
  {
   "metadata": {
    "ExecuteTime": {
     "end_time": "2025-02-26T13:06:14.983117Z",
     "start_time": "2025-02-26T13:05:59.389333Z"
    }
   },
   "cell_type": "code",
   "source": [
    "result = job.result()\n",
    "print(f\">>> {result}\")\n",
    "print(f\"  > Expectation value: {result[0].data.evs}\")\n",
    "print(f\"  > Metadata: {result[0].metadata}\")"
   ],
   "outputs": [
    {
     "name": "stdout",
     "output_type": "stream",
     "text": [
      ">>> PrimitiveResult([PubResult(data=DataBin(evs=np.ndarray(<shape=(), dtype=float64>), stds=np.ndarray(<shape=(), dtype=float64>), ensemble_standard_error=np.ndarray(<shape=(), dtype=float64>)), metadata={'shots': 4096, 'target_precision': 0.015625, 'circuit_metadata': {}, 'resilience': {}, 'num_randomizations': 32})], metadata={'dynamical_decoupling': {'enable': False, 'sequence_type': 'XX', 'extra_slack_distribution': 'middle', 'scheduling_method': 'alap'}, 'twirling': {'enable_gates': False, 'enable_measure': True, 'num_randomizations': 'auto', 'shots_per_randomization': 'auto', 'interleave_randomizations': True, 'strategy': 'active-accum'}, 'resilience': {'measure_mitigation': True, 'zne_mitigation': False, 'pec_mitigation': False}, 'version': 2})\n",
      "  > Expectation value: 0.975597609561753\n",
      "  > Metadata: {'shots': 4096, 'target_precision': 0.015625, 'circuit_metadata': {}, 'resilience': {}, 'num_randomizations': 32}\n"
     ]
    }
   ],
   "execution_count": 48
  },
  {
   "metadata": {
    "ExecuteTime": {
     "end_time": "2025-02-26T12:54:28.755129Z",
     "start_time": "2025-02-26T12:54:19.539594Z"
    }
   },
   "cell_type": "code",
   "source": [
    "from qiskit import QuantumCircuit, transpile\n",
    "from qiskit_ibm_runtime import QiskitRuntimeService\n",
    "from qiskit.quantum_info import SparsePauliOp\n",
    "from qiskit.primitives import BackendEstimatorV2\n",
    "\n",
    "# Initialize IBM Quantum service\n",
    "backend = service.least_busy(operational=True, simulator=False)\n",
    "\n",
    "# Define a simple quantum circuit\n",
    "qc = QuantumCircuit(1)\n",
    "qc.h(0)\n",
    "\n",
    "# Transpile with ALAP scheduling\n",
    "qc_transpiled = transpile(qc, backend, scheduling_method=\"alap\", optimization_level=0)\n",
    "\n",
    "# Define an observable (Pauli operator)\n",
    "observable_str = \"X\" + \"I\" * (backend.num_qubits - 1)\n",
    "observable = SparsePauliOp(observable_str)\n",
    "\n",
    "# Initialize BackendEstimatorV2\n",
    "estimator = BackendEstimatorV2(backend=backend)\n",
    "estimator.options.shots = 1000  # Set number of shots\n",
    "\n",
    "# Run estimation using the correct argument structure for BackendEstimatorV2\n",
    "job = estimator.run(qc_transpiled, observable)  # Pass empty parameter list [[]]\n",
    "result = job.result()\n",
    "\n",
    "print(result)\n"
   ],
   "outputs": [
    {
     "ename": "TypeError",
     "evalue": "BackendEstimatorV2.run() got an unexpected keyword argument 'circuits'",
     "output_type": "error",
     "traceback": [
      "\u001B[1;31m---------------------------------------------------------------------------\u001B[0m",
      "\u001B[1;31mTypeError\u001B[0m                                 Traceback (most recent call last)",
      "Cell \u001B[1;32mIn[38], line 25\u001B[0m\n\u001B[0;32m     22\u001B[0m estimator\u001B[38;5;241m.\u001B[39moptions\u001B[38;5;241m.\u001B[39mshots \u001B[38;5;241m=\u001B[39m \u001B[38;5;241m1000\u001B[39m  \u001B[38;5;66;03m# Set number of shots\u001B[39;00m\n\u001B[0;32m     24\u001B[0m \u001B[38;5;66;03m# Run estimation using **named arguments** for BackendEstimatorV2\u001B[39;00m\n\u001B[1;32m---> 25\u001B[0m job \u001B[38;5;241m=\u001B[39m \u001B[43mestimator\u001B[49m\u001B[38;5;241;43m.\u001B[39;49m\u001B[43mrun\u001B[49m\u001B[43m(\u001B[49m\n\u001B[0;32m     26\u001B[0m \u001B[43m    \u001B[49m\u001B[43mcircuits\u001B[49m\u001B[38;5;241;43m=\u001B[39;49m\u001B[43m[\u001B[49m\u001B[43mqc_transpiled\u001B[49m\u001B[43m]\u001B[49m\u001B[43m,\u001B[49m\u001B[43m          \u001B[49m\u001B[38;5;66;43;03m# List of circuits\u001B[39;49;00m\n\u001B[0;32m     27\u001B[0m \u001B[43m    \u001B[49m\u001B[43mobservables\u001B[49m\u001B[38;5;241;43m=\u001B[39;49m\u001B[43m[\u001B[49m\u001B[43mobservable\u001B[49m\u001B[43m]\u001B[49m\u001B[43m,\u001B[49m\u001B[43m          \u001B[49m\u001B[38;5;66;43;03m# List of observables\u001B[39;49;00m\n\u001B[0;32m     28\u001B[0m \u001B[43m    \u001B[49m\u001B[43mparameter_values\u001B[49m\u001B[38;5;241;43m=\u001B[39;49m\u001B[43m[\u001B[49m\u001B[43m[\u001B[49m\u001B[43m]\u001B[49m\u001B[43m]\u001B[49m\u001B[43m              \u001B[49m\u001B[38;5;66;43;03m# Empty parameter list for unparametrized circuits\u001B[39;49;00m\n\u001B[0;32m     29\u001B[0m \u001B[43m)\u001B[49m\n\u001B[0;32m     31\u001B[0m \u001B[38;5;66;03m# Get the result\u001B[39;00m\n\u001B[0;32m     32\u001B[0m result \u001B[38;5;241m=\u001B[39m job\u001B[38;5;241m.\u001B[39mresult()\n",
      "\u001B[1;31mTypeError\u001B[0m: BackendEstimatorV2.run() got an unexpected keyword argument 'circuits'"
     ]
    }
   ],
   "execution_count": 38
  },
  {
   "cell_type": "code",
   "source": [
    "from qiskit import transpile\n",
    "\n",
    "# backend = service.least_busy(operational=True, simulator=False)\n",
    "backend = FakeAuckland()\n",
    "qc_transpiled = transpile(qc, backend)  # Makes circuit compatible with target hardware\n",
    "\n",
    "estimator = Estimator(mode=backend)\n",
    "job = estimator.run([(qc_transpiled, \"X\"*27)])"
   ],
   "metadata": {
    "collapsed": false,
    "ExecuteTime": {
     "end_time": "2025-02-26T10:26:42.507964Z",
     "start_time": "2025-02-26T10:26:37.113872Z"
    }
   },
   "outputs": [],
   "execution_count": 4
  },
  {
   "cell_type": "code",
   "source": [
    "result = job.result()\n",
    "print(f\" > Expectation value: {result[0].data.evs}\")\n",
    "print(f\" > Metadata: {result[0].metadata}\")"
   ],
   "metadata": {
    "collapsed": false,
    "ExecuteTime": {
     "start_time": "2025-02-25T15:06:12.272881Z"
    }
   },
   "outputs": [],
   "execution_count": null
  },
  {
   "metadata": {},
   "cell_type": "code",
   "source": "print(\"3\")",
   "outputs": [],
   "execution_count": null
  },
  {
   "metadata": {
    "ExecuteTime": {
     "end_time": "2025-02-26T13:41:41.598445Z",
     "start_time": "2025-02-26T13:41:27.352062Z"
    }
   },
   "cell_type": "code",
   "source": [
    "from qiskit.circuit import ClassicalRegister, QuantumCircuit, QuantumRegister\n",
    "from qiskit.transpiler.preset_passmanagers import generate_preset_pass_manager\n",
    "from qiskit.transpiler.passmanager import PassManager\n",
    "\n",
    "from qiskit_ibm_runtime.transpiler.passes.scheduling import DynamicCircuitInstructionDurations\n",
    "from qiskit_ibm_runtime.transpiler.passes.scheduling import ALAPScheduleAnalysis\n",
    "from qiskit_ibm_runtime.transpiler.passes.scheduling import PadDelay\n",
    "from qiskit_ibm_runtime.fake_provider import FakeJakartaV2\n",
    "\n",
    "backend = service.least_busy(operational=True, simulator=False)\n",
    "\n",
    "# Use this duration class to get appropriate durations for dynamic\n",
    "# circuit backend scheduling\n",
    "durations = DynamicCircuitInstructionDurations.from_backend(backend)\n",
    "# Generate the main Qiskit transpile passes.\n",
    "pm = generate_preset_pass_manager(optimization_level=1, backend=backend)\n",
    "# Configure the as-late-as-possible scheduling pass\n",
    "pm.scheduling = PassManager([ALAPScheduleAnalysis(durations), PadDelay(durations)])\n",
    "\n",
    "qr = QuantumRegister(1)\n",
    "crz = ClassicalRegister(1, name=\"crz\")\n",
    "crx = ClassicalRegister(1, name=\"crx\")\n",
    "result = ClassicalRegister(1, name=\"result\")\n",
    "\n",
    "qc = QuantumCircuit(qr, crz, crx, result, name=\"Teleport\")\n",
    "\n",
    "qc.h(qr[0])\n",
    "qc.h(qr[0])\n",
    "qc.delay(100, qr[0])\n",
    "\n",
    "# Transpile.\n",
    "scheduled_teleport = pm.run(qc)\n",
    "\n",
    "# scheduled_teleport.draw(output=\"mpl\", style=\"iqp\")"
   ],
   "outputs": [],
   "execution_count": 3
  },
  {
   "metadata": {
    "ExecuteTime": {
     "end_time": "2025-02-26T13:41:46.158179Z",
     "start_time": "2025-02-26T13:41:46.132504Z"
    }
   },
   "cell_type": "code",
   "source": [
    "from qiskit.circuit.library import XGate\n",
    "\n",
    "from qiskit_ibm_runtime.transpiler.passes.scheduling import PadDynamicalDecoupling\n",
    "\n",
    "\n",
    "dd_sequence = [XGate(), XGate()]\n",
    "\n",
    "pm = generate_preset_pass_manager(optimization_level=1, backend=backend)\n",
    "pm.scheduling = PassManager(\n",
    "    [\n",
    "        ALAPScheduleAnalysis(durations),\n",
    "        PadDynamicalDecoupling(durations, dd_sequence),\n",
    "    ]\n",
    ")\n",
    "\n",
    "dd_teleport = pm.run(qc)\n",
    "\n",
    "# dd_teleport.draw(output=\"mpl\", style=\"iqp\")"
   ],
   "outputs": [],
   "execution_count": 4
  },
  {
   "metadata": {
    "ExecuteTime": {
     "end_time": "2025-02-26T13:41:47.319475Z",
     "start_time": "2025-02-26T13:41:47.267744Z"
    }
   },
   "cell_type": "code",
   "source": [
    "# Initialize estimator\n",
    "estimator = Estimator(mode=backend)\n",
    "\n",
    "\n",
    "observable_str = \"X\"\n",
    "observable = SparsePauliOp(observable_str)\n",
    "isa_observable = observable.apply_layout(qc.layout)\n",
    "\n",
    "# Run estimation\n",
    "job = estimator.run([(qc, isa_observable, [])])\n",
    "\n",
    "print(f\">>> Job ID: {job.job_id()}\")\n",
    "print(f\">>> Job Status: {job.status()}\")\n",
    "result = job.result()\n",
    "print(f\"  > Expectation value: {result[0].data.evs}\")\n",
    "print(f\"  > Metadata: {result[0].metadata}\")\n"
   ],
   "outputs": [
    {
     "ename": "IBMInputValueError",
     "evalue": "'The instruction h on qubits (0,) is not supported by the target system. Circuits that do not match the target hardware definition are no longer supported after March 4, 2024. See the transpilation documentation (https://docs.quantum.ibm.com/guides/transpile) for instructions to transform circuits and the primitive examples (https://docs.quantum.ibm.com/guides/primitives-examples) to see this coupled with operator transformations.'",
     "output_type": "error",
     "traceback": [
      "\u001B[1;31m---------------------------------------------------------------------------\u001B[0m",
      "\u001B[1;31mIBMInputValueError\u001B[0m                        Traceback (most recent call last)",
      "Cell \u001B[1;32mIn[5], line 10\u001B[0m\n\u001B[0;32m      7\u001B[0m isa_observable \u001B[38;5;241m=\u001B[39m observable\u001B[38;5;241m.\u001B[39mapply_layout(qc\u001B[38;5;241m.\u001B[39mlayout)\n\u001B[0;32m      9\u001B[0m \u001B[38;5;66;03m# Run estimation\u001B[39;00m\n\u001B[1;32m---> 10\u001B[0m job \u001B[38;5;241m=\u001B[39m \u001B[43mestimator\u001B[49m\u001B[38;5;241;43m.\u001B[39;49m\u001B[43mrun\u001B[49m\u001B[43m(\u001B[49m\u001B[43m[\u001B[49m\u001B[43m(\u001B[49m\u001B[43mqc\u001B[49m\u001B[43m,\u001B[49m\u001B[43m \u001B[49m\u001B[43misa_observable\u001B[49m\u001B[43m,\u001B[49m\u001B[43m \u001B[49m\u001B[43m[\u001B[49m\u001B[43m]\u001B[49m\u001B[43m)\u001B[49m\u001B[43m]\u001B[49m\u001B[43m)\u001B[49m\n\u001B[0;32m     12\u001B[0m \u001B[38;5;28mprint\u001B[39m(\u001B[38;5;124mf\u001B[39m\u001B[38;5;124m\"\u001B[39m\u001B[38;5;124m>>> Job ID: \u001B[39m\u001B[38;5;132;01m{\u001B[39;00mjob\u001B[38;5;241m.\u001B[39mjob_id()\u001B[38;5;132;01m}\u001B[39;00m\u001B[38;5;124m\"\u001B[39m)\n\u001B[0;32m     13\u001B[0m \u001B[38;5;28mprint\u001B[39m(\u001B[38;5;124mf\u001B[39m\u001B[38;5;124m\"\u001B[39m\u001B[38;5;124m>>> Job Status: \u001B[39m\u001B[38;5;132;01m{\u001B[39;00mjob\u001B[38;5;241m.\u001B[39mstatus()\u001B[38;5;132;01m}\u001B[39;00m\u001B[38;5;124m\"\u001B[39m)\n",
      "File \u001B[1;32mC:\\Projects\\Crosstalk\\venv\\Lib\\site-packages\\qiskit_ibm_runtime\\estimator.py:149\u001B[0m, in \u001B[0;36mEstimatorV2.run\u001B[1;34m(self, pubs, precision)\u001B[0m\n\u001B[0;32m    147\u001B[0m coerced_pubs \u001B[38;5;241m=\u001B[39m [EstimatorPub\u001B[38;5;241m.\u001B[39mcoerce(pub, precision) \u001B[38;5;28;01mfor\u001B[39;00m pub \u001B[38;5;129;01min\u001B[39;00m pubs]\n\u001B[0;32m    148\u001B[0m validate_estimator_pubs(coerced_pubs)\n\u001B[1;32m--> 149\u001B[0m \u001B[38;5;28;01mreturn\u001B[39;00m \u001B[38;5;28;43mself\u001B[39;49m\u001B[38;5;241;43m.\u001B[39;49m\u001B[43m_run\u001B[49m\u001B[43m(\u001B[49m\u001B[43mcoerced_pubs\u001B[49m\u001B[43m)\u001B[49m\n",
      "File \u001B[1;32mC:\\Projects\\Crosstalk\\venv\\Lib\\site-packages\\qiskit_ibm_runtime\\base_primitive.py:159\u001B[0m, in \u001B[0;36mBasePrimitiveV2._run\u001B[1;34m(self, pubs)\u001B[0m\n\u001B[0;32m    157\u001B[0m \u001B[38;5;28;01mfor\u001B[39;00m pub \u001B[38;5;129;01min\u001B[39;00m pubs:\n\u001B[0;32m    158\u001B[0m     \u001B[38;5;28;01mif\u001B[39;00m \u001B[38;5;28mgetattr\u001B[39m(\u001B[38;5;28mself\u001B[39m\u001B[38;5;241m.\u001B[39m_backend, \u001B[38;5;124m\"\u001B[39m\u001B[38;5;124mtarget\u001B[39m\u001B[38;5;124m\"\u001B[39m, \u001B[38;5;28;01mNone\u001B[39;00m) \u001B[38;5;129;01mand\u001B[39;00m \u001B[38;5;129;01mnot\u001B[39;00m is_simulator(\u001B[38;5;28mself\u001B[39m\u001B[38;5;241m.\u001B[39m_backend):\n\u001B[1;32m--> 159\u001B[0m         \u001B[43mvalidate_isa_circuits\u001B[49m\u001B[43m(\u001B[49m\u001B[43m[\u001B[49m\u001B[43mpub\u001B[49m\u001B[38;5;241;43m.\u001B[39;49m\u001B[43mcircuit\u001B[49m\u001B[43m]\u001B[49m\u001B[43m,\u001B[49m\u001B[43m \u001B[49m\u001B[38;5;28;43mself\u001B[39;49m\u001B[38;5;241;43m.\u001B[39;49m\u001B[43m_backend\u001B[49m\u001B[38;5;241;43m.\u001B[39;49m\u001B[43mtarget\u001B[49m\u001B[43m)\u001B[49m\n\u001B[0;32m    161\u001B[0m     \u001B[38;5;28;01mif\u001B[39;00m \u001B[38;5;28misinstance\u001B[39m(\u001B[38;5;28mself\u001B[39m\u001B[38;5;241m.\u001B[39m_backend, IBMBackend):\n\u001B[0;32m    162\u001B[0m         \u001B[38;5;28mself\u001B[39m\u001B[38;5;241m.\u001B[39m_backend\u001B[38;5;241m.\u001B[39mcheck_faulty(pub\u001B[38;5;241m.\u001B[39mcircuit)\n",
      "File \u001B[1;32mC:\\Projects\\Crosstalk\\venv\\Lib\\site-packages\\qiskit_ibm_runtime\\utils\\validations.py:90\u001B[0m, in \u001B[0;36mvalidate_isa_circuits\u001B[1;34m(circuits, target)\u001B[0m\n\u001B[0;32m     88\u001B[0m message \u001B[38;5;241m=\u001B[39m is_isa_circuit(circuit, target)\n\u001B[0;32m     89\u001B[0m \u001B[38;5;28;01mif\u001B[39;00m message:\n\u001B[1;32m---> 90\u001B[0m     \u001B[38;5;28;01mraise\u001B[39;00m IBMInputValueError(\n\u001B[0;32m     91\u001B[0m         message\n\u001B[0;32m     92\u001B[0m         \u001B[38;5;241m+\u001B[39m \u001B[38;5;124m\"\u001B[39m\u001B[38;5;124m Circuits that do not match the target hardware definition are no longer \u001B[39m\u001B[38;5;124m\"\u001B[39m\n\u001B[0;32m     93\u001B[0m         \u001B[38;5;124m\"\u001B[39m\u001B[38;5;124msupported after March 4, 2024. See the transpilation documentation \u001B[39m\u001B[38;5;124m\"\u001B[39m\n\u001B[0;32m     94\u001B[0m         \u001B[38;5;124m\"\u001B[39m\u001B[38;5;124m(https://docs.quantum.ibm.com/guides/transpile) for instructions \u001B[39m\u001B[38;5;124m\"\u001B[39m\n\u001B[0;32m     95\u001B[0m         \u001B[38;5;124m\"\u001B[39m\u001B[38;5;124mto transform circuits and the primitive examples \u001B[39m\u001B[38;5;124m\"\u001B[39m\n\u001B[0;32m     96\u001B[0m         \u001B[38;5;124m\"\u001B[39m\u001B[38;5;124m(https://docs.quantum.ibm.com/guides/primitives-examples) to see \u001B[39m\u001B[38;5;124m\"\u001B[39m\n\u001B[0;32m     97\u001B[0m         \u001B[38;5;124m\"\u001B[39m\u001B[38;5;124mthis coupled with operator transformations.\u001B[39m\u001B[38;5;124m\"\u001B[39m\n\u001B[0;32m     98\u001B[0m     )\n",
      "\u001B[1;31mIBMInputValueError\u001B[0m: 'The instruction h on qubits (0,) is not supported by the target system. Circuits that do not match the target hardware definition are no longer supported after March 4, 2024. See the transpilation documentation (https://docs.quantum.ibm.com/guides/transpile) for instructions to transform circuits and the primitive examples (https://docs.quantum.ibm.com/guides/primitives-examples) to see this coupled with operator transformations.'"
     ]
    }
   ],
   "execution_count": 5
  },
  {
   "metadata": {
    "ExecuteTime": {
     "end_time": "2025-02-26T13:44:24.124334Z",
     "start_time": "2025-02-26T13:44:23.982681Z"
    }
   },
   "cell_type": "code",
   "source": "",
   "outputs": [
    {
     "ename": "TranspilerError",
     "evalue": "'The input circuit None is not scheduled. Call one of scheduling passes before running the ConstrainedReschedule pass.'",
     "output_type": "error",
     "traceback": [
      "\u001B[1;31m---------------------------------------------------------------------------\u001B[0m",
      "\u001B[1;31mTranspilerError\u001B[0m                           Traceback (most recent call last)",
      "File \u001B[1;32mC:\\Projects\\Crosstalk\\venv\\Lib\\site-packages\\qiskit\\transpiler\\passmanager.py:464\u001B[0m, in \u001B[0;36m_replace_error.<locals>.wrapper\u001B[1;34m(*meth_args, **meth_kwargs)\u001B[0m\n\u001B[0;32m    463\u001B[0m \u001B[38;5;28;01mtry\u001B[39;00m:\n\u001B[1;32m--> 464\u001B[0m     \u001B[38;5;28;01mreturn\u001B[39;00m \u001B[43mmeth\u001B[49m\u001B[43m(\u001B[49m\u001B[38;5;241;43m*\u001B[39;49m\u001B[43mmeth_args\u001B[49m\u001B[43m,\u001B[49m\u001B[43m \u001B[49m\u001B[38;5;241;43m*\u001B[39;49m\u001B[38;5;241;43m*\u001B[39;49m\u001B[43mmeth_kwargs\u001B[49m\u001B[43m)\u001B[49m\n\u001B[0;32m    465\u001B[0m \u001B[38;5;28;01mexcept\u001B[39;00m PassManagerError \u001B[38;5;28;01mas\u001B[39;00m ex:\n",
      "File \u001B[1;32mC:\\Projects\\Crosstalk\\venv\\Lib\\site-packages\\qiskit\\transpiler\\passmanager.py:226\u001B[0m, in \u001B[0;36mPassManager.run\u001B[1;34m(self, circuits, output_name, callback, num_processes)\u001B[0m\n\u001B[0;32m    224\u001B[0m     callback \u001B[38;5;241m=\u001B[39m _legacy_style_callback(callback)\n\u001B[1;32m--> 226\u001B[0m \u001B[38;5;28;01mreturn\u001B[39;00m \u001B[38;5;28;43msuper\u001B[39;49m\u001B[43m(\u001B[49m\u001B[43m)\u001B[49m\u001B[38;5;241;43m.\u001B[39;49m\u001B[43mrun\u001B[49m\u001B[43m(\u001B[49m\n\u001B[0;32m    227\u001B[0m \u001B[43m    \u001B[49m\u001B[43min_programs\u001B[49m\u001B[38;5;241;43m=\u001B[39;49m\u001B[43mcircuits\u001B[49m\u001B[43m,\u001B[49m\n\u001B[0;32m    228\u001B[0m \u001B[43m    \u001B[49m\u001B[43mcallback\u001B[49m\u001B[38;5;241;43m=\u001B[39;49m\u001B[43mcallback\u001B[49m\u001B[43m,\u001B[49m\n\u001B[0;32m    229\u001B[0m \u001B[43m    \u001B[49m\u001B[43moutput_name\u001B[49m\u001B[38;5;241;43m=\u001B[39;49m\u001B[43moutput_name\u001B[49m\u001B[43m,\u001B[49m\n\u001B[0;32m    230\u001B[0m \u001B[43m    \u001B[49m\u001B[43mnum_processes\u001B[49m\u001B[38;5;241;43m=\u001B[39;49m\u001B[43mnum_processes\u001B[49m\u001B[43m,\u001B[49m\n\u001B[0;32m    231\u001B[0m \u001B[43m\u001B[49m\u001B[43m)\u001B[49m\n",
      "File \u001B[1;32mC:\\Projects\\Crosstalk\\venv\\Lib\\site-packages\\qiskit\\passmanager\\passmanager.py:250\u001B[0m, in \u001B[0;36mBasePassManager.run\u001B[1;34m(self, in_programs, callback, num_processes, property_set, **kwargs)\u001B[0m\n\u001B[0;32m    248\u001B[0m \u001B[38;5;28;01mif\u001B[39;00m \u001B[38;5;28mlen\u001B[39m(in_programs) \u001B[38;5;241m==\u001B[39m \u001B[38;5;241m1\u001B[39m \u001B[38;5;129;01mor\u001B[39;00m \u001B[38;5;129;01mnot\u001B[39;00m should_run_in_parallel(num_processes):\n\u001B[0;32m    249\u001B[0m     out \u001B[38;5;241m=\u001B[39m [\n\u001B[1;32m--> 250\u001B[0m         \u001B[43m_run_workflow\u001B[49m\u001B[43m(\u001B[49m\u001B[43mprogram\u001B[49m\u001B[38;5;241;43m=\u001B[39;49m\u001B[43mprogram\u001B[49m\u001B[43m,\u001B[49m\u001B[43m \u001B[49m\u001B[43mpass_manager\u001B[49m\u001B[38;5;241;43m=\u001B[39;49m\u001B[38;5;28;43mself\u001B[39;49m\u001B[43m,\u001B[49m\u001B[43m \u001B[49m\u001B[43mcallback\u001B[49m\u001B[38;5;241;43m=\u001B[39;49m\u001B[43mcallback\u001B[49m\u001B[43m,\u001B[49m\u001B[43m \u001B[49m\u001B[38;5;241;43m*\u001B[39;49m\u001B[38;5;241;43m*\u001B[39;49m\u001B[43mkwargs\u001B[49m\u001B[43m)\u001B[49m\n\u001B[0;32m    251\u001B[0m         \u001B[38;5;28;01mfor\u001B[39;00m program \u001B[38;5;129;01min\u001B[39;00m in_programs\n\u001B[0;32m    252\u001B[0m     ]\n\u001B[0;32m    253\u001B[0m     \u001B[38;5;28;01mif\u001B[39;00m \u001B[38;5;28mlen\u001B[39m(in_programs) \u001B[38;5;241m==\u001B[39m \u001B[38;5;241m1\u001B[39m \u001B[38;5;129;01mand\u001B[39;00m \u001B[38;5;129;01mnot\u001B[39;00m is_list:\n",
      "File \u001B[1;32mC:\\Projects\\Crosstalk\\venv\\Lib\\site-packages\\qiskit\\passmanager\\passmanager.py:310\u001B[0m, in \u001B[0;36m_run_workflow\u001B[1;34m(program, pass_manager, **kwargs)\u001B[0m\n\u001B[0;32m    306\u001B[0m passmanager_ir \u001B[38;5;241m=\u001B[39m pass_manager\u001B[38;5;241m.\u001B[39m_passmanager_frontend(\n\u001B[0;32m    307\u001B[0m     input_program\u001B[38;5;241m=\u001B[39mprogram,\n\u001B[0;32m    308\u001B[0m     \u001B[38;5;241m*\u001B[39m\u001B[38;5;241m*\u001B[39mkwargs,\n\u001B[0;32m    309\u001B[0m )\n\u001B[1;32m--> 310\u001B[0m passmanager_ir, final_state \u001B[38;5;241m=\u001B[39m \u001B[43mflow_controller\u001B[49m\u001B[38;5;241;43m.\u001B[39;49m\u001B[43mexecute\u001B[49m\u001B[43m(\u001B[49m\n\u001B[0;32m    311\u001B[0m \u001B[43m    \u001B[49m\u001B[43mpassmanager_ir\u001B[49m\u001B[38;5;241;43m=\u001B[39;49m\u001B[43mpassmanager_ir\u001B[49m\u001B[43m,\u001B[49m\n\u001B[0;32m    312\u001B[0m \u001B[43m    \u001B[49m\u001B[43mstate\u001B[49m\u001B[38;5;241;43m=\u001B[39;49m\u001B[43mPassManagerState\u001B[49m\u001B[43m(\u001B[49m\n\u001B[0;32m    313\u001B[0m \u001B[43m        \u001B[49m\u001B[43mworkflow_status\u001B[49m\u001B[38;5;241;43m=\u001B[39;49m\u001B[43minitial_status\u001B[49m\u001B[43m,\u001B[49m\n\u001B[0;32m    314\u001B[0m \u001B[43m        \u001B[49m\u001B[43mproperty_set\u001B[49m\u001B[38;5;241;43m=\u001B[39;49m\u001B[43mPropertySet\u001B[49m\u001B[43m(\u001B[49m\u001B[43m)\u001B[49m\u001B[43m,\u001B[49m\n\u001B[0;32m    315\u001B[0m \u001B[43m    \u001B[49m\u001B[43m)\u001B[49m\u001B[43m,\u001B[49m\n\u001B[0;32m    316\u001B[0m \u001B[43m    \u001B[49m\u001B[43mcallback\u001B[49m\u001B[38;5;241;43m=\u001B[39;49m\u001B[43mkwargs\u001B[49m\u001B[38;5;241;43m.\u001B[39;49m\u001B[43mget\u001B[49m\u001B[43m(\u001B[49m\u001B[38;5;124;43m\"\u001B[39;49m\u001B[38;5;124;43mcallback\u001B[39;49m\u001B[38;5;124;43m\"\u001B[39;49m\u001B[43m,\u001B[49m\u001B[43m \u001B[49m\u001B[38;5;28;43;01mNone\u001B[39;49;00m\u001B[43m)\u001B[49m\u001B[43m,\u001B[49m\n\u001B[0;32m    317\u001B[0m \u001B[43m\u001B[49m\u001B[43m)\u001B[49m\n\u001B[0;32m    318\u001B[0m \u001B[38;5;66;03m# The `property_set` has historically been returned as a mutable attribute on `PassManager`\u001B[39;00m\n\u001B[0;32m    319\u001B[0m \u001B[38;5;66;03m# This makes us non-reentrant (though `PassManager` would be dependent on its internal tasks to\u001B[39;00m\n\u001B[0;32m    320\u001B[0m \u001B[38;5;66;03m# be re-entrant if that was required), but is consistent with previous interfaces.  We're still\u001B[39;00m\n\u001B[0;32m    321\u001B[0m \u001B[38;5;66;03m# safe to be called in a serial loop, again assuming internal tasks are re-runnable.  The\u001B[39;00m\n\u001B[0;32m    322\u001B[0m \u001B[38;5;66;03m# conversion to the backend language is also allowed to use the property set, so it must be set\u001B[39;00m\n\u001B[0;32m    323\u001B[0m \u001B[38;5;66;03m# before calling it.\u001B[39;00m\n",
      "File \u001B[1;32mC:\\Projects\\Crosstalk\\venv\\Lib\\site-packages\\qiskit\\passmanager\\base_tasks.py:218\u001B[0m, in \u001B[0;36mBaseController.execute\u001B[1;34m(self, passmanager_ir, state, callback)\u001B[0m\n\u001B[0;32m    217\u001B[0m \u001B[38;5;28;01mwhile\u001B[39;00m \u001B[38;5;28;01mTrue\u001B[39;00m:\n\u001B[1;32m--> 218\u001B[0m     passmanager_ir, state \u001B[38;5;241m=\u001B[39m \u001B[43mnext_task\u001B[49m\u001B[38;5;241;43m.\u001B[39;49m\u001B[43mexecute\u001B[49m\u001B[43m(\u001B[49m\n\u001B[0;32m    219\u001B[0m \u001B[43m        \u001B[49m\u001B[43mpassmanager_ir\u001B[49m\u001B[38;5;241;43m=\u001B[39;49m\u001B[43mpassmanager_ir\u001B[49m\u001B[43m,\u001B[49m\n\u001B[0;32m    220\u001B[0m \u001B[43m        \u001B[49m\u001B[43mstate\u001B[49m\u001B[38;5;241;43m=\u001B[39;49m\u001B[43mstate\u001B[49m\u001B[43m,\u001B[49m\n\u001B[0;32m    221\u001B[0m \u001B[43m        \u001B[49m\u001B[43mcallback\u001B[49m\u001B[38;5;241;43m=\u001B[39;49m\u001B[43mcallback\u001B[49m\u001B[43m,\u001B[49m\n\u001B[0;32m    222\u001B[0m \u001B[43m    \u001B[49m\u001B[43m)\u001B[49m\n\u001B[0;32m    223\u001B[0m     \u001B[38;5;28;01mtry\u001B[39;00m:\n\u001B[0;32m    224\u001B[0m         \u001B[38;5;66;03m# Sending the object through the generator implies the custom controllers\u001B[39;00m\n\u001B[0;32m    225\u001B[0m         \u001B[38;5;66;03m# can always rely on the latest data to choose the next task to run.\u001B[39;00m\n",
      "File \u001B[1;32mC:\\Projects\\Crosstalk\\venv\\Lib\\site-packages\\qiskit\\passmanager\\base_tasks.py:218\u001B[0m, in \u001B[0;36mBaseController.execute\u001B[1;34m(self, passmanager_ir, state, callback)\u001B[0m\n\u001B[0;32m    217\u001B[0m \u001B[38;5;28;01mwhile\u001B[39;00m \u001B[38;5;28;01mTrue\u001B[39;00m:\n\u001B[1;32m--> 218\u001B[0m     passmanager_ir, state \u001B[38;5;241m=\u001B[39m \u001B[43mnext_task\u001B[49m\u001B[38;5;241;43m.\u001B[39;49m\u001B[43mexecute\u001B[49m\u001B[43m(\u001B[49m\n\u001B[0;32m    219\u001B[0m \u001B[43m        \u001B[49m\u001B[43mpassmanager_ir\u001B[49m\u001B[38;5;241;43m=\u001B[39;49m\u001B[43mpassmanager_ir\u001B[49m\u001B[43m,\u001B[49m\n\u001B[0;32m    220\u001B[0m \u001B[43m        \u001B[49m\u001B[43mstate\u001B[49m\u001B[38;5;241;43m=\u001B[39;49m\u001B[43mstate\u001B[49m\u001B[43m,\u001B[49m\n\u001B[0;32m    221\u001B[0m \u001B[43m        \u001B[49m\u001B[43mcallback\u001B[49m\u001B[38;5;241;43m=\u001B[39;49m\u001B[43mcallback\u001B[49m\u001B[43m,\u001B[49m\n\u001B[0;32m    222\u001B[0m \u001B[43m    \u001B[49m\u001B[43m)\u001B[49m\n\u001B[0;32m    223\u001B[0m     \u001B[38;5;28;01mtry\u001B[39;00m:\n\u001B[0;32m    224\u001B[0m         \u001B[38;5;66;03m# Sending the object through the generator implies the custom controllers\u001B[39;00m\n\u001B[0;32m    225\u001B[0m         \u001B[38;5;66;03m# can always rely on the latest data to choose the next task to run.\u001B[39;00m\n",
      "File \u001B[1;32mC:\\Projects\\Crosstalk\\venv\\Lib\\site-packages\\qiskit\\passmanager\\base_tasks.py:98\u001B[0m, in \u001B[0;36mGenericPass.execute\u001B[1;34m(self, passmanager_ir, state, callback)\u001B[0m\n\u001B[0;32m     97\u001B[0m \u001B[38;5;28;01mif\u001B[39;00m \u001B[38;5;28mself\u001B[39m \u001B[38;5;129;01mnot\u001B[39;00m \u001B[38;5;129;01min\u001B[39;00m state\u001B[38;5;241m.\u001B[39mworkflow_status\u001B[38;5;241m.\u001B[39mcompleted_passes:\n\u001B[1;32m---> 98\u001B[0m     ret \u001B[38;5;241m=\u001B[39m \u001B[38;5;28;43mself\u001B[39;49m\u001B[38;5;241;43m.\u001B[39;49m\u001B[43mrun\u001B[49m\u001B[43m(\u001B[49m\u001B[43mpassmanager_ir\u001B[49m\u001B[43m)\u001B[49m\n\u001B[0;32m     99\u001B[0m     run_state \u001B[38;5;241m=\u001B[39m RunState\u001B[38;5;241m.\u001B[39mSUCCESS\n",
      "File \u001B[1;32mC:\\Projects\\Crosstalk\\venv\\Lib\\site-packages\\qiskit\\transpiler\\passes\\scheduling\\alignments\\reschedule.py:229\u001B[0m, in \u001B[0;36mConstrainedReschedule.run\u001B[1;34m(self, dag)\u001B[0m\n\u001B[0;32m    228\u001B[0m \u001B[38;5;28;01mif\u001B[39;00m \u001B[38;5;124m\"\u001B[39m\u001B[38;5;124mnode_start_time\u001B[39m\u001B[38;5;124m\"\u001B[39m \u001B[38;5;129;01mnot\u001B[39;00m \u001B[38;5;129;01min\u001B[39;00m \u001B[38;5;28mself\u001B[39m\u001B[38;5;241m.\u001B[39mproperty_set:\n\u001B[1;32m--> 229\u001B[0m     \u001B[38;5;28;01mraise\u001B[39;00m TranspilerError(\n\u001B[0;32m    230\u001B[0m         \u001B[38;5;124mf\u001B[39m\u001B[38;5;124m\"\u001B[39m\u001B[38;5;124mThe input circuit \u001B[39m\u001B[38;5;132;01m{\u001B[39;00mdag\u001B[38;5;241m.\u001B[39mname\u001B[38;5;132;01m}\u001B[39;00m\u001B[38;5;124m is not scheduled. Call one of scheduling passes \u001B[39m\u001B[38;5;124m\"\u001B[39m\n\u001B[0;32m    231\u001B[0m         \u001B[38;5;124mf\u001B[39m\u001B[38;5;124m\"\u001B[39m\u001B[38;5;124mbefore running the \u001B[39m\u001B[38;5;132;01m{\u001B[39;00m\u001B[38;5;28mself\u001B[39m\u001B[38;5;241m.\u001B[39m\u001B[38;5;18m__class__\u001B[39m\u001B[38;5;241m.\u001B[39m\u001B[38;5;18m__name__\u001B[39m\u001B[38;5;132;01m}\u001B[39;00m\u001B[38;5;124m pass.\u001B[39m\u001B[38;5;124m\"\u001B[39m\n\u001B[0;32m    232\u001B[0m     )\n\u001B[0;32m    234\u001B[0m node_start_time \u001B[38;5;241m=\u001B[39m \u001B[38;5;28mself\u001B[39m\u001B[38;5;241m.\u001B[39mproperty_set[\u001B[38;5;124m\"\u001B[39m\u001B[38;5;124mnode_start_time\u001B[39m\u001B[38;5;124m\"\u001B[39m]\n",
      "\u001B[1;31mTranspilerError\u001B[0m: 'The input circuit None is not scheduled. Call one of scheduling passes before running the ConstrainedReschedule pass.'",
      "\nThe above exception was the direct cause of the following exception:\n",
      "\u001B[1;31mTranspilerError\u001B[0m                           Traceback (most recent call last)",
      "Cell \u001B[1;32mIn[6], line 6\u001B[0m\n\u001B[0;32m      3\u001B[0m \u001B[38;5;28;01mfrom\u001B[39;00m\u001B[38;5;250m \u001B[39m\u001B[38;5;21;01mqiskit_ibm_runtime\u001B[39;00m\u001B[38;5;250m \u001B[39m\u001B[38;5;28;01mimport\u001B[39;00m Estimator\n\u001B[0;32m      5\u001B[0m \u001B[38;5;66;03m# Ensure the circuit is transpiled properly\u001B[39;00m\n\u001B[1;32m----> 6\u001B[0m transpiled_qc \u001B[38;5;241m=\u001B[39m \u001B[43mtranspile\u001B[49m\u001B[43m(\u001B[49m\u001B[43mqc\u001B[49m\u001B[43m,\u001B[49m\u001B[43m \u001B[49m\u001B[43mbackend\u001B[49m\u001B[38;5;241;43m=\u001B[39;49m\u001B[43mbackend\u001B[49m\u001B[43m)\u001B[49m\n\u001B[0;32m      8\u001B[0m \u001B[38;5;66;03m# Check supported operations\u001B[39;00m\n\u001B[0;32m      9\u001B[0m \u001B[38;5;28mprint\u001B[39m(\u001B[38;5;124m\"\u001B[39m\u001B[38;5;124mSupported operations:\u001B[39m\u001B[38;5;124m\"\u001B[39m, backend\u001B[38;5;241m.\u001B[39mtarget\u001B[38;5;241m.\u001B[39moperation_names)\n",
      "File \u001B[1;32mC:\\Projects\\Crosstalk\\venv\\Lib\\site-packages\\qiskit\\utils\\deprecation.py:184\u001B[0m, in \u001B[0;36mdeprecate_arg.<locals>.decorator.<locals>.wrapper\u001B[1;34m(*args, **kwargs)\u001B[0m\n\u001B[0;32m    171\u001B[0m \u001B[38;5;129m@functools\u001B[39m\u001B[38;5;241m.\u001B[39mwraps(func)\n\u001B[0;32m    172\u001B[0m \u001B[38;5;28;01mdef\u001B[39;00m\u001B[38;5;250m \u001B[39m\u001B[38;5;21mwrapper\u001B[39m(\u001B[38;5;241m*\u001B[39margs, \u001B[38;5;241m*\u001B[39m\u001B[38;5;241m*\u001B[39mkwargs):\n\u001B[0;32m    173\u001B[0m     _maybe_warn_and_rename_kwarg(\n\u001B[0;32m    174\u001B[0m         args,\n\u001B[0;32m    175\u001B[0m         kwargs,\n\u001B[1;32m   (...)\u001B[0m\n\u001B[0;32m    182\u001B[0m         predicate\u001B[38;5;241m=\u001B[39mpredicate,\n\u001B[0;32m    183\u001B[0m     )\n\u001B[1;32m--> 184\u001B[0m     \u001B[38;5;28;01mreturn\u001B[39;00m \u001B[43mfunc\u001B[49m\u001B[43m(\u001B[49m\u001B[38;5;241;43m*\u001B[39;49m\u001B[43margs\u001B[49m\u001B[43m,\u001B[49m\u001B[43m \u001B[49m\u001B[38;5;241;43m*\u001B[39;49m\u001B[38;5;241;43m*\u001B[39;49m\u001B[43mkwargs\u001B[49m\u001B[43m)\u001B[49m\n",
      "File \u001B[1;32mC:\\Projects\\Crosstalk\\venv\\Lib\\site-packages\\qiskit\\utils\\deprecation.py:184\u001B[0m, in \u001B[0;36mdeprecate_arg.<locals>.decorator.<locals>.wrapper\u001B[1;34m(*args, **kwargs)\u001B[0m\n\u001B[0;32m    171\u001B[0m \u001B[38;5;129m@functools\u001B[39m\u001B[38;5;241m.\u001B[39mwraps(func)\n\u001B[0;32m    172\u001B[0m \u001B[38;5;28;01mdef\u001B[39;00m\u001B[38;5;250m \u001B[39m\u001B[38;5;21mwrapper\u001B[39m(\u001B[38;5;241m*\u001B[39margs, \u001B[38;5;241m*\u001B[39m\u001B[38;5;241m*\u001B[39mkwargs):\n\u001B[0;32m    173\u001B[0m     _maybe_warn_and_rename_kwarg(\n\u001B[0;32m    174\u001B[0m         args,\n\u001B[0;32m    175\u001B[0m         kwargs,\n\u001B[1;32m   (...)\u001B[0m\n\u001B[0;32m    182\u001B[0m         predicate\u001B[38;5;241m=\u001B[39mpredicate,\n\u001B[0;32m    183\u001B[0m     )\n\u001B[1;32m--> 184\u001B[0m     \u001B[38;5;28;01mreturn\u001B[39;00m \u001B[43mfunc\u001B[49m\u001B[43m(\u001B[49m\u001B[38;5;241;43m*\u001B[39;49m\u001B[43margs\u001B[49m\u001B[43m,\u001B[49m\u001B[43m \u001B[49m\u001B[38;5;241;43m*\u001B[39;49m\u001B[38;5;241;43m*\u001B[39;49m\u001B[43mkwargs\u001B[49m\u001B[43m)\u001B[49m\n",
      "    \u001B[1;31m[... skipping similar frames: deprecate_arg.<locals>.decorator.<locals>.wrapper at line 184 (1 times)]\u001B[0m\n",
      "File \u001B[1;32mC:\\Projects\\Crosstalk\\venv\\Lib\\site-packages\\qiskit\\utils\\deprecation.py:184\u001B[0m, in \u001B[0;36mdeprecate_arg.<locals>.decorator.<locals>.wrapper\u001B[1;34m(*args, **kwargs)\u001B[0m\n\u001B[0;32m    171\u001B[0m \u001B[38;5;129m@functools\u001B[39m\u001B[38;5;241m.\u001B[39mwraps(func)\n\u001B[0;32m    172\u001B[0m \u001B[38;5;28;01mdef\u001B[39;00m\u001B[38;5;250m \u001B[39m\u001B[38;5;21mwrapper\u001B[39m(\u001B[38;5;241m*\u001B[39margs, \u001B[38;5;241m*\u001B[39m\u001B[38;5;241m*\u001B[39mkwargs):\n\u001B[0;32m    173\u001B[0m     _maybe_warn_and_rename_kwarg(\n\u001B[0;32m    174\u001B[0m         args,\n\u001B[0;32m    175\u001B[0m         kwargs,\n\u001B[1;32m   (...)\u001B[0m\n\u001B[0;32m    182\u001B[0m         predicate\u001B[38;5;241m=\u001B[39mpredicate,\n\u001B[0;32m    183\u001B[0m     )\n\u001B[1;32m--> 184\u001B[0m     \u001B[38;5;28;01mreturn\u001B[39;00m \u001B[43mfunc\u001B[49m\u001B[43m(\u001B[49m\u001B[38;5;241;43m*\u001B[39;49m\u001B[43margs\u001B[49m\u001B[43m,\u001B[49m\u001B[43m \u001B[49m\u001B[38;5;241;43m*\u001B[39;49m\u001B[38;5;241;43m*\u001B[39;49m\u001B[43mkwargs\u001B[49m\u001B[43m)\u001B[49m\n",
      "File \u001B[1;32mC:\\Projects\\Crosstalk\\venv\\Lib\\site-packages\\qiskit\\compiler\\transpiler.py:449\u001B[0m, in \u001B[0;36mtranspile\u001B[1;34m(circuits, backend, basis_gates, inst_map, coupling_map, backend_properties, initial_layout, layout_method, routing_method, translation_method, scheduling_method, instruction_durations, dt, approximation_degree, timing_constraints, seed_transpiler, optimization_level, callback, output_name, unitary_synthesis_method, unitary_synthesis_plugin_config, target, hls_config, init_method, optimization_method, ignore_backend_supplied_default_methods, num_processes, qubits_initially_zero)\u001B[0m\n\u001B[0;32m    417\u001B[0m     warnings\u001B[38;5;241m.\u001B[39mfilterwarnings(\n\u001B[0;32m    418\u001B[0m         \u001B[38;5;124m\"\u001B[39m\u001B[38;5;124mignore\u001B[39m\u001B[38;5;124m\"\u001B[39m,\n\u001B[0;32m    419\u001B[0m         category\u001B[38;5;241m=\u001B[39m\u001B[38;5;167;01mDeprecationWarning\u001B[39;00m,\n\u001B[0;32m    420\u001B[0m         message\u001B[38;5;241m=\u001B[39m\u001B[38;5;124m\"\u001B[39m\u001B[38;5;124m.*``backend_properties`` is deprecated as of Qiskit 1.3.*\u001B[39m\u001B[38;5;124m\"\u001B[39m,\n\u001B[0;32m    421\u001B[0m         module\u001B[38;5;241m=\u001B[39m\u001B[38;5;124m\"\u001B[39m\u001B[38;5;124mqiskit\u001B[39m\u001B[38;5;124m\"\u001B[39m,\n\u001B[0;32m    422\u001B[0m     )\n\u001B[0;32m    423\u001B[0m     pm \u001B[38;5;241m=\u001B[39m generate_preset_pass_manager(\n\u001B[0;32m    424\u001B[0m         optimization_level,\n\u001B[0;32m    425\u001B[0m         target\u001B[38;5;241m=\u001B[39mtarget,\n\u001B[1;32m   (...)\u001B[0m\n\u001B[0;32m    446\u001B[0m         qubits_initially_zero\u001B[38;5;241m=\u001B[39mqubits_initially_zero,\n\u001B[0;32m    447\u001B[0m     )\n\u001B[1;32m--> 449\u001B[0m out_circuits \u001B[38;5;241m=\u001B[39m \u001B[43mpm\u001B[49m\u001B[38;5;241;43m.\u001B[39;49m\u001B[43mrun\u001B[49m\u001B[43m(\u001B[49m\u001B[43mcircuits\u001B[49m\u001B[43m,\u001B[49m\u001B[43m \u001B[49m\u001B[43mcallback\u001B[49m\u001B[38;5;241;43m=\u001B[39;49m\u001B[43mcallback\u001B[49m\u001B[43m,\u001B[49m\u001B[43m \u001B[49m\u001B[43mnum_processes\u001B[49m\u001B[38;5;241;43m=\u001B[39;49m\u001B[43mnum_processes\u001B[49m\u001B[43m)\u001B[49m\n\u001B[0;32m    451\u001B[0m \u001B[38;5;28;01mfor\u001B[39;00m name, circ \u001B[38;5;129;01min\u001B[39;00m \u001B[38;5;28mzip\u001B[39m(output_name, out_circuits):\n\u001B[0;32m    452\u001B[0m     circ\u001B[38;5;241m.\u001B[39mname \u001B[38;5;241m=\u001B[39m name\n",
      "File \u001B[1;32mC:\\Projects\\Crosstalk\\venv\\Lib\\site-packages\\qiskit\\transpiler\\passmanager.py:441\u001B[0m, in \u001B[0;36mStagedPassManager.run\u001B[1;34m(self, circuits, output_name, callback, num_processes)\u001B[0m\n\u001B[0;32m    433\u001B[0m \u001B[38;5;28;01mdef\u001B[39;00m\u001B[38;5;250m \u001B[39m\u001B[38;5;21mrun\u001B[39m(\n\u001B[0;32m    434\u001B[0m     \u001B[38;5;28mself\u001B[39m,\n\u001B[0;32m    435\u001B[0m     circuits: _CircuitsT,\n\u001B[1;32m   (...)\u001B[0m\n\u001B[0;32m    438\u001B[0m     num_processes: \u001B[38;5;28mint\u001B[39m \u001B[38;5;241m=\u001B[39m \u001B[38;5;28;01mNone\u001B[39;00m,\n\u001B[0;32m    439\u001B[0m ) \u001B[38;5;241m-\u001B[39m\u001B[38;5;241m>\u001B[39m _CircuitsT:\n\u001B[0;32m    440\u001B[0m     \u001B[38;5;28mself\u001B[39m\u001B[38;5;241m.\u001B[39m_update_passmanager()\n\u001B[1;32m--> 441\u001B[0m     \u001B[38;5;28;01mreturn\u001B[39;00m \u001B[38;5;28;43msuper\u001B[39;49m\u001B[43m(\u001B[49m\u001B[43m)\u001B[49m\u001B[38;5;241;43m.\u001B[39;49m\u001B[43mrun\u001B[49m\u001B[43m(\u001B[49m\u001B[43mcircuits\u001B[49m\u001B[43m,\u001B[49m\u001B[43m \u001B[49m\u001B[43moutput_name\u001B[49m\u001B[43m,\u001B[49m\u001B[43m \u001B[49m\u001B[43mcallback\u001B[49m\u001B[43m,\u001B[49m\u001B[43m \u001B[49m\u001B[43mnum_processes\u001B[49m\u001B[38;5;241;43m=\u001B[39;49m\u001B[43mnum_processes\u001B[49m\u001B[43m)\u001B[49m\n",
      "File \u001B[1;32mC:\\Projects\\Crosstalk\\venv\\Lib\\site-packages\\qiskit\\transpiler\\passmanager.py:466\u001B[0m, in \u001B[0;36m_replace_error.<locals>.wrapper\u001B[1;34m(*meth_args, **meth_kwargs)\u001B[0m\n\u001B[0;32m    464\u001B[0m     \u001B[38;5;28;01mreturn\u001B[39;00m meth(\u001B[38;5;241m*\u001B[39mmeth_args, \u001B[38;5;241m*\u001B[39m\u001B[38;5;241m*\u001B[39mmeth_kwargs)\n\u001B[0;32m    465\u001B[0m \u001B[38;5;28;01mexcept\u001B[39;00m PassManagerError \u001B[38;5;28;01mas\u001B[39;00m ex:\n\u001B[1;32m--> 466\u001B[0m     \u001B[38;5;28;01mraise\u001B[39;00m TranspilerError(ex\u001B[38;5;241m.\u001B[39mmessage) \u001B[38;5;28;01mfrom\u001B[39;00m\u001B[38;5;250m \u001B[39m\u001B[38;5;21;01mex\u001B[39;00m\n",
      "\u001B[1;31mTranspilerError\u001B[0m: 'The input circuit None is not scheduled. Call one of scheduling passes before running the ConstrainedReschedule pass.'"
     ]
    }
   ],
   "execution_count": 6
  },
  {
   "metadata": {
    "ExecuteTime": {
     "end_time": "2025-02-26T14:11:15.243364Z",
     "start_time": "2025-02-26T14:11:15.080874Z"
    }
   },
   "cell_type": "code",
   "source": [
    "\n",
    "# 1. Build the quantum circuit with a Hadamard and a delay\n",
    "qc = QuantumCircuit(1, 1)        # 1 qubit, 1 classical bit\n",
    "qc.h(0)                          # Apply Hadamard on qubit 0\n",
    "qc.delay(100, 0, unit=\"dt\")      # Insert a delay of 100 dt on qubit 0\n",
    "qc.measure(0, 0)                 # Measure qubit 0\n",
    "\n",
    "print(\"Original circuit:\")\n",
    "print(qc)\n",
    "\n",
    "# 2. Transpile the circuit to the backend’s native gate set\n",
    "qc_transpiled = transpile(qc, backend=backend)\n",
    "print(\"\\nTranspiled circuit:\")\n",
    "print(qc_transpiled)\n",
    "\n",
    "# 3. Execute the transpiled circuit on the backend\n",
    "job = backend.run(qc_transpiled, shots=1024)\n",
    "result = job.result()\n",
    "print(\"\\nMeasurement counts:\", result.get_counts())"
   ],
   "outputs": [
    {
     "name": "stdout",
     "output_type": "stream",
     "text": [
      "Original circuit:\n",
      "     ┌───┐┌────────────────┐┌─┐\n",
      "  q: ┤ H ├┤ Delay(100[dt]) ├┤M├\n",
      "     └───┘└────────────────┘└╥┘\n",
      "c: 1/════════════════════════╩═\n",
      "                             0 \n"
     ]
    },
    {
     "ename": "TranspilerError",
     "evalue": "'The input circuit None is not scheduled. Call one of scheduling passes before running the ConstrainedReschedule pass.'",
     "output_type": "error",
     "traceback": [
      "\u001B[1;31m---------------------------------------------------------------------------\u001B[0m",
      "\u001B[1;31mTranspilerError\u001B[0m                           Traceback (most recent call last)",
      "File \u001B[1;32mC:\\Projects\\Crosstalk\\venv\\Lib\\site-packages\\qiskit\\transpiler\\passmanager.py:464\u001B[0m, in \u001B[0;36m_replace_error.<locals>.wrapper\u001B[1;34m(*meth_args, **meth_kwargs)\u001B[0m\n\u001B[0;32m    463\u001B[0m \u001B[38;5;28;01mtry\u001B[39;00m:\n\u001B[1;32m--> 464\u001B[0m     \u001B[38;5;28;01mreturn\u001B[39;00m \u001B[43mmeth\u001B[49m\u001B[43m(\u001B[49m\u001B[38;5;241;43m*\u001B[39;49m\u001B[43mmeth_args\u001B[49m\u001B[43m,\u001B[49m\u001B[43m \u001B[49m\u001B[38;5;241;43m*\u001B[39;49m\u001B[38;5;241;43m*\u001B[39;49m\u001B[43mmeth_kwargs\u001B[49m\u001B[43m)\u001B[49m\n\u001B[0;32m    465\u001B[0m \u001B[38;5;28;01mexcept\u001B[39;00m PassManagerError \u001B[38;5;28;01mas\u001B[39;00m ex:\n",
      "File \u001B[1;32mC:\\Projects\\Crosstalk\\venv\\Lib\\site-packages\\qiskit\\transpiler\\passmanager.py:226\u001B[0m, in \u001B[0;36mPassManager.run\u001B[1;34m(self, circuits, output_name, callback, num_processes)\u001B[0m\n\u001B[0;32m    224\u001B[0m     callback \u001B[38;5;241m=\u001B[39m _legacy_style_callback(callback)\n\u001B[1;32m--> 226\u001B[0m \u001B[38;5;28;01mreturn\u001B[39;00m \u001B[38;5;28;43msuper\u001B[39;49m\u001B[43m(\u001B[49m\u001B[43m)\u001B[49m\u001B[38;5;241;43m.\u001B[39;49m\u001B[43mrun\u001B[49m\u001B[43m(\u001B[49m\n\u001B[0;32m    227\u001B[0m \u001B[43m    \u001B[49m\u001B[43min_programs\u001B[49m\u001B[38;5;241;43m=\u001B[39;49m\u001B[43mcircuits\u001B[49m\u001B[43m,\u001B[49m\n\u001B[0;32m    228\u001B[0m \u001B[43m    \u001B[49m\u001B[43mcallback\u001B[49m\u001B[38;5;241;43m=\u001B[39;49m\u001B[43mcallback\u001B[49m\u001B[43m,\u001B[49m\n\u001B[0;32m    229\u001B[0m \u001B[43m    \u001B[49m\u001B[43moutput_name\u001B[49m\u001B[38;5;241;43m=\u001B[39;49m\u001B[43moutput_name\u001B[49m\u001B[43m,\u001B[49m\n\u001B[0;32m    230\u001B[0m \u001B[43m    \u001B[49m\u001B[43mnum_processes\u001B[49m\u001B[38;5;241;43m=\u001B[39;49m\u001B[43mnum_processes\u001B[49m\u001B[43m,\u001B[49m\n\u001B[0;32m    231\u001B[0m \u001B[43m\u001B[49m\u001B[43m)\u001B[49m\n",
      "File \u001B[1;32mC:\\Projects\\Crosstalk\\venv\\Lib\\site-packages\\qiskit\\passmanager\\passmanager.py:250\u001B[0m, in \u001B[0;36mBasePassManager.run\u001B[1;34m(self, in_programs, callback, num_processes, property_set, **kwargs)\u001B[0m\n\u001B[0;32m    248\u001B[0m \u001B[38;5;28;01mif\u001B[39;00m \u001B[38;5;28mlen\u001B[39m(in_programs) \u001B[38;5;241m==\u001B[39m \u001B[38;5;241m1\u001B[39m \u001B[38;5;129;01mor\u001B[39;00m \u001B[38;5;129;01mnot\u001B[39;00m should_run_in_parallel(num_processes):\n\u001B[0;32m    249\u001B[0m     out \u001B[38;5;241m=\u001B[39m [\n\u001B[1;32m--> 250\u001B[0m         \u001B[43m_run_workflow\u001B[49m\u001B[43m(\u001B[49m\u001B[43mprogram\u001B[49m\u001B[38;5;241;43m=\u001B[39;49m\u001B[43mprogram\u001B[49m\u001B[43m,\u001B[49m\u001B[43m \u001B[49m\u001B[43mpass_manager\u001B[49m\u001B[38;5;241;43m=\u001B[39;49m\u001B[38;5;28;43mself\u001B[39;49m\u001B[43m,\u001B[49m\u001B[43m \u001B[49m\u001B[43mcallback\u001B[49m\u001B[38;5;241;43m=\u001B[39;49m\u001B[43mcallback\u001B[49m\u001B[43m,\u001B[49m\u001B[43m \u001B[49m\u001B[38;5;241;43m*\u001B[39;49m\u001B[38;5;241;43m*\u001B[39;49m\u001B[43mkwargs\u001B[49m\u001B[43m)\u001B[49m\n\u001B[0;32m    251\u001B[0m         \u001B[38;5;28;01mfor\u001B[39;00m program \u001B[38;5;129;01min\u001B[39;00m in_programs\n\u001B[0;32m    252\u001B[0m     ]\n\u001B[0;32m    253\u001B[0m     \u001B[38;5;28;01mif\u001B[39;00m \u001B[38;5;28mlen\u001B[39m(in_programs) \u001B[38;5;241m==\u001B[39m \u001B[38;5;241m1\u001B[39m \u001B[38;5;129;01mand\u001B[39;00m \u001B[38;5;129;01mnot\u001B[39;00m is_list:\n",
      "File \u001B[1;32mC:\\Projects\\Crosstalk\\venv\\Lib\\site-packages\\qiskit\\passmanager\\passmanager.py:310\u001B[0m, in \u001B[0;36m_run_workflow\u001B[1;34m(program, pass_manager, **kwargs)\u001B[0m\n\u001B[0;32m    306\u001B[0m passmanager_ir \u001B[38;5;241m=\u001B[39m pass_manager\u001B[38;5;241m.\u001B[39m_passmanager_frontend(\n\u001B[0;32m    307\u001B[0m     input_program\u001B[38;5;241m=\u001B[39mprogram,\n\u001B[0;32m    308\u001B[0m     \u001B[38;5;241m*\u001B[39m\u001B[38;5;241m*\u001B[39mkwargs,\n\u001B[0;32m    309\u001B[0m )\n\u001B[1;32m--> 310\u001B[0m passmanager_ir, final_state \u001B[38;5;241m=\u001B[39m \u001B[43mflow_controller\u001B[49m\u001B[38;5;241;43m.\u001B[39;49m\u001B[43mexecute\u001B[49m\u001B[43m(\u001B[49m\n\u001B[0;32m    311\u001B[0m \u001B[43m    \u001B[49m\u001B[43mpassmanager_ir\u001B[49m\u001B[38;5;241;43m=\u001B[39;49m\u001B[43mpassmanager_ir\u001B[49m\u001B[43m,\u001B[49m\n\u001B[0;32m    312\u001B[0m \u001B[43m    \u001B[49m\u001B[43mstate\u001B[49m\u001B[38;5;241;43m=\u001B[39;49m\u001B[43mPassManagerState\u001B[49m\u001B[43m(\u001B[49m\n\u001B[0;32m    313\u001B[0m \u001B[43m        \u001B[49m\u001B[43mworkflow_status\u001B[49m\u001B[38;5;241;43m=\u001B[39;49m\u001B[43minitial_status\u001B[49m\u001B[43m,\u001B[49m\n\u001B[0;32m    314\u001B[0m \u001B[43m        \u001B[49m\u001B[43mproperty_set\u001B[49m\u001B[38;5;241;43m=\u001B[39;49m\u001B[43mPropertySet\u001B[49m\u001B[43m(\u001B[49m\u001B[43m)\u001B[49m\u001B[43m,\u001B[49m\n\u001B[0;32m    315\u001B[0m \u001B[43m    \u001B[49m\u001B[43m)\u001B[49m\u001B[43m,\u001B[49m\n\u001B[0;32m    316\u001B[0m \u001B[43m    \u001B[49m\u001B[43mcallback\u001B[49m\u001B[38;5;241;43m=\u001B[39;49m\u001B[43mkwargs\u001B[49m\u001B[38;5;241;43m.\u001B[39;49m\u001B[43mget\u001B[49m\u001B[43m(\u001B[49m\u001B[38;5;124;43m\"\u001B[39;49m\u001B[38;5;124;43mcallback\u001B[39;49m\u001B[38;5;124;43m\"\u001B[39;49m\u001B[43m,\u001B[49m\u001B[43m \u001B[49m\u001B[38;5;28;43;01mNone\u001B[39;49;00m\u001B[43m)\u001B[49m\u001B[43m,\u001B[49m\n\u001B[0;32m    317\u001B[0m \u001B[43m\u001B[49m\u001B[43m)\u001B[49m\n\u001B[0;32m    318\u001B[0m \u001B[38;5;66;03m# The `property_set` has historically been returned as a mutable attribute on `PassManager`\u001B[39;00m\n\u001B[0;32m    319\u001B[0m \u001B[38;5;66;03m# This makes us non-reentrant (though `PassManager` would be dependent on its internal tasks to\u001B[39;00m\n\u001B[0;32m    320\u001B[0m \u001B[38;5;66;03m# be re-entrant if that was required), but is consistent with previous interfaces.  We're still\u001B[39;00m\n\u001B[0;32m    321\u001B[0m \u001B[38;5;66;03m# safe to be called in a serial loop, again assuming internal tasks are re-runnable.  The\u001B[39;00m\n\u001B[0;32m    322\u001B[0m \u001B[38;5;66;03m# conversion to the backend language is also allowed to use the property set, so it must be set\u001B[39;00m\n\u001B[0;32m    323\u001B[0m \u001B[38;5;66;03m# before calling it.\u001B[39;00m\n",
      "File \u001B[1;32mC:\\Projects\\Crosstalk\\venv\\Lib\\site-packages\\qiskit\\passmanager\\base_tasks.py:218\u001B[0m, in \u001B[0;36mBaseController.execute\u001B[1;34m(self, passmanager_ir, state, callback)\u001B[0m\n\u001B[0;32m    217\u001B[0m \u001B[38;5;28;01mwhile\u001B[39;00m \u001B[38;5;28;01mTrue\u001B[39;00m:\n\u001B[1;32m--> 218\u001B[0m     passmanager_ir, state \u001B[38;5;241m=\u001B[39m \u001B[43mnext_task\u001B[49m\u001B[38;5;241;43m.\u001B[39;49m\u001B[43mexecute\u001B[49m\u001B[43m(\u001B[49m\n\u001B[0;32m    219\u001B[0m \u001B[43m        \u001B[49m\u001B[43mpassmanager_ir\u001B[49m\u001B[38;5;241;43m=\u001B[39;49m\u001B[43mpassmanager_ir\u001B[49m\u001B[43m,\u001B[49m\n\u001B[0;32m    220\u001B[0m \u001B[43m        \u001B[49m\u001B[43mstate\u001B[49m\u001B[38;5;241;43m=\u001B[39;49m\u001B[43mstate\u001B[49m\u001B[43m,\u001B[49m\n\u001B[0;32m    221\u001B[0m \u001B[43m        \u001B[49m\u001B[43mcallback\u001B[49m\u001B[38;5;241;43m=\u001B[39;49m\u001B[43mcallback\u001B[49m\u001B[43m,\u001B[49m\n\u001B[0;32m    222\u001B[0m \u001B[43m    \u001B[49m\u001B[43m)\u001B[49m\n\u001B[0;32m    223\u001B[0m     \u001B[38;5;28;01mtry\u001B[39;00m:\n\u001B[0;32m    224\u001B[0m         \u001B[38;5;66;03m# Sending the object through the generator implies the custom controllers\u001B[39;00m\n\u001B[0;32m    225\u001B[0m         \u001B[38;5;66;03m# can always rely on the latest data to choose the next task to run.\u001B[39;00m\n",
      "File \u001B[1;32mC:\\Projects\\Crosstalk\\venv\\Lib\\site-packages\\qiskit\\passmanager\\base_tasks.py:218\u001B[0m, in \u001B[0;36mBaseController.execute\u001B[1;34m(self, passmanager_ir, state, callback)\u001B[0m\n\u001B[0;32m    217\u001B[0m \u001B[38;5;28;01mwhile\u001B[39;00m \u001B[38;5;28;01mTrue\u001B[39;00m:\n\u001B[1;32m--> 218\u001B[0m     passmanager_ir, state \u001B[38;5;241m=\u001B[39m \u001B[43mnext_task\u001B[49m\u001B[38;5;241;43m.\u001B[39;49m\u001B[43mexecute\u001B[49m\u001B[43m(\u001B[49m\n\u001B[0;32m    219\u001B[0m \u001B[43m        \u001B[49m\u001B[43mpassmanager_ir\u001B[49m\u001B[38;5;241;43m=\u001B[39;49m\u001B[43mpassmanager_ir\u001B[49m\u001B[43m,\u001B[49m\n\u001B[0;32m    220\u001B[0m \u001B[43m        \u001B[49m\u001B[43mstate\u001B[49m\u001B[38;5;241;43m=\u001B[39;49m\u001B[43mstate\u001B[49m\u001B[43m,\u001B[49m\n\u001B[0;32m    221\u001B[0m \u001B[43m        \u001B[49m\u001B[43mcallback\u001B[49m\u001B[38;5;241;43m=\u001B[39;49m\u001B[43mcallback\u001B[49m\u001B[43m,\u001B[49m\n\u001B[0;32m    222\u001B[0m \u001B[43m    \u001B[49m\u001B[43m)\u001B[49m\n\u001B[0;32m    223\u001B[0m     \u001B[38;5;28;01mtry\u001B[39;00m:\n\u001B[0;32m    224\u001B[0m         \u001B[38;5;66;03m# Sending the object through the generator implies the custom controllers\u001B[39;00m\n\u001B[0;32m    225\u001B[0m         \u001B[38;5;66;03m# can always rely on the latest data to choose the next task to run.\u001B[39;00m\n",
      "File \u001B[1;32mC:\\Projects\\Crosstalk\\venv\\Lib\\site-packages\\qiskit\\passmanager\\base_tasks.py:98\u001B[0m, in \u001B[0;36mGenericPass.execute\u001B[1;34m(self, passmanager_ir, state, callback)\u001B[0m\n\u001B[0;32m     97\u001B[0m \u001B[38;5;28;01mif\u001B[39;00m \u001B[38;5;28mself\u001B[39m \u001B[38;5;129;01mnot\u001B[39;00m \u001B[38;5;129;01min\u001B[39;00m state\u001B[38;5;241m.\u001B[39mworkflow_status\u001B[38;5;241m.\u001B[39mcompleted_passes:\n\u001B[1;32m---> 98\u001B[0m     ret \u001B[38;5;241m=\u001B[39m \u001B[38;5;28;43mself\u001B[39;49m\u001B[38;5;241;43m.\u001B[39;49m\u001B[43mrun\u001B[49m\u001B[43m(\u001B[49m\u001B[43mpassmanager_ir\u001B[49m\u001B[43m)\u001B[49m\n\u001B[0;32m     99\u001B[0m     run_state \u001B[38;5;241m=\u001B[39m RunState\u001B[38;5;241m.\u001B[39mSUCCESS\n",
      "File \u001B[1;32mC:\\Projects\\Crosstalk\\venv\\Lib\\site-packages\\qiskit\\transpiler\\passes\\scheduling\\alignments\\reschedule.py:229\u001B[0m, in \u001B[0;36mConstrainedReschedule.run\u001B[1;34m(self, dag)\u001B[0m\n\u001B[0;32m    228\u001B[0m \u001B[38;5;28;01mif\u001B[39;00m \u001B[38;5;124m\"\u001B[39m\u001B[38;5;124mnode_start_time\u001B[39m\u001B[38;5;124m\"\u001B[39m \u001B[38;5;129;01mnot\u001B[39;00m \u001B[38;5;129;01min\u001B[39;00m \u001B[38;5;28mself\u001B[39m\u001B[38;5;241m.\u001B[39mproperty_set:\n\u001B[1;32m--> 229\u001B[0m     \u001B[38;5;28;01mraise\u001B[39;00m TranspilerError(\n\u001B[0;32m    230\u001B[0m         \u001B[38;5;124mf\u001B[39m\u001B[38;5;124m\"\u001B[39m\u001B[38;5;124mThe input circuit \u001B[39m\u001B[38;5;132;01m{\u001B[39;00mdag\u001B[38;5;241m.\u001B[39mname\u001B[38;5;132;01m}\u001B[39;00m\u001B[38;5;124m is not scheduled. Call one of scheduling passes \u001B[39m\u001B[38;5;124m\"\u001B[39m\n\u001B[0;32m    231\u001B[0m         \u001B[38;5;124mf\u001B[39m\u001B[38;5;124m\"\u001B[39m\u001B[38;5;124mbefore running the \u001B[39m\u001B[38;5;132;01m{\u001B[39;00m\u001B[38;5;28mself\u001B[39m\u001B[38;5;241m.\u001B[39m\u001B[38;5;18m__class__\u001B[39m\u001B[38;5;241m.\u001B[39m\u001B[38;5;18m__name__\u001B[39m\u001B[38;5;132;01m}\u001B[39;00m\u001B[38;5;124m pass.\u001B[39m\u001B[38;5;124m\"\u001B[39m\n\u001B[0;32m    232\u001B[0m     )\n\u001B[0;32m    234\u001B[0m node_start_time \u001B[38;5;241m=\u001B[39m \u001B[38;5;28mself\u001B[39m\u001B[38;5;241m.\u001B[39mproperty_set[\u001B[38;5;124m\"\u001B[39m\u001B[38;5;124mnode_start_time\u001B[39m\u001B[38;5;124m\"\u001B[39m]\n",
      "\u001B[1;31mTranspilerError\u001B[0m: 'The input circuit None is not scheduled. Call one of scheduling passes before running the ConstrainedReschedule pass.'",
      "\nThe above exception was the direct cause of the following exception:\n",
      "\u001B[1;31mTranspilerError\u001B[0m                           Traceback (most recent call last)",
      "Cell \u001B[1;32mIn[7], line 11\u001B[0m\n\u001B[0;32m      8\u001B[0m \u001B[38;5;28mprint\u001B[39m(qc)\n\u001B[0;32m     10\u001B[0m \u001B[38;5;66;03m# 2. Transpile the circuit to the backend’s native gate set\u001B[39;00m\n\u001B[1;32m---> 11\u001B[0m qc_transpiled \u001B[38;5;241m=\u001B[39m \u001B[43mtranspile\u001B[49m\u001B[43m(\u001B[49m\u001B[43mqc\u001B[49m\u001B[43m,\u001B[49m\u001B[43m \u001B[49m\u001B[43mbackend\u001B[49m\u001B[38;5;241;43m=\u001B[39;49m\u001B[43mbackend\u001B[49m\u001B[43m)\u001B[49m\n\u001B[0;32m     12\u001B[0m \u001B[38;5;28mprint\u001B[39m(\u001B[38;5;124m\"\u001B[39m\u001B[38;5;130;01m\\n\u001B[39;00m\u001B[38;5;124mTranspiled circuit:\u001B[39m\u001B[38;5;124m\"\u001B[39m)\n\u001B[0;32m     13\u001B[0m \u001B[38;5;28mprint\u001B[39m(qc_transpiled)\n",
      "File \u001B[1;32mC:\\Projects\\Crosstalk\\venv\\Lib\\site-packages\\qiskit\\utils\\deprecation.py:184\u001B[0m, in \u001B[0;36mdeprecate_arg.<locals>.decorator.<locals>.wrapper\u001B[1;34m(*args, **kwargs)\u001B[0m\n\u001B[0;32m    171\u001B[0m \u001B[38;5;129m@functools\u001B[39m\u001B[38;5;241m.\u001B[39mwraps(func)\n\u001B[0;32m    172\u001B[0m \u001B[38;5;28;01mdef\u001B[39;00m\u001B[38;5;250m \u001B[39m\u001B[38;5;21mwrapper\u001B[39m(\u001B[38;5;241m*\u001B[39margs, \u001B[38;5;241m*\u001B[39m\u001B[38;5;241m*\u001B[39mkwargs):\n\u001B[0;32m    173\u001B[0m     _maybe_warn_and_rename_kwarg(\n\u001B[0;32m    174\u001B[0m         args,\n\u001B[0;32m    175\u001B[0m         kwargs,\n\u001B[1;32m   (...)\u001B[0m\n\u001B[0;32m    182\u001B[0m         predicate\u001B[38;5;241m=\u001B[39mpredicate,\n\u001B[0;32m    183\u001B[0m     )\n\u001B[1;32m--> 184\u001B[0m     \u001B[38;5;28;01mreturn\u001B[39;00m \u001B[43mfunc\u001B[49m\u001B[43m(\u001B[49m\u001B[38;5;241;43m*\u001B[39;49m\u001B[43margs\u001B[49m\u001B[43m,\u001B[49m\u001B[43m \u001B[49m\u001B[38;5;241;43m*\u001B[39;49m\u001B[38;5;241;43m*\u001B[39;49m\u001B[43mkwargs\u001B[49m\u001B[43m)\u001B[49m\n",
      "File \u001B[1;32mC:\\Projects\\Crosstalk\\venv\\Lib\\site-packages\\qiskit\\utils\\deprecation.py:184\u001B[0m, in \u001B[0;36mdeprecate_arg.<locals>.decorator.<locals>.wrapper\u001B[1;34m(*args, **kwargs)\u001B[0m\n\u001B[0;32m    171\u001B[0m \u001B[38;5;129m@functools\u001B[39m\u001B[38;5;241m.\u001B[39mwraps(func)\n\u001B[0;32m    172\u001B[0m \u001B[38;5;28;01mdef\u001B[39;00m\u001B[38;5;250m \u001B[39m\u001B[38;5;21mwrapper\u001B[39m(\u001B[38;5;241m*\u001B[39margs, \u001B[38;5;241m*\u001B[39m\u001B[38;5;241m*\u001B[39mkwargs):\n\u001B[0;32m    173\u001B[0m     _maybe_warn_and_rename_kwarg(\n\u001B[0;32m    174\u001B[0m         args,\n\u001B[0;32m    175\u001B[0m         kwargs,\n\u001B[1;32m   (...)\u001B[0m\n\u001B[0;32m    182\u001B[0m         predicate\u001B[38;5;241m=\u001B[39mpredicate,\n\u001B[0;32m    183\u001B[0m     )\n\u001B[1;32m--> 184\u001B[0m     \u001B[38;5;28;01mreturn\u001B[39;00m \u001B[43mfunc\u001B[49m\u001B[43m(\u001B[49m\u001B[38;5;241;43m*\u001B[39;49m\u001B[43margs\u001B[49m\u001B[43m,\u001B[49m\u001B[43m \u001B[49m\u001B[38;5;241;43m*\u001B[39;49m\u001B[38;5;241;43m*\u001B[39;49m\u001B[43mkwargs\u001B[49m\u001B[43m)\u001B[49m\n",
      "    \u001B[1;31m[... skipping similar frames: deprecate_arg.<locals>.decorator.<locals>.wrapper at line 184 (1 times)]\u001B[0m\n",
      "File \u001B[1;32mC:\\Projects\\Crosstalk\\venv\\Lib\\site-packages\\qiskit\\utils\\deprecation.py:184\u001B[0m, in \u001B[0;36mdeprecate_arg.<locals>.decorator.<locals>.wrapper\u001B[1;34m(*args, **kwargs)\u001B[0m\n\u001B[0;32m    171\u001B[0m \u001B[38;5;129m@functools\u001B[39m\u001B[38;5;241m.\u001B[39mwraps(func)\n\u001B[0;32m    172\u001B[0m \u001B[38;5;28;01mdef\u001B[39;00m\u001B[38;5;250m \u001B[39m\u001B[38;5;21mwrapper\u001B[39m(\u001B[38;5;241m*\u001B[39margs, \u001B[38;5;241m*\u001B[39m\u001B[38;5;241m*\u001B[39mkwargs):\n\u001B[0;32m    173\u001B[0m     _maybe_warn_and_rename_kwarg(\n\u001B[0;32m    174\u001B[0m         args,\n\u001B[0;32m    175\u001B[0m         kwargs,\n\u001B[1;32m   (...)\u001B[0m\n\u001B[0;32m    182\u001B[0m         predicate\u001B[38;5;241m=\u001B[39mpredicate,\n\u001B[0;32m    183\u001B[0m     )\n\u001B[1;32m--> 184\u001B[0m     \u001B[38;5;28;01mreturn\u001B[39;00m \u001B[43mfunc\u001B[49m\u001B[43m(\u001B[49m\u001B[38;5;241;43m*\u001B[39;49m\u001B[43margs\u001B[49m\u001B[43m,\u001B[49m\u001B[43m \u001B[49m\u001B[38;5;241;43m*\u001B[39;49m\u001B[38;5;241;43m*\u001B[39;49m\u001B[43mkwargs\u001B[49m\u001B[43m)\u001B[49m\n",
      "File \u001B[1;32mC:\\Projects\\Crosstalk\\venv\\Lib\\site-packages\\qiskit\\compiler\\transpiler.py:449\u001B[0m, in \u001B[0;36mtranspile\u001B[1;34m(circuits, backend, basis_gates, inst_map, coupling_map, backend_properties, initial_layout, layout_method, routing_method, translation_method, scheduling_method, instruction_durations, dt, approximation_degree, timing_constraints, seed_transpiler, optimization_level, callback, output_name, unitary_synthesis_method, unitary_synthesis_plugin_config, target, hls_config, init_method, optimization_method, ignore_backend_supplied_default_methods, num_processes, qubits_initially_zero)\u001B[0m\n\u001B[0;32m    417\u001B[0m     warnings\u001B[38;5;241m.\u001B[39mfilterwarnings(\n\u001B[0;32m    418\u001B[0m         \u001B[38;5;124m\"\u001B[39m\u001B[38;5;124mignore\u001B[39m\u001B[38;5;124m\"\u001B[39m,\n\u001B[0;32m    419\u001B[0m         category\u001B[38;5;241m=\u001B[39m\u001B[38;5;167;01mDeprecationWarning\u001B[39;00m,\n\u001B[0;32m    420\u001B[0m         message\u001B[38;5;241m=\u001B[39m\u001B[38;5;124m\"\u001B[39m\u001B[38;5;124m.*``backend_properties`` is deprecated as of Qiskit 1.3.*\u001B[39m\u001B[38;5;124m\"\u001B[39m,\n\u001B[0;32m    421\u001B[0m         module\u001B[38;5;241m=\u001B[39m\u001B[38;5;124m\"\u001B[39m\u001B[38;5;124mqiskit\u001B[39m\u001B[38;5;124m\"\u001B[39m,\n\u001B[0;32m    422\u001B[0m     )\n\u001B[0;32m    423\u001B[0m     pm \u001B[38;5;241m=\u001B[39m generate_preset_pass_manager(\n\u001B[0;32m    424\u001B[0m         optimization_level,\n\u001B[0;32m    425\u001B[0m         target\u001B[38;5;241m=\u001B[39mtarget,\n\u001B[1;32m   (...)\u001B[0m\n\u001B[0;32m    446\u001B[0m         qubits_initially_zero\u001B[38;5;241m=\u001B[39mqubits_initially_zero,\n\u001B[0;32m    447\u001B[0m     )\n\u001B[1;32m--> 449\u001B[0m out_circuits \u001B[38;5;241m=\u001B[39m \u001B[43mpm\u001B[49m\u001B[38;5;241;43m.\u001B[39;49m\u001B[43mrun\u001B[49m\u001B[43m(\u001B[49m\u001B[43mcircuits\u001B[49m\u001B[43m,\u001B[49m\u001B[43m \u001B[49m\u001B[43mcallback\u001B[49m\u001B[38;5;241;43m=\u001B[39;49m\u001B[43mcallback\u001B[49m\u001B[43m,\u001B[49m\u001B[43m \u001B[49m\u001B[43mnum_processes\u001B[49m\u001B[38;5;241;43m=\u001B[39;49m\u001B[43mnum_processes\u001B[49m\u001B[43m)\u001B[49m\n\u001B[0;32m    451\u001B[0m \u001B[38;5;28;01mfor\u001B[39;00m name, circ \u001B[38;5;129;01min\u001B[39;00m \u001B[38;5;28mzip\u001B[39m(output_name, out_circuits):\n\u001B[0;32m    452\u001B[0m     circ\u001B[38;5;241m.\u001B[39mname \u001B[38;5;241m=\u001B[39m name\n",
      "File \u001B[1;32mC:\\Projects\\Crosstalk\\venv\\Lib\\site-packages\\qiskit\\transpiler\\passmanager.py:441\u001B[0m, in \u001B[0;36mStagedPassManager.run\u001B[1;34m(self, circuits, output_name, callback, num_processes)\u001B[0m\n\u001B[0;32m    433\u001B[0m \u001B[38;5;28;01mdef\u001B[39;00m\u001B[38;5;250m \u001B[39m\u001B[38;5;21mrun\u001B[39m(\n\u001B[0;32m    434\u001B[0m     \u001B[38;5;28mself\u001B[39m,\n\u001B[0;32m    435\u001B[0m     circuits: _CircuitsT,\n\u001B[1;32m   (...)\u001B[0m\n\u001B[0;32m    438\u001B[0m     num_processes: \u001B[38;5;28mint\u001B[39m \u001B[38;5;241m=\u001B[39m \u001B[38;5;28;01mNone\u001B[39;00m,\n\u001B[0;32m    439\u001B[0m ) \u001B[38;5;241m-\u001B[39m\u001B[38;5;241m>\u001B[39m _CircuitsT:\n\u001B[0;32m    440\u001B[0m     \u001B[38;5;28mself\u001B[39m\u001B[38;5;241m.\u001B[39m_update_passmanager()\n\u001B[1;32m--> 441\u001B[0m     \u001B[38;5;28;01mreturn\u001B[39;00m \u001B[38;5;28;43msuper\u001B[39;49m\u001B[43m(\u001B[49m\u001B[43m)\u001B[49m\u001B[38;5;241;43m.\u001B[39;49m\u001B[43mrun\u001B[49m\u001B[43m(\u001B[49m\u001B[43mcircuits\u001B[49m\u001B[43m,\u001B[49m\u001B[43m \u001B[49m\u001B[43moutput_name\u001B[49m\u001B[43m,\u001B[49m\u001B[43m \u001B[49m\u001B[43mcallback\u001B[49m\u001B[43m,\u001B[49m\u001B[43m \u001B[49m\u001B[43mnum_processes\u001B[49m\u001B[38;5;241;43m=\u001B[39;49m\u001B[43mnum_processes\u001B[49m\u001B[43m)\u001B[49m\n",
      "File \u001B[1;32mC:\\Projects\\Crosstalk\\venv\\Lib\\site-packages\\qiskit\\transpiler\\passmanager.py:466\u001B[0m, in \u001B[0;36m_replace_error.<locals>.wrapper\u001B[1;34m(*meth_args, **meth_kwargs)\u001B[0m\n\u001B[0;32m    464\u001B[0m     \u001B[38;5;28;01mreturn\u001B[39;00m meth(\u001B[38;5;241m*\u001B[39mmeth_args, \u001B[38;5;241m*\u001B[39m\u001B[38;5;241m*\u001B[39mmeth_kwargs)\n\u001B[0;32m    465\u001B[0m \u001B[38;5;28;01mexcept\u001B[39;00m PassManagerError \u001B[38;5;28;01mas\u001B[39;00m ex:\n\u001B[1;32m--> 466\u001B[0m     \u001B[38;5;28;01mraise\u001B[39;00m TranspilerError(ex\u001B[38;5;241m.\u001B[39mmessage) \u001B[38;5;28;01mfrom\u001B[39;00m\u001B[38;5;250m \u001B[39m\u001B[38;5;21;01mex\u001B[39;00m\n",
      "\u001B[1;31mTranspilerError\u001B[0m: 'The input circuit None is not scheduled. Call one of scheduling passes before running the ConstrainedReschedule pass.'"
     ]
    }
   ],
   "execution_count": 7
  }
 ],
 "metadata": {
  "kernelspec": {
   "display_name": "Python 3",
   "language": "python",
   "name": "python3"
  },
  "language_info": {
   "codemirror_mode": {
    "name": "ipython",
    "version": 2
   },
   "file_extension": ".py",
   "mimetype": "text/x-python",
   "name": "python",
   "nbconvert_exporter": "python",
   "pygments_lexer": "ipython2",
   "version": "2.7.6"
  }
 },
 "nbformat": 4,
 "nbformat_minor": 0
}
