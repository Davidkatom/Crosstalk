{
 "cells": [
  {
   "cell_type": "code",
   "execution_count": 2,
   "metadata": {
    "collapsed": true
   },
   "outputs": [
    {
     "name": "stderr",
     "output_type": "stream",
     "text": [
      "C:\\Users\\user\\AppData\\Local\\Programs\\Python\\Python39\\lib\\site-packages\\numpy\\_distributor_init.py:30: UserWarning: loaded more than 1 DLL from .libs:\n",
      "C:\\Users\\user\\AppData\\Local\\Programs\\Python\\Python39\\lib\\site-packages\\numpy\\.libs\\libopenblas.FB5AE2TYXYH2IJRDKGDGQ3XBKLKTF43H.gfortran-win_amd64.dll\n",
      "C:\\Users\\user\\AppData\\Local\\Programs\\Python\\Python39\\lib\\site-packages\\numpy\\.libs\\libopenblas64__v0.3.21-gcc_10_3_0.dll\n",
      "  warnings.warn(\"loaded more than 1 DLL from .libs:\"\n",
      "C:\\Users\\user\\AppData\\Local\\Temp\\ipykernel_22224\\1018955272.py:11: DeprecationWarning: The package qiskit.providers.ibmq is being deprecated. Please see https://ibm.biz/provider_migration_guide to get instructions on how to migrate to qiskit-ibm-provider (https://github.com/Qiskit/qiskit-ibm-provider) and qiskit-ibm-runtime (https://github.com/Qiskit/qiskit-ibm-runtime).\n",
      "  IBMQ.save_account(\n",
      "C:\\Users\\user\\AppData\\Local\\Temp\\ipykernel_22224\\1018955272.py:11: DeprecationWarning: The qiskit.IBMQ entrypoint and the qiskit-ibmq-provider package (accessible from 'qiskit.providers.ibmq`) are deprecated and will be removed in a future release. Instead you should use the qiskit-ibm-provider package which is accessible from 'qiskit_ibm_provider'. You can install it with 'pip install qiskit_ibm_provider'. Just replace 'qiskit.IBMQ' with 'qiskit_ibm_provider.IBMProvider'\n",
      "  IBMQ.save_account(\n"
     ]
    }
   ],
   "source": [
    "import matplotlib.pyplot as plt\n",
    "import numpy as np\n",
    "import time\n",
    "\n",
    "import qiskit\n",
    "from qiskit import QuantumCircuit, QuantumRegister, ClassicalRegister, execute, Aer\n",
    "import qiskit as qiskit\n",
    "import qiskit.quantum_info as qi\n",
    "from qiskit import QuantumCircuit, transpile, Aer, IBMQ\n",
    "# Loading your IBM Quantum account(s)\n",
    "IBMQ.save_account(\n",
    "    '280beccbee94456a161a6cbc217e1366bc278bf60e22bd30281fa0ca5bec6e50897278ef818f3c53f6700e04b9ed32ea364195044413b7e02836a79d886b03d9',\n",
    "    overwrite=True)\n",
    "IBMQ.load_account()\n",
    "provider = IBMQ.get_provider(hub='ibm-q-research')"
   ]
  },
  {
   "cell_type": "code",
   "execution_count": 26,
   "outputs": [
    {
     "name": "stdout",
     "output_type": "stream",
     "text": [
      "Statevector([0.+0.j, 1.+0.j, 0.+0.j, 0.+0.j, 0.+0.j, 0.+0.j, 0.+0.j,\n",
      "             0.+0.j],\n",
      "            dims=(2, 2, 2))\n"
     ]
    }
   ],
   "source": [
    "n = 3\n",
    "states = []\n",
    "for i in range(2**n):\n",
    "    binary = f\"{i:0{n}b}\"\n",
    "    qc = QuantumCircuit(n)\n",
    "    for ii,j in enumerate(reversed(binary)):\n",
    "        if j == '1':\n",
    "            qc.x(ii)\n",
    "    #add the state vector to the list\n",
    "    states.append(qiskit.quantum_info.Statevector.from_instruction(qc))\n",
    "print(states[1])\n",
    "\n"
   ],
   "metadata": {
    "collapsed": false
   }
  },
  {
   "cell_type": "code",
   "execution_count": 19,
   "outputs": [
    {
     "name": "stdout",
     "output_type": "stream",
     "text": [
      "\\left[\\begin{matrix}1.0 & 1.0 & 1.0 & 1.0 & 1.0 & 1.0 & 1.0 & 1.0\\\\1.0 & -1.0 & 1.0 & -1.0 & 1.0 & -1.0 & 1.0 & -1.0\\\\1.0 & 1.0 & -1.0 & -1.0 & 1.0 & 1.0 & -1.0 & -1.0\\\\1.0 & -1.0 & -1.0 & 1.0 & 1.0 & -1.0 & -1.0 & 1.0\\\\1.0 & 1.0 & 1.0 & 1.0 & -1.0 & -1.0 & -1.0 & -1.0\\\\1.0 & -1.0 & 1.0 & -1.0 & -1.0 & 1.0 & -1.0 & 1.0\\\\1.0 & 1.0 & -1.0 & -1.0 & -1.0 & -1.0 & 1.0 & 1.0\\\\1.0 & -1.0 & -1.0 & 1.0 & -1.0 & 1.0 & 1.0 & -1.0\\end{matrix}\\right]\n"
     ]
    }
   ],
   "source": [
    "import qiskit.quantum_info as qi\n",
    "import sympy as sp\n",
    "\n",
    "q = QuantumCircuit(n)\n",
    "q.h(0)\n",
    "q.h(1)\n",
    "q.h(2)\n",
    "\n",
    "\n",
    "op = qi.Operator(q)\n",
    "sympy_matrix = sp.Matrix(op.data*(2**(3/2)))\n",
    "latex_code = sp.latex(sympy_matrix)\n",
    "print(latex_code)\n"
   ],
   "metadata": {
    "collapsed": false
   }
  },
  {
   "cell_type": "code",
   "execution_count": 16,
   "outputs": [
    {
     "ename": "ImportError",
     "evalue": "cannot import name 'toimage' from 'scipy.misc' (C:\\Users\\user\\AppData\\Local\\Programs\\Python\\Python39\\lib\\site-packages\\scipy\\misc\\__init__.py)",
     "output_type": "error",
     "traceback": [
      "\u001B[1;31m---------------------------------------------------------------------------\u001B[0m",
      "\u001B[1;31mImportError\u001B[0m                               Traceback (most recent call last)",
      "Cell \u001B[1;32mIn[16], line 1\u001B[0m\n\u001B[1;32m----> 1\u001B[0m \u001B[38;5;28;01mfrom\u001B[39;00m \u001B[38;5;21;01mscipy\u001B[39;00m\u001B[38;5;21;01m.\u001B[39;00m\u001B[38;5;21;01mmisc\u001B[39;00m \u001B[38;5;28;01mimport\u001B[39;00m toimage\n\u001B[0;32m      2\u001B[0m toimage(op\u001B[38;5;241m.\u001B[39mdata)\u001B[38;5;241m.\u001B[39mshow()\n",
      "\u001B[1;31mImportError\u001B[0m: cannot import name 'toimage' from 'scipy.misc' (C:\\Users\\user\\AppData\\Local\\Programs\\Python\\Python39\\lib\\site-packages\\scipy\\misc\\__init__.py)"
     ]
    }
   ],
   "source": [
    "from scipy.misc import toimage\n",
    "toimage(op.data).show()"
   ],
   "metadata": {
    "collapsed": false
   }
  }
 ],
 "metadata": {
  "kernelspec": {
   "display_name": "Python 3",
   "language": "python",
   "name": "python3"
  },
  "language_info": {
   "codemirror_mode": {
    "name": "ipython",
    "version": 2
   },
   "file_extension": ".py",
   "mimetype": "text/x-python",
   "name": "python",
   "nbconvert_exporter": "python",
   "pygments_lexer": "ipython2",
   "version": "2.7.6"
  }
 },
 "nbformat": 4,
 "nbformat_minor": 0
}
