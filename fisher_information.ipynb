{
 "cells": [
  {
   "cell_type": "code",
   "execution_count": 1,
   "metadata": {
    "collapsed": true
   },
   "outputs": [
    {
     "name": "stderr",
     "output_type": "stream",
     "text": [
      "ibmqfactory.load_account:WARNING:2024-01-29 15:25:26,716: Credentials are already in use. The existing account in the session will be replaced.\n"
     ]
    }
   ],
   "source": [
    "import math\n",
    "\n",
    "import matplotlib.pyplot as plt\n",
    "import numpy as np\n",
    "import os\n",
    "import time\n",
    "\n",
    "import qiskit\n",
    "from qiskit import QuantumCircuit, QuantumRegister, ClassicalRegister, execute, Aer\n",
    "import qiskit as qiskit\n",
    "import qiskit.quantum_info as qi\n",
    "from qiskit import QuantumCircuit, transpile, Aer, IBMQ\n",
    "\n",
    "import ramsey_experiment\n",
    "\n",
    "# Loading your IBM Quantum account(s)\n",
    "IBMQ.save_account(os.environ.get('IBM_KEY'), overwrite=True)\n",
    "IBMQ.load_account()\n",
    "provider = IBMQ.get_provider(hub='ibm-q-research')\n",
    "\n"
   ]
  },
  {
   "cell_type": "code",
   "execution_count": 2,
   "outputs": [],
   "source": [
    "import Ramsey_ExperimentV2\n",
    "import random\n",
    "import importlib\n",
    "from tqdm import tqdm\n",
    "\n",
    "ramsey_experiment = importlib.reload(Ramsey_ExperimentV2)\n",
    "RamseyExperiment = ramsey_experiment.RamseyExperiment\n",
    "RamseyBatch = ramsey_experiment.RamseyBatch\n",
    "\n",
    "h = lambda n, J, z: sum([J[i] * (z[i] - 1) * (z[(i + 1) % n] - 1) for i in range(n - 1)])\n",
    "y_lornz = lambda a, x, w: np.pi * (2 * a / (a ** 2 + (x - w) ** 2) + 2 * a / (a ** 2 + (x + w) ** 2))\n",
    "y_lornz_single = lambda a, x, w: (2 * a / ((a ** 2 + x ** 2) * 2 * np.pi))\n",
    "\n",
    "\n",
    "def sinc(x_values):\n",
    "    X = []\n",
    "    for x in x_values:\n",
    "        X.append((np.sin(2 * x * np.pi) / (2 * x * np.pi) if x != 0 else 1))\n",
    "    return X\n",
    "\n",
    "\n",
    "def fisher_inf(x, w, a):\n",
    "    cos_wx_squared = np.cos(w * x) ** 2\n",
    "    sin_wx_squared = np.sin(w * x) ** 2\n",
    "    exp_ax = np.exp(a * x)\n",
    "\n",
    "    term1 = x ** 2 * cos_wx_squared / (exp_ax + np.cos(w * x)) ** 2\n",
    "    term2 = x ** 2 * sin_wx_squared / (exp_ax + np.cos(w * x)) ** 2\n",
    "\n",
    "    return term1 + term2\n",
    "\n",
    "\n",
    "def effective_hem(size, J, W):\n",
    "    hem = np.zeros((2 ** size, 2 ** size))\n",
    "    for i in range(2 ** size):\n",
    "        binary = '{0:b}'.format(i).zfill(size)\n",
    "        Z = [(-1) ** int(i) for i in binary]\n",
    "        #Z.reverse()\n",
    "        hem[i, i] = h(size, J, Z)\n",
    "        hem[i, i] += sum([W[k] for k in range(size) if binary[k] == '1'])\n",
    "    return hem"
   ],
   "metadata": {
    "collapsed": false
   }
  },
  {
   "cell_type": "code",
   "execution_count": 64,
   "outputs": [
    {
     "name": "stdout",
     "output_type": "stream",
     "text": [
      "J =  [0, 1]\n",
      "W =  [3]\n"
     ]
    },
    {
     "name": "stderr",
     "output_type": "stream",
     "text": [
      "Creating experiments: 100%|██████████| 50/50 [00:00<00:00, 135.24it/s]"
     ]
    },
    {
     "name": "stdout",
     "output_type": "stream",
     "text": [
      "W_estimate =  2.742538688413996\n",
      "L_estimate =  3.0704848695292957\n",
      "time_measured =  [2.0516523452014974, 0.0641141357875468, 2.6286795672894185, 2.5645654315018716, 2.6286795672894185, 2.821021974652059, 2.500451295714325, 2.500451295714325, 1.0258261726007487, 1.7310816662637634, 1.4105109873260295, 1.4105109873260295, 1.3463968515384828, 1.3463968515384828, 1.218168579963389, 1.218168579963389, 1.2822827157509358, 1.218168579963389, 1.0899403083882955, 0.7693696294505615, 0.7052554936630148, 0.7052554936630148, 0.7052554936630148, 0.7052554936630148, 0.7052554936630148, 0.6411413578754679, 0.6411413578754679, 0.6411413578754679, 0.6411413578754679, 0.6411413578754679, 0.6411413578754679, 0.6411413578754679, 0.6411413578754679, 0.6411413578754679, 0.6411413578754679, 0.6411413578754679, 0.6411413578754679, 0.6411413578754679, 0.6411413578754679, 0.6411413578754679, 0.6411413578754679, 0.6411413578754679, 0.6411413578754679, 0.6411413578754679, 0.6411413578754679, 0.6411413578754679, 0.6411413578754679, 0.6411413578754679, 0.6411413578754679, 0.6411413578754679]\n"
     ]
    },
    {
     "name": "stderr",
     "output_type": "stream",
     "text": [
      "\n"
     ]
    }
   ],
   "source": [
    "import numpy as np\n",
    "import math\n",
    "\n",
    "n = 1\n",
    "T = np.pi\n",
    "shots = 100\n",
    "measurements = 50\n",
    "delay = np.linspace(0, T, measurements)\n",
    "\n",
    "W = [random.gauss(3, 1) for _ in range(n)]\n",
    "L = [random.gauss(1, 1) for _ in range(n)]\n",
    "J = [random.gauss(3, 1) for _ in range(n - 1)]\n",
    "\n",
    "L = [3.2]\n",
    "\n",
    "W = [3]\n",
    "J = [0, 1]\n",
    "\n",
    "total_shots = shots * measurements\n",
    "fisher_values = [fisher_inf(t, W[0], L[0]) for t in delay]\n",
    "Shots = [math.ceil(total_shots * fisher_values[i] / sum(fisher_values)) for i in range(measurements)]\n",
    "Shots = [Shots[i] if Shots[i] > 0 else 1 for i in range(measurements)]\n",
    "\n",
    "print(\"J = \", J)\n",
    "print(\"W = \", W)\n",
    "\n",
    "batch1 = []\n",
    "batch2 = []\n",
    "\n",
    "exp = []\n",
    "W_estimate = 10\n",
    "L_estimate = 1\n",
    "time_measured = []\n",
    "for i in tqdm(range(measurements), desc=\"Creating experiments\"):\n",
    "    current_fisher = fisher_inf(delay, W_estimate, L_estimate)\n",
    "    best_t = np.argmax(current_fisher)\n",
    "    exp.append(RamseyExperiment(n, delay[best_t], 100, J, W, L))\n",
    "    exp.append(RamseyExperiment(n, delay[i], Shots[i], J, W, L))\n",
    "    exp[i].create_circuit_detuning()\n",
    "    exp[i].add_decay_raw()\n",
    "    batch1.append(exp[i])\n",
    "    W_estimate = RamseyBatch(batch1).fit_to_theory()[0][1]\n",
    "    L_estimate = RamseyBatch(batch1).fit_to_theory()[0][0]\n",
    "    time_measured.append(delay[best_t])\n",
    "print(\"W_estimate = \", W_estimate)\n",
    "print(\"L_estimate = \", L_estimate)\n",
    "\n",
    "print(\"time_measured = \", time_measured)"
   ],
   "metadata": {
    "collapsed": false
   }
  },
  {
   "cell_type": "code",
   "execution_count": 3,
   "outputs": [
    {
     "name": "stdout",
     "output_type": "stream",
     "text": [
      "Optimization failed: Inequality constraints incompatible\n"
     ]
    },
    {
     "name": "stderr",
     "output_type": "stream",
     "text": [
      "C:\\Users\\user\\AppData\\Local\\Temp\\ipykernel_20644\\1986094366.py:12: RuntimeWarning: divide by zero encountered in double_scalars\n",
      "  term4 = (1 / np.sin((t1 - t2) * w)) ** 2\n"
     ]
    }
   ],
   "source": [
    "import numpy as np\n",
    "from scipy.optimize import minimize\n",
    "\n",
    "\n",
    "# Define the function\n",
    "def vw(t, a, w):\n",
    "    t1, t2 = t\n",
    "    term1 = np.exp(2 * a * t1) * t2 ** 2 * np.cos(t2 * w) ** 2\n",
    "    term2 = 2 * np.exp(a * t1) * t2 ** 2 * np.cos(t1 * w) * np.cos(t2 * w) ** 2\n",
    "    term3 = np.cos(t1 * w) ** 2 * (np.exp(2 * a * t2) * t1 ** 2 + 2 * np.exp(a * t2) * t1 ** 2 * np.cos(t2 * w) + (\n",
    "            t1 ** 2 + t2 ** 2) * np.cos(t2 * w) ** 2)\n",
    "    term4 = (1 / np.sin((t1 - t2) * w)) ** 2\n",
    "    return (term1 + term2 + term3) * term4 / (t1 ** 2 * t2 ** 2)\n",
    "\n",
    "\n",
    "# Constants\n",
    "a = 1.4\n",
    "w = 3\n",
    "\n",
    "# Constraints\n",
    "cons = ({'type': 'ineq', 'fun': lambda t: t[0] - t[1]},  # t1 > t2\n",
    "        {'type': 'ineq', 'fun': lambda t: t[0]},  # t1 > 0\n",
    "        {'type': 'ineq', 'fun': lambda t: t[1] - 1})  # t2 > 1\n",
    "\n",
    "# Initial guess\n",
    "initial_guess = [3, 3]\n",
    "\n",
    "# Optimization\n",
    "result = minimize(vw, initial_guess, args=(a, w), constraints=cons, method='SLSQP')\n",
    "\n",
    "if result.success:\n",
    "    optimized_t1, optimized_t2 = result.x\n",
    "    print(\"Minimum at t1 =\", optimized_t1, \"t2 =\", optimized_t2)\n",
    "    print(\"Minimum value of vw:\", result.fun)\n",
    "else:\n",
    "    print(\"Optimization failed:\", result.message)\n"
   ],
   "metadata": {
    "collapsed": false
   }
  },
  {
   "cell_type": "code",
   "execution_count": 6,
   "outputs": [],
   "source": [
    "import numpy as np\n",
    "\n",
    "\n",
    "def p(t, w, a):\n",
    "    return 1 / 2 * (1 + np.cos(w * t) * np.exp(-a * t))\n",
    "\n",
    "\n",
    "def pw(t, w, a):\n",
    "    return - 1 / 2 * t * np.sin(w * t) * np.exp(-a * t)\n",
    "\n",
    "\n",
    "def pww(t, w, a):\n",
    "    return - 1 / 2 * t ** 2 * np.cos(w * t) * np.exp(-a * t)\n",
    "\n",
    "\n",
    "def pa(t, w, a):\n",
    "    return - 1 / 2 * t * np.cos(w * t) * np.exp(-a * t)\n",
    "\n",
    "\n",
    "def paa(t, w, a):\n",
    "    return 1 / 2 * t ** 2 * np.cos(w * t) * np.exp(-a * t)\n",
    "\n",
    "\n",
    "def paw(t, w, a):\n",
    "    return 1 / 2 * t ** 2 * np.sin(w * t) * np.exp(-a * t)\n",
    "\n",
    "\n",
    "def fisher_matrix(t, w, a, shots):\n",
    "    Iww = 0\n",
    "    Iaa = 0\n",
    "    Iwa = 0\n",
    "\n",
    "    for i in range(len(t)):\n",
    "        p0 = p(t[i], w, a)\n",
    "        p1 = 1 - p0\n",
    "        pw0 = pw(t[i], w, a)\n",
    "        pw1 = -pw0\n",
    "        pww0 = pww(t[i], w, a)\n",
    "        pww1 = -pww0\n",
    "        pa0 = pa(t[i], w, a)\n",
    "        pa1 = -pa0\n",
    "        paa0 = paa(t[i], w, a)\n",
    "        paa1 = -paa0\n",
    "        paw0 = paw(t[i], w, a)\n",
    "        paw1 = -paw0\n",
    "\n",
    "        if p0 == 0:\n",
    "            p0 = 1e-10\n",
    "        if p1 == 0:\n",
    "            p1 = 1e-10\n",
    "\n",
    "        # Iww -= shots[i] * (p0 * ((pww0 * p0 - pw0 ** 2) / p0 ** 2) + p1 * ((pww1 * p1 - pw1\n",
    "        #                                                                     ** 2) / p1 ** 2))\n",
    "        # Iaa -= shots[i] * (p0 * ((paa0 * p0 - pa0 ** 2) / p0 ** 2) + p1 * ((paa1 * p1 - pa1 ** 2) / p1 ** 2))\n",
    "        # Iwa -= shots[i] * (p0 * ((paw0 * p0 - pw0 * pa0) / p0 ** 2) + p1 * ((paw1 * p1 - pw1 * pa1) / p1 ** 2))\n",
    "\n",
    "        Iww += shots[i] * (p0 * ((pw0 ** 2) / p0 ** 2) + p1 * ((pw1 ** 2) / p1 ** 2))\n",
    "        Iaa += shots[i] * (p0 * ((pa0 ** 2) / p0 ** 2) + p1 * ((pa1 ** 2) / p1 ** 2))\n",
    "        Iwa += shots[i] * (p0 * ((pw0 * pa0) / p0 ** 2) + p1 * ((pw1 * pa1) / p1 ** 2))\n",
    "    return np.array([[Iww, Iwa], [Iwa, Iaa]])\n",
    "\n",
    "\n",
    "\n",
    "def lower_bound(f_mat):\n",
    "    inv = np.linalg.inv(f_mat)\n",
    "    w_var = np.sqrt(inv[0, 0])\n",
    "    a_var = np.sqrt(inv[1, 1])\n",
    "\n",
    "    #a_var = np.sqrt(inv[1, 1])\n",
    "    return w_var, a_var\n",
    "\n"
   ],
   "metadata": {
    "collapsed": false
   }
  },
  {
   "cell_type": "code",
   "execution_count": 86,
   "outputs": [],
   "source": [
    "import pandas as pd\n",
    "\n",
    "excel_path = 'results/w_df_2.xlsx'\n",
    "df = pd.read_excel(excel_path)\n",
    "w_dist_reshaped = df['w_dist_reshaped'].tolist()\n",
    "w_error = df['w_error'].tolist()\n",
    "w_std = df['w_std'].tolist()\n",
    "\n",
    "excel_path = 'results/decay_df_2.xlsx'\n",
    "df = pd.read_excel(excel_path)\n",
    "decay_dist_reshaped = df['decay_dist_reshaped'].tolist()\n",
    "decay_error = df['decay_error'].tolist()\n",
    "decay_std = df['decay_std'].tolist()\n",
    "\n",
    "excel_path = 'results/j_df_2.xlsx'\n",
    "df = pd.read_excel(excel_path)\n",
    "j_dist_reshaped = df['j_dist_reshaped'].tolist()\n",
    "j_error = df['j_error'].tolist()\n",
    "j_std = df['j_std'].tolist()\n"
   ],
   "metadata": {
    "collapsed": false
   }
  },
  {
   "cell_type": "code",
   "execution_count": 7,
   "outputs": [
    {
     "ename": "NameError",
     "evalue": "name 'w_error' is not defined",
     "output_type": "error",
     "traceback": [
      "\u001B[1;31m---------------------------------------------------------------------------\u001B[0m",
      "\u001B[1;31mNameError\u001B[0m                                 Traceback (most recent call last)",
      "Cell \u001B[1;32mIn[7], line 21\u001B[0m\n\u001B[0;32m     19\u001B[0m \u001B[38;5;66;03m#plt.gca().yaxis.set_major_formatter(ticker.PercentFormatter(1))\u001B[39;00m\n\u001B[0;32m     20\u001B[0m plt\u001B[38;5;241m.\u001B[39mplot(measurements, w_bounds, label\u001B[38;5;241m=\u001B[39m\u001B[38;5;124m\"\u001B[39m\u001B[38;5;124mw lower bound\u001B[39m\u001B[38;5;124m\"\u001B[39m)\n\u001B[1;32m---> 21\u001B[0m plt\u001B[38;5;241m.\u001B[39merrorbar(measurements, \u001B[43mw_error\u001B[49m, yerr\u001B[38;5;241m=\u001B[39mw_std, fmt\u001B[38;5;241m=\u001B[39m\u001B[38;5;124m'\u001B[39m\u001B[38;5;124mo\u001B[39m\u001B[38;5;124m'\u001B[39m, label\u001B[38;5;241m=\u001B[39m\u001B[38;5;124m'\u001B[39m\u001B[38;5;124mW\u001B[39m\u001B[38;5;124m'\u001B[39m)\n\u001B[0;32m     22\u001B[0m \u001B[38;5;66;03m# plt.plot(measurements, a_bounds, label=\"a lower bound\", color=\"orange\")\u001B[39;00m\n\u001B[0;32m     23\u001B[0m \u001B[38;5;66;03m# plt.errorbar(measurements, decay_error, yerr=decay_std, fmt='o', label='Decay')\u001B[39;00m\n\u001B[0;32m     24\u001B[0m \u001B[38;5;66;03m#plt.errorbar(measurements, j_error, yerr=j_std, fmt='o', label='J')\u001B[39;00m\n\u001B[0;32m     25\u001B[0m \u001B[38;5;66;03m#plt.semilogy()\u001B[39;00m\n\u001B[0;32m     26\u001B[0m plt\u001B[38;5;241m.\u001B[39mylim([\u001B[38;5;241m0\u001B[39m, \u001B[38;5;241m30\u001B[39m])\n",
      "\u001B[1;31mNameError\u001B[0m: name 'w_error' is not defined"
     ]
    },
    {
     "data": {
      "text/plain": "<Figure size 640x480 with 1 Axes>",
      "image/png": "[encoded data removed]"
     },
     "metadata": {},
     "output_type": "display_data"
    }
   ],
   "source": [
    "T = np.pi\n",
    "shots = 1000\n",
    "measurements = np.arange(5, 105, 5)\n",
    "w = 3\n",
    "decay = 4\n",
    "w_bounds = []\n",
    "a_bounds = []\n",
    "for m in measurements:\n",
    "    delay = np.linspace(0, T, m)\n",
    "    Shots = len(delay) * [shots]\n",
    "    fisher = fisher_matrix(delay, w, decay, Shots)\n",
    "    w_bound, a_bound = lower_bound(fisher)\n",
    "    w_bounds.append(100 * w_bound / w)\n",
    "    a_bounds.append(100 * a_bound / decay)\n",
    "\n",
    "plt.title(f'Lower bound with actual error values. W = {w}, Decay = {decay}')\n",
    "from matplotlib import ticker\n",
    "\n",
    "#plt.gca().yaxis.set_major_formatter(ticker.PercentFormatter(1))\n",
    "plt.plot(measurements, w_bounds, label=\"w lower bound\")\n",
    "plt.errorbar(measurements, w_error, yerr=w_std, fmt='o', label='W')\n",
    "# plt.plot(measurements, a_bounds, label=\"a lower bound\", color=\"orange\")\n",
    "# plt.errorbar(measurements, decay_error, yerr=decay_std, fmt='o', label='Decay')\n",
    "#plt.errorbar(measurements, j_error, yerr=j_std, fmt='o', label='J')\n",
    "#plt.semilogy()\n",
    "plt.ylim([0, 30])\n",
    "plt.grid()\n",
    "plt.legend()"
   ],
   "metadata": {
    "collapsed": false
   }
  },
  {
   "cell_type": "code",
   "execution_count": 12,
   "outputs": [
    {
     "name": "stdout",
     "output_type": "stream",
     "text": [
      "Optimal times =  [0.14068959094838432, 0.2893931112085669, 1.5963110783177519, 2.026752603900133]\n",
      "Optimal shots =  [500, 500, 0, 0]\n"
     ]
    }
   ],
   "source": [
    "from scipy.optimize import minimize\n",
    "\n",
    "\n",
    "def find_optimal_times(w, a, N, Total_Shots=1000):\n",
    "    def model_func(params):\n",
    "        t = params[0:N]\n",
    "        shots = params[N:2 * N]\n",
    "        Iww = 0\n",
    "        Iaa = 0\n",
    "        Iwa = 0\n",
    "\n",
    "        for i in range(len(t)):\n",
    "            p0 = p(t[i], w, a)\n",
    "            p1 = 1 - p0\n",
    "            pw0 = pw(t[i], w, a)\n",
    "            pw1 = -pw0\n",
    "            pww0 = pww(t[i], w, a)\n",
    "            pww1 = -pww0\n",
    "            pa0 = pa(t[i], w, a)\n",
    "            pa1 = -pa0\n",
    "            paa0 = paa(t[i], w, a)\n",
    "            paa1 = -paa0\n",
    "            paw0 = paw(t[i], w, a)\n",
    "            paw1 = -paw0\n",
    "\n",
    "            if p0 == 0:\n",
    "                p0 = 1e-10\n",
    "            if p1 == 0:\n",
    "                p1 = 1e-10\n",
    "\n",
    "            Iww -= shots[i] * (p0 * ((pww0 * p0 - pw0 ** 2) / p0 ** 2) + p1 * ((pww1 * p1 - pw1\n",
    "                                                                                ** 2) / p1 ** 2))\n",
    "            Iaa -= shots[i] * (p0 * ((paa0 * p0 - pa0 ** 2) / p0 ** 2) + p1 * ((paa1 * p1 - pa1 ** 2) / p1 ** 2))\n",
    "            Iwa -= shots[i] * (p0 * ((paw0 * p0 - pw0 * pa0) / p0 ** 2) + p1 * ((paw1 * p1 - pw1 * pa1) / p1 ** 2))\n",
    "\n",
    "        lower_w_bound = 10000 * Iaa / (Iaa * Iww - Iwa ** 2)\n",
    "        lower_a_bound = 10000 * Iww / (Iaa * Iww - Iwa ** 2)\n",
    "        return lower_w_bound + lower_a_bound\n",
    "\n",
    "    def shots_constraint(params):\n",
    "        return np.sum(params[N:2 * N]) - Total_Shots\n",
    "\n",
    "    # Define the constraint as a dictionary\n",
    "    cons = ({'type': 'eq', 'fun': shots_constraint})\n",
    "    initial_guess = np.concatenate([np.random.uniform(0, np.pi, N), np.full(N, Total_Shots / N)])\n",
    "    result = minimize(model_func, initial_guess, method='trust-constr', bounds=[(0, np.pi)] * N + [(0, 1000)] * N,\n",
    "                      constraints=cons)\n",
    "    return result.x\n",
    "\n",
    "\n",
    "def process_result(result):\n",
    "    times = result[0:N]\n",
    "    shots = result[N:2 * N]\n",
    "\n",
    "    grouped_times = []\n",
    "    grouped_shots = []\n",
    "\n",
    "    for i in range(len(times)):\n",
    "        for j in range(len(grouped_times)):\n",
    "            if abs(grouped_times[j] - times[i]) < 0.005:\n",
    "                #grouped_times.append(times[i])\n",
    "                grouped_shots[j] += shots[i]\n",
    "                break\n",
    "        else:\n",
    "            grouped_times.append(times[i])\n",
    "            grouped_shots.append(shots[i])\n",
    "\n",
    "    paired = sorted(zip(grouped_times, grouped_shots))\n",
    "    times = [x for x, _ in paired]\n",
    "    shots = [int(round(y)) for _, y in paired]\n",
    "\n",
    "    return times, shots\n",
    "\n",
    "\n",
    "N = 10\n",
    "Total_Shots = N * 100\n",
    "w = 10\n",
    "a = 5\n",
    "result = find_optimal_times(w, a, N, Total_Shots)\n",
    "optimal_times, optimal_shots = process_result(result)\n",
    "\n",
    "regular_times = np.linspace(0, np.pi, N)\n",
    "print(\"Optimal times = \", optimal_times)\n",
    "print(\"Optimal shots = \", optimal_shots)\n"
   ],
   "metadata": {
    "collapsed": false
   }
  },
  {
   "cell_type": "code",
   "execution_count": 263,
   "outputs": [
    {
     "name": "stdout",
     "output_type": "stream",
     "text": [
      "Optimal times =  [0.1479802787597646, 0.594898480300336]\n",
      "Optimal shots =  [92, 108]\n",
      "200\n",
      "Optimal w bound =  1.908139647502782\n",
      "Regular w bound =  6.014973060916628e+25\n"
     ]
    }
   ],
   "source": [
    "\n",
    "\n",
    "optimal_times, optimal_shots = process_result(result)\n",
    "print(\"Optimal times = \", optimal_times)\n",
    "print(\"Optimal shots = \", optimal_shots)\n",
    "print(sum(optimal_shots))\n",
    "optimal_w_bound = np.sum(lower_bound(fisher_matrix(optimal_times, w, a, optimal_shots)))\n",
    "regular_w_bound = np.sum(lower_bound(fisher_matrix(regular_times, w, a, N * [100])))\n",
    "print(\"Optimal w bound = \", optimal_w_bound)\n",
    "print(\"Regular w bound = \", regular_w_bound)"
   ],
   "metadata": {
    "collapsed": false
   }
  },
  {
   "cell_type": "code",
   "execution_count": 265,
   "outputs": [
    {
     "data": {
      "text/plain": "<matplotlib.collections.PathCollection at 0x226e9f4f430>"
     },
     "execution_count": 265,
     "metadata": {},
     "output_type": "execute_result"
    },
    {
     "data": {
      "text/plain": "<Figure size 640x480 with 1 Axes>",
      "image/png": "[encoded data removed]"
     },
     "metadata": {},
     "output_type": "display_data"
    }
   ],
   "source": [
    "\n",
    "plt.scatter(optimal_times, optimal_shots, label=\"Optimal\")\n"
   ],
   "metadata": {
    "collapsed": false
   }
  },
  {
   "cell_type": "code",
   "execution_count": 233,
   "outputs": [
    {
     "ename": "KeyboardInterrupt",
     "evalue": "",
     "output_type": "error",
     "traceback": [
      "\u001B[1;31m---------------------------------------------------------------------------\u001B[0m",
      "\u001B[1;31mValueError\u001B[0m                                Traceback (most recent call last)",
      "File \u001B[1;32m~\\AppData\\Local\\Programs\\Python\\Python39\\lib\\site-packages\\sympy\\core\\core.py:85\u001B[0m, in \u001B[0;36mBasicMeta.__cmp__\u001B[1;34m(cls, other)\u001B[0m\n\u001B[0;32m     84\u001B[0m \u001B[38;5;28;01mtry\u001B[39;00m:\n\u001B[1;32m---> 85\u001B[0m     i1 \u001B[38;5;241m=\u001B[39m \u001B[43mordering_of_classes\u001B[49m\u001B[38;5;241;43m.\u001B[39;49m\u001B[43mindex\u001B[49m\u001B[43m(\u001B[49m\u001B[43mn1\u001B[49m\u001B[43m)\u001B[49m\n\u001B[0;32m     86\u001B[0m \u001B[38;5;28;01mexcept\u001B[39;00m \u001B[38;5;167;01mValueError\u001B[39;00m:\n",
      "\u001B[1;31mValueError\u001B[0m: 'cos' is not in list",
      "\nDuring handling of the above exception, another exception occurred:\n",
      "\u001B[1;31mKeyboardInterrupt\u001B[0m                         Traceback (most recent call last)",
      "Cell \u001B[1;32mIn[233], line 71\u001B[0m\n\u001B[0;32m     68\u001B[0m VarA_sub \u001B[38;5;241m=\u001B[39m VarA\u001B[38;5;241m.\u001B[39msubs({w: \u001B[38;5;241m3\u001B[39m, a: \u001B[38;5;241m3\u001B[39m})\n\u001B[0;32m     70\u001B[0m \u001B[38;5;66;03m# Find the minimum values of t1 and t2\u001B[39;00m\n\u001B[1;32m---> 71\u001B[0m min_t1_t2 \u001B[38;5;241m=\u001B[39m \u001B[43msp\u001B[49m\u001B[38;5;241;43m.\u001B[39;49m\u001B[43msolve\u001B[49m\u001B[43m(\u001B[49m\u001B[43m[\u001B[49m\u001B[43msp\u001B[49m\u001B[38;5;241;43m.\u001B[39;49m\u001B[43mdiff\u001B[49m\u001B[43m(\u001B[49m\u001B[43mVarA_sub\u001B[49m\u001B[43m,\u001B[49m\u001B[43m \u001B[49m\u001B[43mt1\u001B[49m\u001B[43m)\u001B[49m\u001B[43m,\u001B[49m\u001B[43m \u001B[49m\u001B[43msp\u001B[49m\u001B[38;5;241;43m.\u001B[39;49m\u001B[43mdiff\u001B[49m\u001B[43m(\u001B[49m\u001B[43mVarA_sub\u001B[49m\u001B[43m,\u001B[49m\u001B[43m \u001B[49m\u001B[43mt2\u001B[49m\u001B[43m)\u001B[49m\u001B[43m]\u001B[49m\u001B[43m,\u001B[49m\u001B[43m \u001B[49m\u001B[43m(\u001B[49m\u001B[43mt1\u001B[49m\u001B[43m,\u001B[49m\u001B[43m \u001B[49m\u001B[43mt2\u001B[49m\u001B[43m)\u001B[49m\u001B[43m)\u001B[49m\n\u001B[0;32m     72\u001B[0m min_t1_t2\n",
      "File \u001B[1;32m~\\AppData\\Local\\Programs\\Python\\Python39\\lib\\site-packages\\sympy\\solvers\\solvers.py:1114\u001B[0m, in \u001B[0;36msolve\u001B[1;34m(f, *symbols, **flags)\u001B[0m\n\u001B[0;32m   1112\u001B[0m     solution \u001B[38;5;241m=\u001B[39m _solve(f[\u001B[38;5;241m0\u001B[39m], \u001B[38;5;241m*\u001B[39msymbols, \u001B[38;5;241m*\u001B[39m\u001B[38;5;241m*\u001B[39mflags)\n\u001B[0;32m   1113\u001B[0m \u001B[38;5;28;01melse\u001B[39;00m:\n\u001B[1;32m-> 1114\u001B[0m     solution \u001B[38;5;241m=\u001B[39m _solve_system(f, symbols, \u001B[38;5;241m*\u001B[39m\u001B[38;5;241m*\u001B[39mflags)\n\u001B[0;32m   1116\u001B[0m \u001B[38;5;66;03m#\u001B[39;00m\n\u001B[0;32m   1117\u001B[0m \u001B[38;5;66;03m# postprocessing\u001B[39;00m\n\u001B[0;32m   1118\u001B[0m \u001B[38;5;66;03m###########################################################################\u001B[39;00m\n\u001B[0;32m   1119\u001B[0m \u001B[38;5;66;03m# Restore masked-off objects\u001B[39;00m\n\u001B[0;32m   1120\u001B[0m \u001B[38;5;28;01mif\u001B[39;00m non_inverts:\n",
      "File \u001B[1;32m~\\AppData\\Local\\Programs\\Python\\Python39\\lib\\site-packages\\sympy\\solvers\\solvers.py:1823\u001B[0m, in \u001B[0;36m_solve_system\u001B[1;34m(exprs, symbols, **flags)\u001B[0m\n\u001B[0;32m   1820\u001B[0m     failed\u001B[38;5;241m.\u001B[39mappend(g)\n\u001B[0;32m   1821\u001B[0m     \u001B[38;5;28;01mcontinue\u001B[39;00m\n\u001B[1;32m-> 1823\u001B[0m poly \u001B[38;5;241m=\u001B[39m \u001B[43mg\u001B[49m\u001B[38;5;241;43m.\u001B[39;49m\u001B[43mas_poly\u001B[49m\u001B[43m(\u001B[49m\u001B[38;5;241;43m*\u001B[39;49m\u001B[43msymbols\u001B[49m\u001B[43m,\u001B[49m\u001B[43m \u001B[49m\u001B[43mextension\u001B[49m\u001B[38;5;241;43m=\u001B[39;49m\u001B[38;5;28;43;01mTrue\u001B[39;49;00m\u001B[43m)\u001B[49m\n\u001B[0;32m   1825\u001B[0m \u001B[38;5;28;01mif\u001B[39;00m poly \u001B[38;5;129;01mis\u001B[39;00m \u001B[38;5;129;01mnot\u001B[39;00m \u001B[38;5;28;01mNone\u001B[39;00m:\n\u001B[0;32m   1826\u001B[0m     polys\u001B[38;5;241m.\u001B[39mappend(poly)\n",
      "File \u001B[1;32m~\\AppData\\Local\\Programs\\Python\\Python39\\lib\\site-packages\\sympy\\core\\expr.py:1102\u001B[0m, in \u001B[0;36mExpr.as_poly\u001B[1;34m(self, *gens, **args)\u001B[0m\n\u001B[0;32m   1099\u001B[0m \u001B[38;5;28;01mfrom\u001B[39;00m \u001B[38;5;21;01msympy\u001B[39;00m\u001B[38;5;21;01m.\u001B[39;00m\u001B[38;5;21;01mpolys\u001B[39;00m\u001B[38;5;21;01m.\u001B[39;00m\u001B[38;5;21;01mpolytools\u001B[39;00m \u001B[38;5;28;01mimport\u001B[39;00m Poly\n\u001B[0;32m   1101\u001B[0m \u001B[38;5;28;01mtry\u001B[39;00m:\n\u001B[1;32m-> 1102\u001B[0m     poly \u001B[38;5;241m=\u001B[39m Poly(\u001B[38;5;28mself\u001B[39m, \u001B[38;5;241m*\u001B[39mgens, \u001B[38;5;241m*\u001B[39m\u001B[38;5;241m*\u001B[39margs)\n\u001B[0;32m   1104\u001B[0m     \u001B[38;5;28;01mif\u001B[39;00m \u001B[38;5;129;01mnot\u001B[39;00m poly\u001B[38;5;241m.\u001B[39mis_Poly:\n\u001B[0;32m   1105\u001B[0m         \u001B[38;5;28;01mreturn\u001B[39;00m \u001B[38;5;28;01mNone\u001B[39;00m\n",
      "File \u001B[1;32m~\\AppData\\Local\\Programs\\Python\\Python39\\lib\\site-packages\\sympy\\polys\\polytools.py:182\u001B[0m, in \u001B[0;36mPoly.__new__\u001B[1;34m(cls, rep, *gens, **args)\u001B[0m\n\u001B[0;32m    180\u001B[0m     \u001B[38;5;28;01mreturn\u001B[39;00m \u001B[38;5;28mcls\u001B[39m\u001B[38;5;241m.\u001B[39m_from_poly(rep, opt)\n\u001B[0;32m    181\u001B[0m \u001B[38;5;28;01melse\u001B[39;00m:\n\u001B[1;32m--> 182\u001B[0m     \u001B[38;5;28;01mreturn\u001B[39;00m \u001B[38;5;28;43mcls\u001B[39;49m\u001B[38;5;241;43m.\u001B[39;49m\u001B[43m_from_expr\u001B[49m\u001B[43m(\u001B[49m\u001B[43mrep\u001B[49m\u001B[43m,\u001B[49m\u001B[43m \u001B[49m\u001B[43mopt\u001B[49m\u001B[43m)\u001B[49m\n",
      "File \u001B[1;32m~\\AppData\\Local\\Programs\\Python\\Python39\\lib\\site-packages\\sympy\\polys\\polytools.py:311\u001B[0m, in \u001B[0;36mPoly._from_expr\u001B[1;34m(cls, rep, opt)\u001B[0m\n\u001B[0;32m    308\u001B[0m \u001B[38;5;129m@classmethod\u001B[39m\n\u001B[0;32m    309\u001B[0m \u001B[38;5;28;01mdef\u001B[39;00m \u001B[38;5;21m_from_expr\u001B[39m(\u001B[38;5;28mcls\u001B[39m, rep, opt):\n\u001B[0;32m    310\u001B[0m \u001B[38;5;250m    \u001B[39m\u001B[38;5;124;03m\"\"\"Construct a polynomial from an expression. \"\"\"\u001B[39;00m\n\u001B[1;32m--> 311\u001B[0m     rep, opt \u001B[38;5;241m=\u001B[39m \u001B[43m_dict_from_expr\u001B[49m\u001B[43m(\u001B[49m\u001B[43mrep\u001B[49m\u001B[43m,\u001B[49m\u001B[43m \u001B[49m\u001B[43mopt\u001B[49m\u001B[43m)\u001B[49m\n\u001B[0;32m    312\u001B[0m     \u001B[38;5;28;01mreturn\u001B[39;00m \u001B[38;5;28mcls\u001B[39m\u001B[38;5;241m.\u001B[39m_from_dict(rep, opt)\n",
      "File \u001B[1;32m~\\AppData\\Local\\Programs\\Python\\Python39\\lib\\site-packages\\sympy\\polys\\polyutils.py:357\u001B[0m, in \u001B[0;36m_dict_from_expr\u001B[1;34m(expr, opt)\u001B[0m\n\u001B[0;32m    355\u001B[0m \u001B[38;5;28;01mif\u001B[39;00m \u001B[38;5;129;01mnot\u001B[39;00m \u001B[38;5;28misinstance\u001B[39m(expr, (Expr, Eq)):\n\u001B[0;32m    356\u001B[0m     \u001B[38;5;28;01mraise\u001B[39;00m PolynomialError(\u001B[38;5;124m'\u001B[39m\u001B[38;5;124mexpression must be of type Expr\u001B[39m\u001B[38;5;124m'\u001B[39m)\n\u001B[1;32m--> 357\u001B[0m expr \u001B[38;5;241m=\u001B[39m \u001B[43mexpr\u001B[49m\u001B[38;5;241;43m.\u001B[39;49m\u001B[43mexpand\u001B[49m\u001B[43m(\u001B[49m\u001B[43m)\u001B[49m\n\u001B[0;32m    358\u001B[0m \u001B[38;5;66;03m# TODO: Integrate this into expand() itself\u001B[39;00m\n\u001B[0;32m    359\u001B[0m \u001B[38;5;28;01mwhile\u001B[39;00m \u001B[38;5;28many\u001B[39m(_is_expandable_pow(i) \u001B[38;5;129;01mor\u001B[39;00m i\u001B[38;5;241m.\u001B[39mis_Mul \u001B[38;5;129;01mand\u001B[39;00m\n\u001B[0;32m    360\u001B[0m     \u001B[38;5;28many\u001B[39m(_is_expandable_pow(j) \u001B[38;5;28;01mfor\u001B[39;00m j \u001B[38;5;129;01min\u001B[39;00m i\u001B[38;5;241m.\u001B[39margs) \u001B[38;5;28;01mfor\u001B[39;00m i \u001B[38;5;129;01min\u001B[39;00m\n\u001B[0;32m    361\u001B[0m         Add\u001B[38;5;241m.\u001B[39mmake_args(expr)):\n",
      "File \u001B[1;32m~\\AppData\\Local\\Programs\\Python\\Python39\\lib\\site-packages\\sympy\\core\\cache.py:70\u001B[0m, in \u001B[0;36m__cacheit.<locals>.func_wrapper.<locals>.wrapper\u001B[1;34m(*args, **kwargs)\u001B[0m\n\u001B[0;32m     67\u001B[0m \u001B[38;5;129m@wraps\u001B[39m(func)\n\u001B[0;32m     68\u001B[0m \u001B[38;5;28;01mdef\u001B[39;00m \u001B[38;5;21mwrapper\u001B[39m(\u001B[38;5;241m*\u001B[39margs, \u001B[38;5;241m*\u001B[39m\u001B[38;5;241m*\u001B[39mkwargs):\n\u001B[0;32m     69\u001B[0m     \u001B[38;5;28;01mtry\u001B[39;00m:\n\u001B[1;32m---> 70\u001B[0m         retval \u001B[38;5;241m=\u001B[39m cfunc(\u001B[38;5;241m*\u001B[39margs, \u001B[38;5;241m*\u001B[39m\u001B[38;5;241m*\u001B[39mkwargs)\n\u001B[0;32m     71\u001B[0m     \u001B[38;5;28;01mexcept\u001B[39;00m \u001B[38;5;167;01mTypeError\u001B[39;00m \u001B[38;5;28;01mas\u001B[39;00m e:\n\u001B[0;32m     72\u001B[0m         \u001B[38;5;28;01mif\u001B[39;00m \u001B[38;5;129;01mnot\u001B[39;00m e\u001B[38;5;241m.\u001B[39margs \u001B[38;5;129;01mor\u001B[39;00m \u001B[38;5;129;01mnot\u001B[39;00m e\u001B[38;5;241m.\u001B[39margs[\u001B[38;5;241m0\u001B[39m]\u001B[38;5;241m.\u001B[39mstartswith(\u001B[38;5;124m'\u001B[39m\u001B[38;5;124munhashable type:\u001B[39m\u001B[38;5;124m'\u001B[39m):\n",
      "File \u001B[1;32m~\\AppData\\Local\\Programs\\Python\\Python39\\lib\\site-packages\\sympy\\core\\expr.py:3651\u001B[0m, in \u001B[0;36mExpr.expand\u001B[1;34m(self, deep, modulus, power_base, power_exp, mul, log, multinomial, basic, **hints)\u001B[0m\n\u001B[0;32m   3649\u001B[0m     \u001B[38;5;28;01mif\u001B[39;00m use_hint:\n\u001B[0;32m   3650\u001B[0m         hint \u001B[38;5;241m=\u001B[39m \u001B[38;5;124m'\u001B[39m\u001B[38;5;124m_eval_expand_\u001B[39m\u001B[38;5;124m'\u001B[39m \u001B[38;5;241m+\u001B[39m hint\n\u001B[1;32m-> 3651\u001B[0m         expr, hit \u001B[38;5;241m=\u001B[39m Expr\u001B[38;5;241m.\u001B[39m_expand_hint(expr, hint, deep\u001B[38;5;241m=\u001B[39mdeep, \u001B[38;5;241m*\u001B[39m\u001B[38;5;241m*\u001B[39mhints)\n\u001B[0;32m   3653\u001B[0m \u001B[38;5;28;01mwhile\u001B[39;00m \u001B[38;5;28;01mTrue\u001B[39;00m:\n\u001B[0;32m   3654\u001B[0m     was \u001B[38;5;241m=\u001B[39m expr\n",
      "File \u001B[1;32m~\\AppData\\Local\\Programs\\Python\\Python39\\lib\\site-packages\\sympy\\core\\expr.py:3584\u001B[0m, in \u001B[0;36mExpr._expand_hint\u001B[1;34m(expr, hint, deep, **hints)\u001B[0m\n\u001B[0;32m   3582\u001B[0m sargs \u001B[38;5;241m=\u001B[39m []\n\u001B[0;32m   3583\u001B[0m \u001B[38;5;28;01mfor\u001B[39;00m arg \u001B[38;5;129;01min\u001B[39;00m expr\u001B[38;5;241m.\u001B[39margs:\n\u001B[1;32m-> 3584\u001B[0m     arg, arghit \u001B[38;5;241m=\u001B[39m Expr\u001B[38;5;241m.\u001B[39m_expand_hint(arg, hint, \u001B[38;5;241m*\u001B[39m\u001B[38;5;241m*\u001B[39mhints)\n\u001B[0;32m   3585\u001B[0m     hit \u001B[38;5;241m|\u001B[39m\u001B[38;5;241m=\u001B[39m arghit\n\u001B[0;32m   3586\u001B[0m     sargs\u001B[38;5;241m.\u001B[39mappend(arg)\n",
      "File \u001B[1;32m~\\AppData\\Local\\Programs\\Python\\Python39\\lib\\site-packages\\sympy\\core\\expr.py:3592\u001B[0m, in \u001B[0;36mExpr._expand_hint\u001B[1;34m(expr, hint, deep, **hints)\u001B[0m\n\u001B[0;32m   3589\u001B[0m         expr \u001B[38;5;241m=\u001B[39m expr\u001B[38;5;241m.\u001B[39mfunc(\u001B[38;5;241m*\u001B[39msargs)\n\u001B[0;32m   3591\u001B[0m \u001B[38;5;28;01mif\u001B[39;00m \u001B[38;5;28mhasattr\u001B[39m(expr, hint):\n\u001B[1;32m-> 3592\u001B[0m     newexpr \u001B[38;5;241m=\u001B[39m \u001B[38;5;28mgetattr\u001B[39m(expr, hint)(\u001B[38;5;241m*\u001B[39m\u001B[38;5;241m*\u001B[39mhints)\n\u001B[0;32m   3593\u001B[0m     \u001B[38;5;28;01mif\u001B[39;00m newexpr \u001B[38;5;241m!=\u001B[39m expr:\n\u001B[0;32m   3594\u001B[0m         \u001B[38;5;28;01mreturn\u001B[39;00m (newexpr, \u001B[38;5;28;01mTrue\u001B[39;00m)\n",
      "File \u001B[1;32m~\\AppData\\Local\\Programs\\Python\\Python39\\lib\\site-packages\\sympy\\core\\mul.py:947\u001B[0m, in \u001B[0;36mMul._eval_expand_mul\u001B[1;34m(self, **hints)\u001B[0m\n\u001B[0;32m    945\u001B[0m \u001B[38;5;28;01mif\u001B[39;00m sums:\n\u001B[0;32m    946\u001B[0m     deep \u001B[38;5;241m=\u001B[39m hints\u001B[38;5;241m.\u001B[39mget(\u001B[38;5;124m\"\u001B[39m\u001B[38;5;124mdeep\u001B[39m\u001B[38;5;124m\"\u001B[39m, \u001B[38;5;28;01mFalse\u001B[39;00m)\n\u001B[1;32m--> 947\u001B[0m     terms \u001B[38;5;241m=\u001B[39m \u001B[38;5;28;43mself\u001B[39;49m\u001B[38;5;241;43m.\u001B[39;49m\u001B[43mfunc\u001B[49m\u001B[38;5;241;43m.\u001B[39;49m\u001B[43m_expandsums\u001B[49m\u001B[43m(\u001B[49m\u001B[43msums\u001B[49m\u001B[43m)\u001B[49m\n\u001B[0;32m    948\u001B[0m     args \u001B[38;5;241m=\u001B[39m []\n\u001B[0;32m    949\u001B[0m     \u001B[38;5;28;01mfor\u001B[39;00m term \u001B[38;5;129;01min\u001B[39;00m terms:\n",
      "File \u001B[1;32m~\\AppData\\Local\\Programs\\Python\\Python39\\lib\\site-packages\\sympy\\core\\mul.py:912\u001B[0m, in \u001B[0;36mMul._expandsums\u001B[1;34m(sums)\u001B[0m\n\u001B[0;32m    909\u001B[0m left \u001B[38;5;241m=\u001B[39m Mul\u001B[38;5;241m.\u001B[39m_expandsums(sums[:L\u001B[38;5;241m/\u001B[39m\u001B[38;5;241m/\u001B[39m\u001B[38;5;241m2\u001B[39m])\n\u001B[0;32m    910\u001B[0m right \u001B[38;5;241m=\u001B[39m Mul\u001B[38;5;241m.\u001B[39m_expandsums(sums[L\u001B[38;5;241m/\u001B[39m\u001B[38;5;241m/\u001B[39m\u001B[38;5;241m2\u001B[39m:])\n\u001B[1;32m--> 912\u001B[0m terms \u001B[38;5;241m=\u001B[39m [Mul(a, b) \u001B[38;5;28;01mfor\u001B[39;00m a \u001B[38;5;129;01min\u001B[39;00m left \u001B[38;5;28;01mfor\u001B[39;00m b \u001B[38;5;129;01min\u001B[39;00m right]\n\u001B[0;32m    913\u001B[0m added \u001B[38;5;241m=\u001B[39m Add(\u001B[38;5;241m*\u001B[39mterms)\n\u001B[0;32m    914\u001B[0m \u001B[38;5;28;01mreturn\u001B[39;00m Add\u001B[38;5;241m.\u001B[39mmake_args(added)\n",
      "File \u001B[1;32m~\\AppData\\Local\\Programs\\Python\\Python39\\lib\\site-packages\\sympy\\core\\mul.py:912\u001B[0m, in \u001B[0;36m<listcomp>\u001B[1;34m(.0)\u001B[0m\n\u001B[0;32m    909\u001B[0m left \u001B[38;5;241m=\u001B[39m Mul\u001B[38;5;241m.\u001B[39m_expandsums(sums[:L\u001B[38;5;241m/\u001B[39m\u001B[38;5;241m/\u001B[39m\u001B[38;5;241m2\u001B[39m])\n\u001B[0;32m    910\u001B[0m right \u001B[38;5;241m=\u001B[39m Mul\u001B[38;5;241m.\u001B[39m_expandsums(sums[L\u001B[38;5;241m/\u001B[39m\u001B[38;5;241m/\u001B[39m\u001B[38;5;241m2\u001B[39m:])\n\u001B[1;32m--> 912\u001B[0m terms \u001B[38;5;241m=\u001B[39m [\u001B[43mMul\u001B[49m\u001B[43m(\u001B[49m\u001B[43ma\u001B[49m\u001B[43m,\u001B[49m\u001B[43m \u001B[49m\u001B[43mb\u001B[49m\u001B[43m)\u001B[49m \u001B[38;5;28;01mfor\u001B[39;00m a \u001B[38;5;129;01min\u001B[39;00m left \u001B[38;5;28;01mfor\u001B[39;00m b \u001B[38;5;129;01min\u001B[39;00m right]\n\u001B[0;32m    913\u001B[0m added \u001B[38;5;241m=\u001B[39m Add(\u001B[38;5;241m*\u001B[39mterms)\n\u001B[0;32m    914\u001B[0m \u001B[38;5;28;01mreturn\u001B[39;00m Add\u001B[38;5;241m.\u001B[39mmake_args(added)\n",
      "File \u001B[1;32m~\\AppData\\Local\\Programs\\Python\\Python39\\lib\\site-packages\\sympy\\core\\cache.py:70\u001B[0m, in \u001B[0;36m__cacheit.<locals>.func_wrapper.<locals>.wrapper\u001B[1;34m(*args, **kwargs)\u001B[0m\n\u001B[0;32m     67\u001B[0m \u001B[38;5;129m@wraps\u001B[39m(func)\n\u001B[0;32m     68\u001B[0m \u001B[38;5;28;01mdef\u001B[39;00m \u001B[38;5;21mwrapper\u001B[39m(\u001B[38;5;241m*\u001B[39margs, \u001B[38;5;241m*\u001B[39m\u001B[38;5;241m*\u001B[39mkwargs):\n\u001B[0;32m     69\u001B[0m     \u001B[38;5;28;01mtry\u001B[39;00m:\n\u001B[1;32m---> 70\u001B[0m         retval \u001B[38;5;241m=\u001B[39m cfunc(\u001B[38;5;241m*\u001B[39margs, \u001B[38;5;241m*\u001B[39m\u001B[38;5;241m*\u001B[39mkwargs)\n\u001B[0;32m     71\u001B[0m     \u001B[38;5;28;01mexcept\u001B[39;00m \u001B[38;5;167;01mTypeError\u001B[39;00m \u001B[38;5;28;01mas\u001B[39;00m e:\n\u001B[0;32m     72\u001B[0m         \u001B[38;5;28;01mif\u001B[39;00m \u001B[38;5;129;01mnot\u001B[39;00m e\u001B[38;5;241m.\u001B[39margs \u001B[38;5;129;01mor\u001B[39;00m \u001B[38;5;129;01mnot\u001B[39;00m e\u001B[38;5;241m.\u001B[39margs[\u001B[38;5;241m0\u001B[39m]\u001B[38;5;241m.\u001B[39mstartswith(\u001B[38;5;124m'\u001B[39m\u001B[38;5;124munhashable type:\u001B[39m\u001B[38;5;124m'\u001B[39m):\n",
      "File \u001B[1;32m~\\AppData\\Local\\Programs\\Python\\Python39\\lib\\site-packages\\sympy\\core\\operations.py:98\u001B[0m, in \u001B[0;36mAssocOp.__new__\u001B[1;34m(cls, evaluate, _sympify, *args)\u001B[0m\n\u001B[0;32m     95\u001B[0m \u001B[38;5;28;01mif\u001B[39;00m \u001B[38;5;28mlen\u001B[39m(args) \u001B[38;5;241m==\u001B[39m \u001B[38;5;241m1\u001B[39m:\n\u001B[0;32m     96\u001B[0m     \u001B[38;5;28;01mreturn\u001B[39;00m args[\u001B[38;5;241m0\u001B[39m]\n\u001B[1;32m---> 98\u001B[0m c_part, nc_part, order_symbols \u001B[38;5;241m=\u001B[39m \u001B[38;5;28;43mcls\u001B[39;49m\u001B[38;5;241;43m.\u001B[39;49m\u001B[43mflatten\u001B[49m\u001B[43m(\u001B[49m\u001B[43margs\u001B[49m\u001B[43m)\u001B[49m\n\u001B[0;32m     99\u001B[0m is_commutative \u001B[38;5;241m=\u001B[39m \u001B[38;5;129;01mnot\u001B[39;00m nc_part\n\u001B[0;32m    100\u001B[0m obj \u001B[38;5;241m=\u001B[39m \u001B[38;5;28mcls\u001B[39m\u001B[38;5;241m.\u001B[39m_from_args(c_part \u001B[38;5;241m+\u001B[39m nc_part, is_commutative)\n",
      "File \u001B[1;32m~\\AppData\\Local\\Programs\\Python\\Python39\\lib\\site-packages\\sympy\\core\\mul.py:703\u001B[0m, in \u001B[0;36mMul.flatten\u001B[1;34m(cls, seq)\u001B[0m\n\u001B[0;32m    700\u001B[0m c_part \u001B[38;5;241m=\u001B[39m _new\n\u001B[0;32m    702\u001B[0m \u001B[38;5;66;03m# order commutative part canonically\u001B[39;00m\n\u001B[1;32m--> 703\u001B[0m \u001B[43m_mulsort\u001B[49m\u001B[43m(\u001B[49m\u001B[43mc_part\u001B[49m\u001B[43m)\u001B[49m\n\u001B[0;32m    705\u001B[0m \u001B[38;5;66;03m# current code expects coeff to be always in slot-0\u001B[39;00m\n\u001B[0;32m    706\u001B[0m \u001B[38;5;28;01mif\u001B[39;00m coeff \u001B[38;5;129;01mis\u001B[39;00m \u001B[38;5;129;01mnot\u001B[39;00m S\u001B[38;5;241m.\u001B[39mOne:\n",
      "File \u001B[1;32m~\\AppData\\Local\\Programs\\Python\\Python39\\lib\\site-packages\\sympy\\core\\mul.py:35\u001B[0m, in \u001B[0;36m_mulsort\u001B[1;34m(args)\u001B[0m\n\u001B[0;32m     33\u001B[0m \u001B[38;5;28;01mdef\u001B[39;00m \u001B[38;5;21m_mulsort\u001B[39m(args):\n\u001B[0;32m     34\u001B[0m     \u001B[38;5;66;03m# in-place sorting of args\u001B[39;00m\n\u001B[1;32m---> 35\u001B[0m     \u001B[43margs\u001B[49m\u001B[38;5;241;43m.\u001B[39;49m\u001B[43msort\u001B[49m\u001B[43m(\u001B[49m\u001B[43mkey\u001B[49m\u001B[38;5;241;43m=\u001B[39;49m\u001B[43m_args_sortkey\u001B[49m\u001B[43m)\u001B[49m\n",
      "File \u001B[1;32m~\\AppData\\Local\\Programs\\Python\\Python39\\lib\\site-packages\\sympy\\core\\basic.py:243\u001B[0m, in \u001B[0;36mBasic.compare\u001B[1;34m(self, other)\u001B[0m\n\u001B[0;32m    241\u001B[0m r \u001B[38;5;241m=\u001B[39m Basic(\u001B[38;5;241m*\u001B[39mr) \u001B[38;5;28;01mif\u001B[39;00m \u001B[38;5;28misinstance\u001B[39m(r, \u001B[38;5;28mfrozenset\u001B[39m) \u001B[38;5;28;01melse\u001B[39;00m r\n\u001B[0;32m    242\u001B[0m \u001B[38;5;28;01mif\u001B[39;00m \u001B[38;5;28misinstance\u001B[39m(l, Basic):\n\u001B[1;32m--> 243\u001B[0m     c \u001B[38;5;241m=\u001B[39m \u001B[43ml\u001B[49m\u001B[38;5;241;43m.\u001B[39;49m\u001B[43mcompare\u001B[49m\u001B[43m(\u001B[49m\u001B[43mr\u001B[49m\u001B[43m)\u001B[49m\n\u001B[0;32m    244\u001B[0m \u001B[38;5;28;01melse\u001B[39;00m:\n\u001B[0;32m    245\u001B[0m     c \u001B[38;5;241m=\u001B[39m (l \u001B[38;5;241m>\u001B[39m r) \u001B[38;5;241m-\u001B[39m (l \u001B[38;5;241m<\u001B[39m r)\n",
      "File \u001B[1;32m~\\AppData\\Local\\Programs\\Python\\Python39\\lib\\site-packages\\sympy\\core\\basic.py:230\u001B[0m, in \u001B[0;36mBasic.compare\u001B[1;34m(self, other)\u001B[0m\n\u001B[0;32m    228\u001B[0m n1 \u001B[38;5;241m=\u001B[39m \u001B[38;5;28mself\u001B[39m\u001B[38;5;241m.\u001B[39m\u001B[38;5;18m__class__\u001B[39m\n\u001B[0;32m    229\u001B[0m n2 \u001B[38;5;241m=\u001B[39m other\u001B[38;5;241m.\u001B[39m\u001B[38;5;18m__class__\u001B[39m\n\u001B[1;32m--> 230\u001B[0m c \u001B[38;5;241m=\u001B[39m (\u001B[43mn1\u001B[49m\u001B[43m \u001B[49m\u001B[38;5;241;43m>\u001B[39;49m\u001B[43m \u001B[49m\u001B[43mn2\u001B[49m) \u001B[38;5;241m-\u001B[39m (n1 \u001B[38;5;241m<\u001B[39m n2)\n\u001B[0;32m    231\u001B[0m \u001B[38;5;28;01mif\u001B[39;00m c:\n\u001B[0;32m    232\u001B[0m     \u001B[38;5;28;01mreturn\u001B[39;00m c\n",
      "File \u001B[1;32m~\\AppData\\Local\\Programs\\Python\\Python39\\lib\\site-packages\\sympy\\core\\core.py:102\u001B[0m, in \u001B[0;36mBasicMeta.__gt__\u001B[1;34m(cls, other)\u001B[0m\n\u001B[0;32m    101\u001B[0m \u001B[38;5;28;01mdef\u001B[39;00m \u001B[38;5;21m__gt__\u001B[39m(\u001B[38;5;28mcls\u001B[39m, other):\n\u001B[1;32m--> 102\u001B[0m     \u001B[38;5;28;01mif\u001B[39;00m \u001B[38;5;28;43mcls\u001B[39;49m\u001B[38;5;241;43m.\u001B[39;49m\u001B[43m__cmp__\u001B[49m\u001B[43m(\u001B[49m\u001B[43mother\u001B[49m\u001B[43m)\u001B[49m \u001B[38;5;241m==\u001B[39m \u001B[38;5;241m1\u001B[39m:\n\u001B[0;32m    103\u001B[0m         \u001B[38;5;28;01mreturn\u001B[39;00m \u001B[38;5;28;01mTrue\u001B[39;00m\n\u001B[0;32m    104\u001B[0m     \u001B[38;5;28;01mreturn\u001B[39;00m \u001B[38;5;28;01mFalse\u001B[39;00m\n",
      "File \u001B[1;32m~\\AppData\\Local\\Programs\\Python\\Python39\\lib\\site-packages\\sympy\\core\\core.py:86\u001B[0m, in \u001B[0;36mBasicMeta.__cmp__\u001B[1;34m(cls, other)\u001B[0m\n\u001B[0;32m     84\u001B[0m \u001B[38;5;28;01mtry\u001B[39;00m:\n\u001B[0;32m     85\u001B[0m     i1 \u001B[38;5;241m=\u001B[39m ordering_of_classes\u001B[38;5;241m.\u001B[39mindex(n1)\n\u001B[1;32m---> 86\u001B[0m \u001B[38;5;28;01mexcept\u001B[39;00m \u001B[38;5;167;43;01mValueError\u001B[39;49;00m:\n\u001B[0;32m     87\u001B[0m     i1 \u001B[38;5;241m=\u001B[39m UNKNOWN\n\u001B[0;32m     88\u001B[0m \u001B[38;5;28;01mtry\u001B[39;00m:\n",
      "\u001B[1;31mKeyboardInterrupt\u001B[0m: "
     ]
    }
   ],
   "source": [
    "import sympy as sp\n",
    "\n",
    "# Define the variables\n",
    "w, a, x, t1, t2 = sp.symbols('w a x t1 t2')\n",
    "times = [t1, t2]\n",
    "\n",
    "\n",
    "# Define the functions p[1, t, w, a] and p[-1, t, w, a]\n",
    "def p(x, t, w, a):\n",
    "    return 1 / 2 * (1 + x * sp.cos(w * t) * sp.exp(-a * t))\n",
    "\n",
    "\n",
    "# Define the function f(t, w, a, x)\n",
    "def f(t, w, a, x):\n",
    "    return p(x, t, w, a) ** ((x + 1) / 2) * (1 - p(x, t, w, a)) ** ((1 - x) / 2)\n",
    "\n",
    "\n",
    "# Calculate partial derivatives of the log-likelihood function\n",
    "def partialW(t, w, a, x):\n",
    "    return sp.diff(p(x, t, w, a), w)\n",
    "\n",
    "\n",
    "def partialA(t, w, a, x):\n",
    "    return sp.diff(p(x, t, w, a), a)\n",
    "\n",
    "\n",
    "def partialWW(t, w, a, x):\n",
    "    return sp.diff(partialW(t, w, a, x), w)\n",
    "\n",
    "\n",
    "def partialAA(t, w, a, x):\n",
    "    return sp.diff(partialA(t, w, a, x), a)\n",
    "\n",
    "\n",
    "def partialAW(t, w, a, x):\n",
    "    return sp.diff(partialA(t, w, a, x), w)\n",
    "\n",
    "\n",
    "# Define the information matrix components\n",
    "def i_wa(times, w, a):\n",
    "    val = 0\n",
    "    for t in times:\n",
    "        val += sum([(partialW(t, w, a, xi) * partialA(t, w, a, xi)) / p(xi, t, w, a) for xi in [-1, 1]])\n",
    "    return val\n",
    "\n",
    "\n",
    "def i_ww(times, w, a):\n",
    "    val = 0\n",
    "    for t in times:\n",
    "        val += sum([(partialW(t, w, a, xi) ** 2) / p(xi, t, w, a) for xi in [-1, 1]])\n",
    "    return val\n",
    "\n",
    "\n",
    "def i_aa(times, w, a):\n",
    "    val = 0\n",
    "    for t in times:\n",
    "        val += sum([(partialA(t, w, a, xi) ** 2) / p(xi, t, w, a) for xi in [-1, 1]])\n",
    "    return val\n",
    "\n",
    "\n",
    "# Define VarA\n",
    "VarA = i_ww(times, w, a) / (i_ww(times, w, a) * i_aa(times, w, a) - 2 * i_wa(times, w, a))\n",
    "VarW = i_aa(times, w, a) / (i_ww(times, w, a) * i_aa(times, w, a) - 2 * i_wa(times, w, a))\n",
    "\n",
    "Var = VarA + VarW\n",
    "\n",
    "# Substitute w = a = 3\n",
    "VarA_sub = VarA.subs({w: 3, a: 3})\n",
    "\n",
    "# Find the minimum values of t1 and t2\n",
    "min_t1_t2 = sp.solve([sp.diff(VarA_sub, t1), sp.diff(VarA_sub, t2)], (t1, t2))\n",
    "min_t1_t2\n"
   ],
   "metadata": {
    "collapsed": false
   }
  },
  {
   "cell_type": "code",
   "execution_count": 232,
   "outputs": [
    {
     "data": {
      "text/plain": "1.0*(exp(a*t1) - cos(t1*w))*(exp(a*t1) + cos(t1*w))*(exp(a*t2) - cos(t2*w))*(exp(a*t2) + cos(t2*w))*(-t1**2*exp(2*a*t2)*sin(t1*w)**2 - t1**2*sin(t1*w)**2*sin(t2*w)**2 + t1**2*sin(t1*w)**2 - t2**2*exp(2*a*t1)*sin(t2*w)**2 - t2**2*sin(t1*w)**2*sin(t2*w)**2 + t2**2*sin(t2*w)**2)*exp(-a*t1 - a*t2 + 2*a*(t1 + t2))/(t1**2*(exp(a*t1) - cos(t1*w))**2*(exp(a*t1) + cos(t1*w))*(exp(a*t2) - cos(t2*w))**2*(exp(a*t2) + cos(t2*w))**2*exp(a*t2)*sin(t1*w)*cos(t1*w) + t1**2*(exp(a*t1) - cos(t1*w))*(exp(a*t1) + cos(t1*w))**2*(exp(a*t2) - cos(t2*w))**2*(exp(a*t2) + cos(t2*w))**2*exp(a*t2)*sin(t1*w)*cos(t1*w) + t2**2*(exp(a*t1) - cos(t1*w))**2*(exp(a*t1) + cos(t1*w))**2*(exp(a*t2) - cos(t2*w))**2*(exp(a*t2) + cos(t2*w))*exp(a*t1)*sin(t2*w)*cos(t2*w) + t2**2*(exp(a*t1) - cos(t1*w))**2*(exp(a*t1) + cos(t1*w))**2*(exp(a*t2) - cos(t2*w))*(exp(a*t2) + cos(t2*w))**2*exp(a*t1)*sin(t2*w)*cos(t2*w) - (t1**2*exp(2*a*t2)*cos(t1*w)**2 - t1**2*cos(t1*w)**2*cos(t2*w)**2 + t2**2*exp(2*a*t1)*cos(t2*w)**2 - t2**2*cos(t1*w)**2*cos(t2*w)**2)*(t1**2*exp(2*a*t2)*sin(t1*w)**2 + t1**2*sin(t1*w)**2*sin(t2*w)**2 - t1**2*sin(t1*w)**2 + t2**2*exp(2*a*t1)*sin(t2*w)**2 + t2**2*sin(t1*w)**2*sin(t2*w)**2 - t2**2*sin(t2*w)**2)*exp(a*t1 + a*t2))",
      "text/latex": "$\\displaystyle \\frac{1.0 \\left(e^{a t_{1}} - \\cos{\\left(t_{1} w \\right)}\\right) \\left(e^{a t_{1}} + \\cos{\\left(t_{1} w \\right)}\\right) \\left(e^{a t_{2}} - \\cos{\\left(t_{2} w \\right)}\\right) \\left(e^{a t_{2}} + \\cos{\\left(t_{2} w \\right)}\\right) \\left(- t_{1}^{2} e^{2 a t_{2}} \\sin^{2}{\\left(t_{1} w \\right)} - t_{1}^{2} \\sin^{2}{\\left(t_{1} w \\right)} \\sin^{2}{\\left(t_{2} w \\right)} + t_{1}^{2} \\sin^{2}{\\left(t_{1} w \\right)} - t_{2}^{2} e^{2 a t_{1}} \\sin^{2}{\\left(t_{2} w \\right)} - t_{2}^{2} \\sin^{2}{\\left(t_{1} w \\right)} \\sin^{2}{\\left(t_{2} w \\right)} + t_{2}^{2} \\sin^{2}{\\left(t_{2} w \\right)}\\right) e^{- a t_{1} - a t_{2} + 2 a \\left(t_{1} + t_{2}\\right)}}{t_{1}^{2} \\left(e^{a t_{1}} - \\cos{\\left(t_{1} w \\right)}\\right)^{2} \\left(e^{a t_{1}} + \\cos{\\left(t_{1} w \\right)}\\right) \\left(e^{a t_{2}} - \\cos{\\left(t_{2} w \\right)}\\right)^{2} \\left(e^{a t_{2}} + \\cos{\\left(t_{2} w \\right)}\\right)^{2} e^{a t_{2}} \\sin{\\left(t_{1} w \\right)} \\cos{\\left(t_{1} w \\right)} + t_{1}^{2} \\left(e^{a t_{1}} - \\cos{\\left(t_{1} w \\right)}\\right) \\left(e^{a t_{1}} + \\cos{\\left(t_{1} w \\right)}\\right)^{2} \\left(e^{a t_{2}} - \\cos{\\left(t_{2} w \\right)}\\right)^{2} \\left(e^{a t_{2}} + \\cos{\\left(t_{2} w \\right)}\\right)^{2} e^{a t_{2}} \\sin{\\left(t_{1} w \\right)} \\cos{\\left(t_{1} w \\right)} + t_{2}^{2} \\left(e^{a t_{1}} - \\cos{\\left(t_{1} w \\right)}\\right)^{2} \\left(e^{a t_{1}} + \\cos{\\left(t_{1} w \\right)}\\right)^{2} \\left(e^{a t_{2}} - \\cos{\\left(t_{2} w \\right)}\\right)^{2} \\left(e^{a t_{2}} + \\cos{\\left(t_{2} w \\right)}\\right) e^{a t_{1}} \\sin{\\left(t_{2} w \\right)} \\cos{\\left(t_{2} w \\right)} + t_{2}^{2} \\left(e^{a t_{1}} - \\cos{\\left(t_{1} w \\right)}\\right)^{2} \\left(e^{a t_{1}} + \\cos{\\left(t_{1} w \\right)}\\right)^{2} \\left(e^{a t_{2}} - \\cos{\\left(t_{2} w \\right)}\\right) \\left(e^{a t_{2}} + \\cos{\\left(t_{2} w \\right)}\\right)^{2} e^{a t_{1}} \\sin{\\left(t_{2} w \\right)} \\cos{\\left(t_{2} w \\right)} - \\left(t_{1}^{2} e^{2 a t_{2}} \\cos^{2}{\\left(t_{1} w \\right)} - t_{1}^{2} \\cos^{2}{\\left(t_{1} w \\right)} \\cos^{2}{\\left(t_{2} w \\right)} + t_{2}^{2} e^{2 a t_{1}} \\cos^{2}{\\left(t_{2} w \\right)} - t_{2}^{2} \\cos^{2}{\\left(t_{1} w \\right)} \\cos^{2}{\\left(t_{2} w \\right)}\\right) \\left(t_{1}^{2} e^{2 a t_{2}} \\sin^{2}{\\left(t_{1} w \\right)} + t_{1}^{2} \\sin^{2}{\\left(t_{1} w \\right)} \\sin^{2}{\\left(t_{2} w \\right)} - t_{1}^{2} \\sin^{2}{\\left(t_{1} w \\right)} + t_{2}^{2} e^{2 a t_{1}} \\sin^{2}{\\left(t_{2} w \\right)} + t_{2}^{2} \\sin^{2}{\\left(t_{1} w \\right)} \\sin^{2}{\\left(t_{2} w \\right)} - t_{2}^{2} \\sin^{2}{\\left(t_{2} w \\right)}\\right) e^{a t_{1} + a t_{2}}}$"
     },
     "execution_count": 232,
     "metadata": {},
     "output_type": "execute_result"
    }
   ],
   "source": [
    "VarA"
   ],
   "metadata": {
    "collapsed": false
   }
  },
  {
   "cell_type": "code",
   "execution_count": null,
   "outputs": [],
   "source": [],
   "metadata": {
    "collapsed": false
   }
  }
 ],
 "metadata": {
  "kernelspec": {
   "display_name": "Python 3",
   "language": "python",
   "name": "python3"
  },
  "language_info": {
   "codemirror_mode": {
    "name": "ipython",
    "version": 2
   },
   "file_extension": ".py",
   "mimetype": "text/x-python",
   "name": "python",
   "nbconvert_exporter": "python",
   "pygments_lexer": "ipython2",
   "version": "2.7.6"
  }
 },
 "nbformat": 4,
 "nbformat_minor": 0
}
