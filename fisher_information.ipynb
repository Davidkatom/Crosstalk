{
 "cells": [
  {
   "cell_type": "code",
   "execution_count": 2,
   "metadata": {
    "collapsed": true
   },
   "outputs": [],
   "source": [
    "import Ramsey_ExperimentV2\n",
    "import estimator\n",
    "import numpy as np"
   ]
  },
  {
   "cell_type": "code",
   "execution_count": 3,
   "outputs": [],
   "source": [
    "import Ramsey_ExperimentV2\n",
    "import random\n",
    "import importlib\n",
    "from tqdm import tqdm\n",
    "\n",
    "ramsey_experiment = importlib.reload(Ramsey_ExperimentV2)\n",
    "RamseyExperiment = ramsey_experiment.RamseyExperiment\n",
    "RamseyBatch = ramsey_experiment.RamseyBatch\n",
    "\n",
    "h = lambda n, J, z: sum([J[i] * (z[i] - 1) * (z[(i + 1) % n] - 1) for i in range(n - 1)])\n",
    "y_lornz = lambda a, x, w: np.pi * (2 * a / (a ** 2 + (x - w) ** 2) + 2 * a / (a ** 2 + (x + w) ** 2))\n",
    "y_lornz_single = lambda a, x, w: (2 * a / ((a ** 2 + x ** 2) * 2 * np.pi))\n",
    "\n",
    "\n",
    "def sinc(x_values):\n",
    "    X = []\n",
    "    for x in x_values:\n",
    "        X.append((np.sin(2 * x * np.pi) / (2 * x * np.pi) if x != 0 else 1))\n",
    "    return X\n",
    "\n",
    "\n",
    "def fisher_inf(x, w, a):\n",
    "    cos_wx_squared = np.cos(w * x) ** 2\n",
    "    sin_wx_squared = np.sin(w * x) ** 2\n",
    "    exp_ax = np.exp(a * x)\n",
    "\n",
    "    term1 = x ** 2 * cos_wx_squared / (exp_ax + np.cos(w * x)) ** 2\n",
    "    term2 = x ** 2 * sin_wx_squared / (exp_ax + np.cos(w * x)) ** 2\n",
    "\n",
    "    return term1 + term2\n",
    "\n",
    "\n",
    "def effective_hem(size, J, W):\n",
    "    hem = np.zeros((2 ** size, 2 ** size))\n",
    "    for i in range(2 ** size):\n",
    "        binary = '{0:b}'.format(i).zfill(size)\n",
    "        Z = [(-1) ** int(i) for i in binary]\n",
    "        #Z.reverse()\n",
    "        hem[i, i] = h(size, J, Z)\n",
    "        hem[i, i] += sum([W[k] for k in range(size) if binary[k] == '1'])\n",
    "    return hem"
   ],
   "metadata": {
    "collapsed": false
   }
  },
  {
   "cell_type": "code",
   "execution_count": 4,
   "outputs": [],
   "source": [
    "import numpy as np\n",
    "\n",
    "\n",
    "def p(t, w, a):\n",
    "    return 1 / 2 * (1 + np.cos(w * t) * np.exp(-a * t))\n",
    "\n",
    "\n",
    "def pw(t, w, a):\n",
    "    return - 1 / 2 * t * np.sin(w * t) * np.exp(-a * t)\n",
    "\n",
    "\n",
    "def pww(t, w, a):\n",
    "    return - 1 / 2 * t ** 2 * np.cos(w * t) * np.exp(-a * t)\n",
    "\n",
    "\n",
    "def pa(t, w, a):\n",
    "    return - 1 / 2 * t * np.cos(w * t) * np.exp(-a * t)\n",
    "\n",
    "\n",
    "def paa(t, w, a):\n",
    "    return 1 / 2 * t ** 2 * np.cos(w * t) * np.exp(-a * t)\n",
    "\n",
    "\n",
    "def paw(t, w, a):\n",
    "    return 1 / 2 * t ** 2 * np.sin(w * t) * np.exp(-a * t)\n",
    "\n",
    "\n",
    "def fisher_matrix(t, w, a, shots):\n",
    "    Iww = 0\n",
    "    Iaa = 0\n",
    "    Iwa = 0\n",
    "\n",
    "    for i in range(len(t)):\n",
    "        p0 = p(t[i], w, a)\n",
    "        p1 = 1 - p0\n",
    "        pw0 = pw(t[i], w, a)\n",
    "        pw1 = -pw0\n",
    "        pww0 = pww(t[i], w, a)\n",
    "        pww1 = -pww0\n",
    "        pa0 = pa(t[i], w, a)\n",
    "        pa1 = -pa0\n",
    "        paa0 = paa(t[i], w, a)\n",
    "        paa1 = -paa0\n",
    "        paw0 = paw(t[i], w, a)\n",
    "        paw1 = -paw0\n",
    "\n",
    "        if p0 == 0:\n",
    "            p0 = 1e-10\n",
    "        if p1 == 0:\n",
    "            p1 = 1e-10\n",
    "\n",
    "        # Iww -= shots[i] * (p0 * ((pww0 * p0 - pw0 ** 2) / p0 ** 2) + p1 * ((pww1 * p1 - pw1\n",
    "        #                                                                     ** 2) / p1 ** 2))\n",
    "        # Iaa -= shots[i] * (p0 * ((paa0 * p0 - pa0 ** 2) / p0 ** 2) + p1 * ((paa1 * p1 - pa1 ** 2) / p1 ** 2))\n",
    "        # Iwa -= shots[i] * (p0 * ((paw0 * p0 - pw0 * pa0) / p0 ** 2) + p1 * ((paw1 * p1 - pw1 * pa1) / p1 ** 2))\n",
    "\n",
    "        Iww += shots[i] * (p0 * ((pw0 ** 2) / p0 ** 2) + p1 * ((pw1 ** 2) / p1 ** 2))\n",
    "        Iaa += shots[i] * (p0 * ((pa0 ** 2) / p0 ** 2) + p1 * ((pa1 ** 2) / p1 ** 2))\n",
    "        Iwa += shots[i] * (p0 * ((pw0 * pa0) / p0 ** 2) + p1 * ((pw1 * pa1) / p1 ** 2))\n",
    "    return np.array([[Iww, Iwa], [Iwa, Iaa]])\n",
    "\n",
    "\n",
    "\n",
    "def lower_bound(f_mat):\n",
    "    inv = np.linalg.inv(f_mat)\n",
    "    inv = inv.reshape(2,2)\n",
    "    w_var = np.sqrt(inv[0, 0])\n",
    "    a_var = np.sqrt(inv[1, 1])\n",
    "\n",
    "    #a_var = np.sqrt(inv[1, 1])\n",
    "    return w_var, a_var\n",
    "\n"
   ],
   "metadata": {
    "collapsed": false
   }
  },
  {
   "cell_type": "code",
   "execution_count": 80,
   "outputs": [
    {
     "name": "stdout",
     "output_type": "stream",
     "text": [
      "Optimal times =  [0.4439408177388039, 1.7846954213251127]\n",
      "Optimal shots =  [462, 538]\n",
      "lower_bound =  0.14275372116613472\n"
     ]
    }
   ],
   "source": [
    "from scipy.optimize import minimize\n",
    "\n",
    "\n",
    "def find_optimal_times(W, A, N, Total_Shots=1000):\n",
    "    def model_func(params):\n",
    "        t = params[0:N]\n",
    "        shots = params[N:2 * N]\n",
    "        Iww = [0] * len(W)\n",
    "        Iaa = [0] * len(W)\n",
    "        Iwa = [0] * len(W)\n",
    "\n",
    "        for i in range(len(t)):\n",
    "            for j in range(len(W)):\n",
    "                w = W[j]\n",
    "                a = A[j]\n",
    "                p0 = p(t[i], w, a)\n",
    "                p1 = 1 - p0\n",
    "                pw0 = pw(t[i], w, a)\n",
    "                pw1 = -pw0\n",
    "                pww0 = pww(t[i], w, a)\n",
    "                pww1 = -pww0\n",
    "                pa0 = pa(t[i], w, a)\n",
    "                pa1 = -pa0\n",
    "                paa0 = paa(t[i], w, a)\n",
    "                paa1 = -paa0\n",
    "                paw0 = paw(t[i], w, a)\n",
    "                paw1 = -paw0\n",
    "\n",
    "                if p0 == 0:\n",
    "                    p0 = 1e-10\n",
    "                if p1 == 0:\n",
    "                    p1 = 1e-10\n",
    "\n",
    "                Iww[j] -= shots[i] * (p0 * ((pww0 * p0 - pw0 ** 2) / p0 ** 2) + p1 * ((pww1 * p1 - pw1\n",
    "                                                                                    ** 2) / p1 ** 2))\n",
    "                Iaa[j] -= shots[i] * (p0 * ((paa0 * p0 - pa0 ** 2) / p0 ** 2) + p1 * ((paa1 * p1 - pa1 ** 2) / p1 ** 2))\n",
    "                Iwa[j] -= shots[i] * (p0 * ((paw0 * p0 - pw0 * pa0) / p0 ** 2) + p1 * ((paw1 * p1 - pw1 * pa1) / p1 ** 2))\n",
    "\n",
    "        lower_w_bound = np.sum([10000 * Iaa[j] / (Iaa[j] * Iww[j] - Iwa[j] ** 2) for j in range(len(W))])\n",
    "        lower_a_bound = np.sum([10000 * Iww[j] / (Iaa[j] * Iww[j] - Iwa[j] ** 2) for j in range(len(W))])\n",
    "        return lower_w_bound + lower_a_bound\n",
    "\n",
    "    def shots_constraint(params):\n",
    "        return np.sum(params[N:2 * N]) - Total_Shots\n",
    "\n",
    "    # Define the constraint as a dictionary\n",
    "    cons = ({'type': 'eq', 'fun': shots_constraint})\n",
    "    initial_guess = np.concatenate([np.random.uniform(0, 0.01, N), np.full(N, Total_Shots / N)])\n",
    "    result = minimize(model_func, initial_guess, method='trust-constr', bounds=[(0, 2*np.pi)] * N + [(0, 1000)] * N,\n",
    "                      constraints=cons)\n",
    "    return result.x\n",
    "\n",
    "\n",
    "def process_result(result):\n",
    "    times = result[0:N]\n",
    "    shots = result[N:2 * N]\n",
    "\n",
    "    grouped_times = []\n",
    "    grouped_shots = []\n",
    "\n",
    "    for i in range(len(times)):\n",
    "        for j in range(len(grouped_times)):\n",
    "            if abs(grouped_times[j] - times[i]) < 0.005:\n",
    "                #grouped_times.append(times[i])\n",
    "                grouped_shots[j] += shots[i]\n",
    "                break\n",
    "        else:\n",
    "            grouped_times.append(times[i])\n",
    "            grouped_shots.append(shots[i])\n",
    "\n",
    "    paired = sorted(zip(grouped_times, grouped_shots))\n",
    "    times = [x for x, _ in paired]\n",
    "    shots = [int(round(y)) for _, y in paired]\n",
    "\n",
    "    return times, shots\n",
    "\n",
    "\n",
    "N = 2\n",
    "Total_Shots = N * 500\n",
    "w = [1]\n",
    "a = [1]\n",
    "result = find_optimal_times(w, a, N, Total_Shots)\n",
    "optimal_times, optimal_shots = process_result(result)\n",
    "\n",
    "regular_times = np.linspace(0, 3*np.pi, N)\n",
    "print(\"Optimal times = \", optimal_times)\n",
    "print(\"Optimal shots = \", optimal_shots)\n",
    "fishers = [fisher_matrix(optimal_times, w[i], a[i], [Total_Shots/N]*N) for i in range(len(w))]\n",
    "bound_w, bound_a = lower_bound(fishers)\n",
    "print(\"lower_bound = \", (bound_w + bound_a)/(w[0]**2 + a[0]**2))"
   ],
   "metadata": {
    "collapsed": false
   }
  },
  {
   "cell_type": "code",
   "execution_count": 81,
   "outputs": [
    {
     "name": "stdout",
     "output_type": "stream",
     "text": [
      "1.1612300009168073\n"
     ]
    },
    {
     "data": {
      "text/plain": "<Figure size 640x480 with 1 Axes>",
      "image/png": "[encoded data removed]"
     },
     "metadata": {},
     "output_type": "display_data"
    }
   ],
   "source": [
    "import matplotlib.pyplot as plt\n",
    "shots= np.logspace(2,6,num=6-2+1,base=10,dtype='int')\n",
    "bounds = []\n",
    "for s in shots:\n",
    "    mat = fisher_matrix(optimal_times, w[0], a[0], [s]*N)\n",
    "    bounds.append(lower_bound(mat)[0])\n",
    "plt.plot(shots, bounds, label='2 times numeric')\n",
    "\n",
    "plt.plot(shots, np.e * a[0]/ np.sqrt(shots), '--', label='two quadratures analytical')\n",
    "\n",
    "plt.legend()\n",
    "plt.xlabel('Shots')\n",
    "plt.ylabel('Error')\n",
    "plt.xscale('log')\n",
    "plt.yscale('log')\n",
    "print(bounds[4]/(np.e*a[0]/np.sqrt(shots[4])))\n"
   ],
   "metadata": {
    "collapsed": false
   }
  },
  {
   "cell_type": "code",
   "execution_count": 63,
   "outputs": [],
   "source": [
    "A=[1]\n",
    "W = np.linspace(0, 3, 26)\n",
    "W = np.delete(W, 0)\n",
    "\n",
    "ratio = []\n",
    "fisher_bounds = []\n",
    "quads_bounds = []\n",
    "for w in W:\n",
    "    result = find_optimal_times([w], A, 2, Total_Shots)\n",
    "    optimal_times, optimal_shots = process_result(result)\n",
    "\n",
    "    mat = fisher_matrix(optimal_times, w, A[0], [5000]*2)\n",
    "    fisher_bound = lower_bound(mat)[0]\n",
    "\n",
    "    quads_bound = np.e * A[0]/np.sqrt(5000) #TODO check if division is correct\n",
    "    fisher_bounds.append(fisher_bound)\n",
    "    quads_bounds.append(quads_bound)\n",
    "    ratio.append(fisher_bound/quads_bound)\n"
   ],
   "metadata": {
    "collapsed": false
   }
  },
  {
   "cell_type": "code",
   "execution_count": 64,
   "outputs": [
    {
     "data": {
      "text/plain": "<Figure size 1000x400 with 1 Axes>",
      "image/png": "[encoded data removed]"
     },
     "metadata": {},
     "output_type": "display_data"
    }
   ],
   "source": [
    "plt.figure(figsize=(10, 4))  # Adjust the figure size to make the plot longer\n",
    "plt.rcParams['text.usetex'] = True\n",
    "font = {'family' : 'normal',\n",
    "        'weight' : 'bold',\n",
    "        'size'   : 14}\n",
    "plt.rc('font', **font)\n",
    "plt.plot(W, fisher_bounds, linestyle='--', marker='o', markersize=5, label='Fisher bound')\n",
    "plt.plot(W, quads_bounds, linestyle='--', marker='o', markersize=5, label='Two quadratures bound')\n",
    "plt.xlabel('Frequency (w)')\n",
    "plt.ylabel('bound')\n",
    "plt.legend()\n",
    "plt.show()\n"
   ],
   "metadata": {
    "collapsed": false
   }
  },
  {
   "cell_type": "code",
   "execution_count": 59,
   "outputs": [
    {
     "name": "stderr",
     "output_type": "stream",
     "text": [
      "C:\\Users\\user\\AppData\\Local\\Programs\\Python\\Python39\\lib\\site-packages\\scipy\\optimize\\_differentiable_functions.py:231: UserWarning: delta_grad == 0.0. Check if the approximated function is linear. If the function is linear better results can be obtained by defining the Hessian as zero instead of using quasi-Newton approximations.\n",
      "  self.H.update(self.x - self.x_prev, self.g - self.g_prev)\n"
     ]
    }
   ],
   "source": [
    "W=[1]\n",
    "A = np.linspace(0, 3, 26)\n",
    "A = np.delete(A, 0)\n",
    "\n",
    "ratio = []\n",
    "fisher_bounds = []\n",
    "quads_bounds = []\n",
    "for a in A:\n",
    "    result = find_optimal_times(W,[a], 2, Total_Shots)\n",
    "    optimal_times, optimal_shots = process_result(result)\n",
    "\n",
    "    mat = fisher_matrix(optimal_times, W[0], a, [5000]*2)\n",
    "    # fisher_bound = lower_bound(mat)[0]+lower_bound(mat)[1]\n",
    "    fisher_bound = lower_bound(mat)[0]\n",
    "\n",
    "    quads_bound = np.e * a/np.sqrt(5000) #TODO check if division is correct\n",
    "    fisher_bounds.append(fisher_bound)\n",
    "    quads_bounds.append(quads_bound)\n",
    "    ratio.append(fisher_bound/quads_bound)\n"
   ],
   "metadata": {
    "collapsed": false
   }
  },
  {
   "cell_type": "code",
   "execution_count": 60,
   "outputs": [
    {
     "data": {
      "text/plain": "<Figure size 1000x400 with 1 Axes>",
      "image/png": "[encoded data removed]"
     },
     "metadata": {},
     "output_type": "display_data"
    }
   ],
   "source": [
    "plt.figure(figsize=(10, 4))  # Adjust the figure size to make the plot longer\n",
    "plt.rcParams['text.usetex'] = True\n",
    "font = {'family' : 'normal',\n",
    "        'weight' : 'bold',\n",
    "        'size'   : 14}\n",
    "plt.rc('font', **font)\n",
    "plt.plot(A, fisher_bounds, linestyle='--', marker='o', markersize=5, label='Fisher bound')\n",
    "plt.plot(A, quads_bounds, linestyle='--', marker='o', markersize=5, label='Two quadratures bound')\n",
    "\n",
    "plt.xlabel('Decay (A)')\n",
    "plt.ylabel('bound')\n",
    "plt.legend()\n",
    "plt.show()\n"
   ],
   "metadata": {
    "collapsed": false
   }
  },
  {
   "cell_type": "code",
   "execution_count": 78,
   "outputs": [],
   "source": [
    "A=[1]\n",
    "W = np.linspace(0, 2, 26)\n",
    "W = np.delete(W, 0)\n",
    "\n",
    "ratio = []\n",
    "fisher_bounds = []\n",
    "quads_bounds = []\n",
    "\n",
    "\n",
    "result = find_optimal_times([1], [1], N, Total_Shots)\n",
    "optimal_times, optimal_shots = process_result(result)\n",
    "\n",
    "for w in W:\n",
    "\n",
    "    mat = fisher_matrix(optimal_times, w, A[0], [5000]*2)\n",
    "    fisher_bound = lower_bound(mat)[0]\n",
    "    quads_bound = np.e /np.sqrt(5000) #TODO check if division is correct\n",
    "    fisher_bounds.append(fisher_bound)\n",
    "    quads_bounds.append(quads_bound)\n",
    "    ratio.append(fisher_bound/quads_bound)\n"
   ],
   "metadata": {
    "collapsed": false
   }
  },
  {
   "cell_type": "code",
   "execution_count": 79,
   "outputs": [
    {
     "data": {
      "text/plain": "<matplotlib.legend.Legend at 0x2652572f9a0>"
     },
     "execution_count": 79,
     "metadata": {},
     "output_type": "execute_result"
    },
    {
     "data": {
      "text/plain": "<Figure size 640x480 with 1 Axes>",
      "image/png": "[encoded data removed]"
     },
     "metadata": {},
     "output_type": "display_data"
    }
   ],
   "source": [
    "\n",
    "plt.plot(W, fisher_bounds, linestyle='--', marker='o', markersize=5, label='Fisher bound')\n",
    "plt.plot(W, quads_bounds, linestyle='--', marker='o', markersize=5, label='Two quadratures bound')\n",
    "plt.yscale('log')\n",
    "plt.xlabel('W')\n",
    "plt.xlabel('Bound')\n",
    "plt.legend()"
   ],
   "metadata": {
    "collapsed": false
   }
  },
  {
   "cell_type": "code",
   "execution_count": 86,
   "outputs": [
    {
     "name": "stdout",
     "output_type": "stream",
     "text": [
      "1.149307164455364\n"
     ]
    }
   ],
   "source": [
    "print(np.min(fisher_bounds)/np.min(quads_bounds))"
   ],
   "metadata": {
    "collapsed": false
   }
  },
  {
   "cell_type": "code",
   "execution_count": 13,
   "outputs": [
    {
     "name": "stdout",
     "output_type": "stream",
     "text": [
      "Optimal times =  [0.4439408326439209, 1.784695435782728]\n",
      "Optimal shots =  [462, 538]\n",
      "1000\n",
      "Optimal w bound =  7.043522472890404\n",
      "Regular w bound =  nan\n"
     ]
    },
    {
     "name": "stderr",
     "output_type": "stream",
     "text": [
      "C:\\Users\\user\\AppData\\Local\\Temp\\ipykernel_29116\\1796554785.py:67: RuntimeWarning: invalid value encountered in sqrt\n",
      "  w_var = np.sqrt(inv[0, 0])\n",
      "C:\\Users\\user\\AppData\\Local\\Temp\\ipykernel_29116\\1796554785.py:68: RuntimeWarning: invalid value encountered in sqrt\n",
      "  a_var = np.sqrt(inv[1, 1])\n"
     ]
    }
   ],
   "source": [
    "\n",
    "\n",
    "#optimal_times, optimal_shots = process_result(result)\n",
    "print(\"Optimal times = \", optimal_times)\n",
    "print(\"Optimal shots = \", optimal_shots)\n",
    "print(sum(optimal_shots))\n",
    "optimal_w_bound = np.sum(lower_bound(fisher_matrix(optimal_times, w, a, optimal_shots)))\n",
    "regular_w_bound = np.sum(lower_bound(fisher_matrix(regular_times, w, a, N * [100])))\n",
    "print(\"Optimal w bound = \", optimal_w_bound)\n",
    "print(\"Regular w bound = \", regular_w_bound)"
   ],
   "metadata": {
    "collapsed": false
   }
  },
  {
   "cell_type": "code",
   "execution_count": 14,
   "outputs": [
    {
     "name": "stdout",
     "output_type": "stream",
     "text": [
      "Optimal times =  [0.40820213 0.13990133 1.70173514 0.40820212]\n",
      "var =  0.3555995711966418\n"
     ]
    }
   ],
   "source": [
    "##approximation:\n",
    "from scipy.optimize import minimize\n",
    "\n",
    "\n",
    "def find_optimal_times_app(W, A, t):\n",
    "    def model_func(t):\n",
    "        Iww = [0] * len(W)\n",
    "        Iaa = [0] * len(W)\n",
    "        Iwa = [0] * len(W)\n",
    "\n",
    "        for i in range(len(t)):\n",
    "            for j in range(len(W)):\n",
    "                w = W[j]\n",
    "                a = A[j]\n",
    "                Iww[j] += t[i]**2 * np.sin(w * t[i])**2 * np.exp(-2 * a * t[i])\n",
    "                Iaa[j] += t[i]**2 * np.cos(w * t[i])**2 * np.exp(-2 * a * t[i])\n",
    "                Iwa[j] += t[i]**2 * np.sin(w * t[i]) * np.cos(w * t[i]) * np.exp(-2 * a * t[i])\n",
    "\n",
    "\n",
    "\n",
    "\n",
    "        lower_w_bound = np.sum([Iaa[j] / (0.001 if Iaa[j] * Iww[j] - Iwa[j] ** 2 == 0 else Iaa[j] * Iww[j] - Iwa[j] ** 2) for j in range(len(W))])\n",
    "        lower_a_bound = np.sum([Iww[j] / (0.001 if Iaa[j] * Iww[j] - Iwa[j] ** 2 == 0 else Iaa[j] * Iww[j] - Iwa[j] ** 2) for j in range(len(W))])\n",
    "        return lower_w_bound + lower_a_bound\n",
    "\n",
    "\n",
    "    initial_guess = np.random.uniform(0.1, np.pi, t)\n",
    "    result  = minimize(model_func, initial_guess,method='trust-constr', bounds=[(0, np.pi)] * t)\n",
    "    return result.x\n",
    "\n",
    "\n",
    "t = 4\n",
    "w = [1,5]\n",
    "a = [1,5]\n",
    "optimal_times = find_optimal_times_app(w, a, t)\n",
    "\n",
    "print(\"Optimal times = \", optimal_times)\n",
    "fishers = [fisher_matrix(optimal_times, w[i], a[i], [1000]*t) for i in range(len(w))]\n",
    "print(\"var = \", np.sum([t*np.trace(np.linalg.inv(fishers[i])) / (w[i]) for i in range(len(w)) ]))"
   ],
   "metadata": {
    "collapsed": false
   }
  },
  {
   "cell_type": "code",
   "execution_count": 14,
   "outputs": [],
   "source": [],
   "metadata": {
    "collapsed": false
   }
  },
  {
   "cell_type": "code",
   "execution_count": 15,
   "outputs": [
    {
     "name": "stdout",
     "output_type": "stream",
     "text": [
      "0.1 1.0 20.245581863866434\n",
      "approximated_bound =  0.19834662710958945\n"
     ]
    },
    {
     "name": "stderr",
     "output_type": "stream",
     "text": [
      "<lambdifygenerated-1>:2: RuntimeWarning: divide by zero encountered in double_scalars\n",
      "  return sqrt(t0**2*exp(2*t1)*sin(t0)**2 + t1**2*exp(2*t0)*sin(t1)**2)/(t0*t1*abs(sin(t0 - t1))) + sqrt(t0**2*exp(2*t1)*cos(t0)**2 + t1**2*exp(2*t0)*cos(t1)**2)/(t0*t1*abs(sin(t0 - t1)))\n"
     ]
    }
   ],
   "source": [
    "from sympy import lambdify\n",
    "## Normal approximation\n",
    "from sympy import symbols, cos, sin, exp, sqrt\n",
    "from scipy.optimize import minimize\n",
    "\n",
    "# Define the symbols\n",
    "t0, t1 = symbols('t0 t1', real=True, positive=True)\n",
    "\n",
    "# Parameters\n",
    "omega_value = gamma_value = w =a = 1\n",
    "\n",
    "# Define the elements of the inverted matrix\n",
    "I_00_expr = ((exp(2 * gamma_value * t1) * t0**2 * cos(omega_value * t0)**2 + exp(2 * gamma_value * t0) * t1**2 * cos(omega_value * t1)**2)\n",
    "        * (1/sin(omega_value * (t0 - t1)))**2) / (t0**2 * t1**2)\n",
    "I_11_expr = ((exp(2 * gamma_value * t1) * t0**2 * sin(omega_value * t0)**2 + exp(2 * gamma_value * t0) * t1**2 * sin(omega_value * t1)**2)\n",
    "        * (1/sin(omega_value * (t0 - t1)))**2) / (t0**2 * t1**2)\n",
    "\n",
    "\n",
    "# Define the function we want to find the minimum for\n",
    "f_expr = sqrt(I_00_expr) + sqrt(I_11_expr)\n",
    "#f_expr = sqrt(I_00_expr)\n",
    "# Convert the symbolic expression to a numerical function\n",
    "f_numeric = lambdify((t0, t1), f_expr, modules=['numpy'])\n",
    "\n",
    "# Define a function to be minimized\n",
    "def f_to_minimize(x):\n",
    "    # x is a vector where x[0] = t0 and x[1] = t1\n",
    "    return f_numeric(x[0], x[1])\n",
    "\n",
    "# Initial guess (we avoid starting at 0 to prevent division by zero)\n",
    "initial_guess = [0.1, 1]\n",
    "\n",
    "# Perform the minimization\n",
    "result = minimize(f_to_minimize, initial_guess, bounds=[(0.1, 5), (0.1, 5)])\n",
    "\n",
    "# Extract the results\n",
    "t0_min, t1_min = result.x\n",
    "min_value = result.fun\n",
    "\n",
    "print(t0_min, t1_min, min_value)\n",
    "print(\"approximated_bound = \",np.sum(lower_bound(fisher_matrix([t0_min,t1_min], w, a, [2500,2500]))))\n",
    "\n"
   ],
   "metadata": {
    "collapsed": false
   }
  },
  {
   "cell_type": "code",
   "execution_count": 16,
   "outputs": [
    {
     "ename": "KeyboardInterrupt",
     "evalue": "",
     "output_type": "error",
     "traceback": [
      "\u001B[1;31m---------------------------------------------------------------------------\u001B[0m",
      "\u001B[1;31mKeyboardInterrupt\u001B[0m                         Traceback (most recent call last)",
      "Cell \u001B[1;32mIn[16], line 20\u001B[0m\n\u001B[0;32m     17\u001B[0m df_dt1 \u001B[38;5;241m=\u001B[39m diff(f, t1)\n\u001B[0;32m     19\u001B[0m \u001B[38;5;66;03m# Find the critical points by setting the derivatives to zero\u001B[39;00m\n\u001B[1;32m---> 20\u001B[0m critical_points \u001B[38;5;241m=\u001B[39m \u001B[43msolve\u001B[49m\u001B[43m(\u001B[49m\u001B[43m(\u001B[49m\u001B[43mdf_dt0\u001B[49m\u001B[43m,\u001B[49m\u001B[43m \u001B[49m\u001B[43mdf_dt1\u001B[49m\u001B[43m)\u001B[49m\u001B[43m,\u001B[49m\u001B[43m \u001B[49m\u001B[43m(\u001B[49m\u001B[43mt0\u001B[49m\u001B[43m,\u001B[49m\u001B[43m \u001B[49m\u001B[43mt1\u001B[49m\u001B[43m)\u001B[49m\u001B[43m)\u001B[49m\n\u001B[0;32m     22\u001B[0m critical_points\n",
      "File \u001B[1;32m~\\AppData\\Local\\Programs\\Python\\Python39\\lib\\site-packages\\sympy\\solvers\\solvers.py:1114\u001B[0m, in \u001B[0;36msolve\u001B[1;34m(f, *symbols, **flags)\u001B[0m\n\u001B[0;32m   1112\u001B[0m     solution \u001B[38;5;241m=\u001B[39m _solve(f[\u001B[38;5;241m0\u001B[39m], \u001B[38;5;241m*\u001B[39msymbols, \u001B[38;5;241m*\u001B[39m\u001B[38;5;241m*\u001B[39mflags)\n\u001B[0;32m   1113\u001B[0m \u001B[38;5;28;01melse\u001B[39;00m:\n\u001B[1;32m-> 1114\u001B[0m     solution \u001B[38;5;241m=\u001B[39m _solve_system(f, symbols, \u001B[38;5;241m*\u001B[39m\u001B[38;5;241m*\u001B[39mflags)\n\u001B[0;32m   1116\u001B[0m \u001B[38;5;66;03m#\u001B[39;00m\n\u001B[0;32m   1117\u001B[0m \u001B[38;5;66;03m# postprocessing\u001B[39;00m\n\u001B[0;32m   1118\u001B[0m \u001B[38;5;66;03m###########################################################################\u001B[39;00m\n\u001B[0;32m   1119\u001B[0m \u001B[38;5;66;03m# Restore masked-off objects\u001B[39;00m\n\u001B[0;32m   1120\u001B[0m \u001B[38;5;28;01mif\u001B[39;00m non_inverts:\n",
      "File \u001B[1;32m~\\AppData\\Local\\Programs\\Python\\Python39\\lib\\site-packages\\sympy\\solvers\\solvers.py:1967\u001B[0m, in \u001B[0;36m_solve_system\u001B[1;34m(exprs, symbols, **flags)\u001B[0m\n\u001B[0;32m   1965\u001B[0m \u001B[38;5;28;01mfor\u001B[39;00m s \u001B[38;5;129;01min\u001B[39;00m ok_syms:\n\u001B[0;32m   1966\u001B[0m     \u001B[38;5;28;01mtry\u001B[39;00m:\n\u001B[1;32m-> 1967\u001B[0m         soln \u001B[38;5;241m=\u001B[39m _solve(eq2, s, \u001B[38;5;241m*\u001B[39m\u001B[38;5;241m*\u001B[39mflags)\n\u001B[0;32m   1968\u001B[0m     \u001B[38;5;28;01mexcept\u001B[39;00m \u001B[38;5;167;01mNotImplementedError\u001B[39;00m:\n\u001B[0;32m   1969\u001B[0m         \u001B[38;5;28;01mcontinue\u001B[39;00m\n",
      "File \u001B[1;32m~\\AppData\\Local\\Programs\\Python\\Python39\\lib\\site-packages\\sympy\\solvers\\solvers.py:1440\u001B[0m, in \u001B[0;36m_solve\u001B[1;34m(f, *symbols, **flags)\u001B[0m\n\u001B[0;32m   1437\u001B[0m \u001B[38;5;28;01mif\u001B[39;00m expr\u001B[38;5;241m.\u001B[39mis_zero:\n\u001B[0;32m   1438\u001B[0m     \u001B[38;5;28;01mraise\u001B[39;00m \u001B[38;5;167;01mNotImplementedError\u001B[39;00m(\n\u001B[0;32m   1439\u001B[0m         \u001B[38;5;124m'\u001B[39m\u001B[38;5;124msolve cannot represent interval solutions\u001B[39m\u001B[38;5;124m'\u001B[39m)\n\u001B[1;32m-> 1440\u001B[0m candidates \u001B[38;5;241m=\u001B[39m _solve(expr, symbol, \u001B[38;5;241m*\u001B[39m\u001B[38;5;241m*\u001B[39mflags)\n\u001B[0;32m   1441\u001B[0m \u001B[38;5;66;03m# the explicit condition for this expr is the current cond\u001B[39;00m\n\u001B[0;32m   1442\u001B[0m \u001B[38;5;66;03m# and none of the previous conditions\u001B[39;00m\n\u001B[0;32m   1443\u001B[0m args \u001B[38;5;241m=\u001B[39m [\u001B[38;5;241m~\u001B[39mc \u001B[38;5;28;01mfor\u001B[39;00m _, c \u001B[38;5;129;01min\u001B[39;00m f\u001B[38;5;241m.\u001B[39margs[:i]] \u001B[38;5;241m+\u001B[39m [cond]\n",
      "File \u001B[1;32m~\\AppData\\Local\\Programs\\Python\\Python39\\lib\\site-packages\\sympy\\solvers\\solvers.py:1721\u001B[0m, in \u001B[0;36m_solve\u001B[1;34m(f, *symbols, **flags)\u001B[0m\n\u001B[0;32m   1719\u001B[0m \u001B[38;5;28;01melse\u001B[39;00m:\n\u001B[0;32m   1720\u001B[0m     \u001B[38;5;28;01mtry\u001B[39;00m:\n\u001B[1;32m-> 1721\u001B[0m         rv \u001B[38;5;241m=\u001B[39m \u001B[38;5;28mset\u001B[39m(_solve(eq, symbol, \u001B[38;5;241m*\u001B[39m\u001B[38;5;241m*\u001B[39mflags))\n\u001B[0;32m   1722\u001B[0m     \u001B[38;5;28;01mexcept\u001B[39;00m \u001B[38;5;167;01mNotImplementedError\u001B[39;00m:\n\u001B[0;32m   1723\u001B[0m         rv \u001B[38;5;241m=\u001B[39m \u001B[38;5;28;01mNone\u001B[39;00m\n",
      "File \u001B[1;32m~\\AppData\\Local\\Programs\\Python\\Python39\\lib\\site-packages\\sympy\\solvers\\solvers.py:1418\u001B[0m, in \u001B[0;36m_solve\u001B[1;34m(f, *symbols, **flags)\u001B[0m\n\u001B[0;32m   1416\u001B[0m         result \u001B[38;5;241m=\u001B[39m \u001B[38;5;28mset\u001B[39m()\n\u001B[0;32m   1417\u001B[0m         \u001B[38;5;28;01mbreak\u001B[39;00m\n\u001B[1;32m-> 1418\u001B[0m     soln \u001B[38;5;241m=\u001B[39m _solve(m, symbol, \u001B[38;5;241m*\u001B[39m\u001B[38;5;241m*\u001B[39mflags)\n\u001B[0;32m   1419\u001B[0m     result\u001B[38;5;241m.\u001B[39mupdate(\u001B[38;5;28mset\u001B[39m(soln))\n\u001B[0;32m   1420\u001B[0m result \u001B[38;5;241m=\u001B[39m \u001B[38;5;28mlist\u001B[39m(result)\n",
      "File \u001B[1;32m~\\AppData\\Local\\Programs\\Python\\Python39\\lib\\site-packages\\sympy\\solvers\\solvers.py:1736\u001B[0m, in \u001B[0;36m_solve\u001B[1;34m(f, *symbols, **flags)\u001B[0m\n\u001B[0;32m   1734\u001B[0m flags\u001B[38;5;241m.\u001B[39mpop(\u001B[38;5;124m'\u001B[39m\u001B[38;5;124mtsolve\u001B[39m\u001B[38;5;124m'\u001B[39m, \u001B[38;5;28;01mNone\u001B[39;00m)  \u001B[38;5;66;03m# allow tsolve to be used on next pass\u001B[39;00m\n\u001B[0;32m   1735\u001B[0m \u001B[38;5;28;01mtry\u001B[39;00m:\n\u001B[1;32m-> 1736\u001B[0m     soln \u001B[38;5;241m=\u001B[39m _tsolve(f_num, symbol, \u001B[38;5;241m*\u001B[39m\u001B[38;5;241m*\u001B[39mflags)\n\u001B[0;32m   1737\u001B[0m     \u001B[38;5;28;01mif\u001B[39;00m soln \u001B[38;5;129;01mis\u001B[39;00m \u001B[38;5;129;01mnot\u001B[39;00m \u001B[38;5;28;01mNone\u001B[39;00m:\n\u001B[0;32m   1738\u001B[0m         result \u001B[38;5;241m=\u001B[39m soln\n",
      "File \u001B[1;32m~\\AppData\\Local\\Programs\\Python\\Python39\\lib\\site-packages\\sympy\\solvers\\solvers.py:2706\u001B[0m, in \u001B[0;36m_tsolve\u001B[1;34m(eq, sym, **flags)\u001B[0m\n\u001B[0;32m   2704\u001B[0m     rewrite \u001B[38;5;241m=\u001B[39m lhs\u001B[38;5;241m.\u001B[39mrewrite(exp)\n\u001B[0;32m   2705\u001B[0m     \u001B[38;5;28;01mif\u001B[39;00m rewrite \u001B[38;5;241m!=\u001B[39m lhs:\n\u001B[1;32m-> 2706\u001B[0m         \u001B[38;5;28;01mreturn\u001B[39;00m _solve(rewrite \u001B[38;5;241m-\u001B[39m rhs, sym, \u001B[38;5;241m*\u001B[39m\u001B[38;5;241m*\u001B[39mflags)\n\u001B[0;32m   2707\u001B[0m \u001B[38;5;28;01mexcept\u001B[39;00m \u001B[38;5;167;01mNotImplementedError\u001B[39;00m:\n\u001B[0;32m   2708\u001B[0m     \u001B[38;5;28;01mpass\u001B[39;00m\n",
      "File \u001B[1;32m~\\AppData\\Local\\Programs\\Python\\Python39\\lib\\site-packages\\sympy\\solvers\\solvers.py:1710\u001B[0m, in \u001B[0;36m_solve\u001B[1;34m(f, *symbols, **flags)\u001B[0m\n\u001B[0;32m   1708\u001B[0m \u001B[38;5;28;01mif\u001B[39;00m flags\u001B[38;5;241m.\u001B[39mpop(\u001B[38;5;124m'\u001B[39m\u001B[38;5;124m_unrad\u001B[39m\u001B[38;5;124m'\u001B[39m, \u001B[38;5;28;01mTrue\u001B[39;00m):\n\u001B[0;32m   1709\u001B[0m     \u001B[38;5;28;01mtry\u001B[39;00m:\n\u001B[1;32m-> 1710\u001B[0m         u \u001B[38;5;241m=\u001B[39m \u001B[43munrad\u001B[49m\u001B[43m(\u001B[49m\u001B[43mf_num\u001B[49m\u001B[43m,\u001B[49m\u001B[43m \u001B[49m\u001B[43msymbol\u001B[49m\u001B[43m)\u001B[49m\n\u001B[0;32m   1711\u001B[0m     \u001B[38;5;28;01mexcept\u001B[39;00m (\u001B[38;5;167;01mValueError\u001B[39;00m, \u001B[38;5;167;01mNotImplementedError\u001B[39;00m):\n\u001B[0;32m   1712\u001B[0m         u \u001B[38;5;241m=\u001B[39m \u001B[38;5;28;01mFalse\u001B[39;00m\n",
      "File \u001B[1;32m~\\AppData\\Local\\Programs\\Python\\Python39\\lib\\site-packages\\sympy\\solvers\\solvers.py:3347\u001B[0m, in \u001B[0;36munrad\u001B[1;34m(eq, *syms, **flags)\u001B[0m\n\u001B[0;32m   3345\u001B[0m \u001B[38;5;66;03m# see if there are radicals in symbols of interest\u001B[39;00m\n\u001B[0;32m   3346\u001B[0m syms \u001B[38;5;241m=\u001B[39m \u001B[38;5;28mset\u001B[39m(syms) \u001B[38;5;129;01mor\u001B[39;00m eq\u001B[38;5;241m.\u001B[39mfree_symbols  \u001B[38;5;66;03m# _take uses this\u001B[39;00m\n\u001B[1;32m-> 3347\u001B[0m poly \u001B[38;5;241m=\u001B[39m \u001B[43meq\u001B[49m\u001B[38;5;241;43m.\u001B[39;49m\u001B[43mas_poly\u001B[49m\u001B[43m(\u001B[49m\u001B[43m)\u001B[49m\n\u001B[0;32m   3348\u001B[0m gens \u001B[38;5;241m=\u001B[39m [g \u001B[38;5;28;01mfor\u001B[39;00m g \u001B[38;5;129;01min\u001B[39;00m poly\u001B[38;5;241m.\u001B[39mgens \u001B[38;5;28;01mif\u001B[39;00m _take(g)]\n\u001B[0;32m   3349\u001B[0m \u001B[38;5;28;01mif\u001B[39;00m \u001B[38;5;129;01mnot\u001B[39;00m gens:\n",
      "File \u001B[1;32m~\\AppData\\Local\\Programs\\Python\\Python39\\lib\\site-packages\\sympy\\core\\expr.py:1102\u001B[0m, in \u001B[0;36mExpr.as_poly\u001B[1;34m(self, *gens, **args)\u001B[0m\n\u001B[0;32m   1099\u001B[0m \u001B[38;5;28;01mfrom\u001B[39;00m \u001B[38;5;21;01msympy\u001B[39;00m\u001B[38;5;21;01m.\u001B[39;00m\u001B[38;5;21;01mpolys\u001B[39;00m\u001B[38;5;21;01m.\u001B[39;00m\u001B[38;5;21;01mpolytools\u001B[39;00m \u001B[38;5;28;01mimport\u001B[39;00m Poly\n\u001B[0;32m   1101\u001B[0m \u001B[38;5;28;01mtry\u001B[39;00m:\n\u001B[1;32m-> 1102\u001B[0m     poly \u001B[38;5;241m=\u001B[39m Poly(\u001B[38;5;28mself\u001B[39m, \u001B[38;5;241m*\u001B[39mgens, \u001B[38;5;241m*\u001B[39m\u001B[38;5;241m*\u001B[39margs)\n\u001B[0;32m   1104\u001B[0m     \u001B[38;5;28;01mif\u001B[39;00m \u001B[38;5;129;01mnot\u001B[39;00m poly\u001B[38;5;241m.\u001B[39mis_Poly:\n\u001B[0;32m   1105\u001B[0m         \u001B[38;5;28;01mreturn\u001B[39;00m \u001B[38;5;28;01mNone\u001B[39;00m\n",
      "File \u001B[1;32m~\\AppData\\Local\\Programs\\Python\\Python39\\lib\\site-packages\\sympy\\polys\\polytools.py:182\u001B[0m, in \u001B[0;36mPoly.__new__\u001B[1;34m(cls, rep, *gens, **args)\u001B[0m\n\u001B[0;32m    180\u001B[0m     \u001B[38;5;28;01mreturn\u001B[39;00m \u001B[38;5;28mcls\u001B[39m\u001B[38;5;241m.\u001B[39m_from_poly(rep, opt)\n\u001B[0;32m    181\u001B[0m \u001B[38;5;28;01melse\u001B[39;00m:\n\u001B[1;32m--> 182\u001B[0m     \u001B[38;5;28;01mreturn\u001B[39;00m \u001B[38;5;28;43mcls\u001B[39;49m\u001B[38;5;241;43m.\u001B[39;49m\u001B[43m_from_expr\u001B[49m\u001B[43m(\u001B[49m\u001B[43mrep\u001B[49m\u001B[43m,\u001B[49m\u001B[43m \u001B[49m\u001B[43mopt\u001B[49m\u001B[43m)\u001B[49m\n",
      "File \u001B[1;32m~\\AppData\\Local\\Programs\\Python\\Python39\\lib\\site-packages\\sympy\\polys\\polytools.py:311\u001B[0m, in \u001B[0;36mPoly._from_expr\u001B[1;34m(cls, rep, opt)\u001B[0m\n\u001B[0;32m    308\u001B[0m \u001B[38;5;129m@classmethod\u001B[39m\n\u001B[0;32m    309\u001B[0m \u001B[38;5;28;01mdef\u001B[39;00m \u001B[38;5;21m_from_expr\u001B[39m(\u001B[38;5;28mcls\u001B[39m, rep, opt):\n\u001B[0;32m    310\u001B[0m \u001B[38;5;250m    \u001B[39m\u001B[38;5;124;03m\"\"\"Construct a polynomial from an expression. \"\"\"\u001B[39;00m\n\u001B[1;32m--> 311\u001B[0m     rep, opt \u001B[38;5;241m=\u001B[39m \u001B[43m_dict_from_expr\u001B[49m\u001B[43m(\u001B[49m\u001B[43mrep\u001B[49m\u001B[43m,\u001B[49m\u001B[43m \u001B[49m\u001B[43mopt\u001B[49m\u001B[43m)\u001B[49m\n\u001B[0;32m    312\u001B[0m     \u001B[38;5;28;01mreturn\u001B[39;00m \u001B[38;5;28mcls\u001B[39m\u001B[38;5;241m.\u001B[39m_from_dict(rep, opt)\n",
      "File \u001B[1;32m~\\AppData\\Local\\Programs\\Python\\Python39\\lib\\site-packages\\sympy\\polys\\polyutils.py:357\u001B[0m, in \u001B[0;36m_dict_from_expr\u001B[1;34m(expr, opt)\u001B[0m\n\u001B[0;32m    355\u001B[0m \u001B[38;5;28;01mif\u001B[39;00m \u001B[38;5;129;01mnot\u001B[39;00m \u001B[38;5;28misinstance\u001B[39m(expr, (Expr, Eq)):\n\u001B[0;32m    356\u001B[0m     \u001B[38;5;28;01mraise\u001B[39;00m PolynomialError(\u001B[38;5;124m'\u001B[39m\u001B[38;5;124mexpression must be of type Expr\u001B[39m\u001B[38;5;124m'\u001B[39m)\n\u001B[1;32m--> 357\u001B[0m expr \u001B[38;5;241m=\u001B[39m \u001B[43mexpr\u001B[49m\u001B[38;5;241;43m.\u001B[39;49m\u001B[43mexpand\u001B[49m\u001B[43m(\u001B[49m\u001B[43m)\u001B[49m\n\u001B[0;32m    358\u001B[0m \u001B[38;5;66;03m# TODO: Integrate this into expand() itself\u001B[39;00m\n\u001B[0;32m    359\u001B[0m \u001B[38;5;28;01mwhile\u001B[39;00m \u001B[38;5;28many\u001B[39m(_is_expandable_pow(i) \u001B[38;5;129;01mor\u001B[39;00m i\u001B[38;5;241m.\u001B[39mis_Mul \u001B[38;5;129;01mand\u001B[39;00m\n\u001B[0;32m    360\u001B[0m     \u001B[38;5;28many\u001B[39m(_is_expandable_pow(j) \u001B[38;5;28;01mfor\u001B[39;00m j \u001B[38;5;129;01min\u001B[39;00m i\u001B[38;5;241m.\u001B[39margs) \u001B[38;5;28;01mfor\u001B[39;00m i \u001B[38;5;129;01min\u001B[39;00m\n\u001B[0;32m    361\u001B[0m         Add\u001B[38;5;241m.\u001B[39mmake_args(expr)):\n",
      "File \u001B[1;32m~\\AppData\\Local\\Programs\\Python\\Python39\\lib\\site-packages\\sympy\\core\\cache.py:70\u001B[0m, in \u001B[0;36m__cacheit.<locals>.func_wrapper.<locals>.wrapper\u001B[1;34m(*args, **kwargs)\u001B[0m\n\u001B[0;32m     67\u001B[0m \u001B[38;5;129m@wraps\u001B[39m(func)\n\u001B[0;32m     68\u001B[0m \u001B[38;5;28;01mdef\u001B[39;00m \u001B[38;5;21mwrapper\u001B[39m(\u001B[38;5;241m*\u001B[39margs, \u001B[38;5;241m*\u001B[39m\u001B[38;5;241m*\u001B[39mkwargs):\n\u001B[0;32m     69\u001B[0m     \u001B[38;5;28;01mtry\u001B[39;00m:\n\u001B[1;32m---> 70\u001B[0m         retval \u001B[38;5;241m=\u001B[39m cfunc(\u001B[38;5;241m*\u001B[39margs, \u001B[38;5;241m*\u001B[39m\u001B[38;5;241m*\u001B[39mkwargs)\n\u001B[0;32m     71\u001B[0m     \u001B[38;5;28;01mexcept\u001B[39;00m \u001B[38;5;167;01mTypeError\u001B[39;00m \u001B[38;5;28;01mas\u001B[39;00m e:\n\u001B[0;32m     72\u001B[0m         \u001B[38;5;28;01mif\u001B[39;00m \u001B[38;5;129;01mnot\u001B[39;00m e\u001B[38;5;241m.\u001B[39margs \u001B[38;5;129;01mor\u001B[39;00m \u001B[38;5;129;01mnot\u001B[39;00m e\u001B[38;5;241m.\u001B[39margs[\u001B[38;5;241m0\u001B[39m]\u001B[38;5;241m.\u001B[39mstartswith(\u001B[38;5;124m'\u001B[39m\u001B[38;5;124munhashable type:\u001B[39m\u001B[38;5;124m'\u001B[39m):\n",
      "File \u001B[1;32m~\\AppData\\Local\\Programs\\Python\\Python39\\lib\\site-packages\\sympy\\core\\expr.py:3651\u001B[0m, in \u001B[0;36mExpr.expand\u001B[1;34m(self, deep, modulus, power_base, power_exp, mul, log, multinomial, basic, **hints)\u001B[0m\n\u001B[0;32m   3649\u001B[0m     \u001B[38;5;28;01mif\u001B[39;00m use_hint:\n\u001B[0;32m   3650\u001B[0m         hint \u001B[38;5;241m=\u001B[39m \u001B[38;5;124m'\u001B[39m\u001B[38;5;124m_eval_expand_\u001B[39m\u001B[38;5;124m'\u001B[39m \u001B[38;5;241m+\u001B[39m hint\n\u001B[1;32m-> 3651\u001B[0m         expr, hit \u001B[38;5;241m=\u001B[39m Expr\u001B[38;5;241m.\u001B[39m_expand_hint(expr, hint, deep\u001B[38;5;241m=\u001B[39mdeep, \u001B[38;5;241m*\u001B[39m\u001B[38;5;241m*\u001B[39mhints)\n\u001B[0;32m   3653\u001B[0m \u001B[38;5;28;01mwhile\u001B[39;00m \u001B[38;5;28;01mTrue\u001B[39;00m:\n\u001B[0;32m   3654\u001B[0m     was \u001B[38;5;241m=\u001B[39m expr\n",
      "File \u001B[1;32m~\\AppData\\Local\\Programs\\Python\\Python39\\lib\\site-packages\\sympy\\core\\expr.py:3584\u001B[0m, in \u001B[0;36mExpr._expand_hint\u001B[1;34m(expr, hint, deep, **hints)\u001B[0m\n\u001B[0;32m   3582\u001B[0m sargs \u001B[38;5;241m=\u001B[39m []\n\u001B[0;32m   3583\u001B[0m \u001B[38;5;28;01mfor\u001B[39;00m arg \u001B[38;5;129;01min\u001B[39;00m expr\u001B[38;5;241m.\u001B[39margs:\n\u001B[1;32m-> 3584\u001B[0m     arg, arghit \u001B[38;5;241m=\u001B[39m Expr\u001B[38;5;241m.\u001B[39m_expand_hint(arg, hint, \u001B[38;5;241m*\u001B[39m\u001B[38;5;241m*\u001B[39mhints)\n\u001B[0;32m   3585\u001B[0m     hit \u001B[38;5;241m|\u001B[39m\u001B[38;5;241m=\u001B[39m arghit\n\u001B[0;32m   3586\u001B[0m     sargs\u001B[38;5;241m.\u001B[39mappend(arg)\n",
      "File \u001B[1;32m~\\AppData\\Local\\Programs\\Python\\Python39\\lib\\site-packages\\sympy\\core\\expr.py:3584\u001B[0m, in \u001B[0;36mExpr._expand_hint\u001B[1;34m(expr, hint, deep, **hints)\u001B[0m\n\u001B[0;32m   3582\u001B[0m sargs \u001B[38;5;241m=\u001B[39m []\n\u001B[0;32m   3583\u001B[0m \u001B[38;5;28;01mfor\u001B[39;00m arg \u001B[38;5;129;01min\u001B[39;00m expr\u001B[38;5;241m.\u001B[39margs:\n\u001B[1;32m-> 3584\u001B[0m     arg, arghit \u001B[38;5;241m=\u001B[39m Expr\u001B[38;5;241m.\u001B[39m_expand_hint(arg, hint, \u001B[38;5;241m*\u001B[39m\u001B[38;5;241m*\u001B[39mhints)\n\u001B[0;32m   3585\u001B[0m     hit \u001B[38;5;241m|\u001B[39m\u001B[38;5;241m=\u001B[39m arghit\n\u001B[0;32m   3586\u001B[0m     sargs\u001B[38;5;241m.\u001B[39mappend(arg)\n",
      "    \u001B[1;31m[... skipping similar frames: Expr._expand_hint at line 3584 (1 times)]\u001B[0m\n",
      "File \u001B[1;32m~\\AppData\\Local\\Programs\\Python\\Python39\\lib\\site-packages\\sympy\\core\\expr.py:3584\u001B[0m, in \u001B[0;36mExpr._expand_hint\u001B[1;34m(expr, hint, deep, **hints)\u001B[0m\n\u001B[0;32m   3582\u001B[0m sargs \u001B[38;5;241m=\u001B[39m []\n\u001B[0;32m   3583\u001B[0m \u001B[38;5;28;01mfor\u001B[39;00m arg \u001B[38;5;129;01min\u001B[39;00m expr\u001B[38;5;241m.\u001B[39margs:\n\u001B[1;32m-> 3584\u001B[0m     arg, arghit \u001B[38;5;241m=\u001B[39m Expr\u001B[38;5;241m.\u001B[39m_expand_hint(arg, hint, \u001B[38;5;241m*\u001B[39m\u001B[38;5;241m*\u001B[39mhints)\n\u001B[0;32m   3585\u001B[0m     hit \u001B[38;5;241m|\u001B[39m\u001B[38;5;241m=\u001B[39m arghit\n\u001B[0;32m   3586\u001B[0m     sargs\u001B[38;5;241m.\u001B[39mappend(arg)\n",
      "File \u001B[1;32m~\\AppData\\Local\\Programs\\Python\\Python39\\lib\\site-packages\\sympy\\core\\expr.py:3581\u001B[0m, in \u001B[0;36mExpr._expand_hint\u001B[1;34m(expr, hint, deep, **hints)\u001B[0m\n\u001B[0;32m   3577\u001B[0m hit \u001B[38;5;241m=\u001B[39m \u001B[38;5;28;01mFalse\u001B[39;00m\n\u001B[0;32m   3578\u001B[0m \u001B[38;5;66;03m# XXX: Hack to support non-Basic args\u001B[39;00m\n\u001B[0;32m   3579\u001B[0m \u001B[38;5;66;03m#              |\u001B[39;00m\n\u001B[0;32m   3580\u001B[0m \u001B[38;5;66;03m#              V\u001B[39;00m\n\u001B[1;32m-> 3581\u001B[0m \u001B[38;5;28;01mif\u001B[39;00m deep \u001B[38;5;129;01mand\u001B[39;00m \u001B[38;5;28;43mgetattr\u001B[39;49m(expr, \u001B[38;5;124m'\u001B[39m\u001B[38;5;124margs\u001B[39m\u001B[38;5;124m'\u001B[39m, ()) \u001B[38;5;129;01mand\u001B[39;00m \u001B[38;5;129;01mnot\u001B[39;00m expr\u001B[38;5;241m.\u001B[39mis_Atom:\n\u001B[0;32m   3582\u001B[0m     sargs \u001B[38;5;241m=\u001B[39m []\n\u001B[0;32m   3583\u001B[0m     \u001B[38;5;28;01mfor\u001B[39;00m arg \u001B[38;5;129;01min\u001B[39;00m expr\u001B[38;5;241m.\u001B[39margs:\n",
      "\u001B[1;31mKeyboardInterrupt\u001B[0m: "
     ]
    }
   ],
   "source": [
    "from sympy import symbols, cos, sin, exp, csc, sqrt, diff, solve\n",
    "\n",
    "# Define the symbols\n",
    "t0, t1, omega, gamma = symbols('t0 t1 omega gamma', real=True, positive=True)\n",
    "\n",
    "# Define the elements of the inverted matrix\n",
    "I_00 = ((exp(-2 * gamma * t1) * t0**2 * cos(omega * t0)**2 + exp(-2 * gamma * t0) * t1**2 * cos(omega * t1)**2)\n",
    "        * csc(omega * (t0 - t1))**2) / (t0**2 * t1**2)\n",
    "I_11 = ((exp(-2 * gamma * t1) * t0**2 * sin(omega * t0)**2 + exp(-2 * gamma * t0) * t1**2 * sin(omega * t1)**2)\n",
    "        * csc(omega * (t0 - t1))**2) / (t0**2 * t1**2)\n",
    "\n",
    "# Define the function we want to minimize\n",
    "f = sqrt(I_00) + sqrt(I_11)\n",
    "\n",
    "# Compute the derivative of the function with respect to both t0 and t1\n",
    "df_dt0 = diff(f, t0)\n",
    "df_dt1 = diff(f, t1)\n",
    "\n",
    "# Find the critical points by setting the derivatives to zero\n",
    "critical_points = solve((df_dt0, df_dt1), (t0, t1))\n",
    "\n",
    "critical_points\n"
   ],
   "metadata": {
    "collapsed": false
   }
  },
  {
   "cell_type": "code",
   "execution_count": null,
   "outputs": [],
   "source": [
    "VarA"
   ],
   "metadata": {
    "collapsed": false
   }
  },
  {
   "cell_type": "code",
   "execution_count": null,
   "outputs": [],
   "source": [
    "import numpy as np\n",
    "import matplotlib.pyplot as plt\n",
    "w=1\n",
    "a = 1.5\n",
    "t = np.linspace(0, 1*np.pi, 6000)  # time vector\n",
    "# Defining f1, f2, f3\n",
    "f1 = (np.cos(w*t) + 1j*np.sin(w*t)) * np.exp(-a*t)\n",
    "f2 = (np.cos(1.5*w*t) + 1j*np.sin(1.5*w*t)) * np.exp(-a*t)\n",
    "f3 = (np.cos(3.5*w*t) + 1j*np.sin(3.5*w*t)) * np.exp(-a*t)\n",
    "\n",
    "# Updated Complex Function\n",
    "real_part = (np.cos(w*t) + np.cos(1.5*w*t) + np.cos(3.5*w*t)) * np.exp(-a*t)\n",
    "imaginary_part = (np.sin(w*t) + np.sin(1.5*w*t) + np.sin(3.5*w*t)) * np.exp(-a*t)\n",
    "\n",
    "\n",
    "\n",
    "# Logarithm\n",
    "real_part = np.log(real_part)\n",
    "imaginary_part = np.log(imaginary_part)\n",
    "f1 = np.log(f1)\n",
    "f2 = np.log(f2)\n",
    "f3 = np.log(f3)\n",
    "\n",
    "# Plot\n",
    "plt.figure(figsize=(8, 6))\n",
    "plt.plot(real_part, imaginary_part, label=r'$\\cos(\\omega t) + \\cos(1.5\\omega t) + \\cos(3.5\\omega t) + i(\\sin(\\omega t) + \\sin(1.5\\omega t) + \\sin(3.5\\omega t))$')\n",
    "plt.title('Complex Plane Plot')\n",
    "plt.xlabel('Real Part')\n",
    "plt.ylabel('Imaginary Part')\n",
    "plt.legend()\n",
    "plt.grid(True)\n",
    "plt.show()\n",
    "\n",
    "\n",
    "# Updated Plot\n",
    "plt.figure(figsize=(8, 6))\n",
    "plt.plot(real_part, imaginary_part, label=r'Total: $\\cos(\\omega t) + \\cos(1.5\\omega t) + \\cos(3.5\\omega t) + i(\\sin(\\omega t) + \\sin(1.5\\omega t) + \\sin(3.5\\omega t))$', zorder=1)\n",
    "plt.plot(f1.real, f1.imag, '--', label=r'$f_1 = \\cos(\\omega t) + i\\sin(\\omega t)$', zorder=2)\n",
    "plt.plot(f2.real, f2.imag, '--', label=r'$f_2 = \\cos(1.5\\omega t) + i\\sin(1.5\\omega t)$', zorder=2)\n",
    "plt.plot(f3.real, f3.imag, '--', label=r'$f_3 = \\cos(3.5\\omega t) + i\\sin(3.5\\omega t)$', zorder=2)\n",
    "plt.title('Complex Plane Plot with $f_1$, $f_2$, and $f_3$')\n",
    "plt.xlabel('Real Part')\n",
    "plt.ylabel('Imaginary Part')\n",
    "plt.legend()\n",
    "plt.grid(True)\n",
    "plt.show()\n"
   ],
   "metadata": {
    "collapsed": false
   }
  },
  {
   "cell_type": "code",
   "execution_count": null,
   "outputs": [],
   "source": [
    "%matplotlib inline\n",
    "\n",
    "fig = plt.figure(figsize=(10, 8))\n",
    "ax = fig.add_subplot(111, projection='3d')\n",
    "\n",
    "# 3D Spiral\n",
    "ax.plot(f1.real, f1.imag, t, label='Spiral Shape')\n",
    "ax.set_title('3D Plot of $\\sin(\\omega t) + \\cos(\\omega t)$ Showing Spiral Shape')\n",
    "ax.set_xlabel('Real Part ($\\sin(\\omega t)$)')\n",
    "ax.set_ylabel('Imaginary Part ($\\cos(\\omega t)$)')\n",
    "ax.set_zlabel('Time ($t$)')\n",
    "ax.legend()"
   ],
   "metadata": {
    "collapsed": false
   }
  },
  {
   "cell_type": "code",
   "execution_count": null,
   "outputs": [],
   "source": [
    "%matplotlib inline\n",
    "\n",
    "fig = plt.figure(figsize=(10, 8))\n",
    "ax = fig.add_subplot(111, projection='3d')\n",
    "\n",
    "# 3D Spiral\n",
    "ax.plot(f2.real, f2.imag, t, label='Spiral Shape')\n",
    "ax.set_title('3D Plot of $\\sin(\\omega t) + \\cos(\\omega t)$ Showing Spiral Shape')\n",
    "ax.set_xlabel('Real Part ($\\sin(\\omega t)$)')\n",
    "ax.set_ylabel('Imaginary Part ($\\cos(\\omega t)$)')\n",
    "ax.set_zlabel('Time ($t$)')\n",
    "ax.legend()"
   ],
   "metadata": {
    "collapsed": false
   }
  },
  {
   "cell_type": "code",
   "execution_count": null,
   "outputs": [],
   "source": [
    "%matplotlib inline\n",
    "\n",
    "fig = plt.figure(figsize=(10, 8))\n",
    "ax = fig.add_subplot(111, projection='3d')\n",
    "\n",
    "# 3D Spiral\n",
    "ax.plot(real_part, imaginary_part, t, label='Spiral Shape')\n",
    "ax.set_title('3D Plot of $\\sin(\\omega t) + \\cos(\\omega t)$ Showing Spiral Shape')\n",
    "ax.set_xlabel('Real Part ($\\sin(\\omega t)$)')\n",
    "ax.set_ylabel('Imaginary Part ($\\cos(\\omega t)$)')\n",
    "ax.set_zlabel('Time ($t$)')\n",
    "ax.legend()"
   ],
   "metadata": {
    "collapsed": false
   }
  }
 ],
 "metadata": {
  "kernelspec": {
   "display_name": "Python 3",
   "language": "python",
   "name": "python3"
  },
  "language_info": {
   "codemirror_mode": {
    "name": "ipython",
    "version": 2
   },
   "file_extension": ".py",
   "mimetype": "text/x-python",
   "name": "python",
   "nbconvert_exporter": "python",
   "pygments_lexer": "ipython2",
   "version": "2.7.6"
  }
 },
 "nbformat": 4,
 "nbformat_minor": 0
}
