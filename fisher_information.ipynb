{
 "cells": [
  {
   "cell_type": "code",
   "execution_count": 216,
   "metadata": {
    "collapsed": true
   },
   "outputs": [
    {
     "name": "stderr",
     "output_type": "stream",
     "text": [
      "ibmqfactory.load_account:WARNING:2024-01-24 15:53:20,528: Credentials are already in use. The existing account in the session will be replaced.\n"
     ]
    }
   ],
   "source": [
    "import math\n",
    "\n",
    "import matplotlib.pyplot as plt\n",
    "import numpy as np\n",
    "import os\n",
    "import time\n",
    "\n",
    "import qiskit\n",
    "from qiskit import QuantumCircuit, QuantumRegister, ClassicalRegister, execute, Aer\n",
    "import qiskit as qiskit\n",
    "import qiskit.quantum_info as qi\n",
    "from qiskit import QuantumCircuit, transpile, Aer, IBMQ\n",
    "\n",
    "import ramsey_experiment\n",
    "\n",
    "# Loading your IBM Quantum account(s)\n",
    "IBMQ.save_account(os.environ.get('IBM_KEY'), overwrite=True)\n",
    "IBMQ.load_account()\n",
    "provider = IBMQ.get_provider(hub='ibm-q-research')\n",
    "\n"
   ]
  },
  {
   "cell_type": "code",
   "execution_count": 65,
   "outputs": [],
   "source": [
    "import Ramsey_ExperimentV2\n",
    "import random\n",
    "import importlib\n",
    "from tqdm import tqdm\n",
    "\n",
    "ramsey_experiment = importlib.reload(Ramsey_ExperimentV2)\n",
    "RamseyExperiment = ramsey_experiment.RamseyExperiment\n",
    "RamseyBatch = ramsey_experiment.RamseyBatch\n",
    "\n",
    "h = lambda n, J, z: sum([J[i] * (z[i] - 1) * (z[(i + 1) % n] - 1) for i in range(n - 1)])\n",
    "y_lornz = lambda a, x, w: np.pi * (2 * a / (a ** 2 + (x - w) ** 2) + 2 * a / (a ** 2 + (x + w) ** 2))\n",
    "y_lornz_single = lambda a, x, w: (2 * a / ((a ** 2 + x ** 2) * 2 * np.pi))\n",
    "\n",
    "\n",
    "def sinc(x_values):\n",
    "    X = []\n",
    "    for x in x_values:\n",
    "        X.append((np.sin(2 * x * np.pi) / (2 * x * np.pi) if x != 0 else 1))\n",
    "    return X\n",
    "\n",
    "\n",
    "def fisher_inf(x, w, a):\n",
    "    cos_wx_squared = np.cos(w * x) ** 2\n",
    "    sin_wx_squared = np.sin(w * x) ** 2\n",
    "    exp_ax = np.exp(a * x)\n",
    "\n",
    "    term1 = x ** 2 * cos_wx_squared / (exp_ax + np.cos(w * x)) ** 2\n",
    "    term2 = x ** 2 * sin_wx_squared / (exp_ax + np.cos(w * x)) ** 2\n",
    "\n",
    "    return term1 + term2\n",
    "\n",
    "\n",
    "def effective_hem(size, J, W):\n",
    "    hem = np.zeros((2 ** size, 2 ** size))\n",
    "    for i in range(2 ** size):\n",
    "        binary = '{0:b}'.format(i).zfill(size)\n",
    "        Z = [(-1) ** int(i) for i in binary]\n",
    "        #Z.reverse()\n",
    "        hem[i, i] = h(size, J, Z)\n",
    "        hem[i, i] += sum([W[k] for k in range(size) if binary[k] == '1'])\n",
    "    return hem"
   ],
   "metadata": {
    "collapsed": false
   }
  },
  {
   "cell_type": "code",
   "execution_count": 64,
   "outputs": [
    {
     "name": "stdout",
     "output_type": "stream",
     "text": [
      "J =  [0, 1]\n",
      "W =  [3]\n"
     ]
    },
    {
     "name": "stderr",
     "output_type": "stream",
     "text": [
      "Creating experiments: 100%|██████████| 50/50 [00:00<00:00, 135.24it/s]"
     ]
    },
    {
     "name": "stdout",
     "output_type": "stream",
     "text": [
      "W_estimate =  2.742538688413996\n",
      "L_estimate =  3.0704848695292957\n",
      "time_measured =  [2.0516523452014974, 0.0641141357875468, 2.6286795672894185, 2.5645654315018716, 2.6286795672894185, 2.821021974652059, 2.500451295714325, 2.500451295714325, 1.0258261726007487, 1.7310816662637634, 1.4105109873260295, 1.4105109873260295, 1.3463968515384828, 1.3463968515384828, 1.218168579963389, 1.218168579963389, 1.2822827157509358, 1.218168579963389, 1.0899403083882955, 0.7693696294505615, 0.7052554936630148, 0.7052554936630148, 0.7052554936630148, 0.7052554936630148, 0.7052554936630148, 0.6411413578754679, 0.6411413578754679, 0.6411413578754679, 0.6411413578754679, 0.6411413578754679, 0.6411413578754679, 0.6411413578754679, 0.6411413578754679, 0.6411413578754679, 0.6411413578754679, 0.6411413578754679, 0.6411413578754679, 0.6411413578754679, 0.6411413578754679, 0.6411413578754679, 0.6411413578754679, 0.6411413578754679, 0.6411413578754679, 0.6411413578754679, 0.6411413578754679, 0.6411413578754679, 0.6411413578754679, 0.6411413578754679, 0.6411413578754679, 0.6411413578754679]\n"
     ]
    },
    {
     "name": "stderr",
     "output_type": "stream",
     "text": [
      "\n"
     ]
    }
   ],
   "source": [
    "import numpy as np\n",
    "import math\n",
    "\n",
    "n = 1\n",
    "T = np.pi\n",
    "shots = 100\n",
    "measurements = 50\n",
    "delay = np.linspace(0, T, measurements)\n",
    "\n",
    "W = [random.gauss(3, 1) for _ in range(n)]\n",
    "L = [random.gauss(1, 1) for _ in range(n)]\n",
    "J = [random.gauss(3, 1) for _ in range(n - 1)]\n",
    "\n",
    "L = [3.2]\n",
    "\n",
    "W = [3]\n",
    "J = [0, 1]\n",
    "\n",
    "total_shots = shots * measurements\n",
    "fisher_values = [fisher_inf(t, W[0], L[0]) for t in delay]\n",
    "Shots = [math.ceil(total_shots * fisher_values[i] / sum(fisher_values)) for i in range(measurements)]\n",
    "Shots = [Shots[i] if Shots[i] > 0 else 1 for i in range(measurements)]\n",
    "\n",
    "print(\"J = \", J)\n",
    "print(\"W = \", W)\n",
    "\n",
    "batch1 = []\n",
    "batch2 = []\n",
    "\n",
    "exp = []\n",
    "W_estimate = 10\n",
    "L_estimate = 1\n",
    "time_measured = []\n",
    "for i in tqdm(range(measurements), desc=\"Creating experiments\"):\n",
    "    current_fisher = fisher_inf(delay, W_estimate, L_estimate)\n",
    "    best_t = np.argmax(current_fisher)\n",
    "    exp.append(RamseyExperiment(n, delay[best_t], 100, J, W, L))\n",
    "    exp.append(RamseyExperiment(n, delay[i], Shots[i], J, W, L))\n",
    "    exp[i].create_circuit_detuning()\n",
    "    exp[i].add_decay_raw()\n",
    "    batch1.append(exp[i])\n",
    "    W_estimate = RamseyBatch(batch1).fit_to_theory()[0][1]\n",
    "    L_estimate = RamseyBatch(batch1).fit_to_theory()[0][0]\n",
    "    time_measured.append(delay[best_t])\n",
    "print(\"W_estimate = \", W_estimate)\n",
    "print(\"L_estimate = \", L_estimate)\n",
    "\n",
    "print(\"time_measured = \", time_measured)"
   ],
   "metadata": {
    "collapsed": false
   }
  },
  {
   "cell_type": "code",
   "execution_count": 204,
   "outputs": [
    {
     "name": "stdout",
     "output_type": "stream",
     "text": [
      "Optimization failed: Inequality constraints incompatible\n"
     ]
    },
    {
     "name": "stderr",
     "output_type": "stream",
     "text": [
      "C:\\Users\\user\\AppData\\Local\\Temp\\ipykernel_7572\\3017969988.py:10: RuntimeWarning: divide by zero encountered in double_scalars\n",
      "  term4 = (1 / np.sin((t1 - t2) * w))**2\n"
     ]
    }
   ],
   "source": [
    "import numpy as np\n",
    "from scipy.optimize import minimize\n",
    "\n",
    "\n",
    "# Define the function\n",
    "def vw(t, a, w):\n",
    "    t1, t2 = t\n",
    "    term1 = np.exp(2 * a * t1) * t2 ** 2 * np.cos(t2 * w) ** 2\n",
    "    term2 = 2 * np.exp(a * t1) * t2 ** 2 * np.cos(t1 * w) * np.cos(t2 * w) ** 2\n",
    "    term3 = np.cos(t1 * w) ** 2 * (np.exp(2 * a * t2) * t1 ** 2 + 2 * np.exp(a * t2) * t1 ** 2 * np.cos(t2 * w) + (\n",
    "                t1 ** 2 + t2 ** 2) * np.cos(t2 * w) ** 2)\n",
    "    term4 = (1 / np.sin((t1 - t2) * w)) ** 2\n",
    "    return (term1 + term2 + term3) * term4 / (t1 ** 2 * t2 ** 2)\n",
    "\n",
    "\n",
    "# Constants\n",
    "a = 1.4\n",
    "w = 3\n",
    "\n",
    "# Constraints\n",
    "cons = ({'type': 'ineq', 'fun': lambda t: t[0] - t[1]},  # t1 > t2\n",
    "        {'type': 'ineq', 'fun': lambda t: t[0]},  # t1 > 0\n",
    "        {'type': 'ineq', 'fun': lambda t: t[1] - 1})  # t2 > 1\n",
    "\n",
    "# Initial guess\n",
    "initial_guess = [3, 3]\n",
    "\n",
    "# Optimization\n",
    "result = minimize(vw, initial_guess, args=(a, w), constraints=cons, method='SLSQP')\n",
    "\n",
    "if result.success:\n",
    "    optimized_t1, optimized_t2 = result.x\n",
    "    print(\"Minimum at t1 =\", optimized_t1, \"t2 =\", optimized_t2)\n",
    "    print(\"Minimum value of vw:\", result.fun)\n",
    "else:\n",
    "    print(\"Optimization failed:\", result.message)\n"
   ],
   "metadata": {
    "collapsed": false
   }
  },
  {
   "cell_type": "code",
   "execution_count": 297,
   "outputs": [
    {
     "data": {
      "text/plain": "<matplotlib.legend.Legend at 0x27439518490>"
     },
     "execution_count": 297,
     "metadata": {},
     "output_type": "execute_result"
    },
    {
     "data": {
      "text/plain": "<Figure size 640x480 with 1 Axes>",
      "image/png": "[encoded data removed]"
     },
     "metadata": {},
     "output_type": "display_data"
    }
   ],
   "source": [
    "def p(t, w, a):\n",
    "    return 1 / 2 * (1 + np.cos(w * t)) * np.exp(-a * t)\n",
    "\n",
    "\n",
    "def pw(t, w, a):\n",
    "    return - 1 / 2 * t * np.sin(w * t) * np.exp(-a * t)\n",
    "\n",
    "\n",
    "def pww(t, w, a):\n",
    "    return - 1 / 2 * t ** 2 * np.cos(w * t) * np.exp(-a * t)\n",
    "\n",
    "\n",
    "def pa(t, w, a):\n",
    "    return - 1 / 2 * t * np.cos(w * t) * np.exp(-a * t)\n",
    "\n",
    "\n",
    "def paa(t, w, a):\n",
    "    return 1 / 2 * t ** 2 * np.cos(w * t) * np.exp(-a * t)\n",
    "\n",
    "\n",
    "def paw(t, w, a):\n",
    "    return 1 / 2 * t ** 2 * np.sin(w * t) * np.exp(-a * t)\n",
    "\n",
    "\n",
    "def fisher_matrix(t, w, a, shots):\n",
    "    Iww = 0\n",
    "    Iaa = 0\n",
    "    Iwa = 0\n",
    "\n",
    "    for i in range(len(t)):\n",
    "        p0 = p(t[i], w, a)\n",
    "        p1 = 1 - p0\n",
    "        pw0 = pw(t[i], w, a)\n",
    "        pw1 = -pw0\n",
    "        pww0 = pww(t[i], w, a)\n",
    "        pww1 = -pww0\n",
    "        pa0 = pa(t[i], w, a)\n",
    "        pa1 = -pa0\n",
    "        paa0 = paa(t[i], w, a)\n",
    "        paa1 = -paa0\n",
    "        paw0 = paw(t[i], w, a)\n",
    "        paw1 = -paw0\n",
    "\n",
    "        if p0 == 0:\n",
    "            p0 = 1e-10\n",
    "        if p1 == 0:\n",
    "            p1 = 1e-10\n",
    "\n",
    "        Iww -= shots[i] * (p0 * ((pww0 * p0 - pw0 ** 2) / p0 ** 2) + p1 * ((pww1 * p1 - pw1\n",
    "                                                                            ** 2) / p1 ** 2))\n",
    "        Iaa -= shots[i] * (p0 * ((paa0 * p0 - pa0 ** 2) / p0 ** 2) + p1 * ((paa1 * p1 - pa1 ** 2) / p1 ** 2))\n",
    "        Iwa -= shots[i] * (p0 * ((paw0 * p0 - pw0 * pa0) / p0 ** 2) + p1 * ((paw1 * p1 - pw1 * pa1) / p1 ** 2))\n",
    "\n",
    "    return np.array([[Iww, Iwa], [Iwa, Iaa]])\n",
    "\n",
    "def lower_bound(f_mat):\n",
    "    inv = np.linalg.inv(f_mat)\n",
    "    w_var = inv[0, 0]\n",
    "    a_var = inv[1, 1]\n",
    "    return w_var, a_var\n",
    "\n",
    "T =  0.2*np.pi\n",
    "shots = 100\n",
    "measurements = np.arange(5, 100)\n",
    "w = 3\n",
    "decay = 3.2\n",
    "w_bounds = []\n",
    "a_bounds = []\n",
    "for m in measurements:\n",
    "    delay = np.linspace(0, T, m)\n",
    "    Shots = len(delay) * [shots]\n",
    "    fisher = fisher_matrix(delay, w, decay, Shots)\n",
    "    w_bound, a_bound = lower_bound(fisher)\n",
    "    w_bounds.append(100 * w_bound/w)\n",
    "    a_bounds.append(100 * a_bound/a)\n",
    "\n",
    "\n",
    "from matplotlib import ticker\n",
    "#plt.gca().yaxis.set_major_formatter(ticker.PercentFormatter(1))\n",
    "plt.plot(measurements, w_bounds, label=\"w lower bound\")\n",
    "#plt.plot(measurements, a_bounds, label=\"a lower bound\", color=\"orange\")\n",
    "#plt.semilogy()\n",
    "#plt.ylim([0, 10])\n",
    "#plt.xlim([0, 20])\n",
    "plt.legend()"
   ],
   "metadata": {
    "collapsed": false
   }
  },
  {
   "cell_type": "code",
   "execution_count": null,
   "outputs": [],
   "source": [],
   "metadata": {
    "collapsed": false
   }
  }
 ],
 "metadata": {
  "kernelspec": {
   "display_name": "Python 3",
   "language": "python",
   "name": "python3"
  },
  "language_info": {
   "codemirror_mode": {
    "name": "ipython",
    "version": 2
   },
   "file_extension": ".py",
   "mimetype": "text/x-python",
   "name": "python",
   "nbconvert_exporter": "python",
   "pygments_lexer": "ipython2",
   "version": "2.7.6"
  }
 },
 "nbformat": 4,
 "nbformat_minor": 0
}
