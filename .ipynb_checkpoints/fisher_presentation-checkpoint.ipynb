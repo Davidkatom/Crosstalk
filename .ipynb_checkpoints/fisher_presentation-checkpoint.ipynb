{
 "cells": [
  {
   "cell_type": "code",
   "execution_count": 4,
   "metadata": {},
   "outputs": [],
   "source": [
    "%matplotlib inline\n",
    "import numpy as np\n",
    "import matplotlib.pyplot as plt\n",
    "from ipywidgets import interact\n",
    "\n",
    "# Number of points\n",
    "n_points = 100\n",
    "\n",
    "# Generate points from a normal distribution with a fixed standard deviation\n",
    "sigma = 1\n",
    "points = np.random.normal(0, sigma, n_points)  # Initial points with mu = 0\n",
    "\n",
    "def plot_distribution_and_likelihood(mu):\n",
    "    # Clear existing plots\n",
    "    plt.clf()\n",
    "\n",
    "    # Plot the distribution of points\n",
    "    plt.figure(figsize=(12, 6))\n",
    "\n",
    "    # Subplot for the distribution\n",
    "    plt.subplot(1, 2, 1)\n",
    "    count, bins, ignored = plt.hist(points, 30, density=True, alpha=0.6, color='g')\n",
    "    plt.plot(bins, 1/(sigma * np.sqrt(2 * np.pi)) * np.exp(-(bins - mu)**2 / (2 * sigma**2)),\n",
    "             linewidth=2, color='r')\n",
    "    plt.title('Normal Distribution')\n",
    "    plt.xlabel('Value')\n",
    "    plt.ylabel('Probability Density')\n",
    "\n",
    "    # Subplot for the likelihood\n",
    "    plt.subplot(1, 2, 2)\n",
    "    mu_values = np.linspace(-5, 5, 100)\n",
    "    likelihoods = np.array([np.sum(-np.log(np.sqrt(2 * np.pi * sigma**2)) - ((points - m)**2 / (2 * sigma**2))) for m in mu_values])\n",
    "    plt.plot(mu_values, likelihoods, color='b')\n",
    "    plt.axvline(x=mu, color='r', linestyle='--')\n",
    "    plt.title('Log-Likelihood Function')\n",
    "    plt.xlabel('Mu')\n",
    "    plt.ylabel('Log-Likelihood')\n",
    "\n",
    "    plt.show()\n",
    "    display(plt.gcf())  # Explicitly display the figure\n",
    "\n",
    "\n",
    "# Interactive slider\n",
    "interact(plot_distribution_and_likelihood, mu=(-5, 5, 0.1))\n",
    "#plot_distribution_and_likelihood(0)"
   ]
  }
 ],
 "metadata": {
  "kernelspec": {
   "display_name": "Python 3 (ipykernel)",
   "language": "python",
   "name": "python3"
  },
  "language_info": {
   "codemirror_mode": {
    "name": "ipython",
    "version": 3
   },
   "file_extension": ".py",
   "mimetype": "text/x-python",
   "name": "python",
   "nbconvert_exporter": "python",
   "pygments_lexer": "ipython3",
   "version": "3.9.13"
  }
 },
 "nbformat": 4,
 "nbformat_minor": 1
}
