{
 "cells": [
  {
   "cell_type": "code",
   "metadata": {
    "collapsed": true,
    "ExecuteTime": {
     "end_time": "2024-12-09T08:08:30.758546Z",
     "start_time": "2024-12-09T08:08:30.756009Z"
    }
   },
   "source": [
    "import np as np\n",
    "\n",
    "import Ramsey_ExperimentV3\n",
    "from tqdm import tqdm\n",
    "import random\n",
    "\n",
    "import estimator\n",
    "import numpy as np"
   ],
   "outputs": [],
   "execution_count": 1
  },
  {
   "metadata": {
    "ExecuteTime": {
     "end_time": "2024-12-09T13:20:30.393679Z",
     "start_time": "2024-12-09T13:00:57.706358Z"
    },
    "pycharm": {
     "is_executing": true
    }
   },
   "cell_type": "code",
   "source": [
    "fitted_data = []\n",
    "T = 1 * np.pi\n",
    "uni_delay = np.linspace(0, T, 20)\n",
    "shots = 5000\n",
    "\n",
    "uniform_local_G = []\n",
    "n = 1\n",
    "delay = [1]\n",
    "fisher_delay = [0.4439410861020235, 1.784695781691183]\n",
    "\n",
    "decay_fit = []\n",
    "\n",
    "repetitions = 1000\n",
    "# W =]\n",
    "W = np.arange(0.001, 3.1, 0.1)\n",
    "# np.delete(W, 0)\n",
    "Decay = np.arange(0.001, 3.1, 0.1)\n",
    "J = {}\n",
    "J_list = [random.gauss(1, 0) for _ in range(n - 1)]\n",
    "for rep in tqdm(range(repetitions), desc=\"Repetition\"):\n",
    "    rep_decay_fit = []\n",
    "    for w in W:\n",
    "        for d in Decay:\n",
    "            # Create experiments\n",
    "            batch_x_det, batch_y_det, batch_x_cross, batch_y_cross = Ramsey_ExperimentV3.ramsey_local(\n",
    "                n, shots, delay, [d], [w], J\n",
    "            )\n",
    "            batch_det, batch_cross = Ramsey_ExperimentV3.ramsey_local_X(n, shots, fisher_delay, [d], [w], J)\n",
    "            batch_x_det_uni, batch_y_det_uni, batch_x_cross_uni, batch_y_cross_uni = Ramsey_ExperimentV3.ramsey_local(\n",
    "                n, shots, uni_delay, [d], [w], J\n",
    "            )\n",
    "\n",
    "            # Append batches and decay to decay fit list\n",
    "            rep_decay_fit.append((\n",
    "                w,d,\n",
    "                (batch_x_det, batch_y_det, batch_x_cross, batch_y_cross),\n",
    "                (batch_det, batch_cross),\n",
    "                (batch_x_det_uni, batch_y_det_uni, batch_x_cross_uni, batch_y_cross_uni),\n",
    "            ))\n",
    "\n",
    "    decay_fit.append(rep_decay_fit)"
   ],
   "outputs": [
    {
     "name": "stderr",
     "output_type": "stream",
     "text": [
      "Repetition:  79%|███████▉  | 794/1000 [15:44:51<5:03:28, 88.39s/it] "
     ]
    }
   ],
   "execution_count": null
  },
  {
   "metadata": {
    "ExecuteTime": {
     "end_time": "2024-12-09T13:20:30.456631Z",
     "start_time": "2024-12-09T13:20:30.449194Z"
    },
    "pycharm": {
     "is_executing": true
    }
   },
   "cell_type": "code",
   "source": [
    "\n",
    "from importlib import reload\n",
    "reload(estimator)"
   ],
   "outputs": [],
   "execution_count": null
  },
  {
   "metadata": {
    "ExecuteTime": {
     "end_time": "2024-12-09T13:24:34.605663Z",
     "start_time": "2024-12-09T13:20:30.465637Z"
    },
    "pycharm": {
     "is_executing": true
    }
   },
   "cell_type": "code",
   "source": [
    "\n",
    "for rep, rep_batches in enumerate(decay_fit):\n",
    "    rep_fits = []\n",
    "    print(f\"Repetition {rep} / {repetitions}\")\n",
    "    for w, d,(batch_x_det, batch_y_det, batch_x_cross, batch_y_cross), (batch_det, batch_cross), (batch_x_det_uni, batch_y_det_uni, batch_x_cross_uni, batch_y_cross_uni) in rep_batches:\n",
    "        Decay_local, W_local, J_local = estimator.one_by_one_fit(batch_x_det, batch_y_det, batch_x_cross, batch_y_cross)\n",
    "        Decay_fisher, W_fisher, J_fisher = estimator.one_by_one_X(batch_det, batch_cross)\n",
    "        Decay_uni, W_uni, J_uni = estimator.one_by_one_fit(batch_x_det_uni, batch_y_det_uni, batch_x_cross_uni, batch_y_cross_uni)\n",
    "\n",
    "        rep_fits.append((\n",
    "            w,d,\n",
    "            (Decay_local, W_local, J_local),\n",
    "            (Decay_fisher, W_fisher, J_fisher),\n",
    "            (Decay_uni, W_uni, J_uni),\n",
    "        ))\n",
    "\n",
    "    fitted_data.append(rep_fits)"
   ],
   "outputs": [],
   "execution_count": null
  },
  {
   "metadata": {
    "ExecuteTime": {
     "end_time": "2024-12-09T13:32:52.642987Z",
     "start_time": "2024-12-09T13:32:52.346150Z"
    },
    "pycharm": {
     "is_executing": true
    }
   },
   "cell_type": "code",
   "source": [
    "from importlib import reload\n",
    "reload(estimator)\n",
    "errors_fisher = []\n",
    "errors_local = []\n",
    "uniform_local = []\n",
    "for rep, rep_fits in enumerate(fitted_data):\n",
    "    rep_error_fisher = []\n",
    "    rep_error_local = []\n",
    "    rep_error_uniform = []\n",
    "\n",
    "    for w,d, (Decay_local, W_local, J_local), (Decay_fisher, W_fisher, J_fisher), (Decay_uni, W_uni, J_uni) in rep_fits:\n",
    "        fisher_errors = estimator.percent_error(\n",
    "            np.concatenate([[w], [d], J_list]),\n",
    "            np.concatenate([W_fisher, Decay_fisher, J_fisher])\n",
    "        )\n",
    "        local_errors = estimator.percent_error(\n",
    "            np.concatenate([[w], [d], J_list]),\n",
    "            np.concatenate([W_local, Decay_local, J_local])\n",
    "        )\n",
    "\n",
    "        uniform_errors = estimator.percent_error(\n",
    "            np.concatenate([[w], [d], J_list]),\n",
    "            np.concatenate([W_uni, Decay_uni, J_uni])\n",
    "        )\n",
    "\n",
    "        rep_error_fisher.append(fisher_errors)\n",
    "        rep_error_local.append(local_errors)\n",
    "        rep_error_uniform.append(uniform_errors)\n",
    "\n",
    "    errors_fisher.append(rep_error_fisher)\n",
    "    errors_local.append(rep_error_local)\n",
    "    uniform_local.append(rep_error_uniform)\n",
    "\n"
   ],
   "outputs": [],
   "execution_count": null
  },
  {
   "cell_type": "code",
   "execution_count": null,
   "outputs": [],
   "source": [
    "def reshape_2d_array(array):\n",
    "    array = np.array(array)\n",
    "    new_array = []\n",
    "    for a in array:\n",
    "        new_array.append(a.reshape(int(np.sqrt(len(a))), int(np.sqrt(len(a))),2))\n",
    "    new_array = np.array(new_array).transpose()\n",
    "    return new_array\n",
    "errors_fisher_reshaped = reshape_2d_array(errors_fisher)\n",
    "errors_local_reshaped = reshape_2d_array(errors_local)\n",
    "errors_uniform_reshaped = reshape_2d_array(uniform_local)\n",
    "\n"
   ],
   "metadata": {
    "collapsed": false,
    "pycharm": {
     "is_executing": true
    }
   }
  },
  {
   "cell_type": "code",
   "source": [
    "k = 10\n",
    "\n",
    "# errors_local_reshaped = list(map(list, zip(*errors_local)))\n",
    "# errors_uniform_reshaped = list(map(list, zip(*uniform_local)))\n",
    "# errors_fisher_reshaped_G = list(map(list, zip(*uniform_local_G)))\n",
    "\n",
    "errors_fisher_reshaped_a = errors_fisher_reshaped[1]\n",
    "errors_local_reshaped_a = errors_local_reshaped[1]\n",
    "errors_uniform_reshaped_a = errors_uniform_reshaped[1]\n",
    "\n",
    "errors_fisher_reshaped_w = errors_fisher_reshaped[0]\n",
    "errors_local_reshaped_w = errors_local_reshaped[0]\n",
    "errors_uniform_reshaped_w = errors_uniform_reshaped[0]\n",
    "\n",
    "\n",
    "errors_fisher_median_a, errors_fisher_std_a = np.zeros((len(W),len(W))),np.zeros((len(W),len(W)))\n",
    "errors_local_median_a, errors_local_std_a = np.zeros((len(W),len(W))),np.zeros((len(W),len(W)))\n",
    "errors_uniform_median_a, errors_uniform_std_a = np.zeros((len(W),len(W))),np.zeros((len(W),len(W)))\n",
    "\n",
    "errors_fisher_median_w, errors_fisher_std_w = np.zeros((len(W),len(W))),np.zeros((len(W),len(W)))\n",
    "errors_local_median_w, errors_local_std_w = np.zeros((len(W),len(W))),np.zeros((len(W),len(W)))\n",
    "errors_uniform_median_w, errors_uniform_std_w = np.zeros((len(W),len(W))),np.zeros((len(W),len(W)))\n",
    "\n",
    "for i in range(len(W)):\n",
    "        errors_fisher_median_a[i], errors_fisher_std_a[i] = estimator.mean_of_medians(errors_fisher_reshaped_a[i, :], k)\n",
    "        errors_local_median_a[i], errors_local_std_a[i] = estimator.mean_of_medians(errors_local_reshaped_a[i, :], k)\n",
    "        errors_uniform_median_a[i], errors_uniform_std_a[i] = estimator.mean_of_medians(errors_uniform_reshaped_a[i, :], k)\n",
    "\n",
    "        errors_fisher_median_w[i], errors_fisher_std_w[i] = estimator.mean_of_medians(errors_fisher_reshaped_w[i, :], k)\n",
    "        errors_local_median_w[i], errors_local_std_w[i] = estimator.mean_of_medians(errors_local_reshaped_w[i, :], k)\n",
    "        errors_uniform_median_w[i], errors_uniform_std_w[i] = estimator.mean_of_medians(errors_uniform_reshaped_w[i, :], k)\n",
    "\n"
   ],
   "metadata": {
    "collapsed": false,
    "ExecuteTime": {
     "end_time": "2024-12-09T13:32:52.749396Z",
     "start_time": "2024-12-09T13:32:52.699698Z"
    },
    "pycharm": {
     "is_executing": true
    }
   },
   "outputs": [],
   "execution_count": null
  },
  {
   "cell_type": "code",
   "source": [
    "import matplotlib.pyplot as plt\n",
    "\n",
    "plt.figure(figsize=(10, 4))  # Adjust the figure size to make the plot longer\n",
    "plt.rcParams['text.usetex'] = True\n",
    "font = {'family': 'normal',\n",
    "        'weight': 'bold',\n",
    "        'size': 14}\n",
    "\n",
    "plt.rc('font', **font)\n",
    "\n",
    "plt.errorbar(W, np.array(errors_uniform_median_a[:,4]), yerr= np.array(errors_uniform_std_a[:,4]),\n",
    "             fmt='o', color='blue')\n",
    "plt.errorbar(W, np.array(errors_fisher_median_a[:,4]), yerr= np.array(errors_fisher_std_a[:,4]),\n",
    "             fmt='o', color='red')\n",
    "plt.errorbar(W, np.array(errors_local_median_a[:,4]), yerr= np.array(errors_local_std_a[:,4]), fmt='o',\n",
    "             color='green')\n",
    "\n",
    "\n",
    "def rao_bound_complex(T, a, sigma):\n",
    "    I = 0\n",
    "    for t in T:\n",
    "        I += 1 / (sigma ** 2) * t ** 2 * np.exp(-2 * t * a)\n",
    "    bound = 1 / np.sqrt(I)\n",
    "    return bound\n",
    "\n",
    "sigma_single = 1 / np.sqrt(shots/2)\n",
    "Gamma = np.linspace(0, 4, 100)\n",
    "error_single = []\n",
    "for g in Gamma:\n",
    "    error_single.append(rao_bound_complex([1], g, sigma_single))\n",
    "\n",
    "plt.plot(Gamma, error_single, label='Single-shot bound', color='black')\n",
    "\n",
    "plt.title(\"Dephasing\")\n",
    "# plt.title(f'Shots={Decay} ')\n",
    "# plt.xlabel('$\\omega')\n",
    "# plt.ylabel('mean / $\\gamma$')\n",
    "plt.grid()\n",
    "# plt.yscale('log')\n",
    "# plt.xscale('log')\n",
    "# plt.xlim([0, 2])\n",
    "plt.ylim([0, 0.5])\n",
    "\n",
    "plt.grid()\n",
    "plt.legend()"
   ],
   "metadata": {
    "collapsed": false,
    "ExecuteTime": {
     "end_time": "2024-12-09T13:32:53.436724Z",
     "start_time": "2024-12-09T13:32:53.265229Z"
    },
    "pycharm": {
     "is_executing": true
    }
   },
   "outputs": [],
   "execution_count": null
  },
  {
   "cell_type": "code",
   "source": [
    "import matplotlib.pyplot as plt\n",
    "\n",
    "plt.figure(figsize=(10, 4))  # Adjust the figure size to make the plot longer\n",
    "plt.rcParams['text.usetex'] = True\n",
    "font = {'family': 'normal',\n",
    "        'weight': 'bold',\n",
    "        'size': 14}\n",
    "\n",
    "plt.rc('font', **font)\n",
    "\n",
    "plt.errorbar(W,  np.array(errors_uniform_median_w[:,0]), yerr= np.array(errors_uniform_std_w[:,4]),\n",
    "             fmt='o', color='blue')\n",
    "plt.errorbar(W,  np.array(errors_fisher_median_w[:,0]), yerr= np.array(errors_fisher_std_w[:,4]),\n",
    "             fmt='o', color='red')\n",
    "plt.errorbar(W,  np.array(errors_local_median_w[:,0]), yerr= np.array(errors_local_std_w[:,4]), fmt='o',\n",
    "             color='green')\n",
    "# plt.errorbar(Decay, 100 * np.array(errors_uniform_median_G/Decay ), yerr=100 * np.array(errors_uniform_std_G/Decay ), fmt='o',\n",
    "#              color='magenta')\n",
    "# Scatter points for 75th percentiles\n",
    "plt.title(\"Freq\")\n",
    "\n",
    "# plt.title(f'Shots={Decay} ')\n",
    "# plt.xlabel('$\\omega')\n",
    "# plt.ylabel('mean / $\\omega$')\n",
    "plt.grid()\n",
    "# plt.yscale('log')\n",
    "# plt.xscale('log')\n",
    "# plt.xlim([0, 2])\n",
    "# plt.ylim([0,50])\n",
    "sigma_single = 1 / np.sqrt(shots/2)\n",
    "Gamma = np.linspace(0, 4, 100)\n",
    "error_single = []\n",
    "for g in Gamma:\n",
    "    error_single.append(rao_bound_complex([1], g, sigma_single))\n",
    "\n",
    "plt.plot(Gamma, error_single, label='Single-shot bound', color='black')\n",
    "plt.ylim([0, 1])\n",
    "plt.grid()\n",
    "\n",
    "plt.legend()"
   ],
   "metadata": {
    "collapsed": false,
    "ExecuteTime": {
     "end_time": "2024-12-09T13:32:54.857840Z",
     "start_time": "2024-12-09T13:32:54.122658Z"
    },
    "pycharm": {
     "is_executing": true
    }
   },
   "outputs": [],
   "execution_count": null
  },
  {
   "cell_type": "code",
   "execution_count": null,
   "outputs": [],
   "source": [
    "#Heatmap\n",
    "# Plotting the heatmap\n",
    "# sqrt_decay_w_array = np.zeros((len(Decay), len(W)))\n",
    "# for i in range(len(Decay)):\n",
    "#     for j in range(len(W)):\n",
    "#         sqrt_decay_w_array[i, j] = np.sqrt(Decay[i]**2 + W[j]**2)\n",
    "plt.figure(figsize=(8, 6))\n",
    "plt.imshow(errors_fisher_median_a, aspect='auto', origin='lower',\n",
    "           extent=[W.min(), W.max(), Decay.min(), Decay.max()], cmap='jet')\n",
    "plt.colorbar(label='Mean Error (Fisher)')\n",
    "plt.xlabel('W')\n",
    "plt.ylabel('Decay')\n",
    "plt.title('Heatmap of Median Errors (Fisher)')\n",
    "plt.show()\n",
    "\n",
    "plt.figure(figsize=(8, 6))\n",
    "plt.imshow(errors_local_median_a, aspect='auto', origin='lower',\n",
    "           extent=[W.min(), W.max(), Decay.min(), Decay.max()], cmap='jet')\n",
    "plt.colorbar(label='Mean Error (local)')\n",
    "plt.xlabel('W')\n",
    "plt.ylabel('Decay')\n",
    "plt.title('Heatmap of Median Errors (local)')\n",
    "plt.show()\n",
    "\n",
    "\n",
    "plt.figure(figsize=(8, 6))\n",
    "plt.imshow(errors_uniform_median_a, aspect='auto', origin='lower',\n",
    "           extent=[W.min(), W.max(), Decay.min(), Decay.max()], cmap='jet')\n",
    "plt.colorbar(label='Median Error (Uniform)')\n",
    "plt.xlabel('W')\n",
    "plt.ylabel('Decay')\n",
    "plt.title('Heatmap of Median Errors (Uniform)')\n",
    "plt.show()\n"
   ],
   "metadata": {
    "collapsed": false,
    "pycharm": {
     "is_executing": true
    }
   }
  },
  {
   "metadata": {
    "ExecuteTime": {
     "end_time": "2024-12-09T12:58:28.522127Z",
     "start_time": "2024-12-09T12:58:28.472791Z"
    },
    "pycharm": {
     "is_executing": true
    }
   },
   "cell_type": "code",
   "source": [
    "fisher_a = []\n",
    "local_a = []\n",
    "uniform_a = []\n",
    "\n",
    "fisher_w = []\n",
    "local_w = []\n",
    "uniform_w = []\n",
    "\n",
    "for rep, rep_fits in enumerate(fitted_data):\n",
    "    # Initialize lists for this repetition\n",
    "    rep_fisher_a = []\n",
    "    rep_local_a = []\n",
    "    rep_uniform_a = []\n",
    "\n",
    "    rep_fisher_w = []\n",
    "    rep_local_w = []\n",
    "    rep_uniform_w = []\n",
    "\n",
    "    for w,d, (Decay_local, W_local, J_local), (Decay_fisher, W_fisher, J_fisher), (Decay_uni, W_uni, J_uni) in rep_fits:\n",
    "        # Append decays\n",
    "        rep_fisher_a.append(Decay_fisher)\n",
    "        rep_local_a.append(Decay_local)\n",
    "        rep_uniform_a.append(Decay_uni)\n",
    "\n",
    "        # Append detunings\n",
    "        rep_fisher_w.append(W_fisher)\n",
    "        rep_local_w.append(W_local)\n",
    "        rep_uniform_w.append(W_uni)\n",
    "\n",
    "    fisher_a.append(rep_fisher_a)\n",
    "    local_a.append(rep_local_a)\n",
    "    uniform_a.append(rep_uniform_a)\n",
    "\n",
    "    fisher_w.append(rep_fisher_w)\n",
    "    local_w.append(rep_local_w)\n",
    "    uniform_w.append(rep_uniform_w)\n",
    "\n",
    "\n",
    "\n",
    "fisher_a = np.array(fisher_a).transpose()[0]\n",
    "local_a = np.array(local_a).transpose()[0]\n",
    "uniform_a = np.array(uniform_a).transpose()[0]\n",
    "\n",
    "\n",
    "\n",
    "fisher_w= np.array(fisher_w).transpose()[0]\n",
    "local_w = np.array(local_w).transpose()[0]\n",
    "uniform_w = np.array(uniform_w).transpose()[0]\n",
    "\n",
    "\n",
    "fisher_a_mean = [np.mean(fisher_a[i]) for i in range(len(W)**2)]\n",
    "fisher_a_std = [np.std(fisher_a[i]) for i in range(len(W)**2)]\n",
    "\n",
    "local_a_mean = [np.mean(local_a[i]) for i in range(len(W)**2)]\n",
    "local_a_std = [np.std(local_a[i])  for i in range(len(W)**2)]\n",
    "\n",
    "uniform_a_mean = [np.mean(uniform_a[i]) for i in range(len(W)**2)]\n",
    "uniform_a_std = [np.std(uniform_a[i])  for i in range(len(W)**2)]\n",
    "\n",
    "\n",
    "fisher_w_mean = [np.mean(fisher_w[i]) for i in range(len(W)**2)]\n",
    "fisher_w_std = [np.std(fisher_w[i])  for i in range(len(W)**2)]\n",
    "\n",
    "local_w_mean = [np.mean(local_w[i]) for i in range(len(W)**2)]\n",
    "local_w_std = [np.std(local_w[i])  for i in range(len(W)**2)]\n",
    "\n",
    "uniform_w_mean = [np.mean(uniform_w[i]) for i in range(len(W)**2)]\n",
    "uniform_w_std = [np.std(uniform_w[i]) for i in range(len(W)**2)]\n",
    "#\n",
    "\n",
    "def bias_matrix_a(matrix, true):\n",
    "    B = np.zeros((len(W), len(W)))\n",
    "    for i in range(len(W)):\n",
    "        for j in range(len(W)):\n",
    "            B[i, j] = matrix[i, j] - true[j]\n",
    "    return np.array(B)\n",
    "\n",
    "def bias_matrix_w(matrix, true):\n",
    "    B = np.zeros((len(W), len(W)))\n",
    "    for i in range(len(W)):\n",
    "        for j in range(len(W)):\n",
    "            B[i, j] = matrix[i, j] - true[i]\n",
    "    return np.array(B)\n",
    "# print(\"Fisher_a: \", len(fisher_a))"
   ],
   "outputs": [],
   "execution_count": null
  },
  {
   "cell_type": "code",
   "execution_count": null,
   "outputs": [],
   "source": [
    "fisher_resaped = np.array(fisher_a_mean).reshape((len(W),len(Decay)))\n",
    "plt.plot(Decay,fisher_resaped[4,:])\n",
    "plt.show()\n",
    "fisher_resaped = np.array(fisher_w_mean).reshape((len(W),len(Decay)))\n",
    "plt.plot(W,fisher_resaped[:,1])"
   ],
   "metadata": {
    "collapsed": false,
    "pycharm": {
     "is_executing": true
    }
   }
  },
  {
   "cell_type": "code",
   "source": [
    "# Fisher\n",
    "res = np.array(fisher_w_mean).reshape((len(W), len(Decay)))\n",
    "bias = bias_matrix_w(res, Decay)\n",
    "plt.figure(figsize=(8, 6))\n",
    "plt.imshow(bias, aspect='auto', origin='lower',\n",
    "           extent=[W.min(), W.max(), Decay.min(), Decay.max()],\n",
    "           cmap='jet', vmin=-3, vmax=3)\n",
    "plt.colorbar(label='Mean Error (Fisher)')\n",
    "plt.xlabel('W')\n",
    "plt.ylabel('Decay')\n",
    "plt.title('Heatmap of Median Errors (Fisher)')\n",
    "plt.show()\n",
    "\n",
    "# Local\n",
    "res = np.array(local_w_mean).reshape((len(W), len(Decay)))\n",
    "bias = bias_matrix_w(res, Decay)\n",
    "plt.figure(figsize=(8, 6))\n",
    "plt.imshow(bias, aspect='auto', origin='lower',\n",
    "           extent=[W.min(), W.max(), Decay.min(), Decay.max()],\n",
    "           cmap='jet', vmin=-3, vmax=3)\n",
    "plt.colorbar(label='Mean Error (Local)')\n",
    "plt.xlabel('W')\n",
    "plt.ylabel('Decay')\n",
    "plt.title('Heatmap of Median Errors (Local)')\n",
    "plt.show()\n",
    "\n",
    "# Uniform\n",
    "res = np.array(uniform_w_mean).reshape((len(W), len(Decay)))\n",
    "bias = bias_matrix_w(res, Decay)\n",
    "plt.figure(figsize=(8, 6))\n",
    "plt.imshow(bias, aspect='auto', origin='lower',\n",
    "           extent=[W.min(), W.max(), Decay.min(), Decay.max()],\n",
    "           cmap='jet', vmin=-3, vmax=3)\n",
    "plt.colorbar(label='Mean Error (Uniform)')\n",
    "plt.xlabel('W')\n",
    "plt.ylabel('Decay')\n",
    "plt.title('Heatmap of Median Errors (Uniform)')\n",
    "plt.show()\n"
   ],
   "metadata": {
    "collapsed": false,
    "ExecuteTime": {
     "end_time": "2024-12-09T10:59:13.256599Z",
     "start_time": "2024-12-09T10:59:13.145051Z"
    },
    "pycharm": {
     "is_executing": true
    }
   },
   "outputs": [],
   "execution_count": null
  },
  {
   "cell_type": "code",
   "execution_count": null,
   "outputs": [],
   "source": [
    "# Fisher\n",
    "res = np.array(fisher_a_mean).reshape((len(W), len(Decay)))\n",
    "bias = bias_matrix_a(res, Decay)\n",
    "plt.figure(figsize=(8, 6))\n",
    "plt.imshow(bias, aspect='auto', origin='lower',\n",
    "           extent=[W.min(), W.max(), Decay.min(), Decay.max()],\n",
    "           cmap='jet', vmin=-3, vmax=3)\n",
    "plt.colorbar(label='Mean Error (Fisher)')\n",
    "plt.xlabel('W')\n",
    "plt.ylabel('Decay')\n",
    "plt.title('Heatmap of Median Errors (Fisher)')\n",
    "plt.show()\n",
    "\n",
    "# Local\n",
    "res = np.array(local_a_mean).reshape((len(W), len(Decay)))\n",
    "bias = bias_matrix_a(res, Decay)\n",
    "plt.figure(figsize=(8, 6))\n",
    "plt.imshow(bias, aspect='auto', origin='lower',\n",
    "           extent=[W.min(), W.max(), Decay.min(), Decay.max()],\n",
    "           cmap='jet', vmin=-3, vmax=3)\n",
    "plt.colorbar(label='Mean Error (Local)')\n",
    "plt.xlabel('W')\n",
    "plt.ylabel('Decay')\n",
    "plt.title('Heatmap of Median Errors (Local)')\n",
    "plt.show()\n",
    "\n",
    "# Uniform\n",
    "res = np.array(uniform_a_mean).reshape((len(W), len(Decay)))\n",
    "bias = bias_matrix_a(res, Decay)\n",
    "plt.figure(figsize=(8, 6))\n",
    "plt.imshow(bias, aspect='auto', origin='lower',\n",
    "           extent=[W.min(), W.max(), Decay.min(), Decay.max()],\n",
    "           cmap='jet', vmin=-3, vmax=3)\n",
    "plt.colorbar(label='Mean Error (Uniform)')\n",
    "plt.xlabel('W')\n",
    "plt.ylabel('Decay')\n",
    "plt.title('Heatmap of Median Errors (Uniform)')\n",
    "plt.show()\n"
   ],
   "metadata": {
    "collapsed": false,
    "pycharm": {
     "is_executing": true
    }
   }
  },
  {
   "cell_type": "code",
   "execution_count": null,
   "outputs": [],
   "source": [
    "res = np.array(fisher_w_mean).reshape((len(W), len(Decay)))\n",
    "bias = bias_matrix_w(res, Decay)\n",
    "plt.plot(Decay, bias[5, :])"
   ],
   "metadata": {
    "collapsed": false,
    "pycharm": {
     "is_executing": true
    }
   }
  },
  {
   "cell_type": "code",
   "execution_count": null,
   "outputs": [],
   "source": [
    "import numpy as np\n",
    "import matplotlib.pyplot as plt\n",
    "from mpl_toolkits.mplot3d import Axes3D\n",
    "\n",
    "# Fisher\n",
    "res = np.array(fisher_w_mean).reshape((len(W), len(Decay)))\n",
    "bias = bias_matrix_w(res, Decay)\n",
    "W_grid, Decay_grid = np.meshgrid(W, Decay)\n",
    "\n",
    "fig = plt.figure(figsize=(10, 8))\n",
    "ax = fig.add_subplot(111, projection='3d')\n",
    "surface = ax.plot_surface(W_grid, Decay_grid, bias.T, cmap='jet', edgecolor='none')\n",
    "fig.colorbar(surface, ax=ax, label='Mean Error (Fisher)')\n",
    "ax.set_xlabel('W')\n",
    "ax.set_ylabel('Decay')\n",
    "ax.set_zlabel('Mean Error')\n",
    "ax.set_title('3D Surface Plot of Median Errors (Fisher)')\n",
    "plt.show()\n",
    "\n",
    "# Local\n",
    "res = np.array(local_w_mean).reshape((len(W), len(Decay)))\n",
    "bias = bias_matrix_w(res, Decay)\n",
    "\n",
    "fig = plt.figure(figsize=(10, 8))\n",
    "ax = fig.add_subplot(111, projection='3d')\n",
    "surface = ax.plot_surface(W_grid, Decay_grid, bias.T, cmap='jet', edgecolor='none')\n",
    "fig.colorbar(surface, ax=ax, label='Mean Error (Local)')\n",
    "ax.set_xlabel('W')\n",
    "ax.set_ylabel('Decay')\n",
    "ax.set_zlabel('Mean Error')\n",
    "ax.set_title('3D Surface Plot of Median Errors (Local)')\n",
    "plt.show()\n",
    "\n",
    "# Uniform\n",
    "res = np.array(uniform_w_mean).reshape((len(W), len(Decay)))\n",
    "bias = bias_matrix_w(res, Decay)\n",
    "\n",
    "fig = plt.figure(figsize=(10, 8))\n",
    "ax = fig.add_subplot(111, projection='3d')\n",
    "surface = ax.plot_surface(W_grid, Decay_grid, bias.T, cmap='jet', edgecolor='none')\n",
    "fig.colorbar(surface, ax=ax, label='Mean Error (Uniform)')\n",
    "ax.set_xlabel('W')\n",
    "ax.set_ylabel('Decay')\n",
    "ax.set_zlabel('Mean Error')\n",
    "ax.set_title('3D Surface Plot of Median Errors (Uniform)')\n",
    "plt.show()\n"
   ],
   "metadata": {
    "collapsed": false,
    "pycharm": {
     "is_executing": true
    }
   }
  },
  {
   "cell_type": "code",
   "execution_count": null,
   "outputs": [],
   "source": [
    "import numpy as np\n",
    "import matplotlib.pyplot as plt\n",
    "from mpl_toolkits.mplot3d import Axes3D\n",
    "\n",
    "# Fisher\n",
    "res = np.array(fisher_a_mean).reshape((len(W), len(Decay)))\n",
    "bias = bias_matrix_a(res, Decay)\n",
    "W_grid, Decay_grid = np.meshgrid(W, Decay)\n",
    "\n",
    "fig = plt.figure(figsize=(10, 8))\n",
    "ax = fig.add_subplot(111, projection='3d')\n",
    "surface = ax.plot_surface(W_grid, Decay_grid, bias.T, cmap='jet', edgecolor='none')\n",
    "fig.colorbar(surface, ax=ax, label='Mean Error (Fisher)')\n",
    "ax.set_xlabel('W')\n",
    "ax.set_ylabel('Decay')\n",
    "ax.set_zlabel('Mean Error')\n",
    "ax.set_title('3D Surface Plot of Median Errors (Fisher)')\n",
    "plt.show()\n",
    "\n",
    "# Local\n",
    "res = np.array(local_a_mean).reshape((len(W), len(Decay)))\n",
    "bias = bias_matrix_a(res, Decay)\n",
    "\n",
    "fig = plt.figure(figsize=(10, 8))\n",
    "ax = fig.add_subplot(111, projection='3d')\n",
    "surface = ax.plot_surface(W_grid, Decay_grid, bias.T, cmap='jet', edgecolor='none')\n",
    "fig.colorbar(surface, ax=ax, label='Mean Error (Local)')\n",
    "ax.set_xlabel('W')\n",
    "ax.set_ylabel('Decay')\n",
    "ax.set_zlabel('Mean Error')\n",
    "ax.set_title('3D Surface Plot of Median Errors (Local)')\n",
    "plt.show()\n",
    "\n",
    "# Uniform\n",
    "res = np.array(uniform_a_mean).reshape((len(W), len(Decay)))\n",
    "bias = bias_matrix_a(res, Decay)\n",
    "\n",
    "fig = plt.figure(figsize=(10, 8))\n",
    "ax = fig.add_subplot(111, projection='3d')\n",
    "surface = ax.plot_surface(W_grid, Decay_grid, bias.T, cmap='jet', edgecolor='none')\n",
    "fig.colorbar(surface, ax=ax, label='Mean Error (Uniform)')\n",
    "ax.set_xlabel('W')\n",
    "ax.set_ylabel('Decay')\n",
    "ax.set_zlabel('Mean Error')\n",
    "ax.set_title('3D Surface Plot of Median Errors (Uniform)')\n",
    "plt.show()\n"
   ],
   "metadata": {
    "collapsed": false,
    "pycharm": {
     "is_executing": true
    }
   }
  },
  {
   "cell_type": "code",
   "source": [
    "from tqdm import tqdm\n",
    "import random\n",
    "\n",
    "T = 1 * np.pi\n",
    "shots = 1000\n",
    "errors_fisher = []\n",
    "errors_local = []\n",
    "uniform_local = []\n",
    "uniform_local_G = []\n",
    "n = 1\n",
    "delay = [1]\n",
    "fisher_delay = [0.4439410861020235, 1.784695781691183]\n",
    "\n",
    "decay_fit = []\n",
    "\n",
    "repetitions = 100\n",
    "# W =]\n",
    "Decay = np.arange(0.001, 4, 0.25)\n",
    "# np.delete(W, 0)\n",
    "W = [1]\n",
    "J = {}\n",
    "J_list = [random.gauss(1, 0) for _ in range(n - 1)]\n",
    "\n",
    "for rep in range(repetitions):\n",
    "    rep_Decay_fisher = []\n",
    "\n",
    "    rep_decay_fit = []\n",
    "    for decay in tqdm(Decay, desc=f\"Repetition {rep}\"):\n",
    "        batch_x_det, batch_y_det, batch_x_cross, batch_y_cross = Ramsey_ExperimentV3.ramsey_local(n, shots, delay,\n",
    "                                                                                                  [decay],\n",
    "                                                                                                  W, J)\n",
    "        Decay_local, W_local, J_local = estimator.one_by_one_fit(batch_x_det, batch_y_det, batch_x_cross,\n",
    "                                                                 batch_y_cross)\n",
    "        # batch_det, batch_cross = Ramsey_ExperimentV3.ramsey_local_X(n, shots, fisher_delay, [decay], W, J)\n",
    "        # Decay_fisher, W_fisher, J_fisher = estimator.one_by_one_X(batch_det, batch_cross)\n",
    "\n",
    "        rep_Decay_fisher.append(Decay_local)\n",
    "    decay_fit.append(rep_Decay_fisher)\n",
    "\n"
   ],
   "metadata": {
    "collapsed": false,
    "pycharm": {
     "is_executing": true
    }
   },
   "outputs": [],
   "execution_count": null
  },
  {
   "cell_type": "code",
   "source": [
    "import matplotlib.pyplot as plt\n",
    "decay_fit_t = np.array(decay_fit).transpose()[0]\n",
    "decay_fit_t_mean = [np.mean(decay_fit_t[i]) for i in range(len(Decay))]\n",
    "decay_fit_t_std = [np.std(decay_fit_t[i]) / np.sqrt(repetitions) for i in range(len(Decay))]\n",
    "\n",
    "# plt.plot(Decay,decay_fit_t_mean,label='fit')\n",
    "plt.plot(Decay, Decay)\n",
    "plt.errorbar(Decay, decay_fit_t_mean, yerr=decay_fit_t_std, label='std')\n",
    "plt.legend()"
   ],
   "metadata": {
    "collapsed": false
   },
   "outputs": [],
   "execution_count": null
  },
  {
   "cell_type": "code",
   "source": [
    "for w in W:\n",
    "    for d in Decay:\n"
   ],
   "metadata": {
    "collapsed": false
   },
   "outputs": [],
   "execution_count": null
  },
  {
   "cell_type": "code",
   "execution_count": null,
   "outputs": [],
   "source": [
    "import pandas as pd\n",
    "import os\n",
    "home = user_home = os.path.expanduser(\"~\")\n",
    "graphs = user_home+ r'\\OneDrive - Bar-Ilan University - Students\\Data\\Crosstalk\\graphs_for_paper\\Bias'\n",
    "\n",
    "    ########################################\n",
    "df_fisher_median_a  = pd.DataFrame(fisher_a_mean)\n",
    "df_fisher_std_a      = pd.DataFrame(fisher_a_std)\n",
    "df_local_median_a    = pd.DataFrame(local_a_mean)\n",
    "df_local_std_a       = pd.DataFrame(local_a_std)\n",
    "df_uniform_median_a  = pd.DataFrame(uniform_a_mean)\n",
    "df_uniform_std_a     = pd.DataFrame(uniform_a_std)\n",
    "\n",
    "df_fisher_median_w   = pd.DataFrame(fisher_w_mean)\n",
    "df_fisher_std_w       = pd.DataFrame(fisher_w_std)\n",
    "df_local_median_w     = pd.DataFrame(local_w_mean)\n",
    "df_local_std_w        = pd.DataFrame(local_w_std)\n",
    "df_uniform_median_w   = pd.DataFrame(uniform_w_mean)\n",
    "df_uniform_std_w      = pd.DataFrame(uniform_w_std)\n",
    "\n",
    "########################################\n",
    "# 3. Optionally label rows and columns with W\n",
    "#    (Uncomment if you have a W array and want labeled CSVs)\n",
    "########################################\n",
    "# df_fisher_median_a.index = W\n",
    "# df_fisher_median_a.columns = W\n",
    "# df_fisher_std_a.index = W\n",
    "# df_fisher_std_a.columns = W\n",
    "# ... repeat for all DataFrames ...\n",
    "\n",
    "########################################\n",
    "# 4. Save DataFrames to CSV\n",
    "########################################\n",
    "df_fisher_median_a.to_csv(graphs+ \"errors_fisher_median_a.csv\", index=False)\n",
    "df_fisher_std_a.to_csv(graphs + \"errors_fisher_std_a.csv\", index=False)\n",
    "df_local_median_a.to_csv(graphs + \"errors_local_median_a.csv\", index=False)\n",
    "df_local_std_a.to_csv(graphs + \"errors_local_std_a.csv\", index=False)\n",
    "df_uniform_median_a.to_csv(graphs + \"errors_uniform_median_a.csv\", index=False)\n",
    "df_uniform_std_a.to_csv( graphs + \"errors_uniform_std_a.csv\", index=False)\n",
    "\n",
    "df_fisher_median_w.to_csv(graphs + \"errors_fisher_median_w.csv\", index=False)\n",
    "df_fisher_std_w.to_csv(graphs + \"errors_fisher_std_w.csv\", index=False)\n",
    "df_local_median_w.to_csv(graphs + \"errors_local_median_w.csv\", index=False)\n",
    "df_local_std_w.to_csv(graphs + \"errors_local_std_w.csv\", index=False)\n",
    "df_uniform_median_w.to_csv(graphs + \"errors_uniform_median_w.csv\", index=False)\n",
    "df_uniform_std_w.to_csv(graphs + \"errors_uniform_std_w.csv\", index=False)\n",
    "\n",
    "print(\"CSV files saved successfully!\")\n"
   ],
   "metadata": {
    "collapsed": false,
    "pycharm": {
     "is_executing": true
    }
   }
  },
  {
   "cell_type": "code",
   "execution_count": 82,
   "outputs": [
    {
     "name": "stdout",
     "output_type": "stream",
     "text": [
      "          0\n",
      "0  0.000511\n",
      "1  0.242751\n",
      "2  0.490413\n",
      "3  0.732201\n",
      "4  0.976056\n"
     ]
    }
   ],
   "source": [
    "import pandas as pd\n",
    "import os\n",
    "\n",
    "# Define the directory where the CSV files are saved\n",
    "home = os.path.expanduser(\"~\")\n",
    "graphs = os.path.join(home, r'OneDrive - Bar-Ilan University - Students\\Data\\Crosstalk\\graphs_for_paper\\Bias')\n",
    "\n",
    "# Load the CSV files into DataFrames\n",
    "df_fisher_median_a = pd.read_csv(os.path.join(graphs, \"errors_fisher_median_a.csv\"))\n",
    "df_fisher_std_a = pd.read_csv(os.path.join(graphs, \"errors_fisher_std_a.csv\"))\n",
    "df_local_median_a = pd.read_csv(os.path.join(graphs, \"errors_local_median_a.csv\"))\n",
    "df_local_std_a = pd.read_csv(os.path.join(graphs, \"errors_local_std_a.csv\"))\n",
    "df_uniform_median_a = pd.read_csv(os.path.join(graphs, \"errors_uniform_median_a.csv\"))\n",
    "df_uniform_std_a = pd.read_csv(os.path.join(graphs, \"errors_uniform_std_a.csv\"))\n",
    "\n",
    "df_fisher_median_w = pd.read_csv(os.path.join(graphs, \"errors_fisher_median_w.csv\"))\n",
    "df_fisher_std_w = pd.read_csv(os.path.join(graphs, \"errors_fisher_std_w.csv\"))\n",
    "df_local_median_w = pd.read_csv(os.path.join(graphs, \"errors_local_median_w.csv\"))\n",
    "df_local_std_w = pd.read_csv(os.path.join(graphs, \"errors_local_std_w.csv\"))\n",
    "df_uniform_median_w = pd.read_csv(os.path.join(graphs, \"errors_uniform_median_w.csv\"))\n",
    "df_uniform_std_w = pd.read_csv(os.path.join(graphs, \"errors_uniform_std_w.csv\"))\n",
    "\n",
    "# Print or inspect one of the DataFrames\n",
    "print(df_fisher_median_a.head())  # Displays the first few rows\n"
   ],
   "metadata": {
    "collapsed": false
   }
  },
  {
   "cell_type": "code",
   "execution_count": null,
   "outputs": [],
   "source": [],
   "metadata": {
    "collapsed": false
   }
  }
 ],
 "metadata": {
  "kernelspec": {
   "display_name": "Python 3",
   "language": "python",
   "name": "python3"
  },
  "language_info": {
   "codemirror_mode": {
    "name": "ipython",
    "version": 2
   },
   "file_extension": ".py",
   "mimetype": "text/x-python",
   "name": "python",
   "nbconvert_exporter": "python",
   "pygments_lexer": "ipython2",
   "version": "2.7.6"
  }
 },
 "nbformat": 4,
 "nbformat_minor": 0
}
