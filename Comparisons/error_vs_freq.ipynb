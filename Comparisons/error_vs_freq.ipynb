{
 "cells": [
  {
   "cell_type": "code",
   "metadata": {
    "collapsed": true,
    "ExecuteTime": {
     "end_time": "2024-12-09T08:08:30.758546Z",
     "start_time": "2024-12-09T08:08:30.756009Z"
    }
   },
   "source": [
    "import np as np\n",
    "\n",
    "import Ramsey_ExperimentV3\n",
    "from tqdm import tqdm\n",
    "import random\n",
    "\n",
    "import estimator\n",
    "import numpy as np"
   ],
   "outputs": [],
   "execution_count": 1
  },
  {
   "metadata": {
    "ExecuteTime": {
     "end_time": "2024-12-09T13:20:30.393679Z",
     "start_time": "2024-12-09T13:00:57.706358Z"
    }
   },
   "cell_type": "code",
   "source": [
    "fitted_data = []\n",
    "T = 1 * np.pi\n",
    "uni_delay = np.linspace(0, T, 20)\n",
    "shots = 1000\n",
    "errors_fisher = []\n",
    "errors_local = []\n",
    "uniform_local = []\n",
    "uniform_local_G = []\n",
    "n = 1\n",
    "delay = [1]\n",
    "fisher_delay = [0.4439410861020235, 1.784695781691183]\n",
    "\n",
    "decay_fit = []\n",
    "\n",
    "repetitions = 100\n",
    "# W =]\n",
    "W = np.arange(0.001, 3.1, 0.25)\n",
    "# np.delete(W, 0)\n",
    "Decay = [1]\n",
    "J = {}\n",
    "J_list = [random.gauss(1, 0) for _ in range(n - 1)]\n",
    "for rep in tqdm(range(repetitions), desc=\"Repetition\"):\n",
    "    rep_decay_fit = []\n",
    "    for w in W:\n",
    "        # Create experiments\n",
    "        batch_x_det, batch_y_det, batch_x_cross, batch_y_cross = Ramsey_ExperimentV3.ramsey_local(\n",
    "            n, shots, delay, Decay, [w], J\n",
    "        )\n",
    "        batch_det, batch_cross = Ramsey_ExperimentV3.ramsey_local_X(n, shots, fisher_delay, Decay, [w], J)\n",
    "        batch_x_det_uni, batch_y_det_uni, batch_x_cross_uni, batch_y_cross_uni = Ramsey_ExperimentV3.ramsey_local(\n",
    "            n, shots, uni_delay, Decay, [w], J\n",
    "        )\n",
    "\n",
    "        # Append batches and decay to decay fit list\n",
    "        rep_decay_fit.append((\n",
    "            w,\n",
    "            (batch_x_det, batch_y_det, batch_x_cross, batch_y_cross),\n",
    "            (batch_det, batch_cross),\n",
    "            (batch_x_det_uni, batch_y_det_uni, batch_x_cross_uni, batch_y_cross_uni),\n",
    "        ))\n",
    "\n",
    "    decay_fit.append(rep_decay_fit)"
   ],
   "outputs": [
    {
     "name": "stderr",
     "output_type": "stream",
     "text": [
      "Repetition: 100%|██████████| 100/100 [00:59<00:00,  1.68it/s]\n"
     ]
    }
   ],
   "execution_count": 9
  },
  {
   "metadata": {
    "ExecuteTime": {
     "end_time": "2024-12-09T13:20:30.456631Z",
     "start_time": "2024-12-09T13:20:30.449194Z"
    }
   },
   "cell_type": "code",
   "source": [
    "\n",
    "from importlib import reload\n",
    "reload(estimator)"
   ],
   "outputs": [
    {
     "data": {
      "text/plain": "<module 'estimator' from 'C:\\\\Projects\\\\Crosstalk\\\\estimator.py'>"
     },
     "execution_count": 10,
     "metadata": {},
     "output_type": "execute_result"
    }
   ],
   "execution_count": 10
  },
  {
   "metadata": {
    "ExecuteTime": {
     "end_time": "2024-12-09T13:24:34.605663Z",
     "start_time": "2024-12-09T13:20:30.465637Z"
    }
   },
   "cell_type": "code",
   "source": [
    "# #load from pickle\n",
    "# with open('decay_fit.pkl', 'rb') as f:\n",
    "#     decay_fit = pkl.load(f)\n",
    "for rep, rep_batches in enumerate(decay_fit):\n",
    "    rep_fits = []\n",
    "    print(f\"Repetition {rep} / {repetitions}\")\n",
    "    for w, (batch_x_det, batch_y_det, batch_x_cross, batch_y_cross), (batch_det, batch_cross), (batch_x_det_uni, batch_y_det_uni, batch_x_cross_uni, batch_y_cross_uni) in rep_batches:\n",
    "        Decay_local, W_local, J_local = estimator.one_by_one_fit(batch_x_det, batch_y_det, batch_x_cross, batch_y_cross)\n",
    "        Decay_fisher, W_fisher, J_fisher = estimator.one_by_one_X(batch_det, batch_cross)\n",
    "        Decay_uni, W_uni, J_uni = estimator.one_by_one_fit(batch_x_det_uni, batch_y_det_uni, batch_x_cross_uni, batch_y_cross_uni)\n",
    "\n",
    "        rep_fits.append((\n",
    "            w,\n",
    "            (Decay_local, W_local, J_local),\n",
    "            (Decay_fisher, W_fisher, J_fisher),\n",
    "            (Decay_uni, W_uni, J_uni),\n",
    "        ))\n",
    "\n",
    "    fitted_data.append(rep_fits)"
   ],
   "outputs": [
    {
     "name": "stderr",
     "output_type": "stream",
     "text": [
      "C:\\Projects\\Crosstalk\\estimator.py:36: OptimizeWarning: Covariance of the parameters could not be estimated\n",
      "  params, params_covariance, *c = curve_fit(model_func, t_points, z_points, p0=initial_guess, bounds=bounds)\n",
      "C:\\Projects\\Crosstalk\\estimator.py:66: OptimizeWarning: Covariance of the parameters could not be estimated\n",
      "  params, params_covariance, *c = curve_fit(model_func, t_points, z_points, p0=initial_guess, bounds=bounds)\n"
     ]
    },
    {
     "name": "stdout",
     "output_type": "stream",
     "text": [
      "Repetition 0 / 100\n",
      "Repetition 1 / 100\n",
      "Repetition 2 / 100\n",
      "Repetition 3 / 100\n",
      "Repetition 4 / 100\n",
      "Repetition 5 / 100\n",
      "Repetition 6 / 100\n",
      "Repetition 7 / 100\n",
      "Repetition 8 / 100\n",
      "Repetition 9 / 100\n",
      "Repetition 10 / 100\n",
      "Repetition 11 / 100\n",
      "Repetition 12 / 100\n",
      "Repetition 13 / 100\n",
      "Repetition 14 / 100\n",
      "Repetition 15 / 100\n",
      "Repetition 16 / 100\n",
      "Repetition 17 / 100\n",
      "Repetition 18 / 100\n",
      "Repetition 19 / 100\n",
      "Repetition 20 / 100\n",
      "Repetition 21 / 100\n",
      "Repetition 22 / 100\n",
      "Repetition 23 / 100\n",
      "Repetition 24 / 100\n",
      "Repetition 25 / 100\n",
      "Repetition 26 / 100\n",
      "Repetition 27 / 100\n",
      "Repetition 28 / 100\n",
      "Repetition 29 / 100\n",
      "Repetition 30 / 100\n",
      "Repetition 31 / 100\n",
      "Repetition 32 / 100\n",
      "Repetition 33 / 100\n",
      "Repetition 34 / 100\n",
      "Repetition 35 / 100\n",
      "Repetition 36 / 100\n",
      "Repetition 37 / 100\n",
      "Repetition 38 / 100\n",
      "Repetition 39 / 100\n",
      "Repetition 40 / 100\n",
      "Repetition 41 / 100\n",
      "Repetition 42 / 100\n",
      "Repetition 43 / 100\n",
      "Repetition 44 / 100\n",
      "Repetition 45 / 100\n",
      "Repetition 46 / 100\n",
      "Repetition 47 / 100\n",
      "Repetition 48 / 100\n",
      "Repetition 49 / 100\n",
      "Repetition 50 / 100\n",
      "Repetition 51 / 100\n",
      "Repetition 52 / 100\n",
      "Repetition 53 / 100\n",
      "Repetition 54 / 100\n",
      "Repetition 55 / 100\n",
      "Repetition 56 / 100\n",
      "Repetition 57 / 100\n",
      "Repetition 58 / 100\n",
      "Repetition 59 / 100\n",
      "Repetition 60 / 100\n",
      "Repetition 61 / 100\n",
      "Repetition 62 / 100\n",
      "Repetition 63 / 100\n",
      "Repetition 64 / 100\n",
      "Repetition 65 / 100\n",
      "Repetition 66 / 100\n",
      "Repetition 67 / 100\n",
      "Repetition 68 / 100\n",
      "Repetition 69 / 100\n",
      "Repetition 70 / 100\n",
      "Repetition 71 / 100\n",
      "Repetition 72 / 100\n",
      "Repetition 73 / 100\n",
      "Repetition 74 / 100\n",
      "Repetition 75 / 100\n",
      "Repetition 76 / 100\n",
      "Repetition 77 / 100\n",
      "Repetition 78 / 100\n",
      "Repetition 79 / 100\n",
      "Repetition 80 / 100\n",
      "Repetition 81 / 100\n",
      "Repetition 82 / 100\n",
      "Repetition 83 / 100\n",
      "Repetition 84 / 100\n",
      "Repetition 85 / 100\n",
      "Repetition 86 / 100\n",
      "Repetition 87 / 100\n",
      "Repetition 88 / 100\n",
      "Repetition 89 / 100\n",
      "Repetition 90 / 100\n",
      "Repetition 91 / 100\n",
      "Repetition 92 / 100\n",
      "Repetition 93 / 100\n",
      "Repetition 94 / 100\n",
      "Repetition 95 / 100\n",
      "Repetition 96 / 100\n",
      "Repetition 97 / 100\n",
      "Repetition 98 / 100\n",
      "Repetition 99 / 100\n"
     ]
    }
   ],
   "execution_count": 11
  },
  {
   "metadata": {
    "ExecuteTime": {
     "end_time": "2024-12-09T13:32:52.642987Z",
     "start_time": "2024-12-09T13:32:52.346150Z"
    }
   },
   "cell_type": "code",
   "source": [
    "from importlib import reload\n",
    "reload(estimator)\n",
    "for rep, rep_fits in enumerate(fitted_data):\n",
    "    rep_error_fisher = []\n",
    "    rep_error_local = []\n",
    "    rep_error_uniform = []\n",
    "\n",
    "    for w, (Decay_local, W_local, J_local), (Decay_fisher, W_fisher, J_fisher), (Decay_uni, W_uni, J_uni) in rep_fits:\n",
    "        fisher_errors = estimator.percent_error(\n",
    "            np.concatenate([[w], Decay, J_list]),\n",
    "            np.concatenate([W_fisher, Decay_fisher, J_fisher])\n",
    "        )\n",
    "        local_errors = estimator.percent_error(\n",
    "            np.concatenate([[w], Decay, J_list]),\n",
    "            np.concatenate([W_local, Decay_local, J_local])\n",
    "        )\n",
    "\n",
    "        for error in fisher_errors:\n",
    "            if error > 2 and w < 2.8 and w > 0.1:\n",
    "                print(f\"Decay: {w}, fitted_decay: {Decay_fisher} , error: {error}\")\n",
    "        uniform_errors = estimator.percent_error(\n",
    "            np.concatenate([[w], Decay, J_list]),\n",
    "            np.concatenate([W_uni, Decay_uni, J_uni])\n",
    "        )\n",
    "\n",
    "        rep_error_fisher.append(fisher_errors)\n",
    "        rep_error_local.append(local_errors)\n",
    "        rep_error_uniform.append(uniform_errors)\n",
    "\n",
    "    errors_fisher.append(rep_error_fisher)\n",
    "    errors_local.append(rep_error_local)\n",
    "    uniform_local.append(rep_error_uniform)\n",
    "\n"
   ],
   "outputs": [
    {
     "name": "stdout",
     "output_type": "stream",
     "text": [
      "Decay: 2.751, fitted_decay: [3.62609182] , error: 7.567853172805059\n",
      "Decay: 2.751, fitted_decay: [3.62609182] , error: 6.896358242160559\n",
      "Decay: 2.751, fitted_decay: [3.44626499] , error: 7.568000999842216\n",
      "Decay: 2.751, fitted_decay: [3.44626499] , error: 5.984212409321042\n",
      "Decay: 2.501, fitted_decay: [2.83886724] , error: 3.381432708952323\n",
      "Decay: 2.751, fitted_decay: [2.78217832] , error: 7.568001\n",
      "Decay: 2.751, fitted_decay: [2.78217832] , error: 3.1761595722846017\n",
      "Decay: 2.751, fitted_decay: [4.42814999] , error: 7.568000588574849\n",
      "Decay: 2.751, fitted_decay: [4.42814999] , error: 11.752212334682888\n",
      "Decay: 2.501, fitted_decay: [2.93396746] , error: 3.7402301383012895\n",
      "Decay: 2.751, fitted_decay: [4.0123182] , error: 7.568000698652417\n",
      "Decay: 2.751, fitted_decay: [4.0123182] , error: 9.074060916035183\n",
      "Decay: 2.501, fitted_decay: [2.86489582] , error: 6.255000999854882\n",
      "Decay: 2.501, fitted_decay: [2.86489582] , error: 3.477836427293761\n",
      "Decay: 2.751, fitted_decay: [2.64649994] , error: 7.568000999999997\n",
      "Decay: 2.751, fitted_decay: [2.64649994] , error: 2.71096204356472\n",
      "Decay: 2.751, fitted_decay: [2.97786671] , error: 7.568000999414129\n",
      "Decay: 2.751, fitted_decay: [2.97786671] , error: 3.9119567103439405\n",
      "Decay: 2.751, fitted_decay: [3.40991631] , error: 7.5679981337151165\n",
      "Decay: 2.751, fitted_decay: [3.40991631] , error: 5.807696614603961\n",
      "Decay: 2.751, fitted_decay: [2.70460941] , error: 7.567903069577423\n",
      "Decay: 2.751, fitted_decay: [2.70460941] , error: 2.9056932309673886\n",
      "Decay: 2.751, fitted_decay: [3.29541232] , error: 7.568000963435165\n",
      "Decay: 2.751, fitted_decay: [3.29541232] , error: 5.268917711821529\n",
      "Decay: 2.751, fitted_decay: [2.70483276] , error: 2.906454748615372\n",
      "Decay: 2.751, fitted_decay: [3.00013615] , error: 7.5680009977884115\n",
      "Decay: 2.751, fitted_decay: [3.00013615] , error: 4.000544616604269\n",
      "Decay: 2.751, fitted_decay: [4.29208606] , error: 7.568000999962479\n",
      "Decay: 2.751, fitted_decay: [4.29208606] , error: 10.837830631032483\n",
      "Decay: 2.751, fitted_decay: [2.98802478] , error: 7.56800099996758\n",
      "Decay: 2.751, fitted_decay: [2.98802478] , error: 3.9522425287862317\n",
      "Decay: 2.501, fitted_decay: [2.7087784] , error: 6.255000999426929\n",
      "Decay: 2.501, fitted_decay: [2.7087784] , error: 2.919923636590896\n",
      "Decay: 2.751, fitted_decay: [3.11621131] , error: 7.568000968284612\n",
      "Decay: 2.751, fitted_decay: [3.11621131] , error: 4.478350303741147\n",
      "Decay: 2.501, fitted_decay: [3.48852124] , error: 6.255000999726007\n",
      "Decay: 2.501, fitted_decay: [3.48852124] , error: 6.192737976288893\n",
      "Decay: 2.751, fitted_decay: [3.5175501] , error: 7.568000999995833\n",
      "Decay: 2.751, fitted_decay: [3.5175501] , error: 6.33805853036432\n",
      "Decay: 2.501, fitted_decay: [2.02306883] , error: 2.1098621724473516\n",
      "Decay: 2.751, fitted_decay: [2.53093204] , error: 7.568000999919883\n",
      "Decay: 2.751, fitted_decay: [2.53093204] , error: 2.3437529188137534\n",
      "Decay: 2.751, fitted_decay: [3.5175501] , error: 7.568000999995833\n",
      "Decay: 2.751, fitted_decay: [3.5175501] , error: 6.33805853036432\n",
      "Decay: 2.501, fitted_decay: [2.49900449] , error: 6.2550009890885505\n",
      "Decay: 2.501, fitted_decay: [2.49900449] , error: 2.247014470842034\n",
      "Decay: 2.751, fitted_decay: [2.45652559] , error: 2.19252526860331\n",
      "Decay: 2.751, fitted_decay: [2.45652559] , error: 2.121466791091082\n",
      "Decay: 2.751, fitted_decay: [2.75079456] , error: 7.568000999347707\n",
      "Decay: 2.751, fitted_decay: [2.75079456] , error: 3.0652816019164963\n",
      "Decay: 2.751, fitted_decay: [3.31757366] , error: 3.500088814658335\n",
      "Decay: 2.751, fitted_decay: [3.31757366] , error: 5.37114765598111\n",
      "Decay: 2.251, fitted_decay: [2.46832774] , error: 2.1559863411115354\n",
      "Decay: 2.501, fitted_decay: [3.12524203] , error: 6.255000998117112\n",
      "Decay: 2.501, fitted_decay: [3.12524203] , error: 4.516653703031917\n",
      "Decay: 2.751, fitted_decay: [4.12092101] , error: 7.568000996601909\n",
      "Decay: 2.751, fitted_decay: [4.12092101] , error: 9.740147975015168\n",
      "Decay: 2.751, fitted_decay: [2.84632101] , error: 7.568000999999931\n",
      "Decay: 2.751, fitted_decay: [2.84632101] , error: 3.4089012732420576\n",
      "Decay: 2.751, fitted_decay: [3.65350552] , error: 7.567852055733851\n",
      "Decay: 2.751, fitted_decay: [3.65350552] , error: 7.041091555758464\n",
      "Decay: 2.751, fitted_decay: [3.26516951] , error: 7.568000889024164\n",
      "Decay: 2.751, fitted_decay: [3.26516951] , error: 5.130992918310285\n",
      "Decay: 2.751, fitted_decay: [3.93204696] , error: 7.568000999048824\n",
      "Decay: 2.751, fitted_decay: [3.93204696] , error: 8.59689936347631\n",
      "Decay: 2.751, fitted_decay: [3.23406324] , error: 7.5680009801075\n",
      "Decay: 2.751, fitted_decay: [3.23406324] , error: 4.99103856214777\n",
      "Decay: 2.501, fitted_decay: [2.76315945] , error: 6.255000999999995\n",
      "Decay: 2.501, fitted_decay: [2.76315945] , error: 3.1087312621464616\n",
      "Decay: 2.751, fitted_decay: [2.54452836] , error: 2.3855678620562917\n",
      "Decay: 2.751, fitted_decay: [3.15790543] , error: 7.568000985887449\n",
      "Decay: 2.751, fitted_decay: [3.15790543] , error: 4.656555858518084\n",
      "Decay: 2.751, fitted_decay: [3.533116] , error: 7.568000654841907\n",
      "Decay: 2.751, fitted_decay: [3.533116] , error: 6.416676662497963\n",
      "Decay: 2.751, fitted_decay: [3.40306246] , error: 7.568000999993847\n",
      "Decay: 2.751, fitted_decay: [3.40306246] , error: 5.774709204773359\n",
      "Decay: 2.501, fitted_decay: [2.54452836] , error: 2.3855678620562917\n",
      "Decay: 2.751, fitted_decay: [3.3421172] , error: 7.568000999996562\n",
      "Decay: 2.751, fitted_decay: [3.3421172] , error: 5.485512970295453\n",
      "Decay: 2.501, fitted_decay: [2.76825718] , error: 3.8160238056651505\n",
      "Decay: 2.501, fitted_decay: [2.76825718] , error: 3.126733455178402\n",
      "Decay: 2.751, fitted_decay: [2.71165091] , error: 2.476956513366311\n",
      "Decay: 2.751, fitted_decay: [2.71165091] , error: 2.9297488266874674\n",
      "Decay: 2.751, fitted_decay: [2.54733027] , error: 7.5680009999991364\n",
      "Decay: 2.751, fitted_decay: [2.54733027] , error: 2.394230966969848\n",
      "Decay: 2.751, fitted_decay: [4.17483119] , error: 7.5680009996584765\n",
      "Decay: 2.751, fitted_decay: [4.17483119] , error: 10.07955310563066\n",
      "Decay: 2.751, fitted_decay: [2.99759534] , error: 3.9903871483178306\n",
      "Decay: 2.501, fitted_decay: [3.06707396] , error: 6.255000899333719\n",
      "Decay: 2.501, fitted_decay: [3.06707396] , error: 4.272794741410283\n",
      "Decay: 2.751, fitted_decay: [3.88907193] , error: 7.568000994164956\n",
      "Decay: 2.751, fitted_decay: [3.88907193] , error: 8.346736611641054\n",
      "Decay: 2.501, fitted_decay: [2.5918021] , error: 2.5338339239665757\n",
      "Decay: 2.751, fitted_decay: [3.0166108] , error: 4.066719117056326\n",
      "Decay: 2.751, fitted_decay: [3.20458199] , error: 7.56800099930422\n",
      "Decay: 2.751, fitted_decay: [3.20458199] , error: 4.860181740364301\n",
      "Decay: 2.751, fitted_decay: [4.05432388] , error: 7.568000922926158\n",
      "Decay: 2.751, fitted_decay: [4.05432388] , error: 9.328894340208564\n",
      "Decay: 2.501, fitted_decay: [3.06242796] , error: 6.255000999999977\n",
      "Decay: 2.501, fitted_decay: [3.06242796] , error: 4.253609079325475\n",
      "Decay: 2.751, fitted_decay: [3.11162614] , error: 7.568000972104897\n",
      "Decay: 2.751, fitted_decay: [3.11162614] , error: 4.458964954431862\n",
      "Decay: 2.751, fitted_decay: [3.24013277] , error: 7.568000999863703\n",
      "Decay: 2.751, fitted_decay: [3.24013277] , error: 5.018194809950842\n",
      "Decay: 2.501, fitted_decay: [2.1499761] , error: 2.6271613797064837\n",
      "Decay: 2.751, fitted_decay: [4.30215496] , error: 7.567993677106227\n",
      "Decay: 2.751, fitted_decay: [4.30215496] , error: 10.904227349382014\n",
      "Decay: 2.501, fitted_decay: [2.86327376] , error: 6.255000999999984\n",
      "Decay: 2.501, fitted_decay: [2.86327376] , error: 3.4717890982876063\n",
      "Decay: 2.751, fitted_decay: [3.47392539] , error: 7.567852796935796\n",
      "Decay: 2.751, fitted_decay: [3.47392539] , error: 6.120306827926607\n",
      "Decay: 2.251, fitted_decay: [2.55541327] , error: 2.4193104465402717\n",
      "Decay: 2.751, fitted_decay: [3.88677624] , error: 7.5680009987951715\n",
      "Decay: 2.751, fitted_decay: [3.88677624] , error: 8.333477056044822\n",
      "Decay: 2.501, fitted_decay: [2.97737262] , error: 3.9100024734711085\n",
      "Decay: 2.751, fitted_decay: [3.56503137] , error: 7.5680009999907245\n",
      "Decay: 2.751, fitted_decay: [3.56503137] , error: 6.579385923006628\n",
      "Decay: 2.751, fitted_decay: [3.56503137] , error: 7.5680009999907245\n",
      "Decay: 2.751, fitted_decay: [3.56503137] , error: 6.579385923006628\n",
      "Decay: 2.751, fitted_decay: [2.89010764] , error: 7.568000999760683\n",
      "Decay: 2.751, fitted_decay: [2.89010764] , error: 3.5725068878103707\n",
      "Decay: 2.751, fitted_decay: [2.53385449] , error: 7.568000999999892\n",
      "Decay: 2.751, fitted_decay: [2.53385449] , error: 2.3527095917372653\n",
      "Decay: 2.751, fitted_decay: [3.3604805] , error: 3.500087067159946\n",
      "Decay: 2.751, fitted_decay: [3.3604805] , error: 5.571868174186728\n",
      "Decay: 2.751, fitted_decay: [3.65210445] , error: 7.568000999993781\n",
      "Decay: 2.751, fitted_decay: [3.65210445] , error: 7.033657990571123\n",
      "Decay: 2.751, fitted_decay: [2.99052865] , error: 7.568000999970222\n",
      "Decay: 2.751, fitted_decay: [2.99052865] , error: 3.962204296054646\n",
      "Decay: 2.751, fitted_decay: [2.90476467] , error: 7.568000999691459\n",
      "Decay: 2.751, fitted_decay: [2.90476467] , error: 3.6281284640065823\n",
      "Decay: 2.751, fitted_decay: [3.23609566] , error: 7.568000991653701\n",
      "Decay: 2.751, fitted_decay: [3.23609566] , error: 5.000123814340597\n",
      "Decay: 2.501, fitted_decay: [3.14061809] , error: 6.254992580247876\n",
      "Decay: 2.501, fitted_decay: [3.14061809] , error: 4.582245803784753\n",
      "Decay: 2.751, fitted_decay: [3.43620943] , error: 7.567850592229218\n",
      "Decay: 2.751, fitted_decay: [3.43620943] , error: 5.935116393109182\n",
      "Decay: 2.751, fitted_decay: [3.76261319] , error: 7.56800098297756\n",
      "Decay: 2.751, fitted_decay: [3.76261319] , error: 7.632031615052123\n",
      "Decay: 2.751, fitted_decay: [3.95484023] , error: 7.568000999282435\n",
      "Decay: 2.751, fitted_decay: [3.95484023] , error: 8.731080802717283\n",
      "Decay: 2.751, fitted_decay: [2.92044242] , error: 7.568000999999951\n",
      "Decay: 2.751, fitted_decay: [2.92044242] , error: 3.68809910027171\n",
      "Decay: 2.751, fitted_decay: [2.87560117] , error: 7.568000999781755\n",
      "Decay: 2.751, fitted_decay: [2.87560117] , error: 3.5178797363415635\n",
      "Decay: 2.501, fitted_decay: [2.20269053] , error: 2.2674930067030603\n",
      "Decay: 2.751, fitted_decay: [4.21191917] , error: 7.567449215891398\n",
      "Decay: 2.751, fitted_decay: [4.21191917] , error: 10.316424772483524\n",
      "Decay: 2.751, fitted_decay: [3.29738158] , error: 7.568000999999249\n",
      "Decay: 2.751, fitted_decay: [3.29738158] , error: 5.277962122123416\n",
      "Decay: 2.751, fitted_decay: [3.7125309] , error: 7.568000999999985\n",
      "Decay: 2.751, fitted_decay: [3.7125309] , error: 7.357823889572441\n",
      "Decay: 2.751, fitted_decay: [3.40478593] , error: 7.568000998426979\n",
      "Decay: 2.751, fitted_decay: [3.40478593] , error: 5.7829953501750735\n",
      "Decay: 2.501, fitted_decay: [3.24809866] , error: 6.25500099996464\n",
      "Decay: 2.501, fitted_decay: [3.24809866] , error: 5.05394759617559\n",
      "Decay: 2.751, fitted_decay: [3.52057133] , error: 7.568000952795961\n",
      "Decay: 2.751, fitted_decay: [3.52057133] , error: 6.353279829902477\n",
      "Decay: 2.751, fitted_decay: [3.60290729] , error: 7.567853116339593\n",
      "Decay: 2.751, fitted_decay: [3.60290729] , error: 6.775126342794863\n",
      "Decay: 2.501, fitted_decay: [2.08717112] , error: 2.9385811819605774\n",
      "Decay: 2.751, fitted_decay: [3.14008924] , error: 7.56800098668001\n",
      "Decay: 2.751, fitted_decay: [3.14008924] , error: 4.579981959578695\n",
      "Decay: 2.751, fitted_decay: [3.2425859] , error: 7.567870589107269\n",
      "Decay: 2.751, fitted_decay: [3.2425859] , error: 5.0291915063846355\n",
      "Decay: 2.751, fitted_decay: [4.28258457] , error: 7.568000991901611\n",
      "Decay: 2.751, fitted_decay: [4.28258457] , error: 10.775361428278917\n",
      "Decay: 2.251, fitted_decay: [2.44714878] , error: 2.094239600768499\n",
      "Decay: 2.751, fitted_decay: [3.35686312] , error: 7.568000999939489\n",
      "Decay: 2.751, fitted_decay: [3.35686312] , error: 5.554803743797395\n",
      "Decay: 2.751, fitted_decay: [2.94614278] , error: 7.568000999845414\n",
      "Decay: 2.751, fitted_decay: [2.94614278] , error: 3.7874717064412935\n",
      "Decay: 2.751, fitted_decay: [3.46053464] , error: 7.568000999999291\n",
      "Decay: 2.751, fitted_decay: [3.46053464] , error: 6.054230696732449\n",
      "Decay: 2.751, fitted_decay: [2.66688134] , error: 2.7784933897357713\n",
      "Decay: 2.751, fitted_decay: [3.60730715] , error: 7.568000856753794\n",
      "Decay: 2.751, fitted_decay: [3.60730715] , error: 6.7980505778807725\n",
      "Decay: 2.751, fitted_decay: [2.95682681] , error: 7.568000999307502\n",
      "Decay: 2.751, fitted_decay: [2.95682681] , error: 3.8291711583375068\n",
      "Decay: 2.751, fitted_decay: [3.12524203] , error: 7.568000997928898\n",
      "Decay: 2.751, fitted_decay: [3.12524203] , error: 4.516653703031917\n",
      "Decay: 2.751, fitted_decay: [2.86199931] , error: 7.568000999870148\n",
      "Decay: 2.751, fitted_decay: [2.86199931] , error: 3.4670414469531528\n",
      "Decay: 2.501, fitted_decay: [2.62612294] , error: 6.2550009999077165\n",
      "Decay: 2.501, fitted_decay: [2.62612294] , error: 2.644275806559381\n",
      "Decay: 2.751, fitted_decay: [3.21957111] , error: 7.568000999999286\n",
      "Decay: 2.751, fitted_decay: [3.21957111] , error: 4.92649591714242\n",
      "Decay: 2.501, fitted_decay: [2.48887991] , error: 3.294522885792539\n",
      "Decay: 2.501, fitted_decay: [2.48887991] , error: 2.2167633787435377\n",
      "Decay: 2.751, fitted_decay: [4.12092101] , error: 7.568000996601909\n",
      "Decay: 2.751, fitted_decay: [4.12092101] , error: 9.740147975015168\n",
      "Decay: 2.751, fitted_decay: [2.80406267] , error: 7.568000999964626\n",
      "Decay: 2.751, fitted_decay: [2.80406267] , error: 3.254642115033601\n",
      "Decay: 2.501, fitted_decay: [2.44976901] , error: 5.400895696415019\n",
      "Decay: 2.501, fitted_decay: [2.44976901] , error: 2.101830189444817\n",
      "Decay: 2.751, fitted_decay: [3.65210445] , error: 7.568000999993781\n",
      "Decay: 2.751, fitted_decay: [3.65210445] , error: 7.033657990571123\n",
      "Decay: 2.751, fitted_decay: [3.80391917] , error: 7.568000998433141\n",
      "Decay: 2.751, fitted_decay: [3.80391917] , error: 7.861962689748168\n"
     ]
    }
   ],
   "execution_count": 16
  },
  {
   "cell_type": "code",
   "source": [
    "k = 10\n",
    "\n",
    "errors_fisher_reshaped = np.array(errors_fisher).transpose()\n",
    "errors_local_reshaped = np.array(errors_local).transpose()\n",
    "errors_uniform_reshaped = np.array(uniform_local).transpose()\n",
    "\n",
    "# errors_local_reshaped = list(map(list, zip(*errors_local)))\n",
    "# errors_uniform_reshaped = list(map(list, zip(*uniform_local)))\n",
    "# errors_fisher_reshaped_G = list(map(list, zip(*uniform_local_G)))\n",
    "\n",
    "errors_fisher_reshaped_a = errors_fisher_reshaped[1]\n",
    "errors_local_reshaped_a = errors_local_reshaped[1]\n",
    "errors_uniform_reshaped_a = errors_uniform_reshaped[1]\n",
    "\n",
    "errors_fisher_reshaped_w = errors_fisher_reshaped[0]\n",
    "errors_local_reshaped_w = errors_local_reshaped[0]\n",
    "errors_uniform_reshaped_w = errors_uniform_reshaped[0]\n",
    "\n",
    "\n",
    "# errors_fisher_median_a, errors_fisher_std_a = np.sqrt(np.mean(errors_fisher_reshaped_a, axis=1)), np.std(errors_fisher_reshaped_a, axis=1)\n",
    "#\n",
    "#\n",
    "errors_fisher_median_a, errors_fisher_std_a = estimator.mean_of_medians(errors_fisher_reshaped_a, k)\n",
    "errors_local_median_a, errors_local_std_a = estimator.mean_of_medians(errors_local_reshaped_a, k)\n",
    "errors_uniform_median_a, errors_uniform_std_a = estimator.mean_of_medians(errors_uniform_reshaped_a, k)\n",
    "\n",
    "errors_fisher_median_w, errors_fisher_std_w = estimator.mean_of_medians(errors_fisher_reshaped_w, k)\n",
    "errors_local_median_w, errors_local_std_w = estimator.mean_of_medians(errors_local_reshaped_w, k)\n",
    "errors_uniform_median_w, errors_uniform_std_w = estimator.mean_of_medians(errors_uniform_reshaped_w, k)\n",
    "\n",
    "# errors_uniform_median_G, errors_uniform_std_G = estimator.mean_of_medians(errors_fisher_reshaped_G, k)\n",
    "print()"
   ],
   "metadata": {
    "collapsed": false,
    "ExecuteTime": {
     "end_time": "2024-12-09T13:32:52.749396Z",
     "start_time": "2024-12-09T13:32:52.699698Z"
    }
   },
   "outputs": [
    {
     "name": "stdout",
     "output_type": "stream",
     "text": [
      "\n"
     ]
    }
   ],
   "execution_count": 17
  },
  {
   "cell_type": "code",
   "source": [
    "import matplotlib.pyplot as plt\n",
    "\n",
    "plt.figure(figsize=(10, 4))  # Adjust the figure size to make the plot longer\n",
    "plt.rcParams['text.usetex'] = True\n",
    "font = {'family': 'normal',\n",
    "        'weight': 'bold',\n",
    "        'size': 14}\n",
    "\n",
    "plt.rc('font', **font)\n",
    "\n",
    "plt.errorbar(W, np.array(errors_uniform_median_a), yerr= np.array(errors_uniform_std_a),\n",
    "             fmt='o', color='blue')\n",
    "plt.errorbar(W, np.array(errors_fisher_median_a), yerr= np.array(errors_fisher_std_a),\n",
    "             fmt='o', color='red')\n",
    "plt.errorbar(W, np.array(errors_local_median_a), yerr= np.array(errors_local_std_a), fmt='o',\n",
    "             color='green')\n",
    "\n",
    "\n",
    "\n",
    "\n",
    "\n",
    "\n",
    "plt.title(\"Dephasing\")\n",
    "# plt.title(f'Shots={Decay} ')\n",
    "# plt.xlabel('$\\omega')\n",
    "# plt.ylabel('mean / $\\gamma$')\n",
    "plt.grid()\n",
    "# plt.yscale('log')\n",
    "# plt.xscale('log')\n",
    "# plt.xlim([0, 2])\n",
    "plt.grid()\n",
    "plt.legend()"
   ],
   "metadata": {
    "collapsed": false,
    "ExecuteTime": {
     "end_time": "2024-12-09T13:32:53.436724Z",
     "start_time": "2024-12-09T13:32:53.265229Z"
    }
   },
   "outputs": [
    {
     "ename": "NameError",
     "evalue": "name 'W' is not defined",
     "output_type": "error",
     "traceback": [
      "\u001B[1;31m---------------------------------------------------------------------------\u001B[0m",
      "\u001B[1;31mNameError\u001B[0m                                 Traceback (most recent call last)",
      "Cell \u001B[1;32mIn[1], line 11\u001B[0m\n\u001B[0;32m      5\u001B[0m font \u001B[38;5;241m=\u001B[39m {\u001B[38;5;124m'\u001B[39m\u001B[38;5;124mfamily\u001B[39m\u001B[38;5;124m'\u001B[39m: \u001B[38;5;124m'\u001B[39m\u001B[38;5;124mnormal\u001B[39m\u001B[38;5;124m'\u001B[39m,\n\u001B[0;32m      6\u001B[0m         \u001B[38;5;124m'\u001B[39m\u001B[38;5;124mweight\u001B[39m\u001B[38;5;124m'\u001B[39m: \u001B[38;5;124m'\u001B[39m\u001B[38;5;124mbold\u001B[39m\u001B[38;5;124m'\u001B[39m,\n\u001B[0;32m      7\u001B[0m         \u001B[38;5;124m'\u001B[39m\u001B[38;5;124msize\u001B[39m\u001B[38;5;124m'\u001B[39m: \u001B[38;5;241m14\u001B[39m}\n\u001B[0;32m      9\u001B[0m plt\u001B[38;5;241m.\u001B[39mrc(\u001B[38;5;124m'\u001B[39m\u001B[38;5;124mfont\u001B[39m\u001B[38;5;124m'\u001B[39m, \u001B[38;5;241m*\u001B[39m\u001B[38;5;241m*\u001B[39mfont)\n\u001B[1;32m---> 11\u001B[0m plt\u001B[38;5;241m.\u001B[39merrorbar(\u001B[43mW\u001B[49m, np\u001B[38;5;241m.\u001B[39marray(errors_uniform_median_a), yerr\u001B[38;5;241m=\u001B[39m np\u001B[38;5;241m.\u001B[39marray(errors_uniform_std_a),\n\u001B[0;32m     12\u001B[0m              fmt\u001B[38;5;241m=\u001B[39m\u001B[38;5;124m'\u001B[39m\u001B[38;5;124mo\u001B[39m\u001B[38;5;124m'\u001B[39m, color\u001B[38;5;241m=\u001B[39m\u001B[38;5;124m'\u001B[39m\u001B[38;5;124mblue\u001B[39m\u001B[38;5;124m'\u001B[39m)\n\u001B[0;32m     13\u001B[0m plt\u001B[38;5;241m.\u001B[39merrorbar(W, np\u001B[38;5;241m.\u001B[39marray(errors_fisher_median_a), yerr\u001B[38;5;241m=\u001B[39m np\u001B[38;5;241m.\u001B[39marray(errors_fisher_std_a),\n\u001B[0;32m     14\u001B[0m              fmt\u001B[38;5;241m=\u001B[39m\u001B[38;5;124m'\u001B[39m\u001B[38;5;124mo\u001B[39m\u001B[38;5;124m'\u001B[39m, color\u001B[38;5;241m=\u001B[39m\u001B[38;5;124m'\u001B[39m\u001B[38;5;124mred\u001B[39m\u001B[38;5;124m'\u001B[39m)\n\u001B[0;32m     15\u001B[0m plt\u001B[38;5;241m.\u001B[39merrorbar(W, np\u001B[38;5;241m.\u001B[39marray(errors_local_median_a), yerr\u001B[38;5;241m=\u001B[39m np\u001B[38;5;241m.\u001B[39marray(errors_local_std_a), fmt\u001B[38;5;241m=\u001B[39m\u001B[38;5;124m'\u001B[39m\u001B[38;5;124mo\u001B[39m\u001B[38;5;124m'\u001B[39m,\n\u001B[0;32m     16\u001B[0m              color\u001B[38;5;241m=\u001B[39m\u001B[38;5;124m'\u001B[39m\u001B[38;5;124mgreen\u001B[39m\u001B[38;5;124m'\u001B[39m)\n",
      "\u001B[1;31mNameError\u001B[0m: name 'W' is not defined"
     ]
    },
    {
     "data": {
      "text/plain": "<Figure size 1000x400 with 0 Axes>"
     },
     "metadata": {},
     "output_type": "display_data"
    }
   ],
   "execution_count": 1
  },
  {
   "cell_type": "code",
   "source": [
    "import matplotlib.pyplot as plt\n",
    "\n",
    "plt.figure(figsize=(10, 4))  # Adjust the figure size to make the plot longer\n",
    "plt.rcParams['text.usetex'] = True\n",
    "font = {'family': 'normal',\n",
    "        'weight': 'bold',\n",
    "        'size': 14}\n",
    "\n",
    "plt.rc('font', **font)\n",
    "\n",
    "plt.errorbar(W,  np.array(errors_uniform_median_w), yerr= np.array(errors_uniform_std_w),\n",
    "             fmt='o', color='blue')\n",
    "plt.errorbar(W,  np.array(errors_fisher_median_w), yerr= np.array(errors_fisher_std_w),\n",
    "             fmt='o', color='red')\n",
    "plt.errorbar(W,  np.array(errors_local_median_w), yerr= np.array(errors_local_std_w), fmt='o',\n",
    "             color='green')\n",
    "# plt.errorbar(Decay, 100 * np.array(errors_uniform_median_G/Decay ), yerr=100 * np.array(errors_uniform_std_G/Decay ), fmt='o',\n",
    "#              color='magenta')\n",
    "# Scatter points for 75th percentiles\n",
    "plt.title(\"Freq\")\n",
    "\n",
    "# plt.title(f'Shots={Decay} ')\n",
    "# plt.xlabel('$\\omega')\n",
    "# plt.ylabel('mean / $\\omega$')\n",
    "plt.grid()\n",
    "# plt.yscale('log')\n",
    "# plt.xscale('log')\n",
    "# plt.xlim([0, 2])\n",
    "# plt.ylim([0,50])\n",
    "plt.grid()\n",
    "\n",
    "plt.legend()"
   ],
   "metadata": {
    "collapsed": false,
    "ExecuteTime": {
     "end_time": "2024-12-09T13:32:54.857840Z",
     "start_time": "2024-12-09T13:32:54.122658Z"
    }
   },
   "outputs": [
    {
     "name": "stderr",
     "output_type": "stream",
     "text": [
      "C:\\Users\\user\\AppData\\Local\\Temp\\ipykernel_24992\\2499529888.py:32: UserWarning: No artists with labels found to put in legend.  Note that artists whose label start with an underscore are ignored when legend() is called with no argument.\n",
      "  plt.legend()\n"
     ]
    },
    {
     "data": {
      "text/plain": "<matplotlib.legend.Legend at 0x1eec3b9acd0>"
     },
     "execution_count": 20,
     "metadata": {},
     "output_type": "execute_result"
    },
    {
     "data": {
      "text/plain": "<Figure size 1000x400 with 1 Axes>",
      "image/png": "[encoded data removed]"
     },
     "metadata": {},
     "output_type": "display_data"
    }
   ],
   "execution_count": 20
  },
  {
   "cell_type": "code",
   "source": [
    "index = 6\n",
    "X = np.array(100 * np.array(np.sqrt(errors_fisher_reshaped_a)))[index][:1000]\n",
    "# print(\"Decay: \",Decay[index])\n",
    "# print(X)\n",
    "#plot histogram with 10 bins\n",
    "plt.hist(X, bins=20, color='blue', edgecolor='black', alpha=0.7)\n",
    "# q75, q25 = np.percentile(X, [75, 25])\n",
    "# iqr = q75 - q25\n",
    "print(\"Decay: \", Decay[index])\n",
    "print(\"mean: \", np.mean(X))\n",
    "print(\"median: \", np.median(X))\n",
    "# print(\"IQR: \", iqr)\n",
    "# print(\"std: \", np.std(X))"
   ],
   "metadata": {
    "collapsed": false,
    "ExecuteTime": {
     "end_time": "2024-12-09T11:14:57.450642Z",
     "start_time": "2024-12-09T11:14:57.314306Z"
    }
   },
   "outputs": [
    {
     "name": "stdout",
     "output_type": "stream",
     "text": [
      "Decay:  1.501\n",
      "mean:  18.54041889923911\n",
      "median:  14.700793648444346\n"
     ]
    },
    {
     "data": {
      "text/plain": [
       "<Figure size 640x480 with 1 Axes>"
      ],
      "image/png": "[encoded data removed]"
     },
     "metadata": {},
     "output_type": "display_data"
    }
   ],
   "execution_count": 356
  },
  {
   "cell_type": "code",
   "source": [
    "import os\n",
    "import pandas as pd\n",
    "user_home = os.path.expanduser(\"~\")\n",
    "\n",
    "results_df = pd.DataFrame({\n",
    "    \"shots\": shots,\n",
    "    \"W\": W,\n",
    "    \"errors_fisher_median_w\": errors_fisher_median_w,\n",
    "    \"errors_fisher_std_w\": errors_fisher_std_w,\n",
    "    \"errors_local_median_w\": errors_local_median_w,\n",
    "    \"errors_local_std_w\": errors_local_std_w,\n",
    "    \"errors_uniform_median_w\": errors_uniform_median_w,\n",
    "    \"errors_uniform_std_w\": errors_uniform_std_w,\n",
    "})\n",
    "\n",
    "# Saving to Excel\n",
    "results_df.to_excel(user_home + r'\\OneDrive - Bar-Ilan University - Students\\Data\\Crosstalk\\graphs_for_paper\\stability-detuning_w.xlsx',\n",
    "    index=False)\n",
    "\n",
    "results_df = pd.DataFrame({\n",
    "    \"shots\": shots,\n",
    "    \"W\": W,\n",
    "    \"errors_fisher_median_a\": errors_fisher_median_a,\n",
    "    \"errors_fisher_std_a\": errors_fisher_std_a,\n",
    "    \"errors_local_median_a\": errors_local_median_a,\n",
    "    \"errors_local_std_a\": errors_local_std_a,\n",
    "    \"errors_uniform_median_a\": errors_uniform_median_a,\n",
    "    \"errors_uniform_std_a\": errors_uniform_std_a,\n",
    "})\n",
    "\n",
    "# Saving to Excel\n",
    "results_df.to_excel(\n",
    "    user_home + r'\\OneDrive - Bar-Ilan University - Students\\Data\\Crosstalk\\graphs_for_paper\\stability-detuning_a.xlsx',\n",
    "    index=False)"
   ],
   "metadata": {
    "collapsed": false,
    "ExecuteTime": {
     "end_time": "2024-12-09T12:58:31.026346Z",
     "start_time": "2024-12-09T12:58:30.996070Z"
    }
   },
   "outputs": [],
   "execution_count": 22
  },
  {
   "metadata": {
    "ExecuteTime": {
     "end_time": "2024-12-09T12:58:28.522127Z",
     "start_time": "2024-12-09T12:58:28.472791Z"
    }
   },
   "cell_type": "code",
   "source": [
    "fisher_a = []\n",
    "local_a = []\n",
    "uniform_a = []\n",
    "\n",
    "fisher_w = []\n",
    "local_w = []\n",
    "uniform_w = []\n",
    "\n",
    "for rep, rep_fits in enumerate(fitted_data):\n",
    "    # Initialize lists for this repetition\n",
    "    rep_fisher_a = []\n",
    "    rep_local_a = []\n",
    "    rep_uniform_a = []\n",
    "\n",
    "    rep_fisher_w = []\n",
    "    rep_local_w = []\n",
    "    rep_uniform_w = []\n",
    "\n",
    "    for w, (Decay_local, W_local, J_local), (Decay_fisher, W_fisher, J_fisher), (Decay_uni, W_uni, J_uni) in rep_fits:\n",
    "        # Append decays\n",
    "        rep_fisher_a.append(Decay_fisher)\n",
    "        rep_local_a.append(Decay_local)\n",
    "        rep_uniform_a.append(Decay_uni)\n",
    "\n",
    "        # Append weights\n",
    "        rep_fisher_w.append(W_fisher)\n",
    "        rep_local_w.append(W_local)\n",
    "        rep_uniform_w.append(W_uni)\n",
    "\n",
    "    # Calculate means for this repetition\n",
    "    fisher_a.append(rep_fisher_a)\n",
    "    local_a.append(rep_local_a)\n",
    "    uniform_a.append(rep_uniform_a)\n",
    "\n",
    "    fisher_w.append(rep_fisher_w)\n",
    "    local_w.append(rep_local_w)\n",
    "    uniform_w.append(rep_uniform_w)\n",
    "\n",
    "\n",
    "\n",
    "fisher_a = np.array(fisher_a).transpose()[0]\n",
    "local_a = np.array(local_a).transpose()[0]\n",
    "uniform_a = np.array(uniform_a).transpose()[0]\n",
    "\n",
    "\n",
    "\n",
    "fisher_w= np.array(fisher_w).transpose()[0]\n",
    "local_w = np.array(local_w).transpose()[0]\n",
    "uniform_w = np.array(uniform_w).transpose()[0]\n",
    "\n",
    "fisher_a_mean = [np.mean(fisher_a[i]) for i in range(len(W))]\n",
    "fisher_a_std = [np.std(fisher_a[i]) for i in range(len(W))]\n",
    "\n",
    "local_a_mean = [np.mean(local_a[i]) for i in range(len(W))]\n",
    "local_a_std = [np.std(local_a[i])  for i in range(len(W))]\n",
    "\n",
    "uniform_a_mean = [np.mean(uniform_a[i]) for i in range(len(W))]\n",
    "uniform_a_std = [np.std(uniform_a[i])  for i in range(len(W))]\n",
    "\n",
    "\n",
    "fisher_w_mean = [np.mean(fisher_w[i]) for i in range(len(W))]\n",
    "fisher_w_std = [np.std(fisher_w[i])  for i in range(len(W))]\n",
    "\n",
    "local_w_mean = [np.mean(local_w[i]) for i in range(len(W))]\n",
    "local_w_std = [np.std(local_w[i])  for i in range(len(W))]\n",
    "\n",
    "uniform_w_mean = [np.mean(uniform_w[i]) for i in range(len(W))]\n",
    "uniform_w_std = [np.std(uniform_w[i]) for i in range(len(W))]\n",
    "\n",
    "\n",
    "\n",
    "\n",
    "\n",
    "# print(\"Fisher_a: \", len(fisher_a))"
   ],
   "outputs": [],
   "execution_count": 32
  },
  {
   "cell_type": "code",
   "source": [
    "# plt.plot(Decay,decay_fit_t_mean,label='fit')\n",
    "# plt.scatter(Decay, fisher_a_mean, label='param')\n",
    "plt.plot(W, (np.abs(fisher_w_mean-W)))\n",
    "plt.axline([2, -1], [2, 1], color='black', linestyle='--', label='Stability region')\n",
    "# plt.errorbar(Decay, Decay/fisher_a_mean, yerr=fisher_a_std, label='param')\n",
    "# plt.ylim([-0.5, 0.5])\n",
    "plt.xlabel('W')\n",
    "plt.ylabel('Absolute difference')\n",
    "plt.legend()"
   ],
   "metadata": {
    "collapsed": false,
    "ExecuteTime": {
     "end_time": "2024-12-09T10:59:13.256599Z",
     "start_time": "2024-12-09T10:59:13.145051Z"
    }
   },
   "outputs": [
    {
     "data": {
      "text/plain": "<matplotlib.legend.Legend at 0x1eecf556290>"
     },
     "execution_count": 35,
     "metadata": {},
     "output_type": "execute_result"
    },
    {
     "data": {
      "text/plain": "<Figure size 640x480 with 1 Axes>",
      "image/png": "[encoded data removed]"
     },
     "metadata": {},
     "output_type": "display_data"
    }
   ],
   "execution_count": 35
  },
  {
   "cell_type": "code",
   "execution_count": 36,
   "outputs": [],
   "source": [
    "import os\n",
    "import pandas as pd\n",
    "user_home = os.path.expanduser(\"~\")\n",
    "\n",
    "results_df = pd.DataFrame({\n",
    "    \"shots\": shots,\n",
    "    \"W\": W,\n",
    "    \"fisher_a_mean\": fisher_a_mean,\n",
    "    \"fisher_a_std\": fisher_a_std,\n",
    "    \"local_a_mean\": local_a_mean,\n",
    "    \"local_a_std\": local_a_std,\n",
    "    \"uniform_a_mean\": uniform_a_mean,\n",
    "    \"uniform_a_std\": uniform_a_std,\n",
    "    \"fisher_w_mean\": fisher_w_mean,\n",
    "    \"fisher_w_std\": fisher_w_std,\n",
    "    \"local_w_mean\": local_w_mean,\n",
    "    \"local_w_std\": local_w_std,\n",
    "    \"uniform_w_mean\": uniform_w_mean,\n",
    "    \"uniform_w_std\": uniform_w_std,\n",
    "})\n",
    "\n",
    "# Saving to Excel\n",
    "results_df.to_excel(user_home + r'\\OneDrive - Bar-Ilan University - Students\\Data\\Crosstalk\\graphs_for_paper\\Unbiased_estimator_detuning.xlsx',\n",
    "    index=False)\n"
   ],
   "metadata": {
    "collapsed": false
   }
  },
  {
   "cell_type": "code",
   "source": [
    "# plt.plot(Decay,omega_fit_t_mean,label='fit')\n",
    "plt.plot(Decay, [1] * len(Decay))\n",
    "plt.errorbar(Decay, omega_fit_t_mean, yerr=omega_fit_t_std, label='std')"
   ],
   "metadata": {
    "collapsed": false
   },
   "outputs": [],
   "execution_count": null
  },
  {
   "cell_type": "code",
   "source": [
    "from tqdm import tqdm\n",
    "import random\n",
    "\n",
    "T = 1 * np.pi\n",
    "shots = 1000\n",
    "errors_fisher = []\n",
    "errors_local = []\n",
    "uniform_local = []\n",
    "uniform_local_G = []\n",
    "n = 1\n",
    "delay = [1]\n",
    "fisher_delay = [0.4439410861020235, 1.784695781691183]\n",
    "\n",
    "decay_fit = []\n",
    "\n",
    "repetitions = 100\n",
    "# W =]\n",
    "Decay = np.arange(0.001, 4, 0.25)\n",
    "# np.delete(W, 0)\n",
    "W = [1]\n",
    "J = {}\n",
    "J_list = [random.gauss(1, 0) for _ in range(n - 1)]\n",
    "\n",
    "for rep in range(repetitions):\n",
    "    rep_Decay_fisher = []\n",
    "\n",
    "    rep_decay_fit = []\n",
    "    for decay in tqdm(Decay, desc=f\"Repetition {rep}\"):\n",
    "        batch_x_det, batch_y_det, batch_x_cross, batch_y_cross = Ramsey_ExperimentV3.ramsey_local(n, shots, delay,\n",
    "                                                                                                  [decay],\n",
    "                                                                                                  W, J)\n",
    "        Decay_local, W_local, J_local = estimator.one_by_one_fit(batch_x_det, batch_y_det, batch_x_cross,\n",
    "                                                                 batch_y_cross)\n",
    "        # batch_det, batch_cross = Ramsey_ExperimentV3.ramsey_local_X(n, shots, fisher_delay, [decay], W, J)\n",
    "        # Decay_fisher, W_fisher, J_fisher = estimator.one_by_one_X(batch_det, batch_cross)\n",
    "\n",
    "        rep_Decay_fisher.append(Decay_local)\n",
    "    decay_fit.append(rep_Decay_fisher)\n",
    "\n"
   ],
   "metadata": {
    "collapsed": false
   },
   "outputs": [],
   "execution_count": null
  },
  {
   "cell_type": "code",
   "source": [
    "import matplotlib.pyplot as plt\n",
    "decay_fit_t = np.array(decay_fit).transpose()[0]\n",
    "decay_fit_t_mean = [np.mean(decay_fit_t[i]) for i in range(len(Decay))]\n",
    "decay_fit_t_std = [np.std(decay_fit_t[i]) / np.sqrt(repetitions) for i in range(len(Decay))]\n",
    "\n",
    "# plt.plot(Decay,decay_fit_t_mean,label='fit')\n",
    "plt.plot(Decay, Decay)\n",
    "plt.errorbar(Decay, decay_fit_t_mean, yerr=decay_fit_t_std, label='std')\n",
    "plt.legend()"
   ],
   "metadata": {
    "collapsed": false
   },
   "outputs": [],
   "execution_count": null
  },
  {
   "cell_type": "code",
   "source": [],
   "metadata": {
    "collapsed": false
   },
   "outputs": [],
   "execution_count": null
  }
 ],
 "metadata": {
  "kernelspec": {
   "display_name": "Python 3",
   "language": "python",
   "name": "python3"
  },
  "language_info": {
   "codemirror_mode": {
    "name": "ipython",
    "version": 2
   },
   "file_extension": ".py",
   "mimetype": "text/x-python",
   "name": "python",
   "nbconvert_exporter": "python",
   "pygments_lexer": "ipython2",
   "version": "2.7.6"
  }
 },
 "nbformat": 4,
 "nbformat_minor": 0
}
