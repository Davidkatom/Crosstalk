{
 "cells": [
  {
   "cell_type": "code",
   "execution_count": 1,
   "metadata": {
    "collapsed": true
   },
   "outputs": [],
   "source": [
    "import Ramsey_ExperimentV3\n",
    "\n",
    "import estimator\n",
    "import numpy as np"
   ]
  },
  {
   "cell_type": "code",
   "execution_count": 3,
   "outputs": [
    {
     "name": "stderr",
     "output_type": "stream",
     "text": [
      "Repetition 0: 100%|██████████| 16/16 [00:00<00:00, 17.06it/s]\n",
      "Repetition 1: 100%|██████████| 16/16 [00:00<00:00, 16.90it/s]\n",
      "Repetition 2: 100%|██████████| 16/16 [00:00<00:00, 16.61it/s]\n",
      "Repetition 3: 100%|██████████| 16/16 [00:01<00:00, 15.94it/s]\n",
      "Repetition 4: 100%|██████████| 16/16 [00:00<00:00, 16.02it/s]\n",
      "Repetition 5: 100%|██████████| 16/16 [00:01<00:00, 15.81it/s]\n",
      "Repetition 6: 100%|██████████| 16/16 [00:01<00:00, 15.80it/s]\n",
      "Repetition 7: 100%|██████████| 16/16 [00:01<00:00, 14.34it/s]\n",
      "Repetition 8: 100%|██████████| 16/16 [00:01<00:00, 14.34it/s]\n",
      "Repetition 9: 100%|██████████| 16/16 [00:01<00:00, 14.15it/s]\n",
      "Repetition 10: 100%|██████████| 16/16 [00:01<00:00, 15.00it/s]\n",
      "Repetition 11: 100%|██████████| 16/16 [00:01<00:00, 15.62it/s]\n",
      "Repetition 12: 100%|██████████| 16/16 [00:01<00:00, 15.07it/s]\n",
      "Repetition 13: 100%|██████████| 16/16 [00:01<00:00, 14.93it/s]\n",
      "Repetition 14: 100%|██████████| 16/16 [00:01<00:00, 15.00it/s]\n",
      "Repetition 15: 100%|██████████| 16/16 [00:01<00:00, 14.56it/s]\n",
      "Repetition 16: 100%|██████████| 16/16 [00:01<00:00, 15.07it/s]\n",
      "Repetition 17: 100%|██████████| 16/16 [00:01<00:00, 14.18it/s]\n",
      "Repetition 18: 100%|██████████| 16/16 [00:01<00:00, 15.03it/s]\n",
      "Repetition 19: 100%|██████████| 16/16 [00:01<00:00, 15.42it/s]\n",
      "Repetition 20: 100%|██████████| 16/16 [00:01<00:00, 14.49it/s]\n",
      "Repetition 21: 100%|██████████| 16/16 [00:01<00:00, 14.88it/s]\n",
      "Repetition 22: 100%|██████████| 16/16 [00:01<00:00, 15.18it/s]\n",
      "Repetition 23: 100%|██████████| 16/16 [00:01<00:00, 14.47it/s]\n",
      "Repetition 24: 100%|██████████| 16/16 [00:01<00:00, 12.00it/s]\n",
      "Repetition 25: 100%|██████████| 16/16 [00:01<00:00, 14.29it/s]\n",
      "Repetition 26: 100%|██████████| 16/16 [00:01<00:00, 13.77it/s]\n",
      "Repetition 27: 100%|██████████| 16/16 [00:01<00:00, 14.11it/s]\n",
      "Repetition 28: 100%|██████████| 16/16 [00:01<00:00, 13.94it/s]\n",
      "Repetition 29: 100%|██████████| 16/16 [00:01<00:00, 14.83it/s]\n",
      "Repetition 30: 100%|██████████| 16/16 [00:01<00:00, 14.17it/s]\n",
      "Repetition 31: 100%|██████████| 16/16 [00:01<00:00, 14.05it/s]\n",
      "Repetition 32: 100%|██████████| 16/16 [00:01<00:00, 14.93it/s]\n",
      "Repetition 33: 100%|██████████| 16/16 [00:01<00:00, 11.80it/s]\n",
      "Repetition 34: 100%|██████████| 16/16 [00:01<00:00, 15.06it/s]\n",
      "Repetition 35: 100%|██████████| 16/16 [00:01<00:00, 15.54it/s]\n",
      "Repetition 36: 100%|██████████| 16/16 [00:01<00:00, 15.35it/s]\n",
      "Repetition 37: 100%|██████████| 16/16 [00:01<00:00, 14.39it/s]\n",
      "Repetition 38: 100%|██████████| 16/16 [00:01<00:00, 13.40it/s]\n",
      "Repetition 39: 100%|██████████| 16/16 [00:01<00:00, 13.78it/s]\n",
      "Repetition 40: 100%|██████████| 16/16 [00:01<00:00, 14.60it/s]\n",
      "Repetition 41: 100%|██████████| 16/16 [00:01<00:00, 13.54it/s]\n",
      "Repetition 42: 100%|██████████| 16/16 [00:01<00:00, 14.42it/s]\n",
      "Repetition 43: 100%|██████████| 16/16 [00:01<00:00, 15.25it/s]\n",
      "Repetition 44: 100%|██████████| 16/16 [00:01<00:00, 15.76it/s]\n",
      "Repetition 45: 100%|██████████| 16/16 [00:01<00:00, 14.37it/s]\n",
      "Repetition 46: 100%|██████████| 16/16 [00:01<00:00, 15.17it/s]\n",
      "Repetition 47: 100%|██████████| 16/16 [00:01<00:00, 15.83it/s]\n",
      "Repetition 48: 100%|██████████| 16/16 [00:01<00:00, 15.56it/s]\n",
      "Repetition 49: 100%|██████████| 16/16 [00:01<00:00, 15.44it/s]\n",
      "Repetition 50: 100%|██████████| 16/16 [00:01<00:00, 15.59it/s]\n",
      "Repetition 51: 100%|██████████| 16/16 [00:01<00:00, 15.56it/s]\n",
      "Repetition 52: 100%|██████████| 16/16 [00:01<00:00, 15.46it/s]\n",
      "Repetition 53: 100%|██████████| 16/16 [00:01<00:00, 14.25it/s]\n",
      "Repetition 54: 100%|██████████| 16/16 [00:01<00:00, 15.52it/s]\n",
      "Repetition 55: 100%|██████████| 16/16 [00:01<00:00, 15.50it/s]\n",
      "Repetition 56: 100%|██████████| 16/16 [00:01<00:00, 15.74it/s]\n",
      "Repetition 57: 100%|██████████| 16/16 [00:01<00:00, 14.97it/s]\n",
      "Repetition 58: 100%|██████████| 16/16 [00:01<00:00, 15.07it/s]\n",
      "Repetition 59: 100%|██████████| 16/16 [00:01<00:00, 15.23it/s]\n",
      "Repetition 60: 100%|██████████| 16/16 [00:01<00:00, 15.71it/s]\n",
      "Repetition 61: 100%|██████████| 16/16 [00:01<00:00, 15.21it/s]\n",
      "Repetition 62: 100%|██████████| 16/16 [00:01<00:00, 14.32it/s]\n",
      "Repetition 63: 100%|██████████| 16/16 [00:01<00:00, 15.30it/s]\n",
      "Repetition 64: 100%|██████████| 16/16 [00:01<00:00, 15.68it/s]\n",
      "Repetition 65: 100%|██████████| 16/16 [00:01<00:00, 14.87it/s]\n",
      "Repetition 66: 100%|██████████| 16/16 [00:01<00:00, 15.69it/s]\n",
      "Repetition 67: 100%|██████████| 16/16 [00:01<00:00, 15.55it/s]\n",
      "Repetition 68: 100%|██████████| 16/16 [00:01<00:00, 15.18it/s]\n",
      "Repetition 69: 100%|██████████| 16/16 [00:01<00:00, 14.98it/s]\n",
      "Repetition 70: 100%|██████████| 16/16 [00:01<00:00, 14.97it/s]\n",
      "Repetition 71: 100%|██████████| 16/16 [00:01<00:00, 15.06it/s]\n",
      "Repetition 72: 100%|██████████| 16/16 [00:01<00:00, 10.23it/s]\n",
      "Repetition 73: 100%|██████████| 16/16 [00:01<00:00, 10.24it/s]\n",
      "Repetition 74: 100%|██████████| 16/16 [00:01<00:00, 13.17it/s]\n",
      "Repetition 75: 100%|██████████| 16/16 [00:01<00:00, 15.03it/s]\n",
      "Repetition 76: 100%|██████████| 16/16 [00:01<00:00, 13.20it/s]\n",
      "Repetition 77: 100%|██████████| 16/16 [00:01<00:00, 14.39it/s]\n",
      "Repetition 78: 100%|██████████| 16/16 [00:01<00:00, 14.63it/s]\n",
      "Repetition 79: 100%|██████████| 16/16 [00:01<00:00, 15.69it/s]\n",
      "Repetition 80: 100%|██████████| 16/16 [00:00<00:00, 16.03it/s]\n",
      "Repetition 81: 100%|██████████| 16/16 [00:01<00:00, 11.11it/s]\n",
      "Repetition 82: 100%|██████████| 16/16 [00:01<00:00, 10.93it/s]\n",
      "Repetition 83: 100%|██████████| 16/16 [00:01<00:00, 15.08it/s]\n",
      "Repetition 84: 100%|██████████| 16/16 [00:01<00:00, 15.41it/s]\n",
      "Repetition 85: 100%|██████████| 16/16 [00:01<00:00, 15.68it/s]\n",
      "Repetition 86: 100%|██████████| 16/16 [00:01<00:00, 15.05it/s]\n",
      "Repetition 87: 100%|██████████| 16/16 [00:01<00:00, 10.74it/s]\n",
      "Repetition 88: 100%|██████████| 16/16 [00:01<00:00, 15.61it/s]\n",
      "Repetition 89: 100%|██████████| 16/16 [00:01<00:00, 13.73it/s]\n",
      "Repetition 90: 100%|██████████| 16/16 [00:01<00:00, 15.08it/s]\n",
      "Repetition 91: 100%|██████████| 16/16 [00:01<00:00, 15.53it/s]\n",
      "Repetition 92: 100%|██████████| 16/16 [00:01<00:00, 13.42it/s]\n",
      "Repetition 93: 100%|██████████| 16/16 [00:01<00:00, 14.34it/s]\n",
      "Repetition 94: 100%|██████████| 16/16 [00:01<00:00, 13.73it/s]\n",
      "Repetition 95: 100%|██████████| 16/16 [00:01<00:00, 15.78it/s]\n",
      "Repetition 96: 100%|██████████| 16/16 [00:01<00:00, 13.78it/s]\n",
      "Repetition 97: 100%|██████████| 16/16 [00:01<00:00, 14.12it/s]\n",
      "Repetition 98: 100%|██████████| 16/16 [00:01<00:00, 14.44it/s]\n",
      "Repetition 99: 100%|██████████| 16/16 [00:01<00:00, 15.36it/s]\n"
     ]
    }
   ],
   "source": [
    "from tqdm import tqdm\n",
    "import random\n",
    "\n",
    "T = 1 * np.pi\n",
    "uni_delay = np.linspace(0, T, 20)\n",
    "shots = 10000\n",
    "errors_fisher = []\n",
    "errors_local = []\n",
    "uniform_local = []\n",
    "n = 1\n",
    "delay = [1]\n",
    "fisher_delay = [0.4439410861020235, 1.784695781691183]\n",
    "\n",
    "repetitions = 100\n",
    "# W =]\n",
    "Decay = np.arange(0.001,4, 0.25)\n",
    "# np.delete(W, 0)\n",
    "W = [1]\n",
    "J = {}\n",
    "J_list = [random.gauss(1, 0) for _ in range(n - 1)]\n",
    "\n",
    "for rep in range(repetitions):\n",
    "    rep_error_fisher = []\n",
    "    rep_error_local = []\n",
    "    rep_error_uniform = []\n",
    "    for decay in tqdm(Decay, desc=f\"Repetition {rep}\"):\n",
    "        batch_x_det, batch_y_det, batch_x_cross, batch_y_cross = Ramsey_ExperimentV3.ramsey_local(n, shots, delay,\n",
    "                                                                                                  [decay],\n",
    "                                                                                                  W, J)\n",
    "\n",
    "        batch_det, batch_cross = Ramsey_ExperimentV3.ramsey_local_X(n, shots, fisher_delay, [decay], W, J)\n",
    "        # batch_uni_det, batch_uni_cross = Ramsey_ExperimentV3.ramsey_local_X(n, shots, uni_delay, [decay], W, J)\n",
    "\n",
    "        batch_x_det_uni,batch_y_det_uni, batch_x_cross_uni, batch_y_cross_uni = Ramsey_ExperimentV3.ramsey_local(n, shots, uni_delay, [decay], W, J)\n",
    "\n",
    "\n",
    "        Decay_local, W_local, J_local = estimator.one_by_one_fit(batch_x_det, batch_y_det, batch_x_cross,\n",
    "                                                                 batch_y_cross)\n",
    "        Decay_fisher, W_fisher, J_fisher = estimator.one_by_one_X(batch_det, batch_cross)\n",
    "\n",
    "        # Decay_uni, W_uni, J_uni = estimator.one_by_one_X(batch_uni_det, batch_uni_cross)\n",
    "        Decay_uni, W_uni, J_uni = estimator.one_by_one_fit(batch_x_det_uni,batch_y_det_uni, batch_x_cross_uni, batch_y_cross_uni)\n",
    "\n",
    "\n",
    "\n",
    "        rep_error_fisher.append(estimator.percent_error(np.concatenate([W, J_list]),\n",
    "                                                        np.concatenate([W_fisher, J_fisher])))\n",
    "        rep_error_local.append(estimator.percent_error(np.concatenate([W, J_list]),\n",
    "                                                       np.concatenate([W_local, J_local])))\n",
    "        rep_error_uniform.append(estimator.percent_error(np.concatenate([W, J_list]),\n",
    "                                                         np.concatenate([W_uni, J_uni])))\n",
    "\n",
    "    errors_fisher.append(rep_error_fisher)\n",
    "    errors_local.append(rep_error_local)\n",
    "    uniform_local.append(rep_error_uniform)\n"
   ],
   "metadata": {
    "collapsed": false
   }
  },
  {
   "cell_type": "code",
   "execution_count": 4,
   "outputs": [],
   "source": [
    "errors_fisher_reshaped = list(map(list, zip(*errors_fisher)))\n",
    "# errors_fisher_median = [np.median(np.array(errors_fisher_reshaped[i])) for i in range(len(errors_fisher_reshaped))]\n",
    "# errors_fisher_std = [np.std(np.array(errors_fisher_reshaped[i])) for i in range(len(errors_fisher_reshaped))]\n",
    "# errors_fisher_75th_percentile = [np.percentile(np.array(errors_fisher_reshaped[i]), 75) for i in range(len(errors_fisher_reshaped))]\n",
    "\n",
    "errors_local_reshaped = list(map(list, zip(*errors_local)))\n",
    "# errors_local_median = [np.median(np.array(errors_local_reshaped[i])) for i in range(len(errors_local_reshaped))]\n",
    "# errors_local_std = [np.std(np.array(errors_local_reshaped[i])) for i in range(len(errors_local_reshaped))]\n",
    "# errors_local_75th_percentile = [np.percentile(np.array(errors_local_reshaped[i]), 75) for i in range(len(errors_local_reshaped))]\n",
    "\n",
    "errors_uniform_reshaped = list(map(list, zip(*uniform_local)))\n",
    "# errors_uniform_median = [np.median(np.array(errors_uniform_reshaped[i])) for i in range(len(errors_uniform_reshaped))]\n",
    "# errors_uniform_std = [np.std(np.array(errors_uniform_reshaped[i])) for i in range(len(errors_uniform_reshaped))]\n",
    "# errors_uniform_75th_percentile = [np.percentile(np.array(errors_uniform_reshaped[i]), 75) for i in range(len(errors_uniform_reshaped))]\n",
    "\n",
    "errors_fisher_median, errors_fisher_std = estimator.mean_of_medians(errors_fisher_reshaped, 10)\n",
    "errors_local_median,errors_local_std  = estimator.mean_of_medians(errors_local_reshaped, 10)\n",
    "errors_uniform_median, errors_uniform_std = estimator.mean_of_medians(errors_uniform_reshaped, 10)"
   ],
   "metadata": {
    "collapsed": false
   }
  },
  {
   "cell_type": "code",
   "execution_count": 13,
   "outputs": [
    {
     "data": {
      "text/plain": "<matplotlib.legend.Legend at 0x1eb6ff643d0>"
     },
     "execution_count": 13,
     "metadata": {},
     "output_type": "execute_result"
    },
    {
     "data": {
      "text/plain": "<Figure size 1000x400 with 1 Axes>",
      "image/png": "[encoded data removed]"
     },
     "metadata": {},
     "output_type": "display_data"
    }
   ],
   "source": [
    "import matplotlib.pyplot as plt\n",
    "\n",
    "plt.figure(figsize=(10, 4))  # Adjust the figure size to make the plot longer\n",
    "plt.rcParams['text.usetex'] = True\n",
    "font = {'family': 'normal',\n",
    "        'weight': 'bold',\n",
    "        'size': 14}\n",
    "\n",
    "plt.rc('font', **font)\n",
    "plt.plot(Decay, 100 * np.array(errors_uniform_median ), linestyle='--', marker='o', color='blue', markersize=5,\n",
    "         label='X at 20 fixed times')\n",
    "plt.plot(Decay, 100 * np.array(errors_fisher_median ), linestyle='--', marker='o', color='red', markersize=5,\n",
    "         label='X at 2 non-optimal times')\n",
    "plt.plot(Decay, 100 * np.array(errors_local_median ), linestyle='--', marker='o', color='green', markersize=5,\n",
    "         label='X, Y at non-optimal time')\n",
    "\n",
    "plt.errorbar(Decay, 100 * np.array(errors_uniform_median ), yerr=100 * np.array(errors_uniform_std ),\n",
    "             fmt='o', color='blue')\n",
    "plt.errorbar(Decay, 100 * np.array(errors_fisher_median ), yerr=100 * np.array(errors_fisher_std ),\n",
    "             fmt='o', color='red')\n",
    "plt.errorbar(Decay, 100 * np.array(errors_local_median ), yerr=100 * np.array(errors_local_std ), fmt='o',\n",
    "             color='green')\n",
    "\n",
    "# Scatter points for 75th percentiles\n",
    "\n",
    "\n",
    "\n",
    "# plt.title(f'Shots={Decay} ')\n",
    "plt.xlabel('$\\gamma$')\n",
    "plt.ylabel('Median / $\\gamma$')\n",
    "plt.grid()\n",
    "# plt.yscale('log')\n",
    "# plt.xscale('log')\n",
    "plt.xlim([0, 2.52])\n",
    "plt.grid()\n",
    "plt.legend()"
   ],
   "metadata": {
    "collapsed": false
   }
  },
  {
   "cell_type": "code",
   "execution_count": 27,
   "outputs": [
    {
     "name": "stdout",
     "output_type": "stream",
     "text": [
      "Decay:  0.9478947368421052\n",
      "mean:  4.272994950588689\n",
      "IQR:  6.2557467355387315\n",
      "std:  4.481422500418987\n"
     ]
    },
    {
     "data": {
      "text/plain": "<Figure size 640x480 with 1 Axes>",
      "image/png": "[encoded data removed]"
     },
     "metadata": {},
     "output_type": "display_data"
    }
   ],
   "source": [
    "index = 9\n",
    "print(\"Decay: \",Decay[index])\n",
    "X = 100 * np.array(errors_local_reshaped[index] / Decay[index])\n",
    "\n",
    "#plot histogram with 10 bins\n",
    "plt.hist(X, bins=20, color='blue', edgecolor='black', alpha=0.7)\n",
    "q75, q25 = np.percentile(X, [75, 25])\n",
    "iqr = q75 - q25\n",
    "print(\"mean: \",np.median(X))\n",
    "print(\"IQR: \", iqr)\n",
    "print(\"std: \", np.std(X))"
   ],
   "metadata": {
    "collapsed": false
   }
  },
  {
   "cell_type": "code",
   "execution_count": 44,
   "outputs": [],
   "source": [
    "import pandas as pd\n",
    "\n",
    "results_df = pd.DataFrame({\n",
    "    \"shots\": shots,\n",
    "    \"Decay\": Decay,\n",
    "    \"errors_fisher_median\": errors_fisher_median,\n",
    "    \"errors_fisher_std\": errors_fisher_std,\n",
    "    \"errors_local_median\": errors_local_median,\n",
    "    \"errors_local_std\": errors_local_std,\n",
    "    \"errors_uniform_median\": errors_uniform_median,\n",
    "    \"errors_uniform_std\": errors_uniform_std,\n",
    "})\n",
    "\n",
    "# Saving to Excel\n",
    "results_df.to_excel('C:\\Projects\\Crosstalk\\data_for_paper/stability-Decay.xlsx', index=False)"
   ],
   "metadata": {
    "collapsed": false
   }
  },
  {
   "cell_type": "code",
   "execution_count": 32,
   "outputs": [],
   "source": [
    "import numpy as np\n",
    "import pandas as pd\n",
    "\n",
    "Decay = np.linspace(0.001, 3, 26)\n",
    "\n",
    "# Load the Excel file\n",
    "loaded_df = pd.read_excel('C:\\\\Projects\\\\Crosstalk\\\\data_for_paper/stability-Decay.xlsx')\n",
    "\n",
    "# Assign the columns to variables\n",
    "shots = loaded_df[\"shots\"].values\n",
    "errors_fisher_median = loaded_df[\"errors_fisher_median\"].values\n",
    "errors_fisher_75th_percentile = loaded_df[\"errors_fisher_75th_percentile\"].values\n",
    "errors_local_median = loaded_df[\"errors_local_median\"].values\n",
    "errors_local_75th_percentile = loaded_df[\"errors_local_75th_percentile\"].values\n",
    "errors_uniform_median = loaded_df[\"errors_uniform_median\"].values\n",
    "errors_uniform_75th_percentile = loaded_df[\"errors_uniform_75th_percentile\"].values"
   ],
   "metadata": {
    "collapsed": false
   }
  },
  {
   "cell_type": "code",
   "execution_count": null,
   "outputs": [],
   "source": [],
   "metadata": {
    "collapsed": false
   }
  }
 ],
 "metadata": {
  "kernelspec": {
   "display_name": "Python 3",
   "language": "python",
   "name": "python3"
  },
  "language_info": {
   "codemirror_mode": {
    "name": "ipython",
    "version": 2
   },
   "file_extension": ".py",
   "mimetype": "text/x-python",
   "name": "python",
   "nbconvert_exporter": "python",
   "pygments_lexer": "ipython2",
   "version": "2.7.6"
  }
 },
 "nbformat": 4,
 "nbformat_minor": 0
}
