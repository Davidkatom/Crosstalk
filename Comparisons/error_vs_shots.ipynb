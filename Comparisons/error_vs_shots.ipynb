{
 "cells": [
  {
   "cell_type": "code",
   "execution_count": 2,
   "metadata": {
    "collapsed": true
   },
   "outputs": [],
   "source": [
    "import Ramsey_ExperimentV3\n",
    "import estimator\n",
    "import numpy as np"
   ]
  },
  {
   "cell_type": "code",
   "execution_count": 3,
   "outputs": [
    {
     "name": "stderr",
     "output_type": "stream",
     "text": [
      "Repetition 0:   0%|          | 0/5 [00:00<?, ?it/s]C:\\Projects\\Crosstalk\\estimator.py:36: OptimizeWarning: Covariance of the parameters could not be estimated\n",
      "  params, params_covariance, *c = curve_fit(model_func, t_points, z_points, p0=initial_guess, bounds=bounds)\n",
      "C:\\Projects\\Crosstalk\\estimator.py:66: OptimizeWarning: Covariance of the parameters could not be estimated\n",
      "  params, params_covariance, *c = curve_fit(model_func, t_points, z_points, p0=initial_guess, bounds=bounds)\n",
      "Repetition 0: 100%|██████████| 5/5 [00:02<00:00,  1.86it/s]\n",
      "Repetition 1: 100%|██████████| 5/5 [00:02<00:00,  1.81it/s]\n",
      "Repetition 2: 100%|██████████| 5/5 [00:02<00:00,  1.73it/s]\n",
      "Repetition 3: 100%|██████████| 5/5 [00:02<00:00,  1.77it/s]\n",
      "Repetition 4: 100%|██████████| 5/5 [00:02<00:00,  1.75it/s]\n",
      "Repetition 5: 100%|██████████| 5/5 [00:03<00:00,  1.63it/s]\n",
      "Repetition 6: 100%|██████████| 5/5 [00:02<00:00,  1.92it/s]\n",
      "Repetition 7: 100%|██████████| 5/5 [00:03<00:00,  1.64it/s]\n",
      "Repetition 8: 100%|██████████| 5/5 [00:03<00:00,  1.61it/s]\n",
      "Repetition 9: 100%|██████████| 5/5 [00:02<00:00,  1.85it/s]\n",
      "Repetition 10: 100%|██████████| 5/5 [00:02<00:00,  1.84it/s]\n",
      "Repetition 11: 100%|██████████| 5/5 [00:02<00:00,  1.97it/s]\n",
      "Repetition 12: 100%|██████████| 5/5 [00:02<00:00,  1.95it/s]\n",
      "Repetition 13: 100%|██████████| 5/5 [00:02<00:00,  1.76it/s]\n",
      "Repetition 14: 100%|██████████| 5/5 [00:02<00:00,  1.97it/s]\n",
      "Repetition 15: 100%|██████████| 5/5 [00:02<00:00,  1.85it/s]\n",
      "Repetition 16: 100%|██████████| 5/5 [00:02<00:00,  2.05it/s]\n",
      "Repetition 17: 100%|██████████| 5/5 [00:02<00:00,  2.04it/s]\n",
      "Repetition 18: 100%|██████████| 5/5 [00:02<00:00,  1.88it/s]\n",
      "Repetition 19: 100%|██████████| 5/5 [00:02<00:00,  1.82it/s]\n",
      "Repetition 20: 100%|██████████| 5/5 [00:03<00:00,  1.56it/s]\n",
      "Repetition 21: 100%|██████████| 5/5 [00:02<00:00,  1.91it/s]\n",
      "Repetition 22: 100%|██████████| 5/5 [00:02<00:00,  1.86it/s]\n",
      "Repetition 23: 100%|██████████| 5/5 [00:03<00:00,  1.60it/s]\n",
      "Repetition 24: 100%|██████████| 5/5 [00:03<00:00,  1.60it/s]\n",
      "Repetition 25: 100%|██████████| 5/5 [00:02<00:00,  1.83it/s]\n",
      "Repetition 26: 100%|██████████| 5/5 [00:02<00:00,  1.73it/s]\n",
      "Repetition 27: 100%|██████████| 5/5 [00:02<00:00,  1.87it/s]\n",
      "Repetition 28: 100%|██████████| 5/5 [00:02<00:00,  1.72it/s]\n",
      "Repetition 29: 100%|██████████| 5/5 [00:03<00:00,  1.62it/s]\n",
      "Repetition 30: 100%|██████████| 5/5 [00:02<00:00,  1.77it/s]\n",
      "Repetition 31: 100%|██████████| 5/5 [00:02<00:00,  1.89it/s]\n",
      "Repetition 32: 100%|██████████| 5/5 [00:02<00:00,  1.88it/s]\n",
      "Repetition 33: 100%|██████████| 5/5 [00:03<00:00,  1.65it/s]\n",
      "Repetition 34: 100%|██████████| 5/5 [00:02<00:00,  2.06it/s]\n",
      "Repetition 35: 100%|██████████| 5/5 [00:02<00:00,  2.08it/s]\n",
      "Repetition 36: 100%|██████████| 5/5 [00:02<00:00,  2.00it/s]\n",
      "Repetition 37: 100%|██████████| 5/5 [00:02<00:00,  1.97it/s]\n",
      "Repetition 38: 100%|██████████| 5/5 [00:02<00:00,  1.76it/s]\n",
      "Repetition 39: 100%|██████████| 5/5 [00:02<00:00,  1.67it/s]\n",
      "Repetition 40: 100%|██████████| 5/5 [00:02<00:00,  1.79it/s]\n",
      "Repetition 41: 100%|██████████| 5/5 [00:03<00:00,  1.55it/s]\n",
      "Repetition 42: 100%|██████████| 5/5 [00:02<00:00,  1.70it/s]\n",
      "Repetition 43: 100%|██████████| 5/5 [00:02<00:00,  1.82it/s]\n",
      "Repetition 44: 100%|██████████| 5/5 [00:02<00:00,  1.76it/s]\n",
      "Repetition 45: 100%|██████████| 5/5 [00:02<00:00,  1.79it/s]\n",
      "Repetition 46: 100%|██████████| 5/5 [00:02<00:00,  1.83it/s]\n",
      "Repetition 47: 100%|██████████| 5/5 [00:02<00:00,  1.73it/s]\n",
      "Repetition 48: 100%|██████████| 5/5 [00:02<00:00,  1.72it/s]\n",
      "Repetition 49: 100%|██████████| 5/5 [00:02<00:00,  1.81it/s]\n"
     ]
    }
   ],
   "source": [
    "from tqdm import tqdm\n",
    "import random\n",
    "\n",
    "T = np.pi\n",
    "uni_delay = np.linspace(0, T, 20)\n",
    "# shots = np.arange(500, 20000, 2000)\n",
    "shots= np.logspace(3,5,num=6-2+1,base=10,dtype='int')\n",
    "errors_fisher = []\n",
    "errors_local = []\n",
    "uniform_local = []\n",
    "uniform_local_G = []\n",
    "n = 1\n",
    "delay = [1]\n",
    "fisher_delay = [0.4439410861020235, 1.784695781691183]\n",
    "\n",
    "\n",
    "repetitions = 50\n",
    "\n",
    "\n",
    "for rep in range(repetitions):\n",
    "    rep_error_fisher = []\n",
    "    rep_error_local = []\n",
    "    rep_error_uniform = []\n",
    "    rep_error_uniform_G = []\n",
    "\n",
    "\n",
    "    W = [random.gauss(1, 0) for _ in range(n)]\n",
    "    Decay = [random.gauss(1, 0) for _ in range(n)]\n",
    "    J = {}\n",
    "    J_list = [random.gauss(1, 0) for _ in range(n - 1)]\n",
    "    for i in range(n - 1):  # Only connect to the next neighbor\n",
    "        J[(i, i + 1)] = J_list[i]\n",
    "\n",
    "    for s in tqdm(shots, desc=f\"Repetition {rep}\"):\n",
    "        # batch_x, batch_y = Ramsey_ExperimentV2.ramsey_global(n, s, delay, Decay, W, J)\n",
    "        batch_x_det, batch_y_det, batch_x_cross, batch_y_cross = Ramsey_ExperimentV3.ramsey_local(n, s, delay, Decay,\n",
    "                                                                                                  W, J)\n",
    "        # batch_x_det_uni, batch_cross_uni = Ramsey_ExperimentV3.ramsey_local_X(n, s, uni_delay, Decay, W, J)\n",
    "        batch_x_det_uni,batch_y_det_uni, batch_x_cross_uni, batch_y_cross_uni = Ramsey_ExperimentV3.ramsey_local(n, s, uni_delay, Decay, W, J)\n",
    "        batch_x_det_uni_G,batch_y_det_uni_G, batch_x_cross_uni_G, batch_y_cross_uni_G = Ramsey_ExperimentV3.ramsey_local_gausian(n, s,delay[0],delay[0], uni_delay, Decay, W, J)\n",
    "\n",
    "\n",
    "        batch_det, batch_cross = Ramsey_ExperimentV3.ramsey_local_X(n, s, fisher_delay, Decay, W, J)\n",
    "\n",
    "        Decay_local, W_local, J_local = estimator.one_by_one_fit(batch_x_det, batch_y_det, batch_x_cross,\n",
    "                                                                 batch_y_cross)\n",
    "        Decay_fisher, W_fisher, J_fisher = estimator.one_by_one_X(batch_det, batch_cross)\n",
    "\n",
    "        # Decay_uni, W_uni, J_uni = estimator.one_by_one_X(batch_x_det_uni, batch_cross_uni)\n",
    "        Decay_uni, W_uni, J_uni = estimator.one_by_one_fit(batch_x_det_uni, batch_y_det_uni, batch_x_cross_uni, batch_y_cross_uni)\n",
    "        Decay_uni_G, W_uni_G, J_uni_G = estimator.one_by_one_fit(batch_x_det_uni_G, batch_y_det_uni_G, batch_x_cross_uni_G, batch_y_cross_uni_G)\n",
    "\n",
    "\n",
    "        rep_error_fisher.append(estimator.percent_error(np.concatenate([Decay, W, J_list]),\n",
    "                                                        np.concatenate([Decay_fisher, W_fisher, J_fisher])))\n",
    "        rep_error_local.append(estimator.percent_error(np.concatenate([Decay, W, J_list]),\n",
    "                                                       np.concatenate([Decay_local, W_local, J_local])))\n",
    "        rep_error_uniform.append(estimator.percent_error(np.concatenate([Decay, W, J_list]),\n",
    "                                                         np.concatenate([Decay_uni,W_uni, J_uni])))\n",
    "        rep_error_uniform_G.append(estimator.percent_error(np.concatenate([Decay, W, J_list]),\n",
    "                                                         np.concatenate([Decay_uni_G,W_uni_G, J_uni_G])))\n",
    "\n",
    "    errors_fisher.append(rep_error_fisher)\n",
    "    errors_local.append(rep_error_local)\n",
    "    uniform_local.append(rep_error_uniform)\n",
    "    uniform_local_G.append(rep_error_uniform_G)"
   ],
   "metadata": {
    "collapsed": false
   }
  },
  {
   "cell_type": "code",
   "execution_count": 4,
   "outputs": [],
   "source": [
    "k=5\n",
    "errors_fisher_reshaped = list(map(list, zip(*errors_fisher)))\n",
    "errors_local_reshaped = list(map(list, zip(*errors_local)))\n",
    "errors_uniform_reshaped = list(map(list, zip(*uniform_local)))\n",
    "errors_uniform_reshaped_G = list(map(list, zip(*uniform_local_G)))\n",
    "\n",
    "errors_fisher_median, errors_fisher_std = estimator.mean_of_medians(errors_fisher_reshaped, k)\n",
    "errors_local_median,errors_local_std  = estimator.mean_of_medians(errors_local_reshaped, k)\n",
    "errors_uniform_median, errors_uniform_std = estimator.mean_of_medians(errors_uniform_reshaped, k)\n",
    "errors_uniform_median_G, errors_uniform_std_G = estimator.mean_of_medians(errors_uniform_reshaped_G, k)"
   ],
   "metadata": {
    "collapsed": false
   }
  },
  {
   "cell_type": "code",
   "execution_count": 7,
   "outputs": [
    {
     "data": {
      "text/plain": "<matplotlib.legend.Legend at 0x200545a5bd0>"
     },
     "execution_count": 7,
     "metadata": {},
     "output_type": "execute_result"
    },
    {
     "data": {
      "text/plain": "<Figure size 1000x400 with 1 Axes>",
      "image/png": "[encoded data removed]"
     },
     "metadata": {},
     "output_type": "display_data"
    }
   ],
   "source": [
    "\n",
    "import matplotlib.pyplot as plt\n",
    "\n",
    "plt.figure(figsize=(10, 4))\n",
    "plt.rcParams['text.usetex'] = True\n",
    "font = {'family': 'normal',\n",
    "        'weight': 'bold',\n",
    "        'size': 14}# Adjust the figure size to make the plot longer\n",
    "\n",
    "\n",
    "# plt.rc('font', **font)\n",
    "# plt.scatter(shots, 100 * np.array(errors_uniform_median), color='blue', s=20,\n",
    "#          label='X at 20 fixed times')\n",
    "# plt.scatter(shots, 100 * np.array(errors_fisher_median), color='red', s=20,\n",
    "#          label='X at 2 non-optimal times')\n",
    "# plt.scatter(shots, 100 * np.array(errors_local_median), color='green', s=20,\n",
    "#          label='X, Y at non-optimal time')\n",
    "\n",
    "\n",
    "\n",
    "plt.errorbar(shots, 100*np.array(errors_uniform_median), yerr=100*np.array(errors_uniform_std), fmt='o', capsize=5, ecolor='lightblue', elinewidth=3, markerfacecolor='blue', markersize=5, label='Uniformly spread out X,Y measurements')\n",
    "\n",
    "plt.errorbar(shots, 100*np.array(errors_fisher_median), yerr=100*np.array(errors_fisher_std), fmt='o', capsize=5, ecolor='peachpuff', elinewidth=3, color='red', markersize=5, label='X at 2 optimal times', alpha=0.7)\n",
    "\n",
    "plt.errorbar(shots, 100*np.array(errors_local_median), yerr=100*np.array(errors_local_std), fmt='o', capsize=5, ecolor='lightgreen', elinewidth=3, color='green', markersize=5, label='X, Y at optimal time', alpha=0.7)\n",
    "\n",
    "plt.errorbar(shots, 100*np.array(errors_uniform_median_G), yerr=100*np.array(errors_uniform_std_G), fmt='o', capsize=5, ecolor='magenta', elinewidth=3, markerfacecolor='blue', markersize=5, label='Gaussian spread out X,Y measurements', alpha=0.7)\n",
    "# Shots_2q = [100, 1000, 10000, 100000, 1000000]\n",
    "# Errors_2q = [50.530481, 18.415648, 7.961954, 6.401243, 6.696693]\n",
    "# plt.plot(Shots_2q, Errors_2q, linestyle='', marker='o', color='blue', markersize=5, label='2 qubits')\n",
    "# shots3q=[10000]\n",
    "# errors3q=[5.809173305]\n",
    "# plt.plot(shots3q, errors3q, linestyle='', marker='o', color='red', markersize=5, label='More data')\n",
    "# plt.title(f'Error vs shots W={W} Decay={Decay} ')\n",
    "# plt.title(f'{n} qubits')\n",
    "plt.plot(shots, 100*np.e/ np.sqrt(shots), '-', label='Cramer-Rao bound', color = 'orange')\n",
    "plt.xlabel('Shots')\n",
    "plt.ylabel('Mean error (\\%)')\n",
    "plt.yscale('log')\n",
    "plt.xscale('log')\n",
    "# plt.grid()\n",
    "# plt.ylim(0.1, 20)\n",
    "plt.rcParams['lines.markersize'] = 10\n",
    "# Example size for markers\n",
    "plt.rcParams['font.size'] = 12         # Example size for font\n",
    "plt.legend()"
   ],
   "metadata": {
    "collapsed": false
   }
  },
  {
   "cell_type": "code",
   "execution_count": 38,
   "outputs": [],
   "source": [],
   "metadata": {
    "collapsed": false
   }
  },
  {
   "cell_type": "code",
   "execution_count": 29,
   "outputs": [],
   "source": [
    "import pandas as pd\n",
    "\n",
    "results_df = pd.DataFrame({\n",
    "    \"shots\": shots,\n",
    "    \"errors_fisher_median\": errors_fisher_median,\n",
    "    \"errors_fisher_std\": errors_fisher_std,\n",
    "    \"errors_local_median\": errors_local_median,\n",
    "    \"errors_local_std\": errors_local_std,\n",
    "    \"errors_uniform_median\": errors_uniform_median,\n",
    "    \"errors_uniform_std\": errors_uniform_std\n",
    "})\n",
    "\n",
    "# Saving to Excel\n",
    "results_df.to_excel('C:\\Projects\\Crosstalk\\data_for_paper/errors_optimal.xlsx', index=False)"
   ],
   "metadata": {
    "collapsed": false
   }
  },
  {
   "cell_type": "code",
   "execution_count": null,
   "outputs": [],
   "source": [],
   "metadata": {
    "collapsed": false,
    "pycharm": {
     "is_executing": true
    }
   }
  },
  {
   "cell_type": "code",
   "execution_count": 5,
   "outputs": [],
   "source": [],
   "metadata": {
    "collapsed": false
   }
  }
 ],
 "metadata": {
  "kernelspec": {
   "display_name": "Python 3",
   "language": "python",
   "name": "python3"
  },
  "language_info": {
   "codemirror_mode": {
    "name": "ipython",
    "version": 2
   },
   "file_extension": ".py",
   "mimetype": "text/x-python",
   "name": "python",
   "nbconvert_exporter": "python",
   "pygments_lexer": "ipython2",
   "version": "2.7.6"
  }
 },
 "nbformat": 4,
 "nbformat_minor": 0
}
