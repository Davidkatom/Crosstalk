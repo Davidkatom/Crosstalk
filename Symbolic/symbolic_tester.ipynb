{
 "cells": [
  {
   "cell_type": "code",
   "execution_count": 1,
   "outputs": [],
   "source": [
    "import importlib\n",
    "from sympy import init_printing\n",
    "import symbolic_evolution\n",
    "import symbolic_fisher\n"
   ],
   "metadata": {
    "collapsed": false
   }
  },
  {
   "cell_type": "code",
   "execution_count": 2,
   "outputs": [
    {
     "data": {
      "text/plain": "<module 'symbolic_evolution' from 'C:\\\\Projects\\\\Crosstalk\\\\Symbolic\\\\symbolic_evolution.py'>"
     },
     "execution_count": 2,
     "metadata": {},
     "output_type": "execute_result"
    }
   ],
   "source": [
    "importlib.reload(symbolic_fisher)\n",
    "importlib.reload(symbolic_evolution)\n"
   ],
   "metadata": {
    "collapsed": false
   }
  },
  {
   "cell_type": "code",
   "execution_count": 119,
   "outputs": [],
   "source": [
    "from Symbolic.symbolic_evolution import expectation_value\n",
    "from symbolic_evolution import zero_state, evolve_state, H, get_expectation_values_exp, apply_operator, random_state, \\\n",
    "    Ry, Rz, Rx, Pauli\n",
    "from sympy import init_printing, Matrix\n",
    "from sympy.physics.quantum import TensorProduct\n",
    "\n",
    "import numpy as np\n",
    "\n",
    "init_printing(use_latex='mathjax', pretty_print=True, wrap_line=True)\n",
    "\n",
    "n = 2\n",
    "rotationY = [0, 0.2]\n",
    "# rotationZ = [0*np.pi, 0.5*np.pi, 0.5*np.pi]\n",
    "state = zero_state(n)\n",
    "# state = random_state(state)\n",
    "# state = apply_operator(state, Ry(rotationY))\n",
    "# state = apply_operator(state, Rx(rotationZ))\n",
    "\n",
    "# state = apply_operator(state, H(n))\n",
    "\n",
    "state = apply_operator(state, TensorProduct(H(1), Pauli(\"X\")))\n",
    "state = apply_operator(state, Ry(rotationY))\n"
   ],
   "metadata": {
    "collapsed": false
   }
  },
  {
   "cell_type": "code",
   "execution_count": 120,
   "outputs": [
    {
     "data": {
      "text/plain": "⎡-0.0499167083234141⋅√2⎤\n⎢                      ⎥\n⎢ 0.497502082639013⋅√2 ⎥\n⎢                      ⎥\n⎢-0.0499167083234141⋅√2⎥\n⎢                      ⎥\n⎣ 0.497502082639013⋅√2 ⎦",
      "text/latex": "$\\displaystyle \\left[\\begin{matrix}- 0.0499167083234141 \\sqrt{2}\\\\0.497502082639013 \\sqrt{2}\\\\- 0.0499167083234141 \\sqrt{2}\\\\0.497502082639013 \\sqrt{2}\\end{matrix}\\right]$"
     },
     "execution_count": 120,
     "metadata": {},
     "output_type": "execute_result"
    }
   ],
   "source": [
    "state"
   ],
   "metadata": {
    "collapsed": false
   }
  },
  {
   "cell_type": "code",
   "execution_count": 121,
   "outputs": [],
   "source": [
    "# IXXI = expectation_value(state, \"IXXI\", decay=False)\n",
    "# IXII = expectation_value(state, \"IXII\", decay=False)\n",
    "# IIXI = expectation_value(state, \"IIXI\", decay=False)\n",
    "# noMeans = 2*IXXI - IXII - IIXI\n",
    "# XII = expectation_value(state, \"XII\")\n",
    "# IXI = expectation_value(state, \"IXI\")\n",
    "# IIX = expectation_value(state, \"IIX\")\n",
    "# XXI = expectation_value(state, \"XXI\")\n",
    "# IXX = expectation_value(state, \"IXX\")\n",
    "# XXX = expectation_value(state, \"XXX\")\n",
    "state = evolve_state(state)\n",
    "XI = expectation_value(state, \"XI\")"
   ],
   "metadata": {
    "collapsed": false
   }
  },
  {
   "cell_type": "code",
   "execution_count": 122,
   "outputs": [
    {
     "data": {
      "text/plain": "0.00996671107937919⋅cos(t⋅ω₀) + 0.990033288920621⋅cos(t⋅(j₀ + ω₀))",
      "text/latex": "$\\displaystyle 0.00996671107937919 \\cos{\\left(t ω_{0} \\right)} + 0.990033288920621 \\cos{\\left(t \\left(j_{0} + ω_{0}\\right) \\right)}$"
     },
     "execution_count": 122,
     "metadata": {},
     "output_type": "execute_result"
    }
   ],
   "source": [
    "XI"
   ],
   "metadata": {
    "collapsed": false
   }
  },
  {
   "cell_type": "code",
   "execution_count": 16,
   "outputs": [
    {
     "data": {
      "text/plain": "                                                                           -a₁⋅t\n(cos(t⋅ω₁) + cos(t⋅(j₀ + ω₁)) + cos(t⋅(j₁ + ω₁)) + cos(t⋅(j₀ + j₁ + ω₁)))⋅ℯ     \n────────────────────────────────────────────────────────────────────────────────\n                                       4                                        ",
      "text/latex": "$\\displaystyle \\frac{\\left(\\cos{\\left(t ω_{1} \\right)} + \\cos{\\left(t \\left(j_{0} + ω_{1}\\right) \\right)} + \\cos{\\left(t \\left(j_{1} + ω_{1}\\right) \\right)} + \\cos{\\left(t \\left(j_{0} + j_{1} + ω_{1}\\right) \\right)}\\right) e^{- a_{1} t}}{4}$"
     },
     "execution_count": 16,
     "metadata": {},
     "output_type": "execute_result"
    }
   ],
   "source": [
    "IXI"
   ],
   "metadata": {
    "collapsed": false
   }
  },
  {
   "cell_type": "code",
   "execution_count": 15,
   "outputs": [
    {
     "data": {
      "text/plain": "                                -a₀⋅t\n(cos(t⋅ω₀) + cos(t⋅(j₀ + ω₀)))⋅ℯ     \n─────────────────────────────────────\n                  2                  ",
      "text/latex": "$\\displaystyle \\frac{\\left(\\cos{\\left(t ω_{0} \\right)} + \\cos{\\left(t \\left(j_{0} + ω_{0}\\right) \\right)}\\right) e^{- a_{0} t}}{2}$"
     },
     "execution_count": 15,
     "metadata": {},
     "output_type": "execute_result"
    }
   ],
   "source": [
    "XII\n"
   ],
   "metadata": {
    "collapsed": false
   }
  },
  {
   "cell_type": "code",
   "execution_count": 17,
   "outputs": [
    {
     "data": {
      "text/plain": "                                -a₂⋅t\n(cos(t⋅ω₂) + cos(t⋅(j₁ + ω₂)))⋅ℯ     \n─────────────────────────────────────\n                  2                  ",
      "text/latex": "$\\displaystyle \\frac{\\left(\\cos{\\left(t ω_{2} \\right)} + \\cos{\\left(t \\left(j_{1} + ω_{2}\\right) \\right)}\\right) e^{- a_{2} t}}{2}$"
     },
     "execution_count": 17,
     "metadata": {},
     "output_type": "execute_result"
    }
   ],
   "source": [
    "IIX"
   ],
   "metadata": {
    "collapsed": false
   }
  },
  {
   "cell_type": "code",
   "execution_count": 18,
   "outputs": [
    {
     "data": {
      "text/plain": "                                                                               ↪\n(cos(t⋅(ω₀ - ω₁)) + cos(t⋅(j₀ + ω₀ + ω₁)) + cos(t⋅(j₁ - ω₀ + ω₁)) + cos(t⋅(j₀  ↪\n────────────────────────────────────────────────────────────────────────────── ↪\n                                                      4                        ↪\n\n↪                    -t⋅(a₀ + a₁)\n↪ + j₁ + ω₀ + ω₁)))⋅ℯ            \n↪ ───────────────────────────────\n↪                                ",
      "text/latex": "$\\displaystyle \\frac{\\left(\\cos{\\left(t \\left(ω_{0} - ω_{1}\\right) \\right)} + \\cos{\\left(t \\left(j_{0} + ω_{0} + ω_{1}\\right) \\right)} + \\cos{\\left(t \\left(j_{1} - ω_{0} + ω_{1}\\right) \\right)} + \\cos{\\left(t \\left(j_{0} + j_{1} + ω_{0} + ω_{1}\\right) \\right)}\\right) e^{- t \\left(a_{0} + a_{1}\\right)}}{4}$"
     },
     "execution_count": 18,
     "metadata": {},
     "output_type": "execute_result"
    }
   ],
   "source": [
    "XXI"
   ],
   "metadata": {
    "collapsed": false
   }
  },
  {
   "cell_type": "code",
   "execution_count": 19,
   "outputs": [
    {
     "data": {
      "text/plain": "                                                                               ↪\n(cos(t⋅(ω₁ - ω₂)) + cos(t⋅(j₀ + ω₁ - ω₂)) + cos(t⋅(j₁ + ω₁ + ω₂)) + cos(t⋅(j₀  ↪\n────────────────────────────────────────────────────────────────────────────── ↪\n                                                      4                        ↪\n\n↪                    -t⋅(a₁ + a₂)\n↪ + j₁ + ω₁ + ω₂)))⋅ℯ            \n↪ ───────────────────────────────\n↪                                ",
      "text/latex": "$\\displaystyle \\frac{\\left(\\cos{\\left(t \\left(ω_{1} - ω_{2}\\right) \\right)} + \\cos{\\left(t \\left(j_{0} + ω_{1} - ω_{2}\\right) \\right)} + \\cos{\\left(t \\left(j_{1} + ω_{1} + ω_{2}\\right) \\right)} + \\cos{\\left(t \\left(j_{0} + j_{1} + ω_{1} + ω_{2}\\right) \\right)}\\right) e^{- t \\left(a_{1} + a_{2}\\right)}}{4}$"
     },
     "execution_count": 19,
     "metadata": {},
     "output_type": "execute_result"
    }
   ],
   "source": [
    "IXX"
   ],
   "metadata": {
    "collapsed": false
   }
  },
  {
   "cell_type": "code",
   "execution_count": 20,
   "outputs": [
    {
     "data": {
      "text/plain": "                                                                               ↪\n(cos(t⋅(ω₀ - ω₁ + ω₂)) + cos(t⋅(j₀ + ω₀ + ω₁ - ω₂)) + cos(t⋅(j₁ - ω₀ + ω₁ + ω₂ ↪\n────────────────────────────────────────────────────────────────────────────── ↪\n                                                                  4            ↪\n\n↪                                        -t⋅(a₀ + a₁ + a₂)\n↪ )) + cos(t⋅(j₀ + j₁ + ω₀ + ω₁ + ω₂)))⋅ℯ                 \n↪ ────────────────────────────────────────────────────────\n↪                                                         ",
      "text/latex": "$\\displaystyle \\frac{\\left(\\cos{\\left(t \\left(ω_{0} - ω_{1} + ω_{2}\\right) \\right)} + \\cos{\\left(t \\left(j_{0} + ω_{0} + ω_{1} - ω_{2}\\right) \\right)} + \\cos{\\left(t \\left(j_{1} - ω_{0} + ω_{1} + ω_{2}\\right) \\right)} + \\cos{\\left(t \\left(j_{0} + j_{1} + ω_{0} + ω_{1} + ω_{2}\\right) \\right)}\\right) e^{- t \\left(a_{0} + a_{1} + a_{2}\\right)}}{4}$"
     },
     "execution_count": 20,
     "metadata": {},
     "output_type": "execute_result"
    }
   ],
   "source": [
    "XXX"
   ],
   "metadata": {
    "collapsed": false
   }
  },
  {
   "cell_type": "code",
   "execution_count": 21,
   "metadata": {
    "collapsed": true
   },
   "outputs": [
    {
     "name": "stdout",
     "output_type": "stream",
     "text": [
      "[ω0, t, a0]\n"
     ]
    },
    {
     "data": {
      "text/plain": "⎡                       3                                                   3  ↪\n⎢                      ___                                                 ___ ↪\n⎢                      ╲                                                   ╲   ↪\n⎢                       ╲    2  -2⋅a₀⋅t    2                                ╲  ↪\n⎢                       ╱   t ⋅ℯ       ⋅sin (t⋅ω₀)                          ╱  ↪\n⎢                      ╱                                                   ╱   ↪\n⎢                      ‾‾‾                                                 ‾‾‾ ↪\n⎢                     t = 0                                               t =  ↪\n⎢                                                                              ↪\n⎢                                                                              ↪\n⎢  3                                                                           ↪\n⎢ ___                                                                          ↪\n⎢ ╲                                                                            ↪\n⎢  ╲      ⎛      -a₀⋅t                 -a₀⋅t          ⎞  -a₀⋅t                 ↪\n⎢  ╱   -t⋅⎝- a₀⋅ℯ     ⋅cos(t⋅ω₀) - ω₀⋅ℯ     ⋅sin(t⋅ω₀)⎠⋅ℯ     ⋅sin(t⋅ω₀)       ↪\n⎢ ╱                                                                            ↪\n⎢ ‾‾‾                                                                          ↪\n⎢t = 0                                                                         ↪\n⎣                                                                              ↪\n\n↪                                                                    ⎤\n↪                                                                    ⎥\n↪                                                                    ⎥\n↪      ⎛      -a₀⋅t                 -a₀⋅t          ⎞  -a₀⋅t          ⎥\n↪   -t⋅⎝- a₀⋅ℯ     ⋅cos(t⋅ω₀) - ω₀⋅ℯ     ⋅sin(t⋅ω₀)⎠⋅ℯ     ⋅sin(t⋅ω₀)⎥\n↪                                                                    ⎥\n↪                                                                    ⎥\n↪ 0                                                                  ⎥\n↪                                                                    ⎥\n↪       3                                                            ⎥\n↪      ____                                                          ⎥\n↪      ╲                                                             ⎥\n↪       ╲                                                            ⎥\n↪        ╲                                                2          ⎥\n↪        ╱   ⎛      -a₀⋅t                 -a₀⋅t          ⎞           ⎥\n↪       ╱    ⎝- a₀⋅ℯ     ⋅cos(t⋅ω₀) - ω₀⋅ℯ     ⋅sin(t⋅ω₀)⎠           ⎥\n↪      ╱                                                             ⎥\n↪      ‾‾‾‾                                                          ⎥\n↪      t = 0                                                         ⎦",
      "text/latex": "$\\displaystyle \\left[\\begin{matrix}\\sum_{t=0}^{3} t^{2} e^{- 2 a_{0} t} \\sin^{2}{\\left(t ω_{0} \\right)} & \\sum_{t=0}^{3} - t \\left(- a_{0} e^{- a_{0} t} \\cos{\\left(t ω_{0} \\right)} - ω_{0} e^{- a_{0} t} \\sin{\\left(t ω_{0} \\right)}\\right) e^{- a_{0} t} \\sin{\\left(t ω_{0} \\right)}\\\\\\sum_{t=0}^{3} - t \\left(- a_{0} e^{- a_{0} t} \\cos{\\left(t ω_{0} \\right)} - ω_{0} e^{- a_{0} t} \\sin{\\left(t ω_{0} \\right)}\\right) e^{- a_{0} t} \\sin{\\left(t ω_{0} \\right)} & \\sum_{t=0}^{3} \\left(- a_{0} e^{- a_{0} t} \\cos{\\left(t ω_{0} \\right)} - ω_{0} e^{- a_{0} t} \\sin{\\left(t ω_{0} \\right)}\\right)^{2}\\end{matrix}\\right]$"
     },
     "execution_count": 21,
     "metadata": {},
     "output_type": "execute_result"
    }
   ],
   "source": [
    "from Symbolic.symbolic_fisher import gaussian_fisher_matrix\n",
    "\n",
    "n = 3\n",
    "init_printing(use_latex='mathjax', pretty_print=True, wrap_line=True)\n",
    "function = symbolic_evolution.get_expectation_values_exp(n, 0)[0]\n",
    "function = symbolic_evolution.set_parameters(function, J=[0] * n)\n",
    "matrix = gaussian_fisher_matrix(function, 3)\n",
    "matrix"
   ]
  },
  {
   "cell_type": "code",
   "execution_count": 9,
   "outputs": [],
   "source": [
    "from qutip_qip.operations import hadamard_transform, snot, phasegate\n",
    "\n",
    "\n",
    "# Function to create the initial state based on a string\n",
    "def create_state(state_string):\n",
    "    state_list = []\n",
    "    for c in state_string:\n",
    "        if c == \"0\":\n",
    "            state_list.append(basis(2, 0))\n",
    "        elif c == \"1\":\n",
    "            state_list.append(basis(2, 1))\n",
    "        elif c == \"+\":\n",
    "            plus_state = (basis(2, 0) + basis(2, 1)).unit()\n",
    "            state_list.append(plus_state)\n",
    "        else:\n",
    "            raise ValueError(f\"Invalid character '{c}' in state string. Allowed characters are '0', '1', '+'.\")\n",
    "    return tensor(state_list)\n",
    "\n",
    "\n",
    "def sample_measurements(rho, num_shots, measurement_basis):\n",
    "    \"\"\"\n",
    "    Simulates measurements on the density matrix rho in the specified measurement basis and returns counts of outcomes.\n",
    "\n",
    "    Parameters:\n",
    "    rho (Qobj): Density matrix of the system.\n",
    "    num_shots (int): Number of measurement shots.\n",
    "    measurement_basis (str): String specifying the measurement basis for each qubit (e.g., 'XXZI').\n",
    "\n",
    "    Returns:\n",
    "    counts (dict): Dictionary with measurement outcomes as keys and counts as values.\n",
    "    \"\"\"\n",
    "    N = int(np.log2(rho.shape[0]))  # Number of qubits\n",
    "    if len(measurement_basis) != N:\n",
    "        raise ValueError(\"Measurement basis string length must match the number of qubits.\")\n",
    "\n",
    "    # Apply rotation operators to rho based on the measurement basis\n",
    "    rotation_ops = []\n",
    "    measured_qubits = []\n",
    "    for i, basis_char in enumerate(measurement_basis):\n",
    "        if basis_char == 'X':\n",
    "            # Rotate to X-basis using Hadamard gate\n",
    "            rotation_ops.append(hadamard_transform(1))\n",
    "            measured_qubits.append(i)\n",
    "        elif basis_char == 'Y':\n",
    "            # Rotate to Y-basis using S† H (where S† is the adjoint of the phase gate)\n",
    "            S_dag = phasegate(-np.pi / 2)\n",
    "            H = snot()\n",
    "            rotation_ops.append(H * S_dag)\n",
    "            measured_qubits.append(i)\n",
    "        elif basis_char == 'Z':\n",
    "            # No rotation needed for Z-basis measurement\n",
    "            rotation_ops.append(qeye(2))\n",
    "            measured_qubits.append(i)\n",
    "        elif basis_char == 'I':\n",
    "            # Identity operator; qubit is not measured\n",
    "            rotation_ops.append(qeye(2))\n",
    "        else:\n",
    "            raise ValueError(\n",
    "                f\"Invalid character '{basis_char}' in measurement basis. Allowed characters are 'X', 'Y', 'Z', 'I'.\")\n",
    "\n",
    "    # Build the total rotation operator\n",
    "    U = tensor(rotation_ops)\n",
    "\n",
    "    # Rotate the density matrix to the measurement basis\n",
    "    rho_rotated = U * rho * U.dag()\n",
    "    rho_rotated = Qobj(rho_rotated.full().reshape(4, 4), dims=[[4], [4]])\n",
    "\n",
    "    # Trace out qubits that are not measured\n",
    "    if len(measured_qubits) == 0:\n",
    "        raise ValueError(\"At least one qubit must be measured.\")\n",
    "\n",
    "    # Generate the list of computational basis states for the measured qubits\n",
    "    num_measured = len(measured_qubits)\n",
    "    basis_states = []\n",
    "    for i in range(2 ** num_measured):\n",
    "        state = basis(2 ** num_measured, i)\n",
    "        basis_states.append(state)\n",
    "\n",
    "    # Calculate the probabilities for each basis state\n",
    "    probs = []\n",
    "    for state in basis_states:\n",
    "        prob = (state.dag() * rho_rotated * state).real\n",
    "        probs.append(prob)\n",
    "\n",
    "    # Normalize probabilities in case of numerical inaccuracies\n",
    "    probs = np.array(probs)\n",
    "    probs /= probs.sum()\n",
    "\n",
    "    # Generate measurement outcomes\n",
    "    outcomes = np.random.choice(len(basis_states), size=num_shots, p=probs)\n",
    "\n",
    "    # Convert outcomes to bit strings\n",
    "    outcome_strings = [format(i, '0{}b'.format(num_measured)) for i in outcomes]\n",
    "\n",
    "    # Map measured bits back to the full qubit system\n",
    "    full_outcome_strings = []\n",
    "    for bits in outcome_strings:\n",
    "        full_bits = list('0' * N)\n",
    "        for idx, qubit_idx in enumerate(measured_qubits):\n",
    "            full_bits[qubit_idx] = bits[idx]\n",
    "        full_outcome_strings.append(''.join(full_bits))\n",
    "\n",
    "    # Count the occurrences\n",
    "    counts = {}\n",
    "    for outcome in full_outcome_strings:\n",
    "        counts[outcome] = counts.get(outcome, 0) + 1\n",
    "\n",
    "    return counts\n",
    "\n",
    "\n",
    "def calculate_expectation(counts, pauli_string):\n",
    "    \"\"\"\n",
    "    Calculates the expectation value of the Pauli operator specified by pauli_string based on measurement counts.\n",
    "\n",
    "    Parameters:\n",
    "    counts (dict): Dictionary with measurement outcomes as keys and counts as values.\n",
    "    pauli_string (str): String specifying the Pauli operator for each qubit (e.g., 'XXZI').\n",
    "\n",
    "    Returns:\n",
    "    expectation_value (float): The expectation value of the specified Pauli operator.\n",
    "    \"\"\"\n",
    "    N = len(pauli_string)\n",
    "    total_shots = sum(counts.values())\n",
    "    expectation = 0.0\n",
    "\n",
    "    # Map measurement outcomes to eigenvalues\n",
    "    for outcome, count in counts.items():\n",
    "        eigenvalue = 1\n",
    "        for i, pauli in enumerate(pauli_string):\n",
    "            bit = int(outcome[i])\n",
    "            if pauli in ('X', 'Y', 'Z'):\n",
    "                if bit == 0:\n",
    "                    eigenval = 1\n",
    "                else:\n",
    "                    eigenval = -1\n",
    "                eigenvalue *= eigenval\n",
    "            elif pauli == 'I':\n",
    "                eigenvalue *= 1  # Identity operator has eigenvalue 1\n",
    "        expectation += eigenvalue * count\n",
    "\n",
    "    expectation_value = expectation / total_shots\n",
    "    return expectation_value"
   ],
   "metadata": {
    "collapsed": false
   }
  },
  {
   "cell_type": "code",
   "execution_count": 144,
   "outputs": [
    {
     "data": {
      "text/plain": "<Figure size 1000x600 with 1 Axes>",
      "image/png": "[encoded data removed]"
     },
     "metadata": {},
     "output_type": "display_data"
    }
   ],
   "source": [
    "import random\n",
    "import numpy as np\n",
    "import matplotlib.pyplot as plt\n",
    "from qutip import *\n",
    "\n",
    "# Number of qubits\n",
    "N = 2  # You can adjust this number as needed\n",
    "\n",
    "W = [random.gauss(0, 1) for _ in range(N)]\n",
    "J = [random.gauss(0, 1) for _ in range(N - 1)]\n",
    "W = [0, 0]\n",
    "J = [1]\n",
    "# Define Gamma rates for each qubit\n",
    "# Gamma_1_list = [0.3 for _ in range(N)]   # For sigma_+\n",
    "Gamma_1_list = [0.0, 0.9]\n",
    "Gamma_2_list = [0.000 for _ in range(N)]  # For sigma_-\n",
    "Gamma_phi_list = [0 for _ in range(N)]  # For sigma_z\n",
    "\n",
    "# Time evolution parameters\n",
    "t_start = 0.0\n",
    "t_end = 9 * np.pi\n",
    "num_points = 3 * 100  # Number of time points\n",
    "times = np.linspace(t_start, t_end, num_points)\n",
    "\n",
    "# Initial state: tensor product of zero states\n",
    "psi = create_state(\"+1\")\n",
    "\n",
    "# Define omega_i for each qubit\n",
    "# omega_list = [1.0 for _ in range(N)]  # Example values; replace with actual values\n",
    "\n",
    "# Define J_{i,j} for each qubit pair\n",
    "J_list = {}\n",
    "for i in range(N - 1):  # Only connect to the next neighbor\n",
    "    J_list[(i, i + 1)] = J[i]  # Example coupling strength; replace with actual values\n",
    "\n",
    "# Construct the Hamiltonian H0\n",
    "H = 0\n",
    "identity = tensor([qeye(2) for _ in range(N)])\n",
    "for i in range(N):\n",
    "    Z_i = tensor([sigmaz() if n == i else qeye(2) for n in range(N)])\n",
    "    H += 0.5 * W[i] * (Z_i - identity)\n",
    "\n",
    "for (i, j), J_ij in J_list.items():\n",
    "    Z_i = tensor([sigmaz() if n == i else qeye(2) for n in range(N)])\n",
    "    Z_j = tensor([sigmaz() if n == j else qeye(2) for n in range(N)])\n",
    "    H += (1 / 8) * J_ij * (Z_i - identity) * (Z_j - identity)\n",
    "\n",
    "# Define collapse operators\n",
    "c_ops = []\n",
    "for i in range(N):\n",
    "    # sigma_+ operator on qubit i\n",
    "    sp_i = tensor([sigmap() if n == i else qeye(2) for n in range(N)])\n",
    "    # sigma_- operator on qubit i\n",
    "    sm_i = tensor([sigmam() if n == i else qeye(2) for n in range(N)])\n",
    "    # sigma_z operator on qubit i\n",
    "    sz_i = tensor([sigmaz() if n == i else qeye(2) for n in range(N)])\n",
    "\n",
    "    if Gamma_1_list[i] != 0:\n",
    "        c_ops.append(np.sqrt(Gamma_1_list[i]) * sp_i)\n",
    "    if Gamma_2_list[i] != 0:\n",
    "        c_ops.append(np.sqrt(Gamma_2_list[i]) * sm_i)\n",
    "    if Gamma_phi_list[i] != 0:\n",
    "        c_ops.append(np.sqrt(Gamma_phi_list[i]) * sz_i)\n",
    "\n",
    "# Time evolution\n",
    "result = mesolve(H, psi, times, c_ops, [])\n",
    "\n",
    "# Calculate expectation values of X for each qubit\n",
    "expectations = []\n",
    "for i in range(N):\n",
    "    X_i = tensor([sigmax() if n == i else qeye(2) for n in range(N)])\n",
    "    exp_X_i = expect(X_i, result.states)\n",
    "    expectations.append(exp_X_i)\n",
    "\n",
    "Counts = []\n",
    "for i in range(len(times)):\n",
    "    # print(result.states[i].data.todense())\n",
    "    counts = sample_measurements(result.states[i], 100, \"XX\")\n",
    "    Counts.append(counts)\n",
    "\n",
    "X = []\n",
    "for c in Counts:\n",
    "    X.append(calculate_expectation(c, \"XI\"))\n",
    "# Plotting the expectation values\n",
    "plt.figure(figsize=(10, 6))\n",
    "for i, exp_X_i in enumerate(expectations):\n",
    "    plt.plot(times, exp_X_i, label=f'Qubit {i}')\n",
    "# plt.plot(times,np.cos(W[0]*times), label=f'Analytical Qubit {0}')\n",
    "plt.scatter(times, X, label=f'XI')\n",
    "\n",
    "plt.xlabel('Time')\n",
    "plt.ylabel('Expectation value of X')\n",
    "plt.title('Expectation value of X over time for each qubit')\n",
    "plt.legend()\n",
    "plt.grid(True)\n",
    "plt.show()\n"
   ],
   "metadata": {
    "collapsed": false
   }
  },
  {
   "cell_type": "code",
   "execution_count": 135,
   "outputs": [
    {
     "data": {
      "text/plain": "(0.0, 4.0)",
      "text/latex": "$\\displaystyle \\left( 0.0, \\  4.0\\right)$"
     },
     "execution_count": 135,
     "metadata": {},
     "output_type": "execute_result"
    },
    {
     "data": {
      "text/plain": "<Figure size 1000x600 with 1 Axes>",
      "image/png": "[encoded data removed]"
     },
     "metadata": {},
     "output_type": "display_data"
    }
   ],
   "source": [
    "import numpy as np\n",
    "\n",
    "# Perform the Fourier Transform\n",
    "exp_X_i_fft = np.fft.fft(expectations[0])\n",
    "\n",
    "# Get the frequencies corresponding to the Fourier Transform coefficients\n",
    "frequencies = np.fft.fftfreq(len(expectations[0]), times[1] - times[0])\n",
    "\n",
    "# Plot the absolute value of the Fourier Transform\n",
    "plt.figure(figsize=(10, 6))\n",
    "plt.plot(frequencies, np.abs(exp_X_i_fft))\n",
    "plt.xlabel('Frequency')\n",
    "plt.ylabel('Magnitude')\n",
    "plt.title('Fourier Transform of exp_X_i')\n",
    "plt.grid(True)\n",
    "plt.xlim(0, 4)\n"
   ],
   "metadata": {
    "collapsed": false
   }
  },
  {
   "cell_type": "code",
   "execution_count": null,
   "outputs": [],
   "source": [
    "from Ramsey_ExperimentV3 import *\n",
    "\n",
    "N = 2\n",
    "W = [0, 0]\n",
    "J_list = [0]\n",
    "J = {}\n",
    "for i in range(N - 1):  # Only connect to the next neighbor\n",
    "    J_list[(i, i + 1)] = J[i]\n",
    "\n",
    "t = 0.5\n"
   ],
   "metadata": {
    "collapsed": false
   }
  },
  {
   "cell_type": "code",
   "execution_count": 2,
   "outputs": [],
   "source": [
    "from Ramsey_ExperimentV3 import *\n",
    "T = np.pi\n",
    "n = 2\n",
    "total_shots = 100000\n",
    "delay = np.linspace(0, T, 40)\n",
    "# delay = np.array([0.3])\n",
    "W = [random.gauss(0, 0) for _ in range(n)]\n",
    "J_list = [random.gauss(1, 0) for _ in range(n - 1)]\n",
    "\n",
    "W = [0,0]\n",
    "J_list = [1]\n",
    "L = [0.0 for _ in range(n)]  # For sigma_z\n",
    "\n",
    "J = {}\n",
    "for i in range(n - 1):  # Only connect to the next neighbor\n",
    "    J[(i, i + 1)] = J_list[i]\n",
    "\n",
    "Gamma_1_list = [0.0001 for _ in range(n)]\n",
    "Gamma_2_list = [0.0001 for _ in range(n)]  # For sigma_-\n",
    "\n",
    "\n",
    "\n",
    "batch_x_det, batch_y_det, batch_x_cross, batch_y_cross = ramsey_local(n,total_shots,delay,W,J, Gamma_1_list, Gamma_2_list, L)\n",
    "exp_det_x = np.transpose(batch_x_det.zi).tolist()\n",
    "exp_det_y = np.transpose(batch_y_det.zi).tolist()\n",
    "exp_cross_x = np.transpose(batch_x_cross.zi).tolist()\n",
    "exp_cross_y = np.transpose(batch_y_cross.zi).tolist()"
   ],
   "metadata": {
    "collapsed": false
   }
  },
  {
   "cell_type": "code",
   "execution_count": 3,
   "outputs": [
    {
     "data": {
      "text/plain": "[<matplotlib.lines.Line2D at 0x1ffd2883910>]"
     },
     "execution_count": 3,
     "metadata": {},
     "output_type": "execute_result"
    },
    {
     "data": {
      "text/plain": "<Figure size 640x480 with 1 Axes>",
      "image/png": "[encoded data removed]"
     },
     "metadata": {},
     "output_type": "display_data"
    }
   ],
   "source": [
    "k = 0\n",
    "t = np.linspace(0, T, 40)\n",
    "plt.scatter(delay, exp_cross_x[k])\n",
    "# plt.plot(T, np.cos(W[k]*T))\n",
    "plt.plot(t, np.cos((W[k] + J_list[k])*t)*np.exp(-L[k]*t))"
   ],
   "metadata": {
    "collapsed": false
   }
  },
  {
   "cell_type": "code",
   "execution_count": 14,
   "outputs": [
    {
     "name": "stdout",
     "output_type": "stream",
     "text": [
      "guessed decay:  [4.919175962921201e-05, 0.0003262106637746545]\n",
      "real decay:  [0.0, 0.0]\n",
      "guessed frequency:  [-0.004513805872854814, -0.00035359086894813473]\n",
      "real frequency:  [0.0, 0.0]\n",
      "guessed J:  [0.9693250311602951]\n",
      "real J:  [1.0]\n",
      "error:  0.01386767476186014\n",
      "error in percent:  6.933837380930069\n"
     ]
    }
   ],
   "source": [
    "\n",
    "import estimator\n",
    "\n",
    "guessed_decay,guessed_W,guessed_J = estimator.one_by_one_fit(batch_x_det, batch_y_det, batch_x_cross, batch_y_cross)\n",
    "print(\"guessed decay: \", guessed_decay)\n",
    "print(\"real decay: \", L)\n",
    "print(\"guessed frequency: \", guessed_W)\n",
    "print(\"real frequency: \", W)\n",
    "print(\"guessed J: \", guessed_J)\n",
    "print(\"real J: \", J_list)\n",
    "\n",
    "guessed = np.concatenate([guessed_decay,guessed_W,guessed_J])\n",
    "real_parameters = np.concatenate([L,W,J_list])\n",
    "mse = np.mean((guessed - real_parameters)**2)\n",
    "print(\"error: \", np.sqrt(mse))\n",
    "print(\"error in percent: \", np.sqrt(mse)/np.mean(np.abs(real_parameters)) * 100)"
   ],
   "metadata": {
    "collapsed": false
   }
  },
  {
   "cell_type": "code",
   "execution_count": 30,
   "outputs": [],
   "source": [],
   "metadata": {
    "collapsed": false
   }
  },
  {
   "cell_type": "code",
   "execution_count": null,
   "outputs": [],
   "source": [],
   "metadata": {
    "collapsed": false,
    "pycharm": {
     "is_executing": true
    }
   }
  },
  {
   "cell_type": "code",
   "execution_count": 26,
   "outputs": [],
   "source": [],
   "metadata": {
    "collapsed": false
   }
  }
 ],
 "metadata": {
  "kernelspec": {
   "display_name": "Python 3",
   "language": "python",
   "name": "python3"
  },
  "language_info": {
   "codemirror_mode": {
    "name": "ipython",
    "version": 2
   },
   "file_extension": ".py",
   "mimetype": "text/x-python",
   "name": "python",
   "nbconvert_exporter": "python",
   "pygments_lexer": "ipython2",
   "version": "2.7.6"
  }
 },
 "nbformat": 4,
 "nbformat_minor": 0
}
