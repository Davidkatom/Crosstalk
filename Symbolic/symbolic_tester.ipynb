{
 "cells": [
  {
   "cell_type": "code",
   "execution_count": 1,
   "outputs": [],
   "source": [
    "import importlib\n",
    "from sympy import init_printing\n",
    "import symbolic_evolution\n",
    "import symbolic_fisher\n"
   ],
   "metadata": {
    "collapsed": false
   }
  },
  {
   "cell_type": "code",
   "execution_count": 2,
   "outputs": [
    {
     "data": {
      "text/plain": "<module 'symbolic_fisher' from 'C:\\\\Projects\\\\Crosstalk\\\\Symbolic\\\\symbolic_fisher.py'>"
     },
     "execution_count": 2,
     "metadata": {},
     "output_type": "execute_result"
    }
   ],
   "source": [
    "importlib.reload(symbolic_fisher)\n"
   ],
   "metadata": {
    "collapsed": false
   }
  },
  {
   "cell_type": "code",
   "execution_count": 20,
   "outputs": [
    {
     "data": {
      "text/plain": "⎡                                -a₀⋅t                                        \n⎢(cos(t⋅ω₀) + cos(t⋅(j₀ + ω₀)))⋅ℯ       (cos(t⋅ω₁) + cos(t⋅(j₀ + ω₁)) + cos(t⋅\n⎢─────────────────────────────────────, ──────────────────────────────────────\n⎣                  2                                                          \n\n                                     -a₁⋅t                                  -a\n(j₁ + ω₁)) + cos(t⋅(j₀ + j₁ + ω₁)))⋅ℯ       (cos(t⋅ω₂) + cos(t⋅(j₁ + ω₂)))⋅ℯ  \n──────────────────────────────────────────, ──────────────────────────────────\n 4                                                            2               \n\n₂⋅t                                   -a₀⋅t                                   \n     -(sin(t⋅ω₀) + sin(t⋅(j₀ + ω₀)))⋅ℯ        -(sin(t⋅ω₁) + sin(t⋅(j₀ + ω₁)) +\n───, ───────────────────────────────────────, ────────────────────────────────\n                        2                                                     \n\n                                            -a₁⋅t                             \n sin(t⋅(j₁ + ω₁)) + sin(t⋅(j₀ + j₁ + ω₁)))⋅ℯ        -(sin(t⋅ω₂) + sin(t⋅(j₁ + \n──────────────────────────────────────────────────, ──────────────────────────\n        4                                                              2      \n\n       -a₂⋅t ⎤\nω₂)))⋅ℯ      ⎥\n─────────────⎥\n             ⎦",
      "text/latex": "$\\displaystyle \\left[ \\frac{\\left(\\cos{\\left(t ω_{0} \\right)} + \\cos{\\left(t \\left(j_{0} + ω_{0}\\right) \\right)}\\right) e^{- a_{0} t}}{2}, \\  \\frac{\\left(\\cos{\\left(t ω_{1} \\right)} + \\cos{\\left(t \\left(j_{0} + ω_{1}\\right) \\right)} + \\cos{\\left(t \\left(j_{1} + ω_{1}\\right) \\right)} + \\cos{\\left(t \\left(j_{0} + j_{1} + ω_{1}\\right) \\right)}\\right) e^{- a_{1} t}}{4}, \\  \\frac{\\left(\\cos{\\left(t ω_{2} \\right)} + \\cos{\\left(t \\left(j_{1} + ω_{2}\\right) \\right)}\\right) e^{- a_{2} t}}{2}, \\  - \\frac{\\left(\\sin{\\left(t ω_{0} \\right)} + \\sin{\\left(t \\left(j_{0} + ω_{0}\\right) \\right)}\\right) e^{- a_{0} t}}{2}, \\  - \\frac{\\left(\\sin{\\left(t ω_{1} \\right)} + \\sin{\\left(t \\left(j_{0} + ω_{1}\\right) \\right)} + \\sin{\\left(t \\left(j_{1} + ω_{1}\\right) \\right)} + \\sin{\\left(t \\left(j_{0} + j_{1} + ω_{1}\\right) \\right)}\\right) e^{- a_{1} t}}{4}, \\  - \\frac{\\left(\\sin{\\left(t ω_{2} \\right)} + \\sin{\\left(t \\left(j_{1} + ω_{2}\\right) \\right)}\\right) e^{- a_{2} t}}{2}\\right]$"
     },
     "execution_count": 20,
     "metadata": {},
     "output_type": "execute_result"
    }
   ],
   "source": [
    "from symbolic_evolution import zero_state, evolve_state, H, get_expectation_values_exp, apply_operator\n",
    "from sympy import init_printing\n",
    "init_printing(use_latex='mathjax', pretty_print=True, wrap_line=True)\n",
    "\n",
    "n = 3\n",
    "state = zero_state(n)\n",
    "state = apply_operator(state, H(n))\n",
    "state = evolve_state(state)\n",
    "functions = get_expectation_values_exp(n, 0)\n",
    "functions"
   ],
   "metadata": {
    "collapsed": false
   }
  },
  {
   "cell_type": "code",
   "execution_count": 21,
   "outputs": [
    {
     "name": "stdout",
     "output_type": "stream",
     "text": [
      "[(cos(t*ω0) + cos(t*(j0 + ω0)))*exp(-a0*t)/2, (cos(t*ω1) + cos(t*(j0 + ω1)) + cos(t*(j1 + ω1)) + cos(t*(j0 + j1 + ω1)))*exp(-a1*t)/4, (cos(t*ω2) + cos(t*(j1 + ω2)))*exp(-a2*t)/2, -(sin(t*ω0) + sin(t*(j0 + ω0)))*exp(-a0*t)/2, -(sin(t*ω1) + sin(t*(j0 + ω1)) + sin(t*(j1 + ω1)) + sin(t*(j0 + j1 + ω1)))*exp(-a1*t)/4, -(sin(t*ω2) + sin(t*(j1 + ω2)))*exp(-a2*t)/2]\n"
     ]
    }
   ],
   "source": [
    "print(functions)"
   ],
   "metadata": {
    "collapsed": false
   }
  },
  {
   "cell_type": "code",
   "execution_count": 2,
   "metadata": {
    "collapsed": true
   },
   "outputs": [
    {
     "name": "stdout",
     "output_type": "stream",
     "text": [
      "[ω0, a0, t]\n"
     ]
    },
    {
     "data": {
      "text/plain": "⎡      3                                  3                                  ⎤\n⎢     ___                                ___                                 ⎥\n⎢     ╲                                  ╲                                   ⎥\n⎢      ╲    2  -2⋅a₀⋅t    2               ╲    2  -2⋅a₀⋅t                    ⎥\n⎢      ╱   t ⋅ℯ       ⋅sin (t⋅ω₀)         ╱   t ⋅ℯ       ⋅sin(t⋅ω₀)⋅cos(t⋅ω₀)⎥\n⎢     ╱                                  ╱                                   ⎥\n⎢     ‾‾‾                                ‾‾‾                                 ⎥\n⎢    t = 0                              t = 0                                ⎥\n⎢                                                                            ⎥\n⎢  3                                          3                              ⎥\n⎢ ___                                        ___                             ⎥\n⎢ ╲                                          ╲                               ⎥\n⎢  ╲    2  -2⋅a₀⋅t                            ╲    2  -2⋅a₀⋅t    2           ⎥\n⎢  ╱   t ⋅ℯ       ⋅sin(t⋅ω₀)⋅cos(t⋅ω₀)        ╱   t ⋅ℯ       ⋅cos (t⋅ω₀)     ⎥\n⎢ ╱                                          ╱                               ⎥\n⎢ ‾‾‾                                        ‾‾‾                             ⎥\n⎣t = 0                                      t = 0                            ⎦",
      "text/latex": "$\\displaystyle \\left[\\begin{matrix}\\sum_{t=0}^{3} t^{2} e^{- 2 a_{0} t} \\sin^{2}{\\left(t ω_{0} \\right)} & \\sum_{t=0}^{3} t^{2} e^{- 2 a_{0} t} \\sin{\\left(t ω_{0} \\right)} \\cos{\\left(t ω_{0} \\right)}\\\\\\sum_{t=0}^{3} t^{2} e^{- 2 a_{0} t} \\sin{\\left(t ω_{0} \\right)} \\cos{\\left(t ω_{0} \\right)} & \\sum_{t=0}^{3} t^{2} e^{- 2 a_{0} t} \\cos^{2}{\\left(t ω_{0} \\right)}\\end{matrix}\\right]$"
     },
     "execution_count": 2,
     "metadata": {},
     "output_type": "execute_result"
    }
   ],
   "source": [
    "from Symbolic.symbolic_fisher import gaussian_fisher_matrix\n",
    "n = 3\n",
    "init_printing(use_latex='mathjax', pretty_print=True, wrap_line=True)\n",
    "function = symbolic_evolution.get_expectation_values_exp(n, 0)[0]\n",
    "function = symbolic_evolution.set_parameters(function, J=[0]*n)\n",
    "matrix = gaussian_fisher_matrix(function, 3)\n",
    "matrix"
   ]
  }
 ],
 "metadata": {
  "kernelspec": {
   "display_name": "Python 3",
   "language": "python",
   "name": "python3"
  },
  "language_info": {
   "codemirror_mode": {
    "name": "ipython",
    "version": 2
   },
   "file_extension": ".py",
   "mimetype": "text/x-python",
   "name": "python",
   "nbconvert_exporter": "python",
   "pygments_lexer": "ipython2",
   "version": "2.7.6"
  }
 },
 "nbformat": 4,
 "nbformat_minor": 0
}
