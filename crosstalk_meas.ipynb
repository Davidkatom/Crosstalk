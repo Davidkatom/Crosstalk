{
 "cells": [
  {
   "cell_type": "code",
   "execution_count": 1,
   "metadata": {
    "collapsed": true
   },
   "outputs": [
    {
     "name": "stderr",
     "output_type": "stream",
     "text": [
      "C:\\Users\\user\\AppData\\Local\\Programs\\Python\\Python39\\lib\\site-packages\\numpy\\_distributor_init.py:30: UserWarning: loaded more than 1 DLL from .libs:\n",
      "C:\\Users\\user\\AppData\\Local\\Programs\\Python\\Python39\\lib\\site-packages\\numpy\\.libs\\libopenblas.FB5AE2TYXYH2IJRDKGDGQ3XBKLKTF43H.gfortran-win_amd64.dll\n",
      "C:\\Users\\user\\AppData\\Local\\Programs\\Python\\Python39\\lib\\site-packages\\numpy\\.libs\\libopenblas64__v0.3.21-gcc_10_3_0.dll\n",
      "  warnings.warn(\"loaded more than 1 DLL from .libs:\"\n",
      "C:\\Users\\user\\AppData\\Local\\Temp\\ipykernel_3132\\1018955272.py:11: DeprecationWarning: The package qiskit.providers.ibmq is being deprecated. Please see https://ibm.biz/provider_migration_guide to get instructions on how to migrate to qiskit-ibm-provider (https://github.com/Qiskit/qiskit-ibm-provider) and qiskit-ibm-runtime (https://github.com/Qiskit/qiskit-ibm-runtime).\n",
      "  IBMQ.save_account(\n",
      "C:\\Users\\user\\AppData\\Local\\Temp\\ipykernel_3132\\1018955272.py:11: DeprecationWarning: The qiskit.IBMQ entrypoint and the qiskit-ibmq-provider package (accessible from 'qiskit.providers.ibmq`) are deprecated and will be removed in a future release. Instead you should use the qiskit-ibm-provider package which is accessible from 'qiskit_ibm_provider'. You can install it with 'pip install qiskit_ibm_provider'. Just replace 'qiskit.IBMQ' with 'qiskit_ibm_provider.IBMProvider'\n",
      "  IBMQ.save_account(\n"
     ]
    }
   ],
   "source": [
    "import matplotlib.pyplot as plt\n",
    "import numpy as np\n",
    "import time\n",
    "\n",
    "import qiskit\n",
    "from qiskit import QuantumCircuit, QuantumRegister, ClassicalRegister, execute, Aer\n",
    "import qiskit as qiskit\n",
    "import qiskit.quantum_info as qi\n",
    "from qiskit import QuantumCircuit, transpile, Aer, IBMQ\n",
    "# Loading your IBM Quantum account(s)\n",
    "IBMQ.save_account(\n",
    "    '280beccbee94456a161a6cbc217e1366bc278bf60e22bd30281fa0ca5bec6e50897278ef818f3c53f6700e04b9ed32ea364195044413b7e02836a79d886b03d9',\n",
    "    overwrite=True)\n",
    "IBMQ.load_account()\n",
    "provider = IBMQ.get_provider(hub='ibm-q-research')"
   ]
  },
  {
   "cell_type": "code",
   "execution_count": 20,
   "outputs": [
    {
     "name": "stdout",
     "output_type": "stream",
     "text": [
      "________ Qubit number 0__________\n",
      "w10: 13.103004363906933 GHz\n",
      "w21: 13.442838958842415 GHz\n",
      "________ Qubit number 1__________\n",
      "w10: 12.989892668840197 GHz\n",
      "w21: 13.330476148108731 GHz\n",
      "________ Qubit number 2__________\n",
      "w10: 13.120025932060733 GHz\n",
      "w21: 13.458929620868515 GHz\n",
      "________ Qubit number 3__________\n",
      "w10: 12.807411127987644 GHz\n",
      "w21: 13.149941504058143 GHz\n",
      "________ Qubit number 4__________\n",
      "w10: 12.998428462703568 GHz\n",
      "w21: 13.33901886245275 GHz\n",
      "________ Qubit number 5__________\n",
      "w10: 13.14361755037553 GHz\n",
      "w21: 13.484149870810647 GHz\n"
     ]
    }
   ],
   "source": [
    "backend = provider.get_backend('ibm_nairobi')\n",
    "W1 = []\n",
    "W2 = []\n",
    "properties = backend.properties()\n",
    "for i in range(6):\n",
    "    print(f\"________ Qubit number {i}__________\")\n",
    "    qubit = properties.qubits[i]\n",
    "\n",
    "    anharmonicity_data = next(item for item in qubit if item.name == \"anharmonicity\")\n",
    "    frequency_data = next(item for item in qubit if item.name == \"frequency\")\n",
    "\n",
    "    E_J = (2 * (2 * frequency_data.value + anharmonicity_data.value)) / anharmonicity_data.value\n",
    "    E_C = anharmonicity_data.value\n",
    "    E = np.sqrt(8*E_J*E_C)\n",
    "\n",
    "\n",
    "    w10 = E - E_C\n",
    "    w21 = 2*E - 3*E_C -w10\n",
    "\n",
    "    W1.append(w10)\n",
    "    W2.append(w21)\n",
    "    #print(f\"E_J: {E_J} GHz\")\n",
    "    #print(f\"E_C: {E_C} GHz\")\n",
    "\n",
    "    print(f\"w10: {w10} GHz\")\n",
    "    print(f\"w21: {w21} GHz\")"
   ],
   "metadata": {
    "collapsed": false
   }
  },
  {
   "cell_type": "code",
   "execution_count": 21,
   "outputs": [
    {
     "name": "stdout",
     "output_type": "stream",
     "text": [
      "0.2992214084668845\n",
      "0.18685859773320068\n",
      "0.3153120704929844\n",
      "0.006323953682612071\n",
      "0.19540131207721956\n",
      "0.3405323204351163\n"
     ]
    }
   ],
   "source": [
    "t = 100\n",
    "for w2 in W2:\n",
    "    for w1 in W1:\n",
    "        if w2 - w1 < t:\n",
    "            t = w2 - w1\n",
    "    print(t)\n",
    "    t = 100\n"
   ],
   "metadata": {
    "collapsed": false
   }
  },
  {
   "cell_type": "code",
   "execution_count": 27,
   "outputs": [
    {
     "data": {
      "text/plain": "<qiskit.circuit.instructionset.InstructionSet at 0x257a928c3a0>"
     },
     "execution_count": 27,
     "metadata": {},
     "output_type": "execute_result"
    }
   ],
   "source": [
    "qr = QuantumRegister(7)\n",
    "cr = ClassicalRegister(7)\n",
    "qc = QuantumCircuit(qr,cr)\n",
    "qc.x(3)\n",
    "qc.barrier()\n",
    "qc.cx(5, 6)\n",
    "qc.barrier()\n",
    "qc.x(3)\n",
    "qc.measure(qr[3], cr[3])\n",
    "qc.measure(qr[5], cr[5])\n",
    "#qc.draw(output='mpl')"
   ],
   "metadata": {
    "collapsed": false
   }
  },
  {
   "cell_type": "code",
   "execution_count": 28,
   "outputs": [
    {
     "name": "stdout",
     "output_type": "stream",
     "text": [
      "Job Status: job has successfully run\n"
     ]
    }
   ],
   "source": [
    "from qiskit.tools import job_monitor  #Run\n",
    "job = backend.run(transpile(qc, backend, scheduling_method=\"alap\"), shots=1000)\n",
    "\n",
    "#job = qiskit.execute(qc, provider.get_backend('ibm_lagos'), shots=8000)\n",
    "job_monitor(job)"
   ],
   "metadata": {
    "collapsed": false
   }
  },
  {
   "cell_type": "code",
   "execution_count": 29,
   "outputs": [
    {
     "data": {
      "text/plain": "<Figure size 700x500 with 1 Axes>",
      "image/png": "[encoded data removed]"
     },
     "execution_count": 29,
     "metadata": {},
     "output_type": "execute_result"
    }
   ],
   "source": [
    "from qiskit.visualization import plot_histogram\n",
    "\n",
    "plot_histogram(job.result().get_counts(qc))"
   ],
   "metadata": {
    "collapsed": false
   }
  }
 ],
 "metadata": {
  "kernelspec": {
   "display_name": "Python 3",
   "language": "python",
   "name": "python3"
  },
  "language_info": {
   "codemirror_mode": {
    "name": "ipython",
    "version": 2
   },
   "file_extension": ".py",
   "mimetype": "text/x-python",
   "name": "python",
   "nbconvert_exporter": "python",
   "pygments_lexer": "ipython2",
   "version": "2.7.6"
  }
 },
 "nbformat": 4,
 "nbformat_minor": 0
}
