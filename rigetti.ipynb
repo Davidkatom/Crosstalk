{
 "cells": [
  {
   "cell_type": "code",
   "id": "initial_id",
   "metadata": {
    "collapsed": true,
    "ExecuteTime": {
     "end_time": "2025-03-02T13:56:35.163002Z",
     "start_time": "2025-03-02T13:56:35.145372Z"
    }
   },
   "source": [
    "import itertools\n",
    "import time\n",
    "from typing import List\n",
    "\n",
    "from pyquil import get_qc, Program\n",
    "from pyquil.gates import CNOT, H, MEASURE, RESET"
   ],
   "outputs": [],
   "execution_count": 4
  },
  {
   "metadata": {},
   "cell_type": "code",
   "source": [
    "program = Program()\n",
    "import numpy as np\n",
    "import matplotlib.pyplot as plt\n",
    "from pyquil import Program, get_qc\n",
    "from pyquil.gates import H, RZ, MEASURE\n",
    "\n",
    "# Get a 1-qubit quantum virtual machine (QVM)\n",
    "qc = get_qc(\"1q-qvm\")\n",
    "\n",
    "shots = 1024  # Number of measurements per evolution time\n",
    "# Define a range of evolution times (or equivalently, phase angles in radians)\n",
    "times = np.linspace(0, 10, 100)\n",
    "probabilities = []\n",
    "\n",
    "for t in times:\n",
    "    p = Program()\n",
    "    # Declare a classical register to store measurement outcomes\n",
    "    ro = p.declare('ro', 'BIT', 1)\n",
    "\n",
    "    # Ramsey sequence:\n",
    "    # 1. Apply a π/2 pulse (Hadamard gate) to create a superposition.\n",
    "    p += H(0)\n",
    "\n",
    "    # 2. Free evolution: Apply an RZ rotation that simulates phase accumulation.\n",
    "    # Here we use an angle that is twice the time for demonstration.\n",
    "    p += RZ(2 * t, 0)\n",
    "\n",
    "    # 3. Apply a second π/2 pulse (Hadamard gate).\n",
    "    p += H(0)\n",
    "\n",
    "    # 4. Measure the qubit.\n",
    "    p += MEASURE(0, ro[0])\n",
    "\n",
    "    # Compile and run the program on the QVM.\n",
    "    executable = qc.compile(p)\n",
    "    result = qc.run(executable, shots=shots)\n",
    "\n",
    "    # Calculate the probability of measuring state |0⟩.\n",
    "    prob0 = np.mean(result[:, 0] == 0)\n",
    "    probabilities.append(prob0)\n",
    "\n",
    "# Plot the Ramsey interference pattern.\n",
    "plt.figure(figsize=(8, 4))\n",
    "plt.plot(times, probabilities, 'o-', label='P(0)')\n",
    "plt.xlabel('Evolution time (radians)')\n",
    "plt.ylabel('Probability of measuring |0⟩')\n",
    "plt.title('Ramsey Interference Pattern')\n",
    "plt.legend()\n",
    "plt.grid(True)\n",
    "plt.show()\n"
   ],
   "id": "5b207bf773d5834a",
   "outputs": [],
   "execution_count": null
  },
  {
   "metadata": {
    "ExecuteTime": {
     "end_time": "2025-03-02T14:10:07.179473Z",
     "start_time": "2025-03-02T14:10:05.098679Z"
    }
   },
   "cell_type": "code",
   "source": "from qpus_and_qvms import select_available_qpu\n",
   "id": "cda53e3dd4c82815",
   "outputs": [
    {
     "ename": "QVMError",
     "evalue": "Could not communicate with QVM at http://127.0.0.1:5000",
     "output_type": "error",
     "traceback": [
      "\u001B[1;31m---------------------------------------------------------------------------\u001B[0m",
      "\u001B[1;31mQVMError\u001B[0m                                  Traceback (most recent call last)",
      "Cell \u001B[1;32mIn[7], line 2\u001B[0m\n\u001B[0;32m      1\u001B[0m \u001B[38;5;28;01mfrom\u001B[39;00m \u001B[38;5;21;01mpyquil\u001B[39;00m \u001B[38;5;28;01mimport\u001B[39;00m get_qc\n\u001B[1;32m----> 2\u001B[0m qc \u001B[38;5;241m=\u001B[39m \u001B[43mget_qc\u001B[49m\u001B[43m(\u001B[49m\u001B[38;5;124;43m\"\u001B[39;49m\u001B[38;5;124;43m1q-qvm\u001B[39;49m\u001B[38;5;124;43m\"\u001B[39;49m\u001B[43m)\u001B[49m\n\u001B[0;32m      3\u001B[0m \u001B[38;5;28mprint\u001B[39m(qc)\n",
      "File \u001B[1;32m~\\PycharmProjects\\ML_Crosstalk\\venv\\Lib\\site-packages\\pyquil\\api\\_quantum_computer.py:824\u001B[0m, in \u001B[0;36mget_qc\u001B[1;34m(***failed resolving arguments***)\u001B[0m\n\u001B[0;32m    822\u001B[0m     \u001B[38;5;28;01mif\u001B[39;00m qvm_type \u001B[38;5;129;01mis\u001B[39;00m \u001B[38;5;28;01mNone\u001B[39;00m:\n\u001B[0;32m    823\u001B[0m         \u001B[38;5;28;01mraise\u001B[39;00m \u001B[38;5;167;01mValueError\u001B[39;00m(\u001B[38;5;124m\"\u001B[39m\u001B[38;5;124mPlease name a valid quantum_processor or run as a QVM\u001B[39m\u001B[38;5;124m\"\u001B[39m)\n\u001B[1;32m--> 824\u001B[0m     \u001B[38;5;28;01mreturn\u001B[39;00m \u001B[43m_get_unrestricted_qvm\u001B[49m\u001B[43m(\u001B[49m\n\u001B[0;32m    825\u001B[0m \u001B[43m        \u001B[49m\u001B[43mclient_configuration\u001B[49m\u001B[38;5;241;43m=\u001B[39;49m\u001B[43mclient_configuration\u001B[49m\u001B[43m,\u001B[49m\n\u001B[0;32m    826\u001B[0m \u001B[43m        \u001B[49m\u001B[43mname\u001B[49m\u001B[38;5;241;43m=\u001B[39;49m\u001B[43mname\u001B[49m\u001B[43m,\u001B[49m\n\u001B[0;32m    827\u001B[0m \u001B[43m        \u001B[49m\u001B[43mnoisy\u001B[49m\u001B[38;5;241;43m=\u001B[39;49m\u001B[43mnoisy\u001B[49m\u001B[43m,\u001B[49m\n\u001B[0;32m    828\u001B[0m \u001B[43m        \u001B[49m\u001B[43mn_qubits\u001B[49m\u001B[38;5;241;43m=\u001B[39;49m\u001B[43mn_qubits\u001B[49m\u001B[43m,\u001B[49m\n\u001B[0;32m    829\u001B[0m \u001B[43m        \u001B[49m\u001B[43mqvm_type\u001B[49m\u001B[38;5;241;43m=\u001B[39;49m\u001B[43mqvm_type\u001B[49m\u001B[43m,\u001B[49m\n\u001B[0;32m    830\u001B[0m \u001B[43m        \u001B[49m\u001B[43mcompiler_timeout\u001B[49m\u001B[38;5;241;43m=\u001B[39;49m\u001B[43mcompiler_timeout\u001B[49m\u001B[43m,\u001B[49m\n\u001B[0;32m    831\u001B[0m \u001B[43m        \u001B[49m\u001B[43mexecution_timeout\u001B[49m\u001B[38;5;241;43m=\u001B[39;49m\u001B[43mexecution_timeout\u001B[49m\u001B[43m,\u001B[49m\n\u001B[0;32m    832\u001B[0m \u001B[43m        \u001B[49m\u001B[43mquilc_client\u001B[49m\u001B[38;5;241;43m=\u001B[39;49m\u001B[43mquilc_client\u001B[49m\u001B[43m,\u001B[49m\n\u001B[0;32m    833\u001B[0m \u001B[43m        \u001B[49m\u001B[43mqvm_client\u001B[49m\u001B[38;5;241;43m=\u001B[39;49m\u001B[43mqvm_client\u001B[49m\u001B[43m,\u001B[49m\n\u001B[0;32m    834\u001B[0m \u001B[43m    \u001B[49m\u001B[43m)\u001B[49m\n\u001B[0;32m    836\u001B[0m \u001B[38;5;66;03m# 3. Check for \"9q-square\" qvm\u001B[39;00m\n\u001B[0;32m    837\u001B[0m \u001B[38;5;28;01mif\u001B[39;00m prefix \u001B[38;5;241m==\u001B[39m \u001B[38;5;124m\"\u001B[39m\u001B[38;5;124m9q-square\u001B[39m\u001B[38;5;124m\"\u001B[39m:\n",
      "File \u001B[1;32m~\\PycharmProjects\\ML_Crosstalk\\venv\\Lib\\site-packages\\pyquil\\api\\_quantum_computer.py:668\u001B[0m, in \u001B[0;36m_get_unrestricted_qvm\u001B[1;34m(client_configuration, name, noisy, n_qubits, qvm_type, compiler_timeout, execution_timeout, quilc_client, qvm_client)\u001B[0m\n\u001B[0;32m    654\u001B[0m \u001B[38;5;250m\u001B[39m\u001B[38;5;124;03m\"\"\"QVM with a fully-connected topology.\u001B[39;00m\n\u001B[0;32m    655\u001B[0m \n\u001B[0;32m    656\u001B[0m \u001B[38;5;124;03mThis is obviously the least realistic QVM, but who am I to tell users what they want.\u001B[39;00m\n\u001B[1;32m   (...)\u001B[0m\n\u001B[0;32m    665\u001B[0m \u001B[38;5;124;03m:return: A pre-configured QuantumComputer\u001B[39;00m\n\u001B[0;32m    666\u001B[0m \u001B[38;5;124;03m\"\"\"\u001B[39;00m\n\u001B[0;32m    667\u001B[0m topology \u001B[38;5;241m=\u001B[39m nx\u001B[38;5;241m.\u001B[39mcomplete_graph(n_qubits)\n\u001B[1;32m--> 668\u001B[0m \u001B[38;5;28;01mreturn\u001B[39;00m \u001B[43m_get_qvm_with_topology\u001B[49m\u001B[43m(\u001B[49m\n\u001B[0;32m    669\u001B[0m \u001B[43m    \u001B[49m\u001B[43mclient_configuration\u001B[49m\u001B[38;5;241;43m=\u001B[39;49m\u001B[43mclient_configuration\u001B[49m\u001B[43m,\u001B[49m\n\u001B[0;32m    670\u001B[0m \u001B[43m    \u001B[49m\u001B[43mname\u001B[49m\u001B[38;5;241;43m=\u001B[39;49m\u001B[43mname\u001B[49m\u001B[43m,\u001B[49m\n\u001B[0;32m    671\u001B[0m \u001B[43m    \u001B[49m\u001B[43mtopology\u001B[49m\u001B[38;5;241;43m=\u001B[39;49m\u001B[43mtopology\u001B[49m\u001B[43m,\u001B[49m\n\u001B[0;32m    672\u001B[0m \u001B[43m    \u001B[49m\u001B[43mnoisy\u001B[49m\u001B[38;5;241;43m=\u001B[39;49m\u001B[43mnoisy\u001B[49m\u001B[43m,\u001B[49m\n\u001B[0;32m    673\u001B[0m \u001B[43m    \u001B[49m\u001B[43mqvm_type\u001B[49m\u001B[38;5;241;43m=\u001B[39;49m\u001B[43mqvm_type\u001B[49m\u001B[43m,\u001B[49m\n\u001B[0;32m    674\u001B[0m \u001B[43m    \u001B[49m\u001B[43mcompiler_timeout\u001B[49m\u001B[38;5;241;43m=\u001B[39;49m\u001B[43mcompiler_timeout\u001B[49m\u001B[43m,\u001B[49m\n\u001B[0;32m    675\u001B[0m \u001B[43m    \u001B[49m\u001B[43mexecution_timeout\u001B[49m\u001B[38;5;241;43m=\u001B[39;49m\u001B[43mexecution_timeout\u001B[49m\u001B[43m,\u001B[49m\n\u001B[0;32m    676\u001B[0m \u001B[43m    \u001B[49m\u001B[43mquilc_client\u001B[49m\u001B[38;5;241;43m=\u001B[39;49m\u001B[43mquilc_client\u001B[49m\u001B[43m,\u001B[49m\n\u001B[0;32m    677\u001B[0m \u001B[43m    \u001B[49m\u001B[43mqvm_client\u001B[49m\u001B[38;5;241;43m=\u001B[39;49m\u001B[43mqvm_client\u001B[49m\u001B[43m,\u001B[49m\n\u001B[0;32m    678\u001B[0m \u001B[43m\u001B[49m\u001B[43m)\u001B[49m\n",
      "File \u001B[1;32m~\\PycharmProjects\\ML_Crosstalk\\venv\\Lib\\site-packages\\pyquil\\api\\_quantum_computer.py:591\u001B[0m, in \u001B[0;36m_get_qvm_with_topology\u001B[1;34m(client_configuration, name, topology, noisy, qvm_type, compiler_timeout, execution_timeout, quilc_client, qvm_client)\u001B[0m\n\u001B[0;32m    589\u001B[0m \u001B[38;5;28;01melse\u001B[39;00m:\n\u001B[0;32m    590\u001B[0m     noise_model \u001B[38;5;241m=\u001B[39m \u001B[38;5;28;01mNone\u001B[39;00m\n\u001B[1;32m--> 591\u001B[0m \u001B[38;5;28;01mreturn\u001B[39;00m \u001B[43m_get_qvm_qc\u001B[49m\u001B[43m(\u001B[49m\n\u001B[0;32m    592\u001B[0m \u001B[43m    \u001B[49m\u001B[43mclient_configuration\u001B[49m\u001B[38;5;241;43m=\u001B[39;49m\u001B[43mclient_configuration\u001B[49m\u001B[43m,\u001B[49m\n\u001B[0;32m    593\u001B[0m \u001B[43m    \u001B[49m\u001B[43mname\u001B[49m\u001B[38;5;241;43m=\u001B[39;49m\u001B[43mname\u001B[49m\u001B[43m,\u001B[49m\n\u001B[0;32m    594\u001B[0m \u001B[43m    \u001B[49m\u001B[43mqvm_type\u001B[49m\u001B[38;5;241;43m=\u001B[39;49m\u001B[43mqvm_type\u001B[49m\u001B[43m,\u001B[49m\n\u001B[0;32m    595\u001B[0m \u001B[43m    \u001B[49m\u001B[43mquantum_processor\u001B[49m\u001B[38;5;241;43m=\u001B[39;49m\u001B[43mquantum_processor\u001B[49m\u001B[43m,\u001B[49m\n\u001B[0;32m    596\u001B[0m \u001B[43m    \u001B[49m\u001B[43mnoise_model\u001B[49m\u001B[38;5;241;43m=\u001B[39;49m\u001B[43mnoise_model\u001B[49m\u001B[43m,\u001B[49m\n\u001B[0;32m    597\u001B[0m \u001B[43m    \u001B[49m\u001B[43mcompiler_timeout\u001B[49m\u001B[38;5;241;43m=\u001B[39;49m\u001B[43mcompiler_timeout\u001B[49m\u001B[43m,\u001B[49m\n\u001B[0;32m    598\u001B[0m \u001B[43m    \u001B[49m\u001B[43mexecution_timeout\u001B[49m\u001B[38;5;241;43m=\u001B[39;49m\u001B[43mexecution_timeout\u001B[49m\u001B[43m,\u001B[49m\n\u001B[0;32m    599\u001B[0m \u001B[43m    \u001B[49m\u001B[43mquilc_client\u001B[49m\u001B[38;5;241;43m=\u001B[39;49m\u001B[43mquilc_client\u001B[49m\u001B[43m,\u001B[49m\n\u001B[0;32m    600\u001B[0m \u001B[43m    \u001B[49m\u001B[43mqvm_client\u001B[49m\u001B[38;5;241;43m=\u001B[39;49m\u001B[43mqvm_client\u001B[49m\u001B[43m,\u001B[49m\n\u001B[0;32m    601\u001B[0m \u001B[43m\u001B[49m\u001B[43m)\u001B[49m\n",
      "File \u001B[1;32m~\\PycharmProjects\\ML_Crosstalk\\venv\\Lib\\site-packages\\pyquil\\api\\_quantum_computer.py:541\u001B[0m, in \u001B[0;36m_get_qvm_qc\u001B[1;34m(client_configuration, name, qvm_type, quantum_processor, compiler_timeout, execution_timeout, noise_model, quilc_client, qvm_client)\u001B[0m\n\u001B[0;32m    514\u001B[0m \u001B[38;5;28;01mdef\u001B[39;00m \u001B[38;5;21m_get_qvm_qc\u001B[39m(\n\u001B[0;32m    515\u001B[0m     \u001B[38;5;241m*\u001B[39m,\n\u001B[0;32m    516\u001B[0m     client_configuration: QCSClient,\n\u001B[1;32m   (...)\u001B[0m\n\u001B[0;32m    524\u001B[0m     qvm_client: Optional[QVMClient] \u001B[38;5;241m=\u001B[39m \u001B[38;5;28;01mNone\u001B[39;00m,\n\u001B[0;32m    525\u001B[0m ) \u001B[38;5;241m-\u001B[39m\u001B[38;5;241m>\u001B[39m QuantumComputer:\n\u001B[0;32m    526\u001B[0m \u001B[38;5;250m    \u001B[39m\u001B[38;5;124;03m\"\"\"Construct a QuantumComputer backed by a QVM.\u001B[39;00m\n\u001B[0;32m    527\u001B[0m \n\u001B[0;32m    528\u001B[0m \u001B[38;5;124;03m    This is a minimal wrapper over the QuantumComputer, QVM, and QVMCompiler constructors.\u001B[39;00m\n\u001B[1;32m   (...)\u001B[0m\n\u001B[0;32m    537\u001B[0m \u001B[38;5;124;03m    :return: A QuantumComputer backed by a QVM with the above options.\u001B[39;00m\n\u001B[0;32m    538\u001B[0m \u001B[38;5;124;03m    \"\"\"\u001B[39;00m\n\u001B[0;32m    539\u001B[0m     \u001B[38;5;28;01mreturn\u001B[39;00m QuantumComputer(\n\u001B[0;32m    540\u001B[0m         name\u001B[38;5;241m=\u001B[39mname,\n\u001B[1;32m--> 541\u001B[0m         qam\u001B[38;5;241m=\u001B[39m\u001B[43m_get_qvm_or_pyqvm\u001B[49m\u001B[43m(\u001B[49m\n\u001B[0;32m    542\u001B[0m \u001B[43m            \u001B[49m\u001B[43mqvm_type\u001B[49m\u001B[38;5;241;43m=\u001B[39;49m\u001B[43mqvm_type\u001B[49m\u001B[43m,\u001B[49m\n\u001B[0;32m    543\u001B[0m \u001B[43m            \u001B[49m\u001B[43mnoise_model\u001B[49m\u001B[38;5;241;43m=\u001B[39;49m\u001B[43mnoise_model\u001B[49m\u001B[43m,\u001B[49m\n\u001B[0;32m    544\u001B[0m \u001B[43m            \u001B[49m\u001B[43mquantum_processor\u001B[49m\u001B[38;5;241;43m=\u001B[39;49m\u001B[43mquantum_processor\u001B[49m\u001B[43m,\u001B[49m\n\u001B[0;32m    545\u001B[0m \u001B[43m            \u001B[49m\u001B[43mexecution_timeout\u001B[49m\u001B[38;5;241;43m=\u001B[39;49m\u001B[43mexecution_timeout\u001B[49m\u001B[43m,\u001B[49m\n\u001B[0;32m    546\u001B[0m \u001B[43m            \u001B[49m\u001B[43mqvm_client\u001B[49m\u001B[38;5;241;43m=\u001B[39;49m\u001B[43mqvm_client\u001B[49m\u001B[43m,\u001B[49m\n\u001B[0;32m    547\u001B[0m \u001B[43m        \u001B[49m\u001B[43m)\u001B[49m,\n\u001B[0;32m    548\u001B[0m         compiler\u001B[38;5;241m=\u001B[39mQVMCompiler(\n\u001B[0;32m    549\u001B[0m             quantum_processor\u001B[38;5;241m=\u001B[39mquantum_processor,\n\u001B[0;32m    550\u001B[0m             timeout\u001B[38;5;241m=\u001B[39mcompiler_timeout,\n\u001B[0;32m    551\u001B[0m             client_configuration\u001B[38;5;241m=\u001B[39mclient_configuration,\n\u001B[0;32m    552\u001B[0m             quilc_client\u001B[38;5;241m=\u001B[39mquilc_client,\n\u001B[0;32m    553\u001B[0m         ),\n\u001B[0;32m    554\u001B[0m     )\n",
      "File \u001B[1;32m~\\PycharmProjects\\ML_Crosstalk\\venv\\Lib\\site-packages\\pyquil\\api\\_quantum_computer.py:505\u001B[0m, in \u001B[0;36m_get_qvm_or_pyqvm\u001B[1;34m(qvm_type, qvm_client, noise_model, quantum_processor, execution_timeout)\u001B[0m\n\u001B[0;32m    496\u001B[0m \u001B[38;5;28;01mdef\u001B[39;00m \u001B[38;5;21m_get_qvm_or_pyqvm\u001B[39m(\n\u001B[0;32m    497\u001B[0m     \u001B[38;5;241m*\u001B[39m,\n\u001B[0;32m    498\u001B[0m     qvm_type: \u001B[38;5;28mstr\u001B[39m,\n\u001B[1;32m   (...)\u001B[0m\n\u001B[0;32m    502\u001B[0m     execution_timeout: \u001B[38;5;28mfloat\u001B[39m,\n\u001B[0;32m    503\u001B[0m ) \u001B[38;5;241m-\u001B[39m\u001B[38;5;241m>\u001B[39m Union[QVM, PyQVM]:\n\u001B[0;32m    504\u001B[0m     \u001B[38;5;28;01mif\u001B[39;00m qvm_type \u001B[38;5;241m==\u001B[39m \u001B[38;5;124m\"\u001B[39m\u001B[38;5;124mqvm\u001B[39m\u001B[38;5;124m\"\u001B[39m:\n\u001B[1;32m--> 505\u001B[0m         \u001B[38;5;28;01mreturn\u001B[39;00m \u001B[43mQVM\u001B[49m\u001B[43m(\u001B[49m\u001B[43mnoise_model\u001B[49m\u001B[38;5;241;43m=\u001B[39;49m\u001B[43mnoise_model\u001B[49m\u001B[43m,\u001B[49m\u001B[43m \u001B[49m\u001B[43mtimeout\u001B[49m\u001B[38;5;241;43m=\u001B[39;49m\u001B[43mexecution_timeout\u001B[49m\u001B[43m,\u001B[49m\u001B[43m \u001B[49m\u001B[43mclient\u001B[49m\u001B[38;5;241;43m=\u001B[39;49m\u001B[43mqvm_client\u001B[49m\u001B[43m)\u001B[49m\n\u001B[0;32m    506\u001B[0m     \u001B[38;5;28;01melif\u001B[39;00m qvm_type \u001B[38;5;241m==\u001B[39m \u001B[38;5;124m\"\u001B[39m\u001B[38;5;124mpyqvm\u001B[39m\u001B[38;5;124m\"\u001B[39m:\n\u001B[0;32m    507\u001B[0m         \u001B[38;5;28;01mif\u001B[39;00m quantum_processor \u001B[38;5;129;01mis\u001B[39;00m \u001B[38;5;28;01mNone\u001B[39;00m:\n",
      "File \u001B[1;32m~\\PycharmProjects\\ML_Crosstalk\\venv\\Lib\\site-packages\\pyquil\\api\\_qvm.py:119\u001B[0m, in \u001B[0;36mQVM.__init__\u001B[1;34m(self, noise_model, gate_noise, measurement_noise, random_seed, timeout, client)\u001B[0m\n\u001B[0;32m    116\u001B[0m     client \u001B[38;5;241m=\u001B[39m QVMClient\u001B[38;5;241m.\u001B[39mnew_http(QCSClient\u001B[38;5;241m.\u001B[39mload()\u001B[38;5;241m.\u001B[39mqvm_url)\n\u001B[0;32m    117\u001B[0m \u001B[38;5;28mself\u001B[39m\u001B[38;5;241m.\u001B[39m_client \u001B[38;5;241m=\u001B[39m client\n\u001B[1;32m--> 119\u001B[0m \u001B[38;5;28;43mself\u001B[39;49m\u001B[38;5;241;43m.\u001B[39;49m\u001B[43mconnect\u001B[49m\u001B[43m(\u001B[49m\u001B[43m)\u001B[49m\n",
      "File \u001B[1;32m~\\PycharmProjects\\ML_Crosstalk\\venv\\Lib\\site-packages\\pyquil\\api\\_qvm.py:123\u001B[0m, in \u001B[0;36mQVM.connect\u001B[1;34m(self)\u001B[0m\n\u001B[0;32m    121\u001B[0m \u001B[38;5;28;01mdef\u001B[39;00m \u001B[38;5;21mconnect\u001B[39m(\u001B[38;5;28mself\u001B[39m) \u001B[38;5;241m-\u001B[39m\u001B[38;5;241m>\u001B[39m \u001B[38;5;28;01mNone\u001B[39;00m:\n\u001B[0;32m    122\u001B[0m     \u001B[38;5;28;01mtry\u001B[39;00m:\n\u001B[1;32m--> 123\u001B[0m         version \u001B[38;5;241m=\u001B[39m \u001B[38;5;28;43mself\u001B[39;49m\u001B[38;5;241;43m.\u001B[39;49m\u001B[43mget_version_info\u001B[49m\u001B[43m(\u001B[49m\u001B[43m)\u001B[49m\n\u001B[0;32m    124\u001B[0m         check_qvm_version(version)\n\u001B[0;32m    125\u001B[0m     \u001B[38;5;28;01mexcept\u001B[39;00m \u001B[38;5;167;01mConnectionError\u001B[39;00m:\n",
      "File \u001B[1;32m~\\PycharmProjects\\ML_Crosstalk\\venv\\Lib\\site-packages\\pyquil\\api\\_qvm.py:180\u001B[0m, in \u001B[0;36mQVM.get_version_info\u001B[1;34m(self)\u001B[0m\n\u001B[0;32m    175\u001B[0m \u001B[38;5;28;01mdef\u001B[39;00m \u001B[38;5;21mget_version_info\u001B[39m(\u001B[38;5;28mself\u001B[39m) \u001B[38;5;241m-\u001B[39m\u001B[38;5;241m>\u001B[39m \u001B[38;5;28mstr\u001B[39m:\n\u001B[0;32m    176\u001B[0m \u001B[38;5;250m    \u001B[39m\u001B[38;5;124;03m\"\"\"Return version information for the QVM.\u001B[39;00m\n\u001B[0;32m    177\u001B[0m \n\u001B[0;32m    178\u001B[0m \u001B[38;5;124;03m    :return: String with version information\u001B[39;00m\n\u001B[0;32m    179\u001B[0m \u001B[38;5;124;03m    \"\"\"\u001B[39;00m\n\u001B[1;32m--> 180\u001B[0m     \u001B[38;5;28;01mreturn\u001B[39;00m \u001B[43mqvm\u001B[49m\u001B[38;5;241;43m.\u001B[39;49m\u001B[43mapi\u001B[49m\u001B[38;5;241;43m.\u001B[39;49m\u001B[43mget_version_info\u001B[49m\u001B[43m(\u001B[49m\u001B[38;5;28;43mself\u001B[39;49m\u001B[38;5;241;43m.\u001B[39;49m\u001B[43m_client\u001B[49m\u001B[43m,\u001B[49m\u001B[43m \u001B[49m\u001B[43moptions\u001B[49m\u001B[38;5;241;43m=\u001B[39;49m\u001B[43mQVMOptions\u001B[49m\u001B[43m(\u001B[49m\u001B[43mtimeout_seconds\u001B[49m\u001B[38;5;241;43m=\u001B[39;49m\u001B[38;5;28;43mself\u001B[39;49m\u001B[38;5;241;43m.\u001B[39;49m\u001B[43mtimeout\u001B[49m\u001B[43m)\u001B[49m\u001B[43m)\u001B[49m\n",
      "\u001B[1;31mQVMError\u001B[0m: Could not communicate with QVM at http://127.0.0.1:5000"
     ]
    }
   ],
   "execution_count": 7
  }
 ],
 "metadata": {
  "kernelspec": {
   "display_name": "Python 3",
   "language": "python",
   "name": "python3"
  },
  "language_info": {
   "codemirror_mode": {
    "name": "ipython",
    "version": 2
   },
   "file_extension": ".py",
   "mimetype": "text/x-python",
   "name": "python",
   "nbconvert_exporter": "python",
   "pygments_lexer": "ipython2",
   "version": "2.7.6"
  }
 },
 "nbformat": 4,
 "nbformat_minor": 5
}
