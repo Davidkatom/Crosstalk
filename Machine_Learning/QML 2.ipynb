{
 "cells": [
  {
   "cell_type": "markdown",
   "source": [
    "David Shnaiderov\n",
    "Shahar Rapp"
   ],
   "metadata": {
    "collapsed": false
   }
  },
  {
   "cell_type": "code",
   "execution_count": 2,
   "metadata": {
    "collapsed": true
   },
   "outputs": [],
   "source": [
    "from qiskit.quantum_info.operators import Operator\n",
    "import qiskit.quantum_info as qi\n",
    "import numpy as np\n",
    "from qiskit.circuit.library import TwoLocal\n",
    "from qiskit.circuit import QuantumCircuit, Parameter\n",
    "\n",
    "from qiskit_algorithms import VQE\n",
    "\n",
    "from qiskit.transpiler.preset_passmanagers import generate_preset_pass_manager\n",
    "from qiskit_aer.primitives import Estimator as AerEstimator\n",
    "from qiskit_algorithms.optimizers import COBYLA\n",
    "\n",
    "from qiskit_ibm_runtime.fake_provider import FakeLimaV2\n",
    "from qiskit_aer.noise import NoiseModel\n",
    "\n",
    "import matplotlib.pyplot as plt\n",
    "\n",
    "from qiskit_ibm_runtime import QiskitRuntimeService\n",
    "from qiskit.transpiler.preset_passmanagers import generate_preset_pass_manager\n"
   ]
  },
  {
   "cell_type": "code",
   "execution_count": 3,
   "outputs": [
    {
     "name": "stdout",
     "output_type": "stream",
     "text": [
      "Operator([[ 1.11022302e-16+0.j,  0.00000000e+00+0.j,  0.00000000e+00+0.j,\n",
      "            0.00000000e+00+0.j],\n",
      "          [ 0.00000000e+00+0.j, -2.73800000e-01+0.j,  1.82000000e-01+0.j,\n",
      "            0.00000000e+00+0.j],\n",
      "          [ 0.00000000e+00+0.j,  1.82000000e-01+0.j, -1.83020000e+00+0.j,\n",
      "            0.00000000e+00+0.j],\n",
      "          [ 0.00000000e+00+0.j,  0.00000000e+00+0.j,  0.00000000e+00+0.j,\n",
      "            1.82400000e-01+0.j]],\n",
      "         input_dims=(2, 2), output_dims=(2, 2))\n"
     ]
    }
   ],
   "source": [
    "g_0 = -0.4804\n",
    "g_1 = 0.3435\n",
    "g_2 = -0.4347\n",
    "g_3 = 0.5716\n",
    "g_4 = 0.0910\n",
    "g_5 = 0.0910\n",
    "\n",
    "paulis = [\"II\", \"ZI\", \"IZ\", \"ZZ\", \"YY\", \"XX\"]\n",
    "coeffs = [g_0, g_1, g_2, g_3, g_4, g_5]\n",
    "\n",
    "H2 = sum(coeff * Operator(qi.SparsePauliOp(pauli)) for coeff, pauli in zip(coeffs, paulis))\n",
    "\n",
    "print(H2)\n"
   ],
   "metadata": {
    "collapsed": false
   }
  },
  {
   "cell_type": "markdown",
   "source": [
    "Exact solution"
   ],
   "metadata": {
    "collapsed": false
   }
  },
  {
   "cell_type": "code",
   "execution_count": 4,
   "outputs": [
    {
     "name": "stdout",
     "output_type": "stream",
     "text": [
      "Exact result: -1.851199124123644\n",
      "Plus chemistry: -1.1456295095236442\n"
     ]
    }
   ],
   "source": [
    "# Compute the eigenvalues of H2\n",
    "eigen_values = np.linalg.eigvalsh(H2)\n",
    "min_eigenvalue = min(eigen_values)\n",
    "print(\"Exact result:\", min_eigenvalue)\n",
    "nuclear_repulsion = 0.7055696146\n",
    "hydrogen_atom_min_eigenvalue = min_eigenvalue + nuclear_repulsion\n",
    "print(\"Plus chemistry:\", hydrogen_atom_min_eigenvalue)"
   ],
   "metadata": {
    "collapsed": false
   }
  },
  {
   "cell_type": "markdown",
   "source": [
    "### Ideal simulator:"
   ],
   "metadata": {
    "collapsed": false
   }
  },
  {
   "cell_type": "code",
   "execution_count": 5,
   "outputs": [
    {
     "name": "stdout",
     "output_type": "stream",
     "text": [
      "VQE on Aer qasm simulator (noisy): -0.8554973\n",
      "VQE on Aer qasm simulator (noisy): -0.2857076\n",
      "VQE on Aer qasm simulator (noisy): -0.8629798\n",
      "VQE on Aer qasm simulator (noisy): -1.5526768\n",
      "VQE on Aer qasm simulator (noisy): -1.7128595\n",
      "VQE on Aer qasm simulator (noisy): -0.9591827\n",
      "VQE on Aer qasm simulator (noisy): -1.6509267\n",
      "VQE on Aer qasm simulator (noisy): -1.4497091\n",
      "VQE on Aer qasm simulator (noisy): -1.7498528\n",
      "VQE on Aer qasm simulator (noisy): -1.8337838\n",
      "VQE on Aer qasm simulator (noisy): -1.8493383\n",
      "VQE on Aer qasm simulator (noisy): -1.8359916\n",
      "VQE on Aer qasm simulator (noisy): -1.8085974\n",
      "VQE on Aer qasm simulator (noisy): -1.8325724\n",
      "VQE on Aer qasm simulator (noisy): -1.8477574\n",
      "VQE on Aer qasm simulator (noisy): -1.8519360\n",
      "VQE on Aer qasm simulator (noisy): -1.8435129\n",
      "VQE on Aer qasm simulator (noisy): -1.8489370\n",
      "VQE on Aer qasm simulator (noisy): -1.8481556\n",
      "VQE on Aer qasm simulator (noisy): -1.8445048\n",
      "VQE on Aer qasm simulator (noisy): -1.8481954\n",
      "VQE on Aer qasm simulator (noisy): -1.8499400\n",
      "VQE on Aer qasm simulator (noisy): -1.8496506\n",
      "VQE on Aer qasm simulator (noisy): -1.8490573\n",
      "VQE on Aer qasm simulator (noisy): -1.8482671\n",
      "VQE on Aer qasm simulator (noisy): -1.8486104\n",
      "VQE on Aer qasm simulator (noisy): -1.8494510\n",
      "VQE on Aer qasm simulator (noisy): -1.8482190\n",
      "VQE on Aer qasm simulator (noisy): -1.8509513\n",
      "VQE on Aer qasm simulator (noisy): -1.8469290\n",
      "VQE on Aer qasm simulator (noisy): -1.8506687\n",
      "VQE on Aer qasm simulator (noisy): -1.8525207\n",
      "VQE on Aer qasm simulator (noisy): -1.8486497\n",
      "VQE on Aer qasm simulator (noisy): -1.8490708\n",
      "VQE on Aer qasm simulator (noisy): -1.8508598\n",
      "VQE on Aer qasm simulator (noisy): -1.8457441\n",
      "VQE on Aer qasm simulator (noisy): -1.8493296\n",
      "VQE on Aer qasm simulator (noisy): -1.8515545\n",
      "{   'aux_operators_evaluated': None,\n",
      "    'cost_function_evals': 38,\n",
      "    'eigenvalue': -1.8515544799999997,\n",
      "    'optimal_circuit': <qiskit.circuit.library.n_local.two_local.TwoLocal object at 0x0000017794301BB0>,\n",
      "    'optimal_parameters': {   ParameterVectorElement(θ[0]): -6.455313864068384,\n",
      "                              ParameterVectorElement(θ[1]): 3.1810945420220547},\n",
      "    'optimal_point': array([-6.45531386,  3.18109454]),\n",
      "    'optimal_value': -1.8515544799999997,\n",
      "    'optimizer_evals': None,\n",
      "    'optimizer_result': <qiskit_algorithms.optimizers.optimizer.OptimizerResult object at 0x0000017794301EB0>,\n",
      "    'optimizer_time': 4.556513786315918}\n"
     ]
    }
   ],
   "source": [
    "shots = 10000\n",
    "\n",
    "num_qubits = 2\n",
    "layers = 1\n",
    "ansatz = TwoLocal(num_qubits, 'ry', 'cx', reps=layers, insert_barriers=False, skip_final_rotation_layer=True)\n",
    "optimizer = COBYLA(maxiter=1000, tol=0.00001)\n",
    "\n",
    "ideal_estimator = AerEstimator(\n",
    "    run_options={\n",
    "        \"shots\": shots})\n",
    "counts = []\n",
    "values = []\n",
    "\n",
    "\n",
    "def show_results(eval_count, parameters, mean, std):\n",
    "    counts.append(eval_count)\n",
    "    values.append(mean)\n",
    "    print(f\"VQE on Aer qasm simulator (noisy): {mean:.7f}\")\n",
    "hamiltonian = qi.SparsePauliOp.from_list(list(zip(paulis, coeffs)))\n",
    "vqe = VQE(ideal_estimator, ansatz, optimizer, callback=show_results)\n",
    "result = vqe.compute_minimum_eigenvalue(operator=hamiltonian)\n",
    "print(result)"
   ],
   "metadata": {
    "collapsed": false
   }
  },
  {
   "cell_type": "markdown",
   "source": [
    "### Noisy simulator:"
   ],
   "metadata": {
    "collapsed": false
   }
  },
  {
   "cell_type": "code",
   "execution_count": 6,
   "outputs": [
    {
     "name": "stdout",
     "output_type": "stream",
     "text": [
      "VQE on Aer qasm simulator (noisy): -1.3524824\n",
      "VQE on Aer qasm simulator (noisy): -0.9832834\n",
      "VQE on Aer qasm simulator (noisy): -1.7287039\n",
      "VQE on Aer qasm simulator (noisy): -1.4632139\n",
      "VQE on Aer qasm simulator (noisy): -1.5324639\n",
      "VQE on Aer qasm simulator (noisy): -1.7650443\n",
      "VQE on Aer qasm simulator (noisy): -1.7080168\n",
      "VQE on Aer qasm simulator (noisy): -1.6628488\n",
      "VQE on Aer qasm simulator (noisy): -1.6982285\n",
      "VQE on Aer qasm simulator (noisy): -1.7468533\n",
      "VQE on Aer qasm simulator (noisy): -1.7235768\n",
      "VQE on Aer qasm simulator (noisy): -1.7006988\n",
      "VQE on Aer qasm simulator (noisy): -1.7206557\n",
      "VQE on Aer qasm simulator (noisy): -1.7512115\n",
      "VQE on Aer qasm simulator (noisy): -1.7414566\n",
      "VQE on Aer qasm simulator (noisy): -1.7265691\n",
      "VQE on Aer qasm simulator (noisy): -1.7373391\n",
      "VQE on Aer qasm simulator (noisy): -1.7235064\n",
      "VQE on Aer qasm simulator (noisy): -1.7173393\n",
      "VQE on Aer qasm simulator (noisy): -1.7350104\n",
      "VQE on Aer qasm simulator (noisy): -1.7366346\n",
      "VQE on Aer qasm simulator (noisy): -1.7378914\n",
      "VQE on Aer qasm simulator (noisy): -1.7179691\n",
      "VQE on Aer qasm simulator (noisy): -1.7211859\n",
      "VQE on Aer qasm simulator (noisy): -1.7451889\n",
      "VQE on Aer qasm simulator (noisy): -1.7011578\n",
      "VQE on Aer qasm simulator (noisy): -1.7395715\n",
      "VQE on Aer qasm simulator (noisy): -1.7261977\n",
      "VQE on Aer qasm simulator (noisy): -1.7539703\n",
      "VQE on Aer qasm simulator (noisy): -1.7371000\n",
      "{   'aux_operators_evaluated': None,\n",
      "    'cost_function_evals': 30,\n",
      "    'eigenvalue': -1.7370999999999999,\n",
      "    'optimal_circuit': <qiskit.circuit.library.n_local.two_local.TwoLocal object at 0x00000177945C68B0>,\n",
      "    'optimal_parameters': {   ParameterVectorElement(θ[0]): -6.488323642628218,\n",
      "                              ParameterVectorElement(θ[1]): 3.298643979984804},\n",
      "    'optimal_point': array([-6.48832364,  3.29864398]),\n",
      "    'optimal_value': -1.7370999999999999,\n",
      "    'optimizer_evals': None,\n",
      "    'optimizer_result': <qiskit_algorithms.optimizers.optimizer.OptimizerResult object at 0x000001779435FFA0>,\n",
      "    'optimizer_time': 1.713409662246704}\n"
     ]
    }
   ],
   "source": [
    "fake_lima = FakeLimaV2()\n",
    "noise_model = NoiseModel.from_backend(fake_lima)\n",
    "noisy_estimator = AerEstimator(\n",
    "    backend_options={\n",
    "        \"method\": \"density_matrix\",\n",
    "        \"noise_model\": noise_model,\n",
    "    },\n",
    ")\n",
    "\n",
    "vqe = VQE(noisy_estimator, ansatz, optimizer, callback=show_results)\n",
    "result = vqe.compute_minimum_eigenvalue(operator=hamiltonian)\n",
    "\n",
    "\n",
    "print(result)\n",
    "\n"
   ],
   "metadata": {
    "collapsed": false
   }
  },
  {
   "cell_type": "code",
   "execution_count": 7,
   "outputs": [],
   "source": [
    "# IBM account\n",
    "token = '5a27fdfe6f926662f4c32c380dd6e6ef6a239da857c3b024ca5b8113c460b7a4f1272bca9594dc04519ffa8f10d4dd99b6d9c4142d7da578577dc80a783c0d0c'\n",
    "service = QiskitRuntimeService(channel=\"ibm_quantum\", token=token)\n",
    "# Save an IBM Quantum account and set it as your default account.\n",
    "QiskitRuntimeService.save_account(\n",
    "    channel=\"ibm_quantum\",\n",
    "    token=token,\n",
    "    set_as_default=True,\n",
    "    overwrite=True,)"
   ],
   "metadata": {
    "collapsed": false
   }
  },
  {
   "cell_type": "code",
   "execution_count": 9,
   "outputs": [],
   "source": [
    "from qiskit_ibm_runtime import Session,EstimatorV2 as Estimator"
   ],
   "metadata": {
    "collapsed": false
   }
  },
  {
   "cell_type": "code",
   "execution_count": 10,
   "outputs": [
    {
     "name": "stdout",
     "output_type": "stream",
     "text": [
      "min energy on real quantum machine: -0.5676677400000001\n",
      "min energy on real quantum machine with error mitigation: -0.39885877981370677\n"
     ]
    }
   ],
   "source": [
    "shots = 10000\n",
    "backend = service.least_busy(min_num_qubits=num_qubits, operational=True)\n",
    "\n",
    "pm = generate_preset_pass_manager(target=backend.target, optimization_level=2)\n",
    "transplie_circuit = pm.run(ansatz)\n",
    "observables = hamiltonian.apply_layout(transplie_circuit.layout)\n",
    "theta = [0, 1]\n",
    "# Start a runtime session\n",
    "with Session(service=service, backend=backend) as session:\n",
    "    # Set up the Estimator\n",
    "    estimator = Estimator(session)\n",
    "    estimator.options.default_shots  = shots\n",
    "    estimator.options.resilience_level = 0  #No error mitigation is applied to the user program.\n",
    "\n",
    "    job = estimator.run([(transplie_circuit,observables, theta)])\n",
    "\n",
    "    res = job.result()[0]\n",
    "    print(f\"min energy on real quantum machine: {res.data.evs}\")\n",
    "\n",
    "    estimator.options.resilience_level = 1  #with error mitigation\n",
    "    job2 = estimator.run([(transplie_circuit,observables, theta)])\n",
    "\n",
    "    res2 = job2.result()[0]\n",
    "    print(f\"min energy on real quantum machine with error mitigation: {res2.data.evs}\")\n"
   ],
   "metadata": {
    "collapsed": false
   }
  },
  {
   "cell_type": "markdown",
   "source": [
    "### Analyze results\n",
    "Exact solution: -1.851199124123644\n",
    "Ideal simulation: -1.85155\n",
    "Noisy simulation: -1.73709\n",
    "Real hardware without error mitigation: -0.56766774\n",
    "Real hardware with error mitigation: -0.398858\n",
    "\n",
    "The comparison of these results demonstrates the challenges in achieving accurate quantum computations on real hardware. Noise and hardware imperfections significantly affect the results, but error mitigation techniques can help reduce these errors, although not entirely eliminating them. The closer alignment of the ideal simulation with the exact solution confirms that the algorithm is fundamentally working."
   ],
   "metadata": {
    "collapsed": false
   }
  }
 ],
 "metadata": {
  "kernelspec": {
   "display_name": "Python 3",
   "language": "python",
   "name": "python3"
  },
  "language_info": {
   "codemirror_mode": {
    "name": "ipython",
    "version": 2
   },
   "file_extension": ".py",
   "mimetype": "text/x-python",
   "name": "python",
   "nbconvert_exporter": "python",
   "pygments_lexer": "ipython2",
   "version": "2.7.6"
  }
 },
 "nbformat": 4,
 "nbformat_minor": 0
}
