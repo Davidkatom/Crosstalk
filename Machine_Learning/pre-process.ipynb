{
 "cells": [
  {
   "cell_type": "code",
   "execution_count": 10,
   "metadata": {
    "collapsed": true
   },
   "outputs": [],
   "source": [
    "import numpy as np\n",
    "import pandas as pd\n",
    "\n",
    "#guess all values using clasic method\n",
    "\n",
    "data = pd.read_csv(filepath_or_buffer=\"data/experiments.csv\")\n",
    "copy = data.copy()\n",
    "output_keys = [] #TODO equal expectation values\n",
    "output = pd.DataFrame(columns=output_keys)\n"
   ]
  },
  {
   "cell_type": "code",
   "execution_count": 1,
   "outputs": [
    {
     "ename": "NameError",
     "evalue": "name 'data' is not defined",
     "output_type": "error",
     "traceback": [
      "\u001B[1;31m---------------------------------------------------------------------------\u001B[0m",
      "\u001B[1;31mNameError\u001B[0m                                 Traceback (most recent call last)",
      "Cell \u001B[1;32mIn[1], line 3\u001B[0m\n\u001B[0;32m      1\u001B[0m \u001B[38;5;28;01mimport\u001B[39;00m \u001B[38;5;21;01mestimator\u001B[39;00m\n\u001B[1;32m----> 3\u001B[0m \u001B[38;5;28;01mfor\u001B[39;00m i \u001B[38;5;129;01min\u001B[39;00m \u001B[38;5;28mrange\u001B[39m(\u001B[38;5;28mlen\u001B[39m(\u001B[43mdata\u001B[49m)):\n\u001B[0;32m      4\u001B[0m     Z \u001B[38;5;241m=\u001B[39m output[i]\n\u001B[0;32m      6\u001B[0m     \u001B[38;5;66;03m#get the data\u001B[39;00m\n",
      "\u001B[1;31mNameError\u001B[0m: name 'data' is not defined"
     ]
    }
   ],
   "source": [
    "import estimator\n",
    "from tqdm import tqdm\n",
    "parameters = []\n",
    "for i in tqdm(range(len(data))):\n",
    "    # Your code here    #get the data\n",
    "    batch_x = data[i] #TODO equal output values\n",
    "    batch_y = data[i] #TODO equal output values\n",
    "    neighbors = 2\n",
    "\n",
    "    #guess all values using clasic method\n",
    "    guessed_decay,guessed_W,guessed_J = estimator.full_complex_fit(batch_x, batch_y, neighbors=neighbors)\n",
    "    parameters.append(np.concatenate(guessed_decay, guessed_W, guessed_J))\n"
   ],
   "metadata": {
    "collapsed": false
   }
  },
  {
   "cell_type": "code",
   "execution_count": null,
   "outputs": [],
   "source": [
    "#create a new copy csv\n",
    "for i in range(len(data)):\n",
    "    #from the column W_0 to the end decrease the value by the guessed value\n",
    "    w0_index = list(data.columns).index('W_0')\n",
    "    for j in range(w0_index, len(data.columns)):\n",
    "        copy.iloc[i,j] = copy.iloc[i,j] - parameters[i,j]\n",
    "\n",
    "#save the new csv\n",
    "copy.to_csv(\"experiments_processed.csv\", index=False)"
   ],
   "metadata": {
    "collapsed": false
   }
  },
  {
   "cell_type": "code",
   "execution_count": 1,
   "outputs": [],
   "source": [
    "#in the direcotry C:\\Projects\\Crosstalk\\Machine_Learning\\Data\\2024-08-19_21-56, create one large csv file with all the data\n",
    "import os\n",
    "import pandas as pd\n",
    "\n",
    "# Directory where the CSV files are located\n",
    "directory = r'C:\\Projects\\Crosstalk\\Machine_Learning\\Data\\final\\3qubits-many experiments'\n",
    "\n",
    "# Get a list of all CSV files in the directory\n",
    "csv_files = [f for f in os.listdir(directory) if f.endswith('.csv')]\n",
    "\n",
    "# Initialize an empty list to hold dataframes\n",
    "dfs = []\n",
    "\n",
    "# Loop through all CSV files and read each into a DataFrame\n",
    "for csv_file in csv_files:\n",
    "    df = pd.read_csv(os.path.join(directory, csv_file))\n",
    "    dfs.append(df)\n",
    "\n",
    "# Concatenate all dataframes into one large dataframe\n",
    "large_df = pd.concat(dfs, ignore_index=True)\n",
    "\n",
    "# Write the large dataframe to a new CSV file\n",
    "large_df.to_csv(r'C:\\Projects\\Crosstalk\\Machine_Learning\\Data\\final\\3qubits-many experiments\\large_data.csv', index=False)\n"
   ],
   "metadata": {
    "collapsed": false
   }
  },
  {
   "cell_type": "code",
   "execution_count": 6,
   "outputs": [
    {
     "name": "stdout",
     "output_type": "stream",
     "text": [
      "Created output_50.csv with 50 rows.\n",
      "Created output_500.csv with 500 rows.\n",
      "Created output_5000.csv with 5000 rows.\n",
      "Created output_50000.csv with 50000 rows.\n"
     ]
    }
   ],
   "source": [
    "import pandas as pd\n",
    "\n",
    "# Replace 'input.csv' with the path to your CSV file\n",
    "input_file = r'C:\\Projects\\Crosstalk\\Machine_Learning\\Data\\final\\3qubits-many experiments-TODO/'\n",
    "input_file = input_file + \"output_50000.csv\"\n",
    "\n",
    "# Read the CSV file into a DataFrame\n",
    "df = pd.read_csv(input_file)\n",
    "\n",
    "# Shuffle the DataFrame\n",
    "df_shuffled = df.sample(frac=1, random_state=42).reset_index(drop=True)\n",
    "\n",
    "# Define the sample sizes\n",
    "sample_sizes = [50, 500, 5000, 50000]\n",
    "\n",
    "# Loop over each sample size\n",
    "for size in sample_sizes:\n",
    "    # Get the first 'size' rows from the shuffled DataFrame\n",
    "    df_sample = df_shuffled.iloc[:size]\n",
    "\n",
    "    # Define the output file name\n",
    "    output_file = f'output_{size}.csv'\n",
    "\n",
    "    # Write the sampled DataFrame to a new CSV file\n",
    "    df_sample.to_csv(output_file, index=False)\n",
    "\n",
    "    print(f\"Created {output_file} with {size} rows.\")\n"
   ],
   "metadata": {
    "collapsed": false
   }
  }
 ],
 "metadata": {
  "kernelspec": {
   "display_name": "Python 3",
   "language": "python",
   "name": "python3"
  },
  "language_info": {
   "codemirror_mode": {
    "name": "ipython",
    "version": 2
   },
   "file_extension": ".py",
   "mimetype": "text/x-python",
   "name": "python",
   "nbconvert_exporter": "python",
   "pygments_lexer": "ipython2",
   "version": "2.7.6"
  }
 },
 "nbformat": 4,
 "nbformat_minor": 0
}
