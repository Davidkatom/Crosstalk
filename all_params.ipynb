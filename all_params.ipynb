{
 "cells": [
  {
   "cell_type": "code",
   "execution_count": 3,
   "metadata": {
    "collapsed": true
   },
   "outputs": [
    {
     "name": "stderr",
     "output_type": "stream",
     "text": [
      "ibmqfactory.load_account:WARNING:2024-02-29 16:25:39,577: Credentials are already in use. The existing account in the session will be replaced.\n"
     ]
    }
   ],
   "source": [
    "import math\n",
    "\n",
    "import matplotlib.pyplot as plt\n",
    "import numpy as np\n",
    "import os\n",
    "import time\n",
    "\n",
    "import qiskit\n",
    "from qiskit import QuantumCircuit, QuantumRegister, ClassicalRegister, execute, Aer\n",
    "import qiskit as qiskit\n",
    "import qiskit.quantum_info as qi\n",
    "from qiskit import QuantumCircuit, transpile, Aer, IBMQ\n",
    "\n",
    "import ramsey_experiment\n",
    "\n",
    "# Loading your IBM Quantum account(s)\n",
    "IBMQ.save_account(os.environ.get('IBM_KEY'), overwrite=True)\n",
    "IBMQ.load_account()\n",
    "provider = IBMQ.get_provider(hub='ibm-q-research')\n",
    "import Ramsey_ExperimentV2\n",
    "import random\n",
    "import importlib\n",
    "from tqdm import tqdm\n",
    "ramsey_experiment = importlib.reload(Ramsey_ExperimentV2)\n",
    "RamseyExperiment = ramsey_experiment.RamseyExperiment\n",
    "RamseyBatch = ramsey_experiment.RamseyBatch"
   ]
  },
  {
   "cell_type": "code",
   "execution_count": 7,
   "outputs": [
    {
     "name": "stderr",
     "output_type": "stream",
     "text": [
      "100%|██████████| 1/1 [00:00<00:00,  7.98it/s]\n",
      "100%|██████████| 1/1 [00:00<00:00,  3.16it/s]\n"
     ]
    }
   ],
   "source": [
    "import numpy as np\n",
    "import math\n",
    "n = 4\n",
    "total_shots = 10000\n",
    "T = np.pi\n",
    "measurements = 100\n",
    "delay = np.linspace(0, T, measurements)\n",
    "\n",
    "W = [random.gauss(0, 3) for _ in range(n)]\n",
    "L = [random.gauss(3, 1) for _ in range(n)]\n",
    "J = [random.gauss(0, 3) for _ in range(n - 1)]\n",
    "#\n",
    "# L = [3,3,3]\n",
    "# J = [4,4]\n",
    "# W = [4,4,4]\n",
    "\n",
    "batch_x = []\n",
    "batch_y = []\n",
    "\n",
    "delay = [0.3]\n",
    "for t in tqdm(delay):\n",
    "    shots = int(total_shots/2)\n",
    "    exp_x = RamseyExperiment(n, t, shots, J, W, L, basis=\"X\")\n",
    "    exp_y = RamseyExperiment(n, t, shots, J, W, L, basis=\"Y\")\n",
    "    exp_x.create_full_circuit()\n",
    "    exp_y.create_full_circuit()\n",
    "    exp_x.add_decay_raw()\n",
    "    exp_y.add_decay_raw()\n",
    "    batch_x.append(exp_x)\n",
    "    batch_y.append(exp_y)\n",
    "\n",
    "batch_x = RamseyBatch(batch_x)\n",
    "batch_y = RamseyBatch(batch_y)\n",
    "\n",
    "batch_x_det = []\n",
    "batch_x_cross = []\n",
    "batch_y_det = []\n",
    "batch_y_cross = []\n",
    "\n",
    "for t in tqdm(delay):\n",
    "    shots = int(total_shots/4)\n",
    "    exp_x_det = RamseyExperiment(n, t, shots, J, W, L, basis=\"X\")\n",
    "    exp_y_det = RamseyExperiment(n, t, shots, J, W, L, basis=\"Y\")\n",
    "    exp_x_cross = RamseyExperiment(n, t, shots, J, W, L, basis=\"X\")\n",
    "    exp_y_cross = RamseyExperiment(n, t, shots, J, W, L, basis=\"Y\")\n",
    "\n",
    "    exp_x_det.create_circuit_detuning()\n",
    "    exp_y_det.create_circuit_detuning()\n",
    "    exp_x_cross.create_circuit_crosstalk()\n",
    "    exp_y_cross.create_circuit_crosstalk()\n",
    "\n",
    "    exp_x_det.add_decay_raw()\n",
    "    exp_y_det.add_decay_raw()\n",
    "    exp_x_cross.add_decay_raw()\n",
    "    exp_y_cross.add_decay_raw()\n",
    "\n",
    "    batch_x_det.append(exp_x_det)\n",
    "    batch_y_det.append(exp_y_det)\n",
    "    batch_x_cross.append(exp_x_cross)\n",
    "    batch_y_cross.append(exp_y_cross)\n",
    "\n",
    "\n",
    "batch_x_det = RamseyBatch(batch_x_det)\n",
    "batch_y_det = RamseyBatch(batch_y_det)\n",
    "batch_x_cross = RamseyBatch(batch_x_cross)\n",
    "batch_y_cross = RamseyBatch(batch_y_cross)\n"
   ],
   "metadata": {
    "collapsed": false
   }
  },
  {
   "cell_type": "code",
   "execution_count": 55,
   "outputs": [],
   "source": [
    "ramsey_experiment = importlib.reload(Ramsey_ExperimentV2)\n",
    "RamseyExperiment = ramsey_experiment.RamseyExperiment\n",
    "RamseyBatch = ramsey_experiment.RamseyBatch"
   ],
   "metadata": {
    "collapsed": false
   }
  },
  {
   "cell_type": "markdown",
   "source": [
    "## qubit by qubit\n"
   ],
   "metadata": {
    "collapsed": false
   }
  },
  {
   "cell_type": "code",
   "execution_count": 8,
   "outputs": [
    {
     "name": "stdout",
     "output_type": "stream",
     "text": [
      "guessed decay:  [2.2558154349904056, 2.117500243836111, 4.369283608748806, 3.7773071998137167]\n",
      "real decay:  [2.54852642270674, 2.019306481861285, 4.132039728543912, 3.7651274137060406]\n",
      "guessed frequency:  [2.5066767034972837, -3.577925927297255, 2.450068854054635, -0.4401966745808719]\n",
      "real frequency:  [2.7062362646115443, -3.6634883371055706, 2.583042929939851, -0.6996862800250638]\n",
      "guessed J:  [-0.6463851790187427, -0.6437151220823825, 1.519316852577039]\n",
      "real J:  [-1.0220244695554248, -0.7894454343182669, 1.3325733741291828]\n",
      "error:  0.20913935652887944\n",
      "error in percent:  9.106874819756435\n"
     ]
    }
   ],
   "source": [
    "\n",
    "guessed_decay,guessed_W,guessed_J = ramsey_experiment.one_by_one_fit(batch_x_det, batch_y_det, batch_x_cross, batch_y_cross)\n",
    "print(\"guessed decay: \", guessed_decay)\n",
    "print(\"real decay: \", L)\n",
    "print(\"guessed frequency: \", guessed_W)\n",
    "print(\"real frequency: \", W)\n",
    "print(\"guessed J: \", guessed_J)\n",
    "print(\"real J: \", J)\n",
    "\n",
    "guessed = np.concatenate([guessed_decay,guessed_W,guessed_J])\n",
    "real_parameters = np.concatenate([L,W,J])\n",
    "mse = np.mean((guessed - real_parameters)**2)\n",
    "print(\"error: \", np.sqrt(mse))\n",
    "print(\"error in percent: \", np.sqrt(mse)/np.mean(np.abs(real_parameters)) * 100)"
   ],
   "metadata": {
    "collapsed": false
   }
  },
  {
   "cell_type": "markdown",
   "source": [
    "## global"
   ],
   "metadata": {
    "collapsed": false
   }
  },
  {
   "cell_type": "code",
   "execution_count": 25,
   "outputs": [
    {
     "name": "stdout",
     "output_type": "stream",
     "text": [
      "guessed decay:  [2.51087863 1.92017758 4.18364043 3.29673457]\n",
      "real decay:  [2.54852642270674, 2.019306481861285, 4.132039728543912, 3.7651274137060406]\n",
      "guessed frequency:  [ 2.80887019 -3.66036706  1.72546204 -1.17141773]\n",
      "real frequency:  [2.7062362646115443, -3.6634883371055706, 2.583042929939851, -0.6996862800250638]\n",
      "guessed J:  [-1.10825328 -1.0170087   3.12282177]\n",
      "real J:  [-1.0220244695554248, -0.7894454343182669, 1.3325733741291828]\n",
      "error:  0.6371832300180734\n",
      "error in percent:  27.745843772936063\n",
      "number of neighbors:  1\n"
     ]
    }
   ],
   "source": [
    "\n",
    "neighbors = 1\n",
    "guessed_decay,guessed_W,guessed_J = ramsey_experiment.full_complex_fit(batch_x, batch_y, neighbors=neighbors)\n",
    "\n",
    "print(\"guessed decay: \", guessed_decay)\n",
    "print(\"real decay: \", L)\n",
    "print(\"guessed frequency: \", guessed_W)\n",
    "print(\"real frequency: \", W)\n",
    "print(\"guessed J: \", guessed_J)\n",
    "print(\"real J: \", J)\n",
    "\n",
    "guessed = np.concatenate([guessed_decay,guessed_W,guessed_J])\n",
    "real_parameters = np.concatenate([L,W,J])\n",
    "mse = np.mean((guessed - real_parameters)**2)\n",
    "print(\"error: \", np.sqrt(mse))\n",
    "print(\"error in percent: \", np.sqrt(mse)/np.mean(np.abs(real_parameters)) * 100)\n",
    "print(\"number of neighbors: \", neighbors)"
   ],
   "metadata": {
    "collapsed": false
   }
  },
  {
   "cell_type": "markdown",
   "source": [
    "## global Noise"
   ],
   "metadata": {
    "collapsed": false
   },
   "execution_count": 13
  },
  {
   "cell_type": "code",
   "execution_count": 56,
   "outputs": [
    {
     "ename": "ValueError",
     "evalue": "zero-dimensional arrays cannot be concatenated",
     "output_type": "error",
     "traceback": [
      "\u001B[1;31m---------------------------------------------------------------------------\u001B[0m",
      "\u001B[1;31mValueError\u001B[0m                                Traceback (most recent call last)",
      "Cell \u001B[1;32mIn[56], line 2\u001B[0m\n\u001B[0;32m      1\u001B[0m neighbors \u001B[38;5;241m=\u001B[39m \u001B[38;5;241m1\u001B[39m\n\u001B[1;32m----> 2\u001B[0m guessed_decay,guessed_W,guessed_J \u001B[38;5;241m=\u001B[39m \u001B[43mramsey_experiment\u001B[49m\u001B[38;5;241;43m.\u001B[39;49m\u001B[43mfull_complex_fit_noise\u001B[49m\u001B[43m(\u001B[49m\u001B[43mbatch_x\u001B[49m\u001B[43m,\u001B[49m\u001B[43m \u001B[49m\u001B[43mbatch_y\u001B[49m\u001B[43m,\u001B[49m\u001B[43m \u001B[49m\u001B[43mtotal_shots\u001B[49m\u001B[43m,\u001B[49m\u001B[43m \u001B[49m\u001B[43mneighbors\u001B[49m\u001B[38;5;241;43m=\u001B[39;49m\u001B[43mneighbors\u001B[49m\u001B[43m)\u001B[49m\n\u001B[0;32m      4\u001B[0m \u001B[38;5;28mprint\u001B[39m(\u001B[38;5;124m\"\u001B[39m\u001B[38;5;124mguessed decay: \u001B[39m\u001B[38;5;124m\"\u001B[39m, guessed_decay)\n\u001B[0;32m      5\u001B[0m \u001B[38;5;28mprint\u001B[39m(\u001B[38;5;124m\"\u001B[39m\u001B[38;5;124mreal decay: \u001B[39m\u001B[38;5;124m\"\u001B[39m, L)\n",
      "File \u001B[1;32mC:\\Projects\\Crosstalk\\Ramsey_ExperimentV2.py:674\u001B[0m, in \u001B[0;36mfull_complex_fit_noise\u001B[1;34m(batch_x, batch_y, shots, neighbors)\u001B[0m\n\u001B[0;32m    669\u001B[0m z_points \u001B[38;5;241m=\u001B[39m np\u001B[38;5;241m.\u001B[39mconcatenate(data)\n\u001B[0;32m    671\u001B[0m \u001B[38;5;66;03m# params, params_covariance, *c = curve_fit(model_func, t_points, z_points, p0=initial_guess, bounds=bounds, sigma=np.sqrt(1/weights), absolute_sigma=True)\u001B[39;00m\n\u001B[0;32m    672\u001B[0m \u001B[38;5;66;03m# Corrected call to least_squares\u001B[39;00m\n\u001B[1;32m--> 674\u001B[0m params_result \u001B[38;5;241m=\u001B[39m \u001B[43mleast_squares\u001B[49m\u001B[43m(\u001B[49m\u001B[43mobjective_with_L2\u001B[49m\u001B[43m,\u001B[49m\u001B[43m \u001B[49m\u001B[43minitial_guess\u001B[49m\u001B[43m,\u001B[49m\u001B[43m \u001B[49m\u001B[43margs\u001B[49m\u001B[38;5;241;43m=\u001B[39;49m\u001B[43m(\u001B[49m\u001B[43mt_points\u001B[49m\u001B[43m,\u001B[49m\u001B[43m \u001B[49m\u001B[43mz_points\u001B[49m\u001B[43m,\u001B[49m\u001B[43m \u001B[49m\u001B[38;5;241;43m0.01\u001B[39;49m\u001B[43m)\u001B[49m\u001B[43m)\u001B[49m\n\u001B[0;32m    675\u001B[0m params \u001B[38;5;241m=\u001B[39m params_result\u001B[38;5;241m.\u001B[39mx  \u001B[38;5;66;03m# Extracting the best fit parameters\u001B[39;00m\n\u001B[0;32m    677\u001B[0m guessed_decay \u001B[38;5;241m=\u001B[39m params[:batch_x\u001B[38;5;241m.\u001B[39mn][::\u001B[38;5;241m-\u001B[39m\u001B[38;5;241m1\u001B[39m]\n",
      "File \u001B[1;32m~\\AppData\\Local\\Programs\\Python\\Python39\\lib\\site-packages\\scipy\\optimize\\_lsq\\least_squares.py:832\u001B[0m, in \u001B[0;36mleast_squares\u001B[1;34m(fun, x0, jac, bounds, method, ftol, xtol, gtol, x_scale, loss, f_scale, diff_step, tr_solver, tr_options, jac_sparsity, max_nfev, verbose, args, kwargs)\u001B[0m\n\u001B[0;32m    829\u001B[0m \u001B[38;5;28;01mdef\u001B[39;00m \u001B[38;5;21mfun_wrapped\u001B[39m(x):\n\u001B[0;32m    830\u001B[0m     \u001B[38;5;28;01mreturn\u001B[39;00m np\u001B[38;5;241m.\u001B[39matleast_1d(fun(x, \u001B[38;5;241m*\u001B[39margs, \u001B[38;5;241m*\u001B[39m\u001B[38;5;241m*\u001B[39mkwargs))\n\u001B[1;32m--> 832\u001B[0m f0 \u001B[38;5;241m=\u001B[39m \u001B[43mfun_wrapped\u001B[49m\u001B[43m(\u001B[49m\u001B[43mx0\u001B[49m\u001B[43m)\u001B[49m\n\u001B[0;32m    834\u001B[0m \u001B[38;5;28;01mif\u001B[39;00m f0\u001B[38;5;241m.\u001B[39mndim \u001B[38;5;241m!=\u001B[39m \u001B[38;5;241m1\u001B[39m:\n\u001B[0;32m    835\u001B[0m     \u001B[38;5;28;01mraise\u001B[39;00m \u001B[38;5;167;01mValueError\u001B[39;00m(\u001B[38;5;124m\"\u001B[39m\u001B[38;5;124m`fun` must return at most 1-d array_like. \u001B[39m\u001B[38;5;124m\"\u001B[39m\n\u001B[0;32m    836\u001B[0m                      \u001B[38;5;124mf\u001B[39m\u001B[38;5;124m\"\u001B[39m\u001B[38;5;124mf0.shape: \u001B[39m\u001B[38;5;132;01m{\u001B[39;00mf0\u001B[38;5;241m.\u001B[39mshape\u001B[38;5;132;01m}\u001B[39;00m\u001B[38;5;124m\"\u001B[39m)\n",
      "File \u001B[1;32m~\\AppData\\Local\\Programs\\Python\\Python39\\lib\\site-packages\\scipy\\optimize\\_lsq\\least_squares.py:830\u001B[0m, in \u001B[0;36mleast_squares.<locals>.fun_wrapped\u001B[1;34m(x)\u001B[0m\n\u001B[0;32m    829\u001B[0m \u001B[38;5;28;01mdef\u001B[39;00m \u001B[38;5;21mfun_wrapped\u001B[39m(x):\n\u001B[1;32m--> 830\u001B[0m     \u001B[38;5;28;01mreturn\u001B[39;00m np\u001B[38;5;241m.\u001B[39matleast_1d(fun(x, \u001B[38;5;241m*\u001B[39margs, \u001B[38;5;241m*\u001B[39m\u001B[38;5;241m*\u001B[39mkwargs))\n",
      "File \u001B[1;32mC:\\Projects\\Crosstalk\\Ramsey_ExperimentV2.py:656\u001B[0m, in \u001B[0;36mfull_complex_fit_noise.<locals>.objective_with_L2\u001B[1;34m(params, t, data, lambda_reg)\u001B[0m\n\u001B[0;32m    655\u001B[0m \u001B[38;5;28;01mdef\u001B[39;00m \u001B[38;5;21mobjective_with_L2\u001B[39m(params, t, data, lambda_reg):\n\u001B[1;32m--> 656\u001B[0m     predictions \u001B[38;5;241m=\u001B[39m \u001B[43mmodel_func\u001B[49m\u001B[43m(\u001B[49m\u001B[43mt\u001B[49m\u001B[43m[\u001B[49m\u001B[38;5;241;43m0\u001B[39;49m\u001B[43m]\u001B[49m\u001B[43m,\u001B[49m\u001B[43m \u001B[49m\u001B[38;5;241;43m*\u001B[39;49m\u001B[43mparams\u001B[49m\u001B[43m)\u001B[49m\n\u001B[0;32m    657\u001B[0m     residuals \u001B[38;5;241m=\u001B[39m predictions \u001B[38;5;241m-\u001B[39m data  \u001B[38;5;66;03m# Assuming 'data' is a flat array like 'predictions'\u001B[39;00m\n\u001B[0;32m    658\u001B[0m     L2_penalty \u001B[38;5;241m=\u001B[39m lambda_reg \u001B[38;5;241m*\u001B[39m np\u001B[38;5;241m.\u001B[39msum(np\u001B[38;5;241m.\u001B[39msquare(params))  \u001B[38;5;66;03m# L2 regularization term\u001B[39;00m\n",
      "File \u001B[1;32mC:\\Projects\\Crosstalk\\Ramsey_ExperimentV2.py:651\u001B[0m, in \u001B[0;36mfull_complex_fit_noise.<locals>.model_func\u001B[1;34m(t, *params)\u001B[0m\n\u001B[0;32m    648\u001B[0m functions \u001B[38;5;241m=\u001B[39m np\u001B[38;5;241m.\u001B[39marray([expr(t, \u001B[38;5;241m*\u001B[39mW, \u001B[38;5;241m*\u001B[39mA, \u001B[38;5;241m*\u001B[39mJ) \u001B[38;5;28;01mfor\u001B[39;00m expr \u001B[38;5;129;01min\u001B[39;00m symbolic_exp])\n\u001B[0;32m    649\u001B[0m functions \u001B[38;5;241m=\u001B[39m functions\u001B[38;5;241m.\u001B[39mT\n\u001B[1;32m--> 651\u001B[0m functions \u001B[38;5;241m=\u001B[39m \u001B[43mnp\u001B[49m\u001B[38;5;241;43m.\u001B[39;49m\u001B[43mconcatenate\u001B[49m\u001B[43m(\u001B[49m\u001B[43mfunctions\u001B[49m\u001B[43m)\u001B[49m\n\u001B[0;32m    653\u001B[0m \u001B[38;5;28;01mreturn\u001B[39;00m functions\n",
      "File \u001B[1;32m<__array_function__ internals>:180\u001B[0m, in \u001B[0;36mconcatenate\u001B[1;34m(*args, **kwargs)\u001B[0m\n",
      "\u001B[1;31mValueError\u001B[0m: zero-dimensional arrays cannot be concatenated"
     ]
    }
   ],
   "source": [
    "\n",
    "neighbors = 1\n",
    "guessed_decay,guessed_W,guessed_J = ramsey_experiment.full_complex_fit_noise(batch_x, batch_y, total_shots, neighbors=neighbors)\n",
    "\n",
    "print(\"guessed decay: \", guessed_decay)\n",
    "print(\"real decay: \", L)\n",
    "print(\"guessed frequency: \", guessed_W)\n",
    "print(\"real frequency: \", W)\n",
    "print(\"guessed J: \", guessed_J)\n",
    "print(\"real J: \", J)\n",
    "\n",
    "guessed = np.concatenate([guessed_decay,guessed_W,guessed_J])\n",
    "real_parameters = np.concatenate([L,W,J])\n",
    "mse = np.mean((guessed - real_parameters)**2)\n",
    "print(\"error: \", np.sqrt(mse))\n",
    "print(\"error in percent: \", np.sqrt(mse)/np.mean(np.abs(real_parameters)) * 100)\n",
    "print(\"number of neighbors: \", neighbors)"
   ],
   "metadata": {
    "collapsed": false
   }
  },
  {
   "cell_type": "code",
   "execution_count": 11,
   "outputs": [],
   "source": [
    "import Symbolic.symbolic_evolution as symbolic_evolution\n",
    "importlib.reload(symbolic_evolution)\n",
    "symbolic_exp = symbolic_evolution.get_expectation_values_exp(n, neighbors=neighbors)\n"
   ],
   "metadata": {
    "collapsed": false
   }
  },
  {
   "cell_type": "code",
   "execution_count": 34,
   "outputs": [
    {
     "data": {
      "text/plain": "<matplotlib.legend.Legend at 0x1ab1e1f3790>"
     },
     "execution_count": 34,
     "metadata": {},
     "output_type": "execute_result"
    },
    {
     "data": {
      "text/plain": "<Figure size 640x480 with 1 Axes>",
      "image/png": "[encoded data removed]"
     },
     "metadata": {},
     "output_type": "display_data"
    }
   ],
   "source": [
    "import matplotlib.pyplot as plt\n",
    "\n",
    "data = []\n",
    "for i in range(len(delay)):\n",
    "    data.append(batch_x.RamseyExperiments[i].get_n_nearest_neighbors(neighbors))\n",
    "    data.append(batch_y.RamseyExperiments[i].get_n_nearest_neighbors(neighbors))\n",
    "data = np.concatenate(data)\n",
    "\n",
    "model = []\n",
    "guessed = []\n",
    "for t in delay:\n",
    "    for i in range(2*(n+n-1)):\n",
    "        model.append(symbolic_evolution.set_parameters(symbolic_exp[i],W,J,L,t))\n",
    "        guessed.append(symbolic_evolution.set_parameters(symbolic_exp[i], guessed_W, guessed_J, guessed_decay,t))\n",
    "\n",
    "\n",
    "# plt.plot(data, model_func(delay,guessed_decay,guessed_W,guessed_J), 'o')\n",
    "plt.plot(data, model, 'o', label=\"model\")\n",
    "plt.plot(data, guessed, 'o', label=\"guessed\")\n",
    "plt.plot(np.linspace(-0.5,0.5,40), np.linspace(-0.5,0.5,40), 'r')\n",
    "plt.grid()\n",
    "plt.legend()\n",
    "# print(z_points - model_func(delay,L,W,J))"
   ],
   "metadata": {
    "collapsed": false
   }
  }
 ],
 "metadata": {
  "kernelspec": {
   "display_name": "Python 3",
   "language": "python",
   "name": "python3"
  },
  "language_info": {
   "codemirror_mode": {
    "name": "ipython",
    "version": 2
   },
   "file_extension": ".py",
   "mimetype": "text/x-python",
   "name": "python",
   "nbconvert_exporter": "python",
   "pygments_lexer": "ipython2",
   "version": "2.7.6"
  }
 },
 "nbformat": 4,
 "nbformat_minor": 0
}
