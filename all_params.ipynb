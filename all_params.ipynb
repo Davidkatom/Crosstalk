{
 "cells": [
  {
   "cell_type": "code",
   "execution_count": 1,
   "metadata": {
    "collapsed": true
   },
   "outputs": [
    {
     "name": "stderr",
     "output_type": "stream",
     "text": [
      "ibmqfactory.load_account:WARNING:2024-02-22 16:47:38,208: Credentials are already in use. The existing account in the session will be replaced.\n"
     ]
    }
   ],
   "source": [
    "import math\n",
    "\n",
    "import matplotlib.pyplot as plt\n",
    "import numpy as np\n",
    "import os\n",
    "import time\n",
    "\n",
    "import qiskit\n",
    "from qiskit import QuantumCircuit, QuantumRegister, ClassicalRegister, execute, Aer\n",
    "import qiskit as qiskit\n",
    "import qiskit.quantum_info as qi\n",
    "from qiskit import QuantumCircuit, transpile, Aer, IBMQ\n",
    "\n",
    "import ramsey_experiment\n",
    "\n",
    "# Loading your IBM Quantum account(s)\n",
    "IBMQ.save_account(os.environ.get('IBM_KEY'), overwrite=True)\n",
    "IBMQ.load_account()\n",
    "provider = IBMQ.get_provider(hub='ibm-q-research')\n",
    "import Ramsey_ExperimentV2\n",
    "import random\n",
    "import importlib\n",
    "from tqdm import tqdm\n",
    "ramsey_experiment = importlib.reload(Ramsey_ExperimentV2)\n",
    "RamseyExperiment = ramsey_experiment.RamseyExperiment\n",
    "RamseyBatch = ramsey_experiment.RamseyBatch"
   ]
  },
  {
   "cell_type": "code",
   "execution_count": 46,
   "outputs": [
    {
     "name": "stderr",
     "output_type": "stream",
     "text": [
      "100%|██████████| 2/2 [00:02<00:00,  1.19s/it]\n"
     ]
    }
   ],
   "source": [
    "import numpy as np\n",
    "import math\n",
    "n = 4\n",
    "T = 0.5*np.pi\n",
    "shots = 10000\n",
    "measurements = 10\n",
    "delay = np.linspace(0, T, measurements)\n",
    "# delay= [1.5 3]\n",
    "optimal_delay = [0.05, 1.4]\n",
    "optimal_shots = [2000, 3000]\n",
    "\n",
    "W = [random.gauss(0, 3) for _ in range(n)]\n",
    "L = [random.gauss(3, 1) for _ in range(n)]\n",
    "J = [random.gauss(0, 3) for _ in range(n - 1)]\n",
    "\n",
    "# L = [3,3,3,3]\n",
    "# J = [4,4,4]\n",
    "# W = [4,4,4,4]\n",
    "\n",
    "batch_x = []\n",
    "batch_y = []\n",
    "\n",
    "delay = [0.3, 0.5]\n",
    "for t in tqdm(delay):\n",
    "    exp_x = RamseyExperiment(n, t, 100000, J, W, L, basis=\"X\")\n",
    "    exp_y = RamseyExperiment(n, t, 100000, J, W, L, basis=\"Y\")\n",
    "    exp_x.create_full_circuit()\n",
    "    exp_y.create_full_circuit()\n",
    "    exp_x.add_decay_raw()\n",
    "    exp_y.add_decay_raw()\n",
    "    batch_x.append(exp_x)\n",
    "    batch_y.append(exp_y)\n",
    "\n",
    "batch_x = RamseyBatch(batch_x)\n",
    "batch_y = RamseyBatch(batch_y)\n",
    "\n",
    "#print(effective_hem(3,J,W))"
   ],
   "metadata": {
    "collapsed": false
   }
  },
  {
   "cell_type": "code",
   "execution_count": 606,
   "outputs": [],
   "source": [
    "ramsey_experiment = importlib.reload(Ramsey_ExperimentV2)\n",
    "RamseyExperiment = ramsey_experiment.RamseyExperiment\n",
    "RamseyBatch = ramsey_experiment.RamseyBatch"
   ],
   "metadata": {
    "collapsed": false
   }
  },
  {
   "cell_type": "code",
   "execution_count": 47,
   "outputs": [
    {
     "name": "stdout",
     "output_type": "stream",
     "text": [
      "guessed decay:  [3.68035355 4.31551703 1.72068487 3.39676274]\n",
      "real decay:  [3.8624835013949923, 4.319662849407038, 1.6614517820461114, 3.4319784160490876]\n",
      "guessed frequency:  [-0.67714368 -4.29176738  1.89244915 -6.13486567]\n",
      "real frequency:  [1.1664987007597802, -2.5173343250283473, 1.7754528626265618, -6.126751938130779]\n",
      "guessed J:  [2.14110861 3.39017952 0.34637996]\n",
      "real J:  [-1.4917067747639106, 3.5182242627179963, 0.45771830738967995]\n",
      "error:  1.342503101269371\n"
     ]
    }
   ],
   "source": [
    "\n",
    "guessed_decay,guessed_W,guessed_J = ramsey_experiment.full_complex_fit(batch_x, batch_y)\n",
    "\n",
    "print(\"guessed decay: \", guessed_decay)\n",
    "print(\"real decay: \", L)\n",
    "print(\"guessed frequency: \", guessed_W)\n",
    "print(\"real frequency: \", W)\n",
    "print(\"guessed J: \", guessed_J)\n",
    "print(\"real J: \", J)\n",
    "\n",
    "guessed = np.concatenate([guessed_decay,guessed_W,guessed_J])\n",
    "real_parameters = np.concatenate([L,W,J])\n",
    "mse = np.mean((guessed - real_parameters)**2)\n",
    "print(\"error: \", np.sqrt(mse))"
   ],
   "metadata": {
    "collapsed": false
   }
  },
  {
   "cell_type": "code",
   "execution_count": 50,
   "outputs": [],
   "source": [
    "import symbolic_evolution\n",
    "importlib.reload(symbolic_evolution)\n",
    "symbolic_exp = symbolic_evolution.get_expectation_values(n,W,J,L, neighbors=1)\n"
   ],
   "metadata": {
    "collapsed": false
   }
  },
  {
   "cell_type": "code",
   "execution_count": 51,
   "outputs": [
    {
     "data": {
      "text/plain": "<Figure size 640x480 with 1 Axes>",
      "image/png": "[encoded data removed]"
     },
     "metadata": {},
     "output_type": "display_data"
    }
   ],
   "source": [
    "def model_func(times, A, W, J):\n",
    "    x_models = []\n",
    "    y_models = []\n",
    "\n",
    "    x_correlations = []\n",
    "    y_correlations = []\n",
    "\n",
    "    A = A[::-1]\n",
    "    W = W[::-1]\n",
    "    J = J[::-1]\n",
    "\n",
    "\n",
    "    X = []\n",
    "    Y = []\n",
    "    for t in times:\n",
    "        for i in range(n):\n",
    "            x_model = (np.cos(W[i] * t)) * np.exp(-A[i] * t)\n",
    "            y_model = -(np.sin(W[i] * t)) * np.exp(-A[i] * t)\n",
    "            norm = 1\n",
    "            if i > 0:\n",
    "                x_model += np.cos((W[i] + J[i - 1]) * t) * np.exp(-A[i] * t)\n",
    "                y_model -= np.sin((W[i] + J[i - 1]) * t) * np.exp(-A[i] * t)\n",
    "                norm += 1\n",
    "\n",
    "            if i < n - 1:\n",
    "                x_model += np.cos((W[i] + J[i]) * t) * np.exp(-A[i] * t)  # Updated to use J[i] instead of J[i + 1]\n",
    "                y_model -= np.sin((W[i] + J[i]) * t) * np.exp(-A[i] * t)  # Same here, for consistency\n",
    "                norm += 1\n",
    "\n",
    "            if 0 < i < n - 1:\n",
    "                x_model += np.cos((W[i] + J[i - 1] + J[i]) * t) * np.exp(-A[i] * t)\n",
    "                y_model -= np.sin((W[i] + J[i - 1] + J[i]) * t) * np.exp(-A[i] * t)\n",
    "                norm += 1\n",
    "            x_models.append(x_model/norm)\n",
    "            y_models.append(y_model/norm)\n",
    "\n",
    "            X.append(x_model/norm)\n",
    "            Y.append(y_model/norm)\n",
    "        for i in range(n-1):\n",
    "            x_correlation = 0\n",
    "            norm = 0\n",
    "            if i < len(J):\n",
    "                x_correlation += (np.cos((W[i] + W[i + 1] + J[i]) * t)) * np.exp(-(A[i] + A[i + 1]) * t)\n",
    "                x_correlation += (np.cos((W[i] - W[i + 1]) * t)) * np.exp(-(A[i] + A[i + 1]) * t)\n",
    "                norm += 2\n",
    "                if i + 1 < len(J):\n",
    "                    x_correlation += (np.cos((W[i] + W[i + 1] + J[i] + J[i + 1]) * t)) * np.exp(-(A[i] + A[i + 1]) * t)\n",
    "                    x_correlation += (np.cos((W[i + 1] - W[i] + J[i + 1]) * t)) * np.exp(-(A[i] + A[i + 1]) * t)\n",
    "                    norm += 2\n",
    "\n",
    "            if i - 1 >= 0:\n",
    "                x_correlation += (np.cos((W[i] - W[i + 1] + J[i - 1]) * t)) * np.exp(-(A[i] + A[i + 1]) * t)\n",
    "                x_correlation += (np.cos((W[i] + W[i + 1] + J[i] + J[i - 1]) * t)) * np.exp(-(A[i] + A[i + 1]) * t)\n",
    "                norm += 2\n",
    "                if i + 1 < len(J):\n",
    "                    x_correlation += (np.cos((W[i] - W[i + 1] + J[i - 1] - J[i + 1]) * t)) * np.exp(-(A[i] + A[i + 1]) * t)\n",
    "                    x_correlation += (np.cos((W[i] + W[i + 1] + J[i - 1] + J[i] + J[i + 1]) * t)) * np.exp(-(A[i] + A[i + 1]) * t)\n",
    "                    norm += 2\n",
    "\n",
    "            y_correlation = 0\n",
    "            norm = 0\n",
    "            if i < len(J):\n",
    "                y_correlation -= (np.cos((W[i] + W[i + 1] + J[i]) * t)) * np.exp(-(A[i] + A[i + 1]) * t)\n",
    "                y_correlation += (np.cos((W[i] - W[i + 1]) * t)) * np.exp(-(A[i] + A[i + 1]) * t)\n",
    "                norm += 2\n",
    "                if i + 1 < len(J):\n",
    "                    y_correlation += (np.cos((W[i + 1] - W[i] + J[i + 1]) * t)) * np.exp(-(A[i] + A[i + 1]) * t)\n",
    "                    y_correlation -= (np.cos((W[i] + W[i + 1] + J[i] + J[i + 1]) * t)) * np.exp(-(A[i] + A[i + 1]) * t)\n",
    "                    norm += 2\n",
    "\n",
    "            if i - 1 >= 0:\n",
    "                y_correlation += (np.cos((W[i] - W[i + 1] + J[i - 1]) * t)) * np.exp(-(A[i] + A[i + 1]) * t)\n",
    "                y_correlation -= (np.cos((W[i] + W[i + 1] + J[i] + J[i - 1]) * t)) * np.exp(-(A[i] + A[i + 1]) * t)\n",
    "                norm += 2\n",
    "                if i + 1 < len(J):\n",
    "                    y_correlation += (np.cos((W[i] - W[i + 1] + J[i - 1] - J[i + 1]) * t)) * np.exp(-(A[i] + A[i + 1]) * t)\n",
    "                    y_correlation -= (np.cos((W[i] + W[i + 1] + J[i - 1] + J[i] + J[i + 1]) * t)) * np.exp(-(A[i] + A[i + 1]) * t)\n",
    "                    norm += 2\n",
    "\n",
    "            y_correlations.append(y_correlation / norm)\n",
    "            x_correlations.append(x_correlation / norm)\n",
    "\n",
    "            X.append(x_correlation / norm)\n",
    "            Y.append(y_correlation / norm)\n",
    "\n",
    "    # return np.concatenate([x_models, x_correlations,y_models, y_correlations])\n",
    "    # return np.concatenate([X, Y])\n",
    "    return np.concatenate([X, Y])\n",
    "\n",
    "\n",
    "import matplotlib.pyplot as plt\n",
    "\n",
    "data_x = [exp.get_n_nearest_neighbors(1) for exp in batch_x.RamseyExperiments]\n",
    "data_y = [exp.get_n_nearest_neighbors(1) for exp in batch_y.RamseyExperiments]\n",
    "\n",
    "x_points = np.concatenate(data_x)\n",
    "y_points = np.concatenate(data_y)\n",
    "z_points = np.concatenate([x_points, y_points])\n",
    "# z_points = x_points\n",
    "\n",
    "model = []\n",
    "for t in delay:\n",
    "    for i in range(n+n-1):\n",
    "        model.append(symbolic_exp[i](t))\n",
    "for t in delay:\n",
    "    for i in range(n+n-1,2*(n+n-1)):\n",
    "        model.append(symbolic_exp[i](t))\n",
    "\n",
    "\n",
    "plt.plot(z_points, model_func(delay,L,W,J), 'o')\n",
    "plt.plot(z_points, model_func(delay,guessed_decay,guessed_W,guessed_J), 'o')\n",
    "plt.plot(z_points, model, 'o')\n",
    "plt.plot(np.linspace(-0.5,0.5,40), np.linspace(-0.5,0.5,40), 'r')\n",
    "plt.grid()\n",
    "# print(z_points - model_func(delay,L,W,J))"
   ],
   "metadata": {
    "collapsed": false
   }
  },
  {
   "cell_type": "code",
   "execution_count": 240,
   "outputs": [
    {
     "data": {
      "text/plain": "[<matplotlib.lines.Line2D at 0x2431d1c1940>,\n <matplotlib.lines.Line2D at 0x2431d1c1b20>,\n <matplotlib.lines.Line2D at 0x2431d1c1160>,\n <matplotlib.lines.Line2D at 0x2431d1c14f0>,\n <matplotlib.lines.Line2D at 0x243193b6880>,\n <matplotlib.lines.Line2D at 0x24318b83fd0>,\n <matplotlib.lines.Line2D at 0x24318b83eb0>]"
     },
     "execution_count": 240,
     "metadata": {},
     "output_type": "execute_result"
    },
    {
     "data": {
      "text/plain": "<Figure size 640x480 with 1 Axes>",
      "image/png": "[encoded data removed]"
     },
     "metadata": {},
     "output_type": "display_data"
    }
   ],
   "source": [
    "plt.plot(delay,  [exp.get_n_nearest_neighbors(1) for exp in batch_x.RamseyExperiments], 'o')"
   ],
   "metadata": {
    "collapsed": false
   }
  }
 ],
 "metadata": {
  "kernelspec": {
   "display_name": "Python 3",
   "language": "python",
   "name": "python3"
  },
  "language_info": {
   "codemirror_mode": {
    "name": "ipython",
    "version": 2
   },
   "file_extension": ".py",
   "mimetype": "text/x-python",
   "name": "python",
   "nbconvert_exporter": "python",
   "pygments_lexer": "ipython2",
   "version": "2.7.6"
  }
 },
 "nbformat": 4,
 "nbformat_minor": 0
}
