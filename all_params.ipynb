{
 "cells": [
  {
   "cell_type": "code",
   "execution_count": 2,
   "metadata": {
    "collapsed": true
   },
   "outputs": [
    {
     "name": "stderr",
     "output_type": "stream",
     "text": [
      "ibmqfactory.load_account:WARNING:2024-04-15 13:05:44,071: Credentials are already in use. The existing account in the session will be replaced.\n"
     ]
    }
   ],
   "source": [
    "import math\n",
    "\n",
    "import matplotlib.pyplot as plt\n",
    "import numpy as np\n",
    "import os\n",
    "import time\n",
    "\n",
    "import qiskit\n",
    "from qiskit import QuantumCircuit, QuantumRegister, ClassicalRegister, execute, Aer\n",
    "import qiskit as qiskit\n",
    "import qiskit.quantum_info as qi\n",
    "from qiskit import QuantumCircuit, transpile, Aer, IBMQ\n",
    "\n",
    "import ramsey_experiment\n",
    "import estimator\n",
    "\n",
    "# Loading your IBM Quantum account(s)\n",
    "IBMQ.save_account(os.environ.get('IBM_KEY'), overwrite=True)\n",
    "IBMQ.load_account()\n",
    "provider = IBMQ.get_provider(hub='ibm-q-research')\n",
    "import Ramsey_ExperimentV2\n",
    "import random\n",
    "import importlib\n",
    "from tqdm import tqdm\n",
    "ramsey_experiment = importlib.reload(Ramsey_ExperimentV2)\n",
    "RamseyExperiment = ramsey_experiment.RamseyExperiment\n",
    "RamseyBatch = ramsey_experiment.RamseyBatch"
   ]
  },
  {
   "cell_type": "code",
   "execution_count": 31,
   "outputs": [],
   "source": [
    "import numpy as np\n",
    "import math\n",
    "n = 1\n",
    "total_shots = 10000\n",
    "T = np.pi\n",
    "measurements = 40\n",
    "delay = np.linspace(0, T, measurements)\n",
    "\n",
    "W = [random.gauss(3, 0) for _ in range(n)]\n",
    "L = [random.gauss(3, 2) for _ in range(n)]\n",
    "J = [random.gauss(0, 3) for _ in range(n - 1)]\n",
    "\n",
    "L = [1]\n",
    "# J = [2,2]\n",
    "# L = [0,0,0]\n",
    "# W = [4,4,4]\n",
    "\n",
    "\n",
    "# delay = [0.3]\n",
    "batch_x, batch_y = ramsey_experiment.ramsey_global(n,total_shots,delay,L,W,J)\n",
    "rot = 0.23\n",
    "batch_x_rot, batch_y_rot = ramsey_experiment.ramsey_global_with_rot(n,total_shots,delay,L,W,J, rot)\n",
    "batch_x_det, batch_y_det, batch_x_cross, batch_y_cross = ramsey_experiment.ramsey_local(n,total_shots,delay,L,W,J)\n"
   ],
   "metadata": {
    "collapsed": false
   }
  },
  {
   "cell_type": "code",
   "execution_count": 4,
   "outputs": [],
   "source": [
    "ramsey_experiment = importlib.reload(Ramsey_ExperimentV2)\n",
    "RamseyExperiment = ramsey_experiment.RamseyExperiment\n",
    "RamseyBatch = ramsey_experiment.RamseyBatch\n",
    "estimator = importlib.reload(estimator)"
   ],
   "metadata": {
    "collapsed": false
   }
  },
  {
   "cell_type": "markdown",
   "source": [
    "## qubit by qubit\n"
   ],
   "metadata": {
    "collapsed": false
   }
  },
  {
   "cell_type": "code",
   "execution_count": 4,
   "outputs": [
    {
     "name": "stdout",
     "output_type": "stream",
     "text": [
      "guessed decay:  [5.184194349678252]\n",
      "real decay:  [4.615099291106292]\n",
      "guessed frequency:  [-0.27818631729438]\n",
      "real frequency:  [0.0]\n",
      "guessed J:  []\n",
      "real J:  []\n",
      "error:  0.44791562420886405\n",
      "error in percent:  19.410877034521768\n"
     ]
    },
    {
     "name": "stderr",
     "output_type": "stream",
     "text": [
      "C:\\Projects\\Crosstalk\\estimator.py:31: OptimizeWarning: Covariance of the parameters could not be estimated\n",
      "  params, params_covariance, *c = curve_fit(model_func, t_points, z_points, p0=initial_guess)\n"
     ]
    }
   ],
   "source": [
    "\n",
    "guessed_decay,guessed_W,guessed_J = estimator.one_by_one_fit(batch_x_det, batch_y_det, batch_x_cross, batch_y_cross)\n",
    "print(\"guessed decay: \", guessed_decay)\n",
    "print(\"real decay: \", L)\n",
    "print(\"guessed frequency: \", guessed_W)\n",
    "print(\"real frequency: \", W)\n",
    "print(\"guessed J: \", guessed_J)\n",
    "print(\"real J: \", J)\n",
    "\n",
    "guessed = np.concatenate([guessed_decay,guessed_W,guessed_J])\n",
    "real_parameters = np.concatenate([L,W,J])\n",
    "mse = np.mean((guessed - real_parameters)**2)\n",
    "print(\"error: \", np.sqrt(mse))\n",
    "print(\"error in percent: \", np.sqrt(mse)/np.mean(np.abs(real_parameters)) * 100)"
   ],
   "metadata": {
    "collapsed": false
   }
  },
  {
   "cell_type": "markdown",
   "source": [
    "## global"
   ],
   "metadata": {
    "collapsed": false
   }
  },
  {
   "cell_type": "code",
   "execution_count": 9,
   "outputs": [
    {
     "name": "stdout",
     "output_type": "stream",
     "text": [
      "guessed decay:  [3.14350624e-01 2.00108216e-10 3.76151787e-17 3.70947346e+00\n",
      " 2.72940467e+00]\n",
      "real decay:  [0.3007170650651241, -0.04706722649170203, -1.12457402013262, 3.950294420845772, 2.6334609116457415]\n",
      "guessed frequency:  [-1.77503384 -1.11605681  1.78866684  1.06568863]\n",
      "real frequency:  [0.0, 0.0, 0.0, 0.0, 0.0]\n",
      "guessed J:  []\n",
      "real J:  [-1.7270905000975207, -1.1177742488415157, 1.7246066827535884, 1.171962245423118]\n",
      "error:  0.3875804093566552\n",
      "error in percent:  25.281476504347815\n",
      "number of neighbors:  3\n"
     ]
    }
   ],
   "source": [
    "neighbors = 3\n",
    "guessed_decay,guessed_W,guessed_J = estimator.full_complex_fit(batch_x, batch_y, neighbors=neighbors, W_given=W)\n",
    "\n",
    "print(\"guessed decay: \", guessed_decay)\n",
    "print(\"real decay: \", L)\n",
    "print(\"guessed frequency: \", guessed_W)\n",
    "print(\"real frequency: \", W)\n",
    "print(\"guessed J: \", guessed_J)\n",
    "print(\"real J: \", J)\n",
    "\n",
    "guessed = np.concatenate([guessed_decay,guessed_W,guessed_J])\n",
    "real_parameters = np.concatenate([L,J])\n",
    "mse = np.mean((guessed - real_parameters)**2)\n",
    "print(\"error: \", np.sqrt(mse))\n",
    "print(\"error in percent: \", np.sqrt(mse)/np.mean(np.abs(real_parameters)) * 100)\n",
    "print(\"number of neighbors: \", neighbors)"
   ],
   "metadata": {
    "collapsed": false
   }
  },
  {
   "cell_type": "markdown",
   "source": [
    "## global Noise"
   ],
   "metadata": {
    "collapsed": false
   },
   "execution_count": 13
  },
  {
   "cell_type": "code",
   "execution_count": 42,
   "outputs": [
    {
     "ename": "TypeError",
     "evalue": "can't multiply sequence by non-int of type 'numpy.float64'",
     "output_type": "error",
     "traceback": [
      "\u001B[1;31m---------------------------------------------------------------------------\u001B[0m",
      "\u001B[1;31mTypeError\u001B[0m                                 Traceback (most recent call last)",
      "Cell \u001B[1;32mIn[42], line 2\u001B[0m\n\u001B[0;32m      1\u001B[0m neighbors \u001B[38;5;241m=\u001B[39m \u001B[38;5;241m1\u001B[39m\n\u001B[1;32m----> 2\u001B[0m guessed_decay,guessed_W,guessed_J \u001B[38;5;241m=\u001B[39m \u001B[43mestimator\u001B[49m\u001B[38;5;241;43m.\u001B[39;49m\u001B[43mfull_complex_fit_modified\u001B[49m\u001B[43m(\u001B[49m\u001B[43mbatch_x\u001B[49m\u001B[43m,\u001B[49m\u001B[43m \u001B[49m\u001B[43mbatch_y\u001B[49m\u001B[43m,\u001B[49m\u001B[43m \u001B[49m\u001B[43mneighbors\u001B[49m\u001B[38;5;241;43m=\u001B[39;49m\u001B[43mneighbors\u001B[49m\u001B[43m)\u001B[49m\n\u001B[0;32m      4\u001B[0m \u001B[38;5;28mprint\u001B[39m(\u001B[38;5;124m\"\u001B[39m\u001B[38;5;124mguessed decay: \u001B[39m\u001B[38;5;124m\"\u001B[39m, guessed_decay)\n\u001B[0;32m      5\u001B[0m \u001B[38;5;28mprint\u001B[39m(\u001B[38;5;124m\"\u001B[39m\u001B[38;5;124mreal decay: \u001B[39m\u001B[38;5;124m\"\u001B[39m, L)\n",
      "File \u001B[1;32mC:\\Projects\\Crosstalk\\estimator.py:218\u001B[0m, in \u001B[0;36mfull_complex_fit_modified\u001B[1;34m(batch_x, batch_y, neighbors, W_given, J_given, decay_given)\u001B[0m\n\u001B[0;32m    216\u001B[0m t_points \u001B[38;5;241m=\u001B[39m batch_x\u001B[38;5;241m.\u001B[39mdelay\n\u001B[0;32m    217\u001B[0m z_points \u001B[38;5;241m=\u001B[39m np\u001B[38;5;241m.\u001B[39mconcatenate(data)\n\u001B[1;32m--> 218\u001B[0m result \u001B[38;5;241m=\u001B[39m \u001B[43mleast_squares\u001B[49m\u001B[43m(\u001B[49m\u001B[43mresiduals\u001B[49m\u001B[43m,\u001B[49m\u001B[43m \u001B[49m\u001B[43minitial_guess\u001B[49m\u001B[43m,\u001B[49m\u001B[43m \u001B[49m\u001B[43mbounds\u001B[49m\u001B[38;5;241;43m=\u001B[39;49m\u001B[43mbounds\u001B[49m\u001B[43m,\u001B[49m\u001B[43m \u001B[49m\u001B[43margs\u001B[49m\u001B[38;5;241;43m=\u001B[39;49m\u001B[43m(\u001B[49m\u001B[43mt_points\u001B[49m\u001B[43m,\u001B[49m\u001B[43m \u001B[49m\u001B[43mz_points\u001B[49m\u001B[43m)\u001B[49m\u001B[43m,\u001B[49m\u001B[43m \u001B[49m\u001B[43mloss\u001B[49m\u001B[38;5;241;43m=\u001B[39;49m\u001B[38;5;124;43m'\u001B[39;49m\u001B[38;5;124;43msoft_l1\u001B[39;49m\u001B[38;5;124;43m'\u001B[39;49m\u001B[43m)\u001B[49m\n\u001B[0;32m    220\u001B[0m params \u001B[38;5;241m=\u001B[39m result\u001B[38;5;241m.\u001B[39mx\n\u001B[0;32m    221\u001B[0m guessed_decay \u001B[38;5;241m=\u001B[39m params[:n]\n",
      "File \u001B[1;32m~\\AppData\\Local\\Programs\\Python\\Python39\\lib\\site-packages\\scipy\\optimize\\_lsq\\least_squares.py:832\u001B[0m, in \u001B[0;36mleast_squares\u001B[1;34m(fun, x0, jac, bounds, method, ftol, xtol, gtol, x_scale, loss, f_scale, diff_step, tr_solver, tr_options, jac_sparsity, max_nfev, verbose, args, kwargs)\u001B[0m\n\u001B[0;32m    829\u001B[0m \u001B[38;5;28;01mdef\u001B[39;00m \u001B[38;5;21mfun_wrapped\u001B[39m(x):\n\u001B[0;32m    830\u001B[0m     \u001B[38;5;28;01mreturn\u001B[39;00m np\u001B[38;5;241m.\u001B[39matleast_1d(fun(x, \u001B[38;5;241m*\u001B[39margs, \u001B[38;5;241m*\u001B[39m\u001B[38;5;241m*\u001B[39mkwargs))\n\u001B[1;32m--> 832\u001B[0m f0 \u001B[38;5;241m=\u001B[39m \u001B[43mfun_wrapped\u001B[49m\u001B[43m(\u001B[49m\u001B[43mx0\u001B[49m\u001B[43m)\u001B[49m\n\u001B[0;32m    834\u001B[0m \u001B[38;5;28;01mif\u001B[39;00m f0\u001B[38;5;241m.\u001B[39mndim \u001B[38;5;241m!=\u001B[39m \u001B[38;5;241m1\u001B[39m:\n\u001B[0;32m    835\u001B[0m     \u001B[38;5;28;01mraise\u001B[39;00m \u001B[38;5;167;01mValueError\u001B[39;00m(\u001B[38;5;124m\"\u001B[39m\u001B[38;5;124m`fun` must return at most 1-d array_like. \u001B[39m\u001B[38;5;124m\"\u001B[39m\n\u001B[0;32m    836\u001B[0m                      \u001B[38;5;124mf\u001B[39m\u001B[38;5;124m\"\u001B[39m\u001B[38;5;124mf0.shape: \u001B[39m\u001B[38;5;132;01m{\u001B[39;00mf0\u001B[38;5;241m.\u001B[39mshape\u001B[38;5;132;01m}\u001B[39;00m\u001B[38;5;124m\"\u001B[39m)\n",
      "File \u001B[1;32m~\\AppData\\Local\\Programs\\Python\\Python39\\lib\\site-packages\\scipy\\optimize\\_lsq\\least_squares.py:830\u001B[0m, in \u001B[0;36mleast_squares.<locals>.fun_wrapped\u001B[1;34m(x)\u001B[0m\n\u001B[0;32m    829\u001B[0m \u001B[38;5;28;01mdef\u001B[39;00m \u001B[38;5;21mfun_wrapped\u001B[39m(x):\n\u001B[1;32m--> 830\u001B[0m     \u001B[38;5;28;01mreturn\u001B[39;00m np\u001B[38;5;241m.\u001B[39matleast_1d(fun(x, \u001B[38;5;241m*\u001B[39margs, \u001B[38;5;241m*\u001B[39m\u001B[38;5;241m*\u001B[39mkwargs))\n",
      "File \u001B[1;32mC:\\Projects\\Crosstalk\\estimator.py:192\u001B[0m, in \u001B[0;36mfull_complex_fit_modified.<locals>.residuals\u001B[1;34m(params, t, data)\u001B[0m\n\u001B[0;32m    189\u001B[0m A \u001B[38;5;241m=\u001B[39m decay_given \u001B[38;5;28;01mif\u001B[39;00m decay_given \u001B[38;5;129;01mis\u001B[39;00m \u001B[38;5;129;01mnot\u001B[39;00m \u001B[38;5;28;01mNone\u001B[39;00m \u001B[38;5;28;01melse\u001B[39;00m params[n:\u001B[38;5;241m2\u001B[39m\u001B[38;5;241m*\u001B[39mn]\n\u001B[0;32m    190\u001B[0m J \u001B[38;5;241m=\u001B[39m J_given \u001B[38;5;28;01mif\u001B[39;00m J_given \u001B[38;5;129;01mis\u001B[39;00m \u001B[38;5;129;01mnot\u001B[39;00m \u001B[38;5;28;01mNone\u001B[39;00m \u001B[38;5;28;01melse\u001B[39;00m params[\u001B[38;5;241m2\u001B[39m\u001B[38;5;241m*\u001B[39mn:\u001B[38;5;241m3\u001B[39m\u001B[38;5;241m*\u001B[39mn\u001B[38;5;241m-\u001B[39m\u001B[38;5;241m1\u001B[39m]\n\u001B[1;32m--> 192\u001B[0m model_values \u001B[38;5;241m=\u001B[39m np\u001B[38;5;241m.\u001B[39mconcatenate([expr(t, \u001B[38;5;241m*\u001B[39mW, \u001B[38;5;241m*\u001B[39mA, \u001B[38;5;241m*\u001B[39mJ) \u001B[38;5;28;01mfor\u001B[39;00m expr \u001B[38;5;129;01min\u001B[39;00m symbolic_exp])\u001B[38;5;241m.\u001B[39mT\n\u001B[0;32m    193\u001B[0m \u001B[38;5;28;01mreturn\u001B[39;00m np\u001B[38;5;241m.\u001B[39mabs(data \u001B[38;5;241m-\u001B[39m model_values)\n",
      "File \u001B[1;32mC:\\Projects\\Crosstalk\\estimator.py:192\u001B[0m, in \u001B[0;36m<listcomp>\u001B[1;34m(.0)\u001B[0m\n\u001B[0;32m    189\u001B[0m A \u001B[38;5;241m=\u001B[39m decay_given \u001B[38;5;28;01mif\u001B[39;00m decay_given \u001B[38;5;129;01mis\u001B[39;00m \u001B[38;5;129;01mnot\u001B[39;00m \u001B[38;5;28;01mNone\u001B[39;00m \u001B[38;5;28;01melse\u001B[39;00m params[n:\u001B[38;5;241m2\u001B[39m\u001B[38;5;241m*\u001B[39mn]\n\u001B[0;32m    190\u001B[0m J \u001B[38;5;241m=\u001B[39m J_given \u001B[38;5;28;01mif\u001B[39;00m J_given \u001B[38;5;129;01mis\u001B[39;00m \u001B[38;5;129;01mnot\u001B[39;00m \u001B[38;5;28;01mNone\u001B[39;00m \u001B[38;5;28;01melse\u001B[39;00m params[\u001B[38;5;241m2\u001B[39m\u001B[38;5;241m*\u001B[39mn:\u001B[38;5;241m3\u001B[39m\u001B[38;5;241m*\u001B[39mn\u001B[38;5;241m-\u001B[39m\u001B[38;5;241m1\u001B[39m]\n\u001B[1;32m--> 192\u001B[0m model_values \u001B[38;5;241m=\u001B[39m np\u001B[38;5;241m.\u001B[39mconcatenate([\u001B[43mexpr\u001B[49m\u001B[43m(\u001B[49m\u001B[43mt\u001B[49m\u001B[43m,\u001B[49m\u001B[43m \u001B[49m\u001B[38;5;241;43m*\u001B[39;49m\u001B[43mW\u001B[49m\u001B[43m,\u001B[49m\u001B[43m \u001B[49m\u001B[38;5;241;43m*\u001B[39;49m\u001B[43mA\u001B[49m\u001B[43m,\u001B[49m\u001B[43m \u001B[49m\u001B[38;5;241;43m*\u001B[39;49m\u001B[43mJ\u001B[49m\u001B[43m)\u001B[49m \u001B[38;5;28;01mfor\u001B[39;00m expr \u001B[38;5;129;01min\u001B[39;00m symbolic_exp])\u001B[38;5;241m.\u001B[39mT\n\u001B[0;32m    193\u001B[0m \u001B[38;5;28;01mreturn\u001B[39;00m np\u001B[38;5;241m.\u001B[39mabs(data \u001B[38;5;241m-\u001B[39m model_values)\n",
      "File \u001B[1;32m<lambdifygenerated-19>:2\u001B[0m, in \u001B[0;36m_lambdifygenerated\u001B[1;34m(t, ω0, ω1, a0, a1, j0)\u001B[0m\n\u001B[0;32m      1\u001B[0m \u001B[38;5;28;01mdef\u001B[39;00m \u001B[38;5;21m_lambdifygenerated\u001B[39m(t, ω0, ω1, a0, a1, j0):\n\u001B[1;32m----> 2\u001B[0m     \u001B[38;5;28;01mreturn\u001B[39;00m (\u001B[38;5;241m1\u001B[39m\u001B[38;5;241m/\u001B[39m\u001B[38;5;241m2\u001B[39m)\u001B[38;5;241m*\u001B[39m(cos(\u001B[43mt\u001B[49m\u001B[38;5;241;43m*\u001B[39;49m\u001B[43mω0\u001B[49m) \u001B[38;5;241m+\u001B[39m cos(t\u001B[38;5;241m*\u001B[39m(j0 \u001B[38;5;241m+\u001B[39m ω0)))\u001B[38;5;241m*\u001B[39mexp(\u001B[38;5;241m-\u001B[39ma0\u001B[38;5;241m*\u001B[39mt)\n",
      "\u001B[1;31mTypeError\u001B[0m: can't multiply sequence by non-int of type 'numpy.float64'"
     ]
    }
   ],
   "source": [
    "\n",
    "neighbors = 0\n",
    "guessed_decay,guessed_W, guessed_J = estimator.full_complex_fit_test(batch_x_rot, batch_y_rot, batch_x, batch_y, rot1=rot)\n",
    "\n",
    "print(\"guessed decay: \", guessed_decay)\n",
    "print(\"real decay: \", L)\n",
    "print(\"guessed frequency: \", guessed_W)\n",
    "print(\"real frequency: \", W)\n",
    "print(\"guessed J: \", guessed_J)\n",
    "print(\"real J: \", J)\n",
    "\n",
    "guessed = np.concatenate([guessed_decay,guessed_W,guessed_J])\n",
    "real_parameters = np.concatenate([L,W,J])\n",
    "mse = np.mean((guessed - real_parameters)**2)\n",
    "print(\"error: \", np.sqrt(mse))\n",
    "print(\"error in percent: \", np.sqrt(mse)/np.mean(np.abs(real_parameters)) * 100)\n",
    "print(\"number of neighbors: \", neighbors)"
   ],
   "metadata": {
    "collapsed": false
   }
  },
  {
   "cell_type": "code",
   "execution_count": 40,
   "outputs": [],
   "source": [
    "import Symbolic.symbolic_evolution as symbolic_evolution\n",
    "importlib.reload(symbolic_evolution)\n",
    "symbolic_exp = symbolic_evolution.get_expectation_values_exp(n, neighbors=neighbors)\n"
   ],
   "metadata": {
    "collapsed": false
   }
  },
  {
   "cell_type": "code",
   "execution_count": 42,
   "outputs": [
    {
     "ename": "KeyboardInterrupt",
     "evalue": "",
     "output_type": "error",
     "traceback": [
      "\u001B[1;31m---------------------------------------------------------------------------\u001B[0m",
      "\u001B[1;31mKeyboardInterrupt\u001B[0m                         Traceback (most recent call last)",
      "Cell \u001B[1;32mIn[42], line 13\u001B[0m\n\u001B[0;32m     11\u001B[0m \u001B[38;5;28;01mfor\u001B[39;00m t \u001B[38;5;129;01min\u001B[39;00m delay:\n\u001B[0;32m     12\u001B[0m     \u001B[38;5;28;01mfor\u001B[39;00m i \u001B[38;5;129;01min\u001B[39;00m \u001B[38;5;28mrange\u001B[39m(\u001B[38;5;241m2\u001B[39m\u001B[38;5;241m*\u001B[39m(n\u001B[38;5;241m+\u001B[39mn\u001B[38;5;241m-\u001B[39m\u001B[38;5;241m1\u001B[39m)):\n\u001B[1;32m---> 13\u001B[0m         \u001B[43mmodel\u001B[49m\u001B[38;5;241m.\u001B[39mappend(symbolic_evolution\u001B[38;5;241m.\u001B[39mset_parameters(symbolic_exp[i],W,J,L,t))\n\u001B[0;32m     14\u001B[0m         guessed\u001B[38;5;241m.\u001B[39mappend(symbolic_evolution\u001B[38;5;241m.\u001B[39mset_parameters(symbolic_exp[i], guessed_W, guessed_J, guessed_decay,t))\n\u001B[0;32m     17\u001B[0m \u001B[38;5;66;03m# plt.plot(data, model_func(delay,guessed_decay,guessed_W,guessed_J), 'o')\u001B[39;00m\n",
      "Cell \u001B[1;32mIn[42], line 13\u001B[0m\n\u001B[0;32m     11\u001B[0m \u001B[38;5;28;01mfor\u001B[39;00m t \u001B[38;5;129;01min\u001B[39;00m delay:\n\u001B[0;32m     12\u001B[0m     \u001B[38;5;28;01mfor\u001B[39;00m i \u001B[38;5;129;01min\u001B[39;00m \u001B[38;5;28mrange\u001B[39m(\u001B[38;5;241m2\u001B[39m\u001B[38;5;241m*\u001B[39m(n\u001B[38;5;241m+\u001B[39mn\u001B[38;5;241m-\u001B[39m\u001B[38;5;241m1\u001B[39m)):\n\u001B[1;32m---> 13\u001B[0m         \u001B[43mmodel\u001B[49m\u001B[38;5;241m.\u001B[39mappend(symbolic_evolution\u001B[38;5;241m.\u001B[39mset_parameters(symbolic_exp[i],W,J,L,t))\n\u001B[0;32m     14\u001B[0m         guessed\u001B[38;5;241m.\u001B[39mappend(symbolic_evolution\u001B[38;5;241m.\u001B[39mset_parameters(symbolic_exp[i], guessed_W, guessed_J, guessed_decay,t))\n\u001B[0;32m     17\u001B[0m \u001B[38;5;66;03m# plt.plot(data, model_func(delay,guessed_decay,guessed_W,guessed_J), 'o')\u001B[39;00m\n",
      "File \u001B[1;32m_pydevd_bundle\\pydevd_cython_win32_39_64.pyx:1179\u001B[0m, in \u001B[0;36m_pydevd_bundle.pydevd_cython_win32_39_64.SafeCallWrapper.__call__\u001B[1;34m()\u001B[0m\n",
      "File \u001B[1;32m_pydevd_bundle\\pydevd_cython_win32_39_64.pyx:620\u001B[0m, in \u001B[0;36m_pydevd_bundle.pydevd_cython_win32_39_64.PyDBFrame.trace_dispatch\u001B[1;34m()\u001B[0m\n",
      "File \u001B[1;32m_pydevd_bundle\\pydevd_cython_win32_39_64.pyx:929\u001B[0m, in \u001B[0;36m_pydevd_bundle.pydevd_cython_win32_39_64.PyDBFrame.trace_dispatch\u001B[1;34m()\u001B[0m\n",
      "File \u001B[1;32m_pydevd_bundle\\pydevd_cython_win32_39_64.pyx:920\u001B[0m, in \u001B[0;36m_pydevd_bundle.pydevd_cython_win32_39_64.PyDBFrame.trace_dispatch\u001B[1;34m()\u001B[0m\n",
      "File \u001B[1;32m_pydevd_bundle\\pydevd_cython_win32_39_64.pyx:317\u001B[0m, in \u001B[0;36m_pydevd_bundle.pydevd_cython_win32_39_64.PyDBFrame.do_wait_suspend\u001B[1;34m()\u001B[0m\n",
      "File \u001B[1;32mC:\\Program Files\\JetBrains\\PyCharm 2022.3.1\\plugins\\python\\helpers\\pydev\\pydevd.py:1160\u001B[0m, in \u001B[0;36mPyDB.do_wait_suspend\u001B[1;34m(self, thread, frame, event, arg, send_suspend_message, is_unhandled_exception)\u001B[0m\n\u001B[0;32m   1157\u001B[0m         from_this_thread\u001B[38;5;241m.\u001B[39mappend(frame_id)\n\u001B[0;32m   1159\u001B[0m \u001B[38;5;28;01mwith\u001B[39;00m \u001B[38;5;28mself\u001B[39m\u001B[38;5;241m.\u001B[39m_threads_suspended_single_notification\u001B[38;5;241m.\u001B[39mnotify_thread_suspended(thread_id, stop_reason):\n\u001B[1;32m-> 1160\u001B[0m     \u001B[38;5;28;43mself\u001B[39;49m\u001B[38;5;241;43m.\u001B[39;49m\u001B[43m_do_wait_suspend\u001B[49m\u001B[43m(\u001B[49m\u001B[43mthread\u001B[49m\u001B[43m,\u001B[49m\u001B[43m \u001B[49m\u001B[43mframe\u001B[49m\u001B[43m,\u001B[49m\u001B[43m \u001B[49m\u001B[43mevent\u001B[49m\u001B[43m,\u001B[49m\u001B[43m \u001B[49m\u001B[43marg\u001B[49m\u001B[43m,\u001B[49m\u001B[43m \u001B[49m\u001B[43msuspend_type\u001B[49m\u001B[43m,\u001B[49m\u001B[43m \u001B[49m\u001B[43mfrom_this_thread\u001B[49m\u001B[43m)\u001B[49m\n",
      "File \u001B[1;32mC:\\Program Files\\JetBrains\\PyCharm 2022.3.1\\plugins\\python\\helpers\\pydev\\pydevd.py:1175\u001B[0m, in \u001B[0;36mPyDB._do_wait_suspend\u001B[1;34m(self, thread, frame, event, arg, suspend_type, from_this_thread)\u001B[0m\n\u001B[0;32m   1172\u001B[0m             \u001B[38;5;28mself\u001B[39m\u001B[38;5;241m.\u001B[39m_call_mpl_hook()\n\u001B[0;32m   1174\u001B[0m         \u001B[38;5;28mself\u001B[39m\u001B[38;5;241m.\u001B[39mprocess_internal_commands()\n\u001B[1;32m-> 1175\u001B[0m         \u001B[43mtime\u001B[49m\u001B[38;5;241;43m.\u001B[39;49m\u001B[43msleep\u001B[49m\u001B[43m(\u001B[49m\u001B[38;5;241;43m0.01\u001B[39;49m\u001B[43m)\u001B[49m\n\u001B[0;32m   1177\u001B[0m \u001B[38;5;28mself\u001B[39m\u001B[38;5;241m.\u001B[39mcancel_async_evaluation(get_current_thread_id(thread), \u001B[38;5;28mstr\u001B[39m(\u001B[38;5;28mid\u001B[39m(frame)))\n\u001B[0;32m   1179\u001B[0m \u001B[38;5;66;03m# process any stepping instructions\u001B[39;00m\n",
      "\u001B[1;31mKeyboardInterrupt\u001B[0m: "
     ]
    }
   ],
   "source": [
    "import matplotlib.pyplot as plt\n",
    "\n",
    "data = []\n",
    "for i in range(len(delay)):\n",
    "    data.append(batch_x.RamseyExperiments[i].get_n_nearest_neighbors(neighbors))\n",
    "    data.append(batch_y.RamseyExperiments[i].get_n_nearest_neighbors(neighbors))\n",
    "data = np.concatenate(data)\n",
    "\n",
    "model = []\n",
    "guessed = []\n",
    "for t in delay:\n",
    "    for i in range(2*(n+n-1)):\n",
    "        model.append(symbolic_evolution.set_parameters(symbolic_exp[i],W,J,L,t))\n",
    "        guessed.append(symbolic_evolution.set_parameters(symbolic_exp[i], guessed_W, guessed_J, guessed_decay,t))\n",
    "\n",
    "\n",
    "# plt.plot(data, model_func(delay,guessed_decay,guessed_W,guessed_J), 'o')\n",
    "plt.plot(data, model, 'o', label=\"model\")\n",
    "plt.plot(data, guessed, 'o', label=\"guessed\")\n",
    "plt.plot(np.linspace(-0.5,0.5,40), np.linspace(-0.5,0.5,40), 'r')\n",
    "plt.grid()\n",
    "plt.legend()\n",
    "# print(z_points - model_func(delay,L,W,J))"
   ],
   "metadata": {
    "collapsed": false
   }
  },
  {
   "cell_type": "code",
   "execution_count": 32,
   "outputs": [
    {
     "data": {
      "text/plain": "<Figure size 1000x400 with 1 Axes>",
      "image/png": "[encoded data removed]"
     },
     "metadata": {},
     "output_type": "display_data"
    }
   ],
   "source": [
    "import numpy as np\n",
    "import matplotlib.pyplot as plt\n",
    "\n",
    "correct_z = lambda  t, w, a : (np.cos(w * t)) * np.exp(-a * t)\n",
    "z_p = batch_x.zi_formated[0]\n",
    "\n",
    "# Plotting\n",
    "plt.figure(figsize=(10, 4))  # Adjust the figure size to make the plot longer\n",
    "plt.plot(delay, z_p, 'o')\n",
    "plt.plot(delay, correct_z(delay, W[0], L[0]), label=\"Fit\")\n",
    "\n",
    "# Remove axes\n",
    "plt.axis('off')\n",
    "\n",
    "plt.legend()\n",
    "plt.show()\n"
   ],
   "metadata": {
    "collapsed": false
   }
  }
 ],
 "metadata": {
  "kernelspec": {
   "display_name": "Python 3",
   "language": "python",
   "name": "python3"
  },
  "language_info": {
   "codemirror_mode": {
    "name": "ipython",
    "version": 2
   },
   "file_extension": ".py",
   "mimetype": "text/x-python",
   "name": "python",
   "nbconvert_exporter": "python",
   "pygments_lexer": "ipython2",
   "version": "2.7.6"
  }
 },
 "nbformat": 4,
 "nbformat_minor": 0
}
