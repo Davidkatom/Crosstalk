{
 "cells": [
  {
   "cell_type": "code",
   "execution_count": 96,
   "metadata": {
    "collapsed": true
   },
   "outputs": [
    {
     "name": "stderr",
     "output_type": "stream",
     "text": [
      "ibmqfactory.load_account:WARNING:2024-02-25 10:03:08,545: Credentials are already in use. The existing account in the session will be replaced.\n"
     ]
    }
   ],
   "source": [
    "import math\n",
    "\n",
    "import matplotlib.pyplot as plt\n",
    "import numpy as np\n",
    "import os\n",
    "import time\n",
    "\n",
    "import qiskit\n",
    "from qiskit import QuantumCircuit, QuantumRegister, ClassicalRegister, execute, Aer\n",
    "import qiskit as qiskit\n",
    "import qiskit.quantum_info as qi\n",
    "from qiskit import QuantumCircuit, transpile, Aer, IBMQ\n",
    "\n",
    "import ramsey_experiment\n",
    "\n",
    "# Loading your IBM Quantum account(s)\n",
    "IBMQ.save_account(os.environ.get('IBM_KEY'), overwrite=True)\n",
    "IBMQ.load_account()\n",
    "provider = IBMQ.get_provider(hub='ibm-q-research')\n",
    "import Ramsey_ExperimentV2\n",
    "import random\n",
    "import importlib\n",
    "from tqdm import tqdm\n",
    "ramsey_experiment = importlib.reload(Ramsey_ExperimentV2)\n",
    "RamseyExperiment = ramsey_experiment.RamseyExperiment\n",
    "RamseyBatch = ramsey_experiment.RamseyBatch"
   ]
  },
  {
   "cell_type": "code",
   "execution_count": 150,
   "outputs": [
    {
     "name": "stderr",
     "output_type": "stream",
     "text": [
      "100%|██████████| 1/1 [00:00<00:00,  4.07it/s]\n",
      "100%|██████████| 1/1 [00:00<00:00,  2.00it/s]\n"
     ]
    }
   ],
   "source": [
    "import numpy as np\n",
    "import math\n",
    "n = 3\n",
    "total_shots = 50000\n",
    "# T = np.pi\n",
    "# measurements = 10\n",
    "# delay = np.linspace(0, T, measurements)\n",
    "\n",
    "W = [random.gauss(0, 3) for _ in range(n)]\n",
    "L = [random.gauss(3, 1) for _ in range(n)]\n",
    "J = [random.gauss(0, 3) for _ in range(n - 1)]\n",
    "#\n",
    "# L = [3,3,3]\n",
    "# J = [4,4]\n",
    "# W = [4,4,4]\n",
    "\n",
    "batch_x = []\n",
    "batch_y = []\n",
    "\n",
    "delay = [0.3]\n",
    "for t in tqdm(delay):\n",
    "    shots = int(total_shots/2)\n",
    "    exp_x = RamseyExperiment(n, t, shots, J, W, L, basis=\"X\")\n",
    "    exp_y = RamseyExperiment(n, t, shots, J, W, L, basis=\"Y\")\n",
    "    exp_x.create_full_circuit()\n",
    "    exp_y.create_full_circuit()\n",
    "    exp_x.add_decay_raw()\n",
    "    exp_y.add_decay_raw()\n",
    "    batch_x.append(exp_x)\n",
    "    batch_y.append(exp_y)\n",
    "\n",
    "batch_x = RamseyBatch(batch_x)\n",
    "batch_y = RamseyBatch(batch_y)\n",
    "\n",
    "batch_x_det = []\n",
    "batch_x_cross = []\n",
    "batch_y_det = []\n",
    "batch_y_cross = []\n",
    "\n",
    "for t in tqdm(delay):\n",
    "    shots = int(total_shots/4)\n",
    "    exp_x_det = RamseyExperiment(n, t, shots, J, W, L, basis=\"X\")\n",
    "    exp_y_det = RamseyExperiment(n, t, shots, J, W, L, basis=\"Y\")\n",
    "    exp_x_cross = RamseyExperiment(n, t, shots, J, W, L, basis=\"X\")\n",
    "    exp_y_cross = RamseyExperiment(n, t, shots, J, W, L, basis=\"Y\")\n",
    "\n",
    "    exp_x_det.create_circuit_detuning()\n",
    "    exp_y_det.create_circuit_detuning()\n",
    "    exp_x_cross.create_circuit_crosstalk()\n",
    "    exp_y_cross.create_circuit_crosstalk()\n",
    "\n",
    "    exp_x_det.add_decay_raw()\n",
    "    exp_y_det.add_decay_raw()\n",
    "    exp_x_cross.add_decay_raw()\n",
    "    exp_y_cross.add_decay_raw()\n",
    "\n",
    "    batch_x_det.append(exp_x_det)\n",
    "    batch_y_det.append(exp_y_det)\n",
    "    batch_x_cross.append(exp_x_cross)\n",
    "    batch_y_cross.append(exp_y_cross)\n",
    "\n",
    "\n",
    "batch_x_det = RamseyBatch(batch_x_det)\n",
    "batch_y_det = RamseyBatch(batch_y_det)\n",
    "batch_x_cross = RamseyBatch(batch_x_cross)\n",
    "batch_y_cross = RamseyBatch(batch_y_cross)\n"
   ],
   "metadata": {
    "collapsed": false
   }
  },
  {
   "cell_type": "code",
   "execution_count": 140,
   "outputs": [],
   "source": [
    "ramsey_experiment = importlib.reload(Ramsey_ExperimentV2)\n",
    "RamseyExperiment = ramsey_experiment.RamseyExperiment\n",
    "RamseyBatch = ramsey_experiment.RamseyBatch"
   ],
   "metadata": {
    "collapsed": false
   }
  },
  {
   "cell_type": "markdown",
   "source": [
    "## qubit by qubit\n"
   ],
   "metadata": {
    "collapsed": false
   }
  },
  {
   "cell_type": "code",
   "execution_count": 151,
   "outputs": [
    {
     "name": "stdout",
     "output_type": "stream",
     "text": [
      "guessed decay:  [2.4453834091863653, 2.692567223989087, 2.723942601071965]\n",
      "real decay:  [2.409460329802929, 2.6890343662093765, 2.7084545503902504]\n",
      "guessed frequency:  [6.107810490679663, 5.404725976579849, 0.261092637752196]\n",
      "real frequency:  [6.153425077265315, 5.4051207543373945, 0.25422194810230736]\n",
      "guessed J:  [-0.5818779574412227, -0.5560195460221148]\n",
      "real J:  [-0.6385344857017963, -0.5850171892009871]\n",
      "error:  0.031067882672450073\n",
      "error in percent:  1.1924380237325862\n"
     ]
    }
   ],
   "source": [
    "\n",
    "guessed_decay,guessed_W,guessed_J = ramsey_experiment.one_by_one_fit(batch_x_det, batch_y_det, batch_x_cross, batch_y_cross)\n",
    "print(\"guessed decay: \", guessed_decay)\n",
    "print(\"real decay: \", L)\n",
    "print(\"guessed frequency: \", guessed_W)\n",
    "print(\"real frequency: \", W)\n",
    "print(\"guessed J: \", guessed_J)\n",
    "print(\"real J: \", J)\n",
    "\n",
    "guessed = np.concatenate([guessed_decay,guessed_W,guessed_J])\n",
    "real_parameters = np.concatenate([L,W,J])\n",
    "mse = np.mean((guessed - real_parameters)**2)\n",
    "print(\"error: \", np.sqrt(mse))\n",
    "print(\"error in percent: \", np.sqrt(mse)/np.mean(np.abs(real_parameters)) * 100)"
   ],
   "metadata": {
    "collapsed": false
   }
  },
  {
   "cell_type": "markdown",
   "source": [
    "## qubit by qubit"
   ],
   "metadata": {
    "collapsed": false
   }
  },
  {
   "cell_type": "code",
   "execution_count": 152,
   "outputs": [
    {
     "name": "stdout",
     "output_type": "stream",
     "text": [
      "guessed decay:  [2.42349784 2.62088183 2.7334121 ]\n",
      "real decay:  [2.409460329802929, 2.6890343662093765, 2.7084545503902504]\n",
      "guessed frequency:  [ 5.17212051  4.04726043 -0.07795574]\n",
      "real frequency:  [6.153425077265315, 5.4051207543373945, 0.25422194810230736]\n",
      "guessed J:  [1.23850286 0.25181944]\n",
      "real J:  [-0.6385344857017963, -0.5850171892009871]\n",
      "error:  0.9451266306140643\n",
      "error in percent:  36.27556288494233\n",
      "number of neighbors:  4\n"
     ]
    }
   ],
   "source": [
    "\n",
    "neighbors = 4\n",
    "guessed_decay,guessed_W,guessed_J = ramsey_experiment.full_complex_fit(batch_x, batch_y, neighbors=neighbors)\n",
    "\n",
    "print(\"guessed decay: \", guessed_decay)\n",
    "print(\"real decay: \", L)\n",
    "print(\"guessed frequency: \", guessed_W)\n",
    "print(\"real frequency: \", W)\n",
    "print(\"guessed J: \", guessed_J)\n",
    "print(\"real J: \", J)\n",
    "\n",
    "guessed = np.concatenate([guessed_decay,guessed_W,guessed_J])\n",
    "real_parameters = np.concatenate([L,W,J])\n",
    "mse = np.mean((guessed - real_parameters)**2)\n",
    "print(\"error: \", np.sqrt(mse))\n",
    "print(\"error in percent: \", np.sqrt(mse)/np.mean(np.abs(real_parameters)) * 100)\n",
    "print(\"number of neighbors: \", neighbors)"
   ],
   "metadata": {
    "collapsed": false
   }
  },
  {
   "cell_type": "code",
   "execution_count": 122,
   "outputs": [],
   "source": [
    "import Symbolic.symbolic_evolution as symbolic_evolution\n",
    "importlib.reload(symbolic_evolution)\n",
    "symbolic_exp = symbolic_evolution.get_expectation_values_exp(n, neighbors=neighbors)\n"
   ],
   "metadata": {
    "collapsed": false
   }
  },
  {
   "cell_type": "code",
   "execution_count": 123,
   "outputs": [
    {
     "data": {
      "text/plain": "<matplotlib.legend.Legend at 0x256d18699a0>"
     },
     "execution_count": 123,
     "metadata": {},
     "output_type": "execute_result"
    },
    {
     "data": {
      "text/plain": "<Figure size 640x480 with 1 Axes>",
      "image/png": "[encoded data removed]"
     },
     "metadata": {},
     "output_type": "display_data"
    }
   ],
   "source": [
    "import matplotlib.pyplot as plt\n",
    "\n",
    "data = []\n",
    "for i in range(len(delay)):\n",
    "    data.append(batch_x.RamseyExperiments[i].get_n_nearest_neighbors(neighbors))\n",
    "    data.append(batch_y.RamseyExperiments[i].get_n_nearest_neighbors(neighbors))\n",
    "data = np.concatenate(data)\n",
    "\n",
    "model = []\n",
    "guessed = []\n",
    "for t in delay:\n",
    "    for i in range(2*(n+n-1)):\n",
    "        model.append(symbolic_evolution.set_parameters(symbolic_exp[i],W,J,L,t))\n",
    "        guessed.append(symbolic_evolution.set_parameters(symbolic_exp[i], guessed_W, guessed_J, guessed_decay,t))\n",
    "\n",
    "\n",
    "# plt.plot(data, model_func(delay,guessed_decay,guessed_W,guessed_J), 'o')\n",
    "plt.plot(data, model, 'o', label=\"model\")\n",
    "plt.plot(data, guessed, 'o', label=\"guessed\")\n",
    "plt.plot(np.linspace(-0.5,0.5,40), np.linspace(-0.5,0.5,40), 'r')\n",
    "plt.grid()\n",
    "plt.legend()\n",
    "# print(z_points - model_func(delay,L,W,J))"
   ],
   "metadata": {
    "collapsed": false
   }
  }
 ],
 "metadata": {
  "kernelspec": {
   "display_name": "Python 3",
   "language": "python",
   "name": "python3"
  },
  "language_info": {
   "codemirror_mode": {
    "name": "ipython",
    "version": 2
   },
   "file_extension": ".py",
   "mimetype": "text/x-python",
   "name": "python",
   "nbconvert_exporter": "python",
   "pygments_lexer": "ipython2",
   "version": "2.7.6"
  }
 },
 "nbformat": 4,
 "nbformat_minor": 0
}
